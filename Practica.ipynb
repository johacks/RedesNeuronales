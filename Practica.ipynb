{
  "nbformat": 4,
  "nbformat_minor": 0,
  "metadata": {
    "orig_nbformat": 2,
    "deepnote": {
      "is_reactive": false
    },
    "deepnote_notebook_id": "75e1e001-726c-4d3c-b514-50dfc6c46e51",
    "deepnote_execution_queue": [],
    "colab": {
      "name": "Practica.ipynb",
      "provenance": []
    },
    "language_info": {
      "name": "python"
    },
    "kernelspec": {
      "name": "python3",
      "display_name": "Python 3"
    }
  },
  "cells": [
    {
      "cell_type": "code",
      "metadata": {
        "id": "f5bM32zy-_fs",
        "outputId": "d13172fc-5fea-45b0-8a09-931ff693945d",
        "colab": {
          "base_uri": "https://localhost:8080/"
        }
      },
      "source": [
        "!git clone https://github.com/johacks/RedesNeuronales.git"
      ],
      "execution_count": 1,
      "outputs": [
        {
          "output_type": "stream",
          "name": "stdout",
          "text": [
            "Cloning into 'RedesNeuronales'...\n",
            "remote: Enumerating objects: 34, done.\u001b[K\n",
            "remote: Counting objects: 100% (34/34), done.\u001b[K\n",
            "remote: Compressing objects: 100% (27/27), done.\u001b[K\n",
            "remote: Total 34 (delta 3), reused 29 (delta 3), pack-reused 0\u001b[K\n",
            "Unpacking objects: 100% (34/34), done.\n"
          ]
        }
      ]
    },
    {
      "cell_type": "code",
      "metadata": {
        "tags": [],
        "cell_id": "00000-d335a473-03eb-454f-8465-716ff44ec910",
        "deepnote_to_be_reexecuted": false,
        "source_hash": "393b8d95",
        "execution_start": 1637405041995,
        "execution_millis": 7758,
        "deepnote_cell_type": "code",
        "id": "i6QrT18P-dlF"
      },
      "source": [
        "import os\n",
        "\n",
        "# Tensorflow and tf.keras\n",
        "import tensorflow as tf\n",
        "from tensorflow import keras\n",
        "from tensorflow.keras import layers as krl\n",
        "from tensorflow.keras import models as krm\n",
        "\n",
        "#Helper libraries\n",
        "import numpy as np\n",
        "import pandas as pd\n",
        "import matplotlib.pyplot as plt\n",
        "from tqdm import tqdm\n",
        "\n",
        "# Google file system\n",
        "# from google.colab import drive\n",
        "# drive.mount('/gdrive', force_remount=True)"
      ],
      "execution_count": null,
      "outputs": []
    },
    {
      "cell_type": "markdown",
      "metadata": {
        "tags": [],
        "cell_id": "00001-94c80236-c4b8-4aa8-8195-f99293c000f5",
        "deepnote_cell_type": "markdown",
        "id": "YnFLdpEG-dlJ"
      },
      "source": [
        "## Recoger los datos de entrenamiento, validación y test"
      ]
    },
    {
      "cell_type": "code",
      "metadata": {
        "tags": [],
        "cell_id": "00001-669d9a4f-741b-46fd-a343-d091e7b12cb8",
        "deepnote_to_be_reexecuted": false,
        "source_hash": "f021773b",
        "execution_start": 1637405049757,
        "execution_millis": 126,
        "deepnote_cell_type": "code",
        "id": "M1KR7E3K-dlM",
        "outputId": "b1d115b6-3f04-48a1-aaa6-ef998f5714ac"
      },
      "source": [
        "BASE_DIR = './data'\n",
        "ATT_FILE = f'{BASE_DIR}/FootballPlayerPreparedCleanAttributes.csv'\n",
        "LABEL_FILE = f'{BASE_DIR}/FootballPlayerOneHotEncodedClasses.csv'\n",
        "\n",
        "TRAIN_RATE = 0.8\n",
        "VAL_RATE = 0.1\n",
        "TEST_RATE = 0.1\n",
        "\n",
        "attributes = pd.read_csv(ATT_FILE)\n",
        "label = pd.read_csv(LABEL_FILE)\n",
        "\n",
        "n_instances = attributes.shape[0]\n",
        "n_train = int(n_instances*TRAIN_RATE)\n",
        "n_val = int(n_instances*VAL_RATE)\n",
        "n_test = n_instances - (n_train + n_val)\n",
        "\n",
        "x_train = attributes.values[:n_train]\n",
        "y_train = label.values[:n_train]\n",
        "\n",
        "x_val = attributes.values[n_train:n_train+n_val]\n",
        "y_val = label.values[n_train:n_train+n_val]\n",
        "\n",
        "x_test = attributes.values[n_train+n_val:]\n",
        "y_test = label.values[n_train+n_val:]\n",
        "\n",
        "print ('x_train:', x_train.shape)\n",
        "print ('y_train:', y_train.shape)\n",
        "\n",
        "print ('x_val:', x_val.shape)\n",
        "print ('y_val:', y_val.shape)\n",
        "\n",
        "print ('x_test:', x_test.shape)\n",
        "print ('y_test:', y_test.shape)\n",
        "\n",
        "print(f'checksum: {x_train.shape[0]+x_val.shape[0]+x_test.shape[0]}={n_instances}')"
      ],
      "execution_count": null,
      "outputs": [
        {
          "name": "stdout",
          "text": "x_train: (12897, 17)\ny_train: (12897, 4)\nx_val: (1612, 17)\ny_val: (1612, 4)\nx_test: (1613, 17)\ny_test: (1613, 4)\nchecksum: 16122=16122\n",
          "output_type": "stream"
        }
      ]
    },
    {
      "cell_type": "markdown",
      "metadata": {
        "tags": [],
        "is_collapsed": false,
        "cell_id": "00003-0157e407-0cca-4789-bd13-9b392a1dc443",
        "deepnote_cell_type": "text-cell-h2",
        "id": "Vmw3P5YA-dlO"
      },
      "source": [
        "## Diseñar el workflow para la prueba de modelos"
      ]
    },
    {
      "cell_type": "code",
      "metadata": {
        "tags": [],
        "cell_id": "00003-4be4d0b7-ac6e-440b-82be-6ce094e2128e",
        "deepnote_to_be_reexecuted": false,
        "source_hash": "18aa2e19",
        "execution_start": 1637405049889,
        "execution_millis": 36,
        "deepnote_output_heights": [
          78.796875
        ],
        "deepnote_cell_type": "code",
        "id": "qv3LXcSQ-dlO"
      },
      "source": [
        "INPUTS = x_train.shape[1]\n",
        "OUTPUTS = y_train.shape[1]\n",
        "import sys\n",
        "\n",
        "class Experiment:\n",
        "    # Accuracy must be first\n",
        "    default_metrics = ['categorical_accuracy', 'AUC']\n",
        "\n",
        "    default_label_name_association = {\n",
        "        'categorical_accuracy': 'Accuracy',\n",
        "        'auc': 'Area under ROC curve',\n",
        "        'loss': 'Categorical cross-entropy (loss)'\n",
        "    }\n",
        "\n",
        "    def __init__(self, e_id, model=None, optimizer='SGD', epochs=500, metrics=None,\n",
        "                 loss='categorical_crossentropy', label_name_association=None, verbose=1, human_error=0.0, path='./models'):\n",
        "        self.e_id = e_id\n",
        "        self.metrics = self.default_metrics if not metrics else metrics\n",
        "        self.label_name_association = self.default_label_name_association if not label_name_association else label_name_association\n",
        "        self.epochs = epochs\n",
        "        self.model = model\n",
        "        self.verbose = verbose\n",
        "        self.human_error = human_error\n",
        "        if model:\n",
        "            self.model.add(krl.Dense(units=OUTPUTS, activation='softmax'))\n",
        "            self.model.compile(\n",
        "                optimizer=optimizer,\n",
        "                loss=loss,\n",
        "                metrics=self.metrics\n",
        "            )\n",
        "        self.path = f'{path}/m_{self.e_id}'\n",
        "\n",
        "    def run(self):\n",
        "        history = self.model.fit(x_train, y_train, epochs=self.epochs, verbose=self.verbose, validation_data=(x_val, y_val))\n",
        "        self.model.summary()\n",
        "        self.plot_history(history)\n",
        "        self.print_metrics()\n",
        "        self.save()\n",
        "\n",
        "\n",
        "    def plot_history(self, history):\n",
        "        fig = plt.figure(figsize=(22, 10), constrained_layout=True)\n",
        "        rows = 2\n",
        "        cols = int(np.ceil(len(history.history) / (2 * rows)))\n",
        "        gs = fig.add_gridspec(rows, cols)\n",
        "        fig.suptitle('Resultados')\n",
        "\n",
        "        for i, key in enumerate(self.label_name_association.keys()):\n",
        "            label = self.label_name_association[key]\n",
        "            r, c = i // cols, i % cols\n",
        "            f_ax = fig.add_subplot(gs[r, c])\n",
        "            f_ax.plot(history.history[key], label=label)\n",
        "            f_ax.plot(history.history[f'val_{key}'], label=f'Validation {label.lower()}')\n",
        "            f_ax.set_ylabel('')\n",
        "            f_ax.set_xlabel('Epoch')\n",
        "            f_ax.set_ylim(bottom=0, top=1)\n",
        "            f_ax.legend(loc='upper left')\n",
        "            f_ax.set_title(label)\n",
        "        fig.show()\n",
        "        plt.savefig(f'{self.path}/tfmodel', dpi=300)\n",
        "\n",
        "\n",
        "    def print_metrics(self, x_train=x_train, y_train=y_train, x_val=x_val, y_val=y_val):\n",
        "        train_res = self.model.evaluate(x_train, y_train)\n",
        "        val_res = self.model.evaluate(x_val, y_val)\n",
        "        loss, accuracy = train_res[:2]\n",
        "        val_loss, val_accuracy = val_res[:2]\n",
        "        bias = (1 - accuracy - self.human_error)\n",
        "        variance = (1 - val_accuracy) - bias\n",
        "        prediction_error = (bias**2) + variance + self.human_error\n",
        "        with open(f'{self.path}/metrics.txt', 'w') as out:\n",
        "            for f in (sys.stdout, out):\n",
        "                print(f'Human error: {self.human_error * 100:.2f}%', file=f)\n",
        "                print(f'Bias=(1-train_accuracy) - human error: {bias * 100:.2f}%', file=f)\n",
        "                print(f'Variance=(1-val_accuracy) - bias: {variance * 100:.2f}%', file=f)\n",
        "                print(f'Prediction Error = Bias² + Variance + Human error:  {prediction_error:.2f}', file=f)\n",
        "                # Print other additional metrics\n",
        "                i = 1\n",
        "                for other_metric, other_val_metric in zip(train_res[2:], val_res[2:]):\n",
        "                    metric_name = self.label_name_association[self.metrics[i].lower()]\n",
        "                    print(f'{metric_name} Train: {other_metric*100:.2f}%', file=f)\n",
        "                    print(f'{metric_name} Validation: {other_val_metric * 100:.2f}%', file=f)\n",
        "                    i += 1\n",
        "\n",
        "\n",
        "    def save(self):\n",
        "        self.model.save(f'{self.path}/tfmodel')\n",
        "\n",
        "\n",
        "    def load(self):\n",
        "        self.model = self.model.load_model(f'{self.path}/tfmodel')"
      ],
      "execution_count": null,
      "outputs": []
    },
    {
      "cell_type": "markdown",
      "metadata": {
        "tags": [],
        "is_collapsed": false,
        "cell_id": "00005-80752a70-5159-4651-970a-50fe9331773c",
        "deepnote_cell_type": "text-cell-h2",
        "id": "CJ4tM3s6-dlT"
      },
      "source": [
        "## Empezar el bucle de prueba de modelos"
      ]
    },
    {
      "cell_type": "markdown",
      "metadata": {
        "tags": [],
        "is_collapsed": false,
        "cell_id": "00006-caf68ac0-c529-4274-9bff-51d3e04cc42e",
        "deepnote_cell_type": "text-cell-h3",
        "id": "-tlG81A4-dlU"
      },
      "source": [
        "### Primera prueba básica"
      ]
    },
    {
      "cell_type": "markdown",
      "metadata": {
        "tags": [],
        "cell_id": "00007-e7aaf6dd-9430-4cd5-b300-fc15ec05abd8",
        "deepnote_cell_type": "markdown",
        "id": "a8FHHYHp-dlU"
      },
      "source": [
        "Actualmente se tiene que buscar un modelo que reduzca el bias. Como es lo preferible, en primer lugar se probará con un modelo sencillo, sin capas ocultas."
      ]
    },
    {
      "cell_type": "code",
      "metadata": {
        "tags": [],
        "cell_id": "00003-226c21f2-92d8-42fb-8fd4-42212c0699ed",
        "deepnote_to_be_reexecuted": false,
        "source_hash": "42e406da",
        "execution_start": 1637405049931,
        "execution_millis": 14669,
        "deepnote_output_heights": [
          606.5,
          600.125,
          600.125
        ],
        "deepnote_cell_type": "code",
        "id": "tTHLc67V-dlV",
        "outputId": "fee79b98-e604-4231-f6a8-aaefd4224e80"
      },
      "source": [
        "nn = krm.Sequential()\n",
        "exp = Experiment(e_id='0', model=nn, epochs=3, verbose=0)\n",
        "exp.run()"
      ],
      "execution_count": null,
      "outputs": [
        {
          "name": "stdout",
          "text": "Model: \"sequential\"\n_________________________________________________________________\nLayer (type)                 Output Shape              Param #   \n=================================================================\ndense (Dense)                (None, 4)                 72        \n=================================================================\nTotal params: 72\nTrainable params: 72\nNon-trainable params: 0\n_________________________________________________________________\n404/404 [==============================] - 2s 4ms/step - loss: 1.0595 - categorical_accuracy: 0.5213 - auc: 0.8058\n51/51 [==============================] - 0s 2ms/step - loss: 1.0698 - categorical_accuracy: 0.5230 - auc: 0.7999\nHuman error: 0.00%\nBias=(1-train_accuracy) - human error: 47.87%\nVariance=(1-val_accuracy) - bias: -0.17%\nPrediction Error = Bias² + Variance + Human error:  0.23\nArea under ROC curve Train: 80.58%\nArea under ROC curve Validation: 79.99%\nINFO:tensorflow:Assets written to: ./models/m_0/tfmodel/assets\n",
          "output_type": "stream"
        },
        {
          "data": {
            "text/plain": "<Figure size 1584x720 with 3 Axes>",
            "image/png": "[encoded data removed]"
          },
          "metadata": {
            "needs_background": "light",
            "image/png": {
              "width": 1592,
              "height": 728
            }
          },
          "output_type": "display_data"
        }
      ]
    },
    {
      "cell_type": "code",
      "metadata": {
        "tags": [],
        "cell_id": "00005-3c4574d0-28b4-4a0f-b957-23c535e5ecc7",
        "deepnote_to_be_reexecuted": false,
        "source_hash": "b623e53d",
        "execution_start": 1637405064602,
        "execution_millis": 8,
        "deepnote_cell_type": "code",
        "id": "bg_HnLSP-dlV"
      },
      "source": [
        ""
      ],
      "execution_count": null,
      "outputs": []
    }
  ]
}