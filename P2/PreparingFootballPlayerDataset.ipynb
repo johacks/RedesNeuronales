{
 "cells": [
  {
   "cell_type": "markdown",
   "source": "# Football player Dataset Cleaning and Preparing",
   "metadata": {
    "id": "Nkq7WexywaIa",
    "cell_id": "00000-5dc7d4c5-eb9b-49a7-b0d4-6db20ba397a0",
    "deepnote_cell_type": "markdown"
   }
  },
  {
   "cell_type": "markdown",
   "source": "This dataset has been downloaded from  Kaggle https://www.kaggle.com/karangadiya/fifa19. License: [CC BY-NC-SA 4.0](https://creativecommons.org/licenses/by-nc-sa/4.0/)",
   "metadata": {
    "id": "q7Kqq7ZxIPk0",
    "cell_id": "00001-6d74e9a9-f549-4381-9065-c86c2fc901d8",
    "deepnote_cell_type": "markdown"
   }
  },
  {
   "cell_type": "code",
   "metadata": {
    "id": "MwYmB0yYIPk-",
    "colab": {
     "base_uri": "https://localhost:8080/"
    },
    "executionInfo": {
     "status": "ok",
     "timestamp": 1632395386401,
     "user_tz": -120,
     "elapsed": 1794,
     "user": {
      "displayName": "Daniel Manrique",
      "photoUrl": "https://lh3.googleusercontent.com/a-/AOh14GitdHbMelm6f6tHV3gogFTulR815SvuoEcosIv2kg=s64",
      "userId": "14181066300969909559"
     }
    },
    "outputId": "a2c43192-14ff-4769-9ea1-ef9038a5df7d",
    "cell_id": "00002-dd6db084-c514-44ea-9248-cd9e84bc7c4a",
    "deepnote_to_be_reexecuted": false,
    "source_hash": "9ffd3a5d",
    "execution_start": 1636882487092,
    "execution_millis": 1677,
    "deepnote_cell_type": "code"
   },
   "source": "import numpy as np\nimport pandas as pd\n\nfrom sklearn.preprocessing import LabelEncoder, OneHotEncoder, minmax_scale, scale\n\nimport matplotlib.pyplot as plt\nimport seaborn as sns\nimport bokeh as bk\n\n# from google.colab import drive\n# drive.mount('/gdrive', force_remount=True)",
   "outputs": [],
   "execution_count": null
  },
  {
   "cell_type": "code",
   "metadata": {
    "id": "y_17S3yKIPlE",
    "executionInfo": {
     "status": "ok",
     "timestamp": 1632395386402,
     "user_tz": -120,
     "elapsed": 6,
     "user": {
      "displayName": "Daniel Manrique",
      "photoUrl": "https://lh3.googleusercontent.com/a-/AOh14GitdHbMelm6f6tHV3gogFTulR815SvuoEcosIv2kg=s64",
      "userId": "14181066300969909559"
     }
    },
    "cell_id": "00003-a4bdc8d5-745c-4efe-8910-4380b5477d62",
    "deepnote_to_be_reexecuted": false,
    "source_hash": "f0c42c36",
    "execution_start": 1636882493319,
    "execution_millis": 3,
    "deepnote_cell_type": "code"
   },
   "source": "INPUT_FILE_NAME = \"./data/FootballPlayerRawDataset.csv\"\nATT_FILE_NAME = \"./data/FootballPlayerPreparedCleanAttributes.csv\"\nONE_HOT_ENCODED_CLASSES_FILE_NAME = \"./data/FootballPlayerOneHotEncodedClasses.csv\"",
   "outputs": [],
   "execution_count": null
  },
  {
   "cell_type": "code",
   "metadata": {
    "id": "n2IwfHvnIPlI",
    "executionInfo": {
     "status": "ok",
     "timestamp": 1632395386883,
     "user_tz": -120,
     "elapsed": 485,
     "user": {
      "displayName": "Daniel Manrique",
      "photoUrl": "https://lh3.googleusercontent.com/a-/AOh14GitdHbMelm6f6tHV3gogFTulR815SvuoEcosIv2kg=s64",
      "userId": "14181066300969909559"
     }
    },
    "cell_id": "00004-6799529f-41ed-418c-aeb3-8f0cd97ae99f",
    "deepnote_to_be_reexecuted": false,
    "source_hash": "58eea420",
    "execution_start": 1636882509198,
    "execution_millis": 706,
    "deepnote_cell_type": "code"
   },
   "source": "dataset = pd.read_csv(INPUT_FILE_NAME, sep=\",\")",
   "outputs": [],
   "execution_count": null
  },
  {
   "cell_type": "code",
   "metadata": {
    "id": "22nhMjsxIPlL",
    "colab": {
     "base_uri": "https://localhost:8080/"
    },
    "executionInfo": {
     "status": "ok",
     "timestamp": 1632395386883,
     "user_tz": -120,
     "elapsed": 35,
     "user": {
      "displayName": "Daniel Manrique",
      "photoUrl": "https://lh3.googleusercontent.com/a-/AOh14GitdHbMelm6f6tHV3gogFTulR815SvuoEcosIv2kg=s64",
      "userId": "14181066300969909559"
     }
    },
    "outputId": "17012b82-952d-483b-8a3f-33e3ae8ce669",
    "cell_id": "00005-1c385fcd-02d5-4440-864e-f3c5be92ed60",
    "deepnote_to_be_reexecuted": false,
    "source_hash": "90f3a161",
    "execution_start": 1636882511743,
    "execution_millis": 68,
    "deepnote_cell_type": "code"
   },
   "source": "dataset.info()",
   "outputs": [
    {
     "name": "stdout",
     "text": "<class 'pandas.core.frame.DataFrame'>\nRangeIndex: 18207 entries, 0 to 18206\nData columns (total 89 columns):\n #   Column                    Non-Null Count  Dtype  \n---  ------                    --------------  -----  \n 0   Unnamed: 0                18207 non-null  int64  \n 1   ID                        18207 non-null  int64  \n 2   Name                      18207 non-null  object \n 3   Age                       18207 non-null  int64  \n 4   Photo                     18207 non-null  object \n 5   Nationality               18207 non-null  object \n 6   Flag                      18207 non-null  object \n 7   Overall                   18207 non-null  int64  \n 8   Potential                 18207 non-null  int64  \n 9   Club                      17966 non-null  object \n 10  Club Logo                 18207 non-null  object \n 11  Value                     18207 non-null  object \n 12  Wage                      18207 non-null  object \n 13  Special                   18207 non-null  int64  \n 14  Preferred Foot            18159 non-null  object \n 15  International Reputation  18159 non-null  float64\n 16  Weak Foot                 18159 non-null  float64\n 17  Skill Moves               18159 non-null  float64\n 18  Work Rate                 18159 non-null  object \n 19  Body Type                 18159 non-null  object \n 20  Real Face                 18159 non-null  object \n 21  Position                  18147 non-null  object \n 22  Jersey Number             18147 non-null  float64\n 23  Joined                    16654 non-null  object \n 24  Loaned From               1264 non-null   object \n 25  Contract Valid Until      17918 non-null  object \n 26  Height                    18159 non-null  object \n 27  Weight                    18159 non-null  object \n 28  LS                        16122 non-null  object \n 29  ST                        16122 non-null  object \n 30  RS                        16122 non-null  object \n 31  LW                        16122 non-null  object \n 32  LF                        16122 non-null  object \n 33  CF                        16122 non-null  object \n 34  RF                        16122 non-null  object \n 35  RW                        16122 non-null  object \n 36  LAM                       16122 non-null  object \n 37  CAM                       16122 non-null  object \n 38  RAM                       16122 non-null  object \n 39  LM                        16122 non-null  object \n 40  LCM                       16122 non-null  object \n 41  CM                        16122 non-null  object \n 42  RCM                       16122 non-null  object \n 43  RM                        16122 non-null  object \n 44  LWB                       16122 non-null  object \n 45  LDM                       16122 non-null  object \n 46  CDM                       16122 non-null  object \n 47  RDM                       16122 non-null  object \n 48  RWB                       16122 non-null  object \n 49  LB                        16122 non-null  object \n 50  LCB                       16122 non-null  object \n 51  CB                        16122 non-null  object \n 52  RCB                       16122 non-null  object \n 53  RB                        16122 non-null  object \n 54  Crossing                  18159 non-null  float64\n 55  Finishing                 18159 non-null  float64\n 56  HeadingAccuracy           18159 non-null  float64\n 57  ShortPassing              18159 non-null  float64\n 58  Volleys                   18159 non-null  float64\n 59  Dribbling                 18159 non-null  float64\n 60  Curve                     18159 non-null  float64\n 61  FKAccuracy                18159 non-null  float64\n 62  LongPassing               18159 non-null  float64\n 63  BallControl               18159 non-null  float64\n 64  Acceleration              18159 non-null  float64\n 65  SprintSpeed               18159 non-null  float64\n 66  Agility                   18159 non-null  float64\n 67  Reactions                 18159 non-null  float64\n 68  Balance                   18159 non-null  float64\n 69  ShotPower                 18159 non-null  float64\n 70  Jumping                   18159 non-null  float64\n 71  Stamina                   18159 non-null  float64\n 72  Strength                  18159 non-null  float64\n 73  LongShots                 18159 non-null  float64\n 74  Aggression                18159 non-null  float64\n 75  Interceptions             18159 non-null  float64\n 76  Positioning               18159 non-null  float64\n 77  Vision                    18159 non-null  float64\n 78  Penalties                 18159 non-null  float64\n 79  Composure                 18159 non-null  float64\n 80  Marking                   18159 non-null  float64\n 81  StandingTackle            18159 non-null  float64\n 82  SlidingTackle             18159 non-null  float64\n 83  GKDiving                  18159 non-null  float64\n 84  GKHandling                18159 non-null  float64\n 85  GKKicking                 18159 non-null  float64\n 86  GKPositioning             18159 non-null  float64\n 87  GKReflexes                18159 non-null  float64\n 88  Release Clause            16643 non-null  object \ndtypes: float64(38), int64(6), object(45)\nmemory usage: 12.4+ MB\n",
     "output_type": "stream"
    }
   ],
   "execution_count": null
  },
  {
   "cell_type": "markdown",
   "source": "**First step:** Remove unnecesary columns",
   "metadata": {
    "id": "xLP3YDH6xpXe",
    "cell_id": "00006-ccfc9ebf-26bd-4fe1-819b-a37bd335d631",
    "deepnote_cell_type": "markdown"
   }
  },
  {
   "cell_type": "code",
   "metadata": {
    "id": "Jshxi7zxwFKH",
    "executionInfo": {
     "status": "ok",
     "timestamp": 1632395386884,
     "user_tz": -120,
     "elapsed": 33,
     "user": {
      "displayName": "Daniel Manrique",
      "photoUrl": "https://lh3.googleusercontent.com/a-/AOh14GitdHbMelm6f6tHV3gogFTulR815SvuoEcosIv2kg=s64",
      "userId": "14181066300969909559"
     }
    },
    "cell_id": "00007-6db33752-f246-4272-9b14-0cc8c519d003",
    "deepnote_to_be_reexecuted": false,
    "source_hash": "76fe1a83",
    "execution_start": 1636882530217,
    "execution_millis": 34,
    "deepnote_cell_type": "code"
   },
   "source": "dataset.drop(dataset.loc[:, 'Unnamed: 0':'Flag'].columns, inplace=True, axis = 1)\ndataset.drop(dataset.loc[:, 'Potential':'Real Face'].columns, inplace=True, axis = 1)\ndataset.drop(dataset.loc[:, 'Jersey Number':'RB'].columns, inplace=True, axis = 1)\ndataset.drop(dataset.loc[:, 'GKDiving':'Release Clause'].columns, inplace=True, axis = 1)",
   "outputs": [],
   "execution_count": null
  },
  {
   "cell_type": "markdown",
   "source": "Then, we remove the goal keepers.",
   "metadata": {
    "id": "VIcXZ4o0x5Yw",
    "cell_id": "00008-a29163e5-06bb-432a-9d0e-4366d648957c",
    "deepnote_cell_type": "markdown"
   }
  },
  {
   "cell_type": "code",
   "metadata": {
    "id": "jIsgyetEy15z",
    "executionInfo": {
     "status": "ok",
     "timestamp": 1632395386885,
     "user_tz": -120,
     "elapsed": 33,
     "user": {
      "displayName": "Daniel Manrique",
      "photoUrl": "https://lh3.googleusercontent.com/a-/AOh14GitdHbMelm6f6tHV3gogFTulR815SvuoEcosIv2kg=s64",
      "userId": "14181066300969909559"
     }
    },
    "cell_id": "00009-1a2b7a14-887c-43e4-882f-ac2d79978c44",
    "deepnote_to_be_reexecuted": false,
    "source_hash": "d673d18c",
    "execution_start": 1636882535876,
    "execution_millis": 9,
    "deepnote_cell_type": "code"
   },
   "source": "dataset.drop(dataset[dataset.Position=='GK'].index, inplace=True)",
   "outputs": [],
   "execution_count": null
  },
  {
   "cell_type": "code",
   "metadata": {
    "id": "XP1dKetrIPlQ",
    "colab": {
     "base_uri": "https://localhost:8080/",
     "height": 386
    },
    "executionInfo": {
     "status": "ok",
     "timestamp": 1632395386885,
     "user_tz": -120,
     "elapsed": 32,
     "user": {
      "displayName": "Daniel Manrique",
      "photoUrl": "https://lh3.googleusercontent.com/a-/AOh14GitdHbMelm6f6tHV3gogFTulR815SvuoEcosIv2kg=s64",
      "userId": "14181066300969909559"
     }
    },
    "outputId": "806e188b-677c-40d9-ad14-d275f3b68200",
    "cell_id": "00010-b2a66149-5ee1-4787-96c4-51f2304a60ac",
    "deepnote_to_be_reexecuted": false,
    "source_hash": "785e569e",
    "execution_start": 1636882540479,
    "execution_millis": 83,
    "deepnote_cell_type": "code"
   },
   "source": "dataset[:10]",
   "outputs": [
    {
     "output_type": "execute_result",
     "execution_count": 7,
     "data": {
      "application/vnd.deepnote.dataframe.v2+json": {
       "row_count": 10,
       "column_count": 31,
       "columns": [
        {
         "name": "Overall",
         "dtype": "int64",
         "stats": {
          "unique_count": 4,
          "nan_count": 0,
          "min": "90",
          "max": "94",
          "histogram": [
           {
            "bin_start": 90,
            "bin_end": 90.4,
            "count": 2
           },
           {
            "bin_start": 90.4,
            "bin_end": 90.8,
            "count": 0
           },
           {
            "bin_start": 90.8,
            "bin_end": 91.2,
            "count": 5
           },
           {
            "bin_start": 91.2,
            "bin_end": 91.6,
            "count": 0
           },
           {
            "bin_start": 91.6,
            "bin_end": 92,
            "count": 0
           },
           {
            "bin_start": 92,
            "bin_end": 92.4,
            "count": 1
           },
           {
            "bin_start": 92.4,
            "bin_end": 92.8,
            "count": 0
           },
           {
            "bin_start": 92.8,
            "bin_end": 93.2,
            "count": 0
           },
           {
            "bin_start": 93.2,
            "bin_end": 93.6,
            "count": 0
           },
           {
            "bin_start": 93.6,
            "bin_end": 94,
            "count": 2
           }
          ]
         }
        },
        {
         "name": "Position",
         "dtype": "object",
         "stats": {
          "unique_count": 8,
          "nan_count": 0,
          "categories": [
           {
            "name": "ST",
            "count": 2
           },
           {
            "name": "RCM",
            "count": 2
           },
           {
            "name": "6 others",
            "count": 6
           }
          ]
         }
        },
        {
         "name": "Crossing",
         "dtype": "float64",
         "stats": {
          "unique_count": 9,
          "nan_count": 0,
          "min": "62.0",
          "max": "93.0",
          "histogram": [
           {
            "bin_start": 62,
            "bin_end": 65.1,
            "count": 1
           },
           {
            "bin_start": 65.1,
            "bin_end": 68.2,
            "count": 1
           },
           {
            "bin_start": 68.2,
            "bin_end": 71.3,
            "count": 0
           },
           {
            "bin_start": 71.3,
            "bin_end": 74.4,
            "count": 0
           },
           {
            "bin_start": 74.4,
            "bin_end": 77.5,
            "count": 1
           },
           {
            "bin_start": 77.5,
            "bin_end": 80.6,
            "count": 1
           },
           {
            "bin_start": 80.6,
            "bin_end": 83.7,
            "count": 1
           },
           {
            "bin_start": 83.7,
            "bin_end": 86.8,
            "count": 3
           },
           {
            "bin_start": 86.8,
            "bin_end": 89.9,
            "count": 1
           },
           {
            "bin_start": 89.9,
            "bin_end": 93,
            "count": 1
           }
          ]
         }
        },
        {
         "name": "Finishing",
         "dtype": "float64",
         "stats": {
          "unique_count": 10,
          "nan_count": 0,
          "min": "60.0",
          "max": "95.0",
          "histogram": [
           {
            "bin_start": 60,
            "bin_end": 63.5,
            "count": 1
           },
           {
            "bin_start": 63.5,
            "bin_end": 67,
            "count": 0
           },
           {
            "bin_start": 67,
            "bin_end": 70.5,
            "count": 0
           },
           {
            "bin_start": 70.5,
            "bin_end": 74,
            "count": 1
           },
           {
            "bin_start": 74,
            "bin_end": 77.5,
            "count": 1
           },
           {
            "bin_start": 77.5,
            "bin_end": 81,
            "count": 0
           },
           {
            "bin_start": 81,
            "bin_end": 84.5,
            "count": 2
           },
           {
            "bin_start": 84.5,
            "bin_end": 88,
            "count": 1
           },
           {
            "bin_start": 88,
            "bin_end": 91.5,
            "count": 1
           },
           {
            "bin_start": 91.5,
            "bin_end": 95,
            "count": 3
           }
          ]
         }
        },
        {
         "name": "HeadingAccuracy",
         "dtype": "float64",
         "stats": {
          "unique_count": 9,
          "nan_count": 0,
          "min": "54.0",
          "max": "91.0",
          "histogram": [
           {
            "bin_start": 54,
            "bin_end": 57.7,
            "count": 3
           },
           {
            "bin_start": 57.7,
            "bin_end": 61.4,
            "count": 1
           },
           {
            "bin_start": 61.4,
            "bin_end": 65.1,
            "count": 1
           },
           {
            "bin_start": 65.1,
            "bin_end": 68.8,
            "count": 0
           },
           {
            "bin_start": 68.8,
            "bin_end": 72.5,
            "count": 1
           },
           {
            "bin_start": 72.5,
            "bin_end": 76.2,
            "count": 0
           },
           {
            "bin_start": 76.2,
            "bin_end": 79.9,
            "count": 1
           },
           {
            "bin_start": 79.9,
            "bin_end": 83.6,
            "count": 0
           },
           {
            "bin_start": 83.6,
            "bin_end": 87.30000000000001,
            "count": 1
           },
           {
            "bin_start": 87.30000000000001,
            "bin_end": 91,
            "count": 2
           }
          ]
         }
        },
        {
         "name": "ShortPassing",
         "dtype": "float64",
         "stats": {
          "unique_count": 9,
          "nan_count": 0,
          "min": "78.0",
          "max": "93.0",
          "histogram": [
           {
            "bin_start": 78,
            "bin_end": 79.5,
            "count": 1
           },
           {
            "bin_start": 79.5,
            "bin_end": 81,
            "count": 0
           },
           {
            "bin_start": 81,
            "bin_end": 82.5,
            "count": 2
           },
           {
            "bin_start": 82.5,
            "bin_end": 84,
            "count": 1
           },
           {
            "bin_start": 84,
            "bin_end": 85.5,
            "count": 1
           },
           {
            "bin_start": 85.5,
            "bin_end": 87,
            "count": 0
           },
           {
            "bin_start": 87,
            "bin_end": 88.5,
            "count": 0
           },
           {
            "bin_start": 88.5,
            "bin_end": 90,
            "count": 1
           },
           {
            "bin_start": 90,
            "bin_end": 91.5,
            "count": 1
           },
           {
            "bin_start": 91.5,
            "bin_end": 93,
            "count": 3
           }
          ]
         }
        },
        {
         "name": "Volleys",
         "dtype": "float64",
         "stats": {
          "unique_count": 9,
          "nan_count": 0,
          "min": "66.0",
          "max": "89.0",
          "histogram": [
           {
            "bin_start": 66,
            "bin_end": 68.3,
            "count": 1
           },
           {
            "bin_start": 68.3,
            "bin_end": 70.6,
            "count": 0
           },
           {
            "bin_start": 70.6,
            "bin_end": 72.9,
            "count": 0
           },
           {
            "bin_start": 72.9,
            "bin_end": 75.2,
            "count": 0
           },
           {
            "bin_start": 75.2,
            "bin_end": 77.5,
            "count": 1
           },
           {
            "bin_start": 77.5,
            "bin_end": 79.8,
            "count": 0
           },
           {
            "bin_start": 79.8,
            "bin_end": 82.1,
            "count": 3
           },
           {
            "bin_start": 82.1,
            "bin_end": 84.4,
            "count": 1
           },
           {
            "bin_start": 84.4,
            "bin_end": 86.7,
            "count": 1
           },
           {
            "bin_start": 86.7,
            "bin_end": 89,
            "count": 3
           }
          ]
         }
        },
        {
         "name": "Dribbling",
         "dtype": "float64",
         "stats": {
          "unique_count": 10,
          "nan_count": 0,
          "min": "63.0",
          "max": "97.0",
          "histogram": [
           {
            "bin_start": 63,
            "bin_end": 66.4,
            "count": 1
           },
           {
            "bin_start": 66.4,
            "bin_end": 69.8,
            "count": 0
           },
           {
            "bin_start": 69.8,
            "bin_end": 73.2,
            "count": 0
           },
           {
            "bin_start": 73.2,
            "bin_end": 76.6,
            "count": 0
           },
           {
            "bin_start": 76.6,
            "bin_end": 80,
            "count": 0
           },
           {
            "bin_start": 80,
            "bin_end": 83.4,
            "count": 1
           },
           {
            "bin_start": 83.4,
            "bin_end": 86.8,
            "count": 2
           },
           {
            "bin_start": 86.8,
            "bin_end": 90.2,
            "count": 3
           },
           {
            "bin_start": 90.2,
            "bin_end": 93.6,
            "count": 0
           },
           {
            "bin_start": 93.6,
            "bin_end": 97,
            "count": 3
           }
          ]
         }
        },
        {
         "name": "Curve",
         "dtype": "float64",
         "stats": {
          "unique_count": 8,
          "nan_count": 0,
          "min": "74.0",
          "max": "93.0",
          "histogram": [
           {
            "bin_start": 74,
            "bin_end": 75.9,
            "count": 1
           },
           {
            "bin_start": 75.9,
            "bin_end": 77.8,
            "count": 1
           },
           {
            "bin_start": 77.8,
            "bin_end": 79.7,
            "count": 0
           },
           {
            "bin_start": 79.7,
            "bin_end": 81.6,
            "count": 1
           },
           {
            "bin_start": 81.6,
            "bin_end": 83.5,
            "count": 1
           },
           {
            "bin_start": 83.5,
            "bin_end": 85.4,
            "count": 2
           },
           {
            "bin_start": 85.4,
            "bin_end": 87.3,
            "count": 2
           },
           {
            "bin_start": 87.3,
            "bin_end": 89.2,
            "count": 1
           },
           {
            "bin_start": 89.2,
            "bin_end": 91.1,
            "count": 0
           },
           {
            "bin_start": 91.1,
            "bin_end": 93,
            "count": 1
           }
          ]
         }
        },
        {
         "name": "FKAccuracy",
         "dtype": "float64",
         "stats": {
          "unique_count": 9,
          "nan_count": 0,
          "min": "72.0",
          "max": "94.0",
          "histogram": [
           {
            "bin_start": 72,
            "bin_end": 74.2,
            "count": 1
           },
           {
            "bin_start": 74.2,
            "bin_end": 76.4,
            "count": 1
           },
           {
            "bin_start": 76.4,
            "bin_end": 78.6,
            "count": 1
           },
           {
            "bin_start": 78.6,
            "bin_end": 80.8,
            "count": 1
           },
           {
            "bin_start": 80.8,
            "bin_end": 83,
            "count": 0
           },
           {
            "bin_start": 83,
            "bin_end": 85.2,
            "count": 3
           },
           {
            "bin_start": 85.2,
            "bin_end": 87.4,
            "count": 2
           },
           {
            "bin_start": 87.4,
            "bin_end": 89.6,
            "count": 0
           },
           {
            "bin_start": 89.6,
            "bin_end": 91.8,
            "count": 0
           },
           {
            "bin_start": 91.8,
            "bin_end": 94,
            "count": 1
           }
          ]
         }
        },
        {
         "name": "LongPassing",
         "dtype": "float64",
         "stats": {
          "unique_count": 9,
          "nan_count": 0,
          "min": "64.0",
          "max": "93.0",
          "histogram": [
           {
            "bin_start": 64,
            "bin_end": 66.9,
            "count": 2
           },
           {
            "bin_start": 66.9,
            "bin_end": 69.8,
            "count": 0
           },
           {
            "bin_start": 69.8,
            "bin_end": 72.7,
            "count": 0
           },
           {
            "bin_start": 72.7,
            "bin_end": 75.6,
            "count": 0
           },
           {
            "bin_start": 75.6,
            "bin_end": 78.5,
            "count": 3
           },
           {
            "bin_start": 78.5,
            "bin_end": 81.4,
            "count": 0
           },
           {
            "bin_start": 81.4,
            "bin_end": 84.3,
            "count": 1
           },
           {
            "bin_start": 84.3,
            "bin_end": 87.2,
            "count": 1
           },
           {
            "bin_start": 87.2,
            "bin_end": 90.1,
            "count": 1
           },
           {
            "bin_start": 90.1,
            "bin_end": 93,
            "count": 2
           }
          ]
         }
        },
        {
         "name": "BallControl",
         "dtype": "float64",
         "stats": {
          "unique_count": 8,
          "nan_count": 0,
          "min": "84.0",
          "max": "96.0",
          "histogram": [
           {
            "bin_start": 84,
            "bin_end": 85.2,
            "count": 1
           },
           {
            "bin_start": 85.2,
            "bin_end": 86.4,
            "count": 0
           },
           {
            "bin_start": 86.4,
            "bin_end": 87.6,
            "count": 0
           },
           {
            "bin_start": 87.6,
            "bin_end": 88.8,
            "count": 0
           },
           {
            "bin_start": 88.8,
            "bin_end": 90,
            "count": 1
           },
           {
            "bin_start": 90,
            "bin_end": 91.2,
            "count": 3
           },
           {
            "bin_start": 91.2,
            "bin_end": 92.4,
            "count": 0
           },
           {
            "bin_start": 92.4,
            "bin_end": 93.6,
            "count": 1
           },
           {
            "bin_start": 93.6,
            "bin_end": 94.8,
            "count": 2
           },
           {
            "bin_start": 94.8,
            "bin_end": 96,
            "count": 2
           }
          ]
         }
        },
        {
         "name": "Acceleration",
         "dtype": "float64",
         "stats": {
          "unique_count": 9,
          "nan_count": 0,
          "min": "64.0",
          "max": "94.0",
          "histogram": [
           {
            "bin_start": 64,
            "bin_end": 67,
            "count": 1
           },
           {
            "bin_start": 67,
            "bin_end": 70,
            "count": 0
           },
           {
            "bin_start": 70,
            "bin_end": 73,
            "count": 0
           },
           {
            "bin_start": 73,
            "bin_end": 76,
            "count": 0
           },
           {
            "bin_start": 76,
            "bin_end": 79,
            "count": 3
           },
           {
            "bin_start": 79,
            "bin_end": 82,
            "count": 1
           },
           {
            "bin_start": 82,
            "bin_end": 85,
            "count": 0
           },
           {
            "bin_start": 85,
            "bin_end": 88,
            "count": 1
           },
           {
            "bin_start": 88,
            "bin_end": 91,
            "count": 1
           },
           {
            "bin_start": 91,
            "bin_end": 94,
            "count": 3
           }
          ]
         }
        },
        {
         "name": "SprintSpeed",
         "dtype": "float64",
         "stats": {
          "unique_count": 9,
          "nan_count": 0,
          "min": "62.0",
          "max": "91.0",
          "histogram": [
           {
            "bin_start": 62,
            "bin_end": 64.9,
            "count": 1
           },
           {
            "bin_start": 64.9,
            "bin_end": 67.8,
            "count": 0
           },
           {
            "bin_start": 67.8,
            "bin_end": 70.7,
            "count": 0
           },
           {
            "bin_start": 70.7,
            "bin_end": 73.6,
            "count": 1
           },
           {
            "bin_start": 73.6,
            "bin_end": 76.5,
            "count": 3
           },
           {
            "bin_start": 76.5,
            "bin_end": 79.4,
            "count": 1
           },
           {
            "bin_start": 79.4,
            "bin_end": 82.3,
            "count": 0
           },
           {
            "bin_start": 82.3,
            "bin_end": 85.2,
            "count": 0
           },
           {
            "bin_start": 85.2,
            "bin_end": 88.1,
            "count": 2
           },
           {
            "bin_start": 88.1,
            "bin_end": 91,
            "count": 2
           }
          ]
         }
        },
        {
         "name": "Agility",
         "dtype": "float64",
         "stats": {
          "unique_count": 9,
          "nan_count": 0,
          "min": "70.0",
          "max": "96.0",
          "histogram": [
           {
            "bin_start": 70,
            "bin_end": 72.6,
            "count": 1
           },
           {
            "bin_start": 72.6,
            "bin_end": 75.2,
            "count": 0
           },
           {
            "bin_start": 75.2,
            "bin_end": 77.8,
            "count": 0
           },
           {
            "bin_start": 77.8,
            "bin_end": 80.4,
            "count": 3
           },
           {
            "bin_start": 80.4,
            "bin_end": 83,
            "count": 1
           },
           {
            "bin_start": 83,
            "bin_end": 85.6,
            "count": 0
           },
           {
            "bin_start": 85.6,
            "bin_end": 88.2,
            "count": 1
           },
           {
            "bin_start": 88.2,
            "bin_end": 90.8,
            "count": 0
           },
           {
            "bin_start": 90.8,
            "bin_end": 93.4,
            "count": 2
           },
           {
            "bin_start": 93.4,
            "bin_end": 96,
            "count": 2
           }
          ]
         }
        },
        {
         "name": "Reactions",
         "dtype": "float64",
         "stats": {
          "unique_count": 8,
          "nan_count": 0,
          "min": "85.0",
          "max": "96.0",
          "histogram": [
           {
            "bin_start": 85,
            "bin_end": 86.1,
            "count": 1
           },
           {
            "bin_start": 86.1,
            "bin_end": 87.2,
            "count": 0
           },
           {
            "bin_start": 87.2,
            "bin_end": 88.3,
            "count": 0
           },
           {
            "bin_start": 88.3,
            "bin_end": 89.4,
            "count": 1
           },
           {
            "bin_start": 89.4,
            "bin_end": 90.5,
            "count": 3
           },
           {
            "bin_start": 90.5,
            "bin_end": 91.6,
            "count": 1
           },
           {
            "bin_start": 91.6,
            "bin_end": 92.7,
            "count": 1
           },
           {
            "bin_start": 92.7,
            "bin_end": 93.8,
            "count": 0
           },
           {
            "bin_start": 93.8,
            "bin_end": 94.9,
            "count": 1
           },
           {
            "bin_start": 94.9,
            "bin_end": 96,
            "count": 2
           }
          ]
         }
        },
        {
         "name": "Balance",
         "dtype": "float64",
         "stats": {
          "unique_count": 9,
          "nan_count": 0,
          "min": "66.0",
          "max": "95.0",
          "histogram": [
           {
            "bin_start": 66,
            "bin_end": 68.9,
            "count": 1
           },
           {
            "bin_start": 68.9,
            "bin_end": 71.8,
            "count": 2
           },
           {
            "bin_start": 71.8,
            "bin_end": 74.7,
            "count": 0
           },
           {
            "bin_start": 74.7,
            "bin_end": 77.6,
            "count": 1
           },
           {
            "bin_start": 77.6,
            "bin_end": 80.5,
            "count": 1
           },
           {
            "bin_start": 80.5,
            "bin_end": 83.4,
            "count": 1
           },
           {
            "bin_start": 83.4,
            "bin_end": 86.3,
            "count": 1
           },
           {
            "bin_start": 86.3,
            "bin_end": 89.2,
            "count": 0
           },
           {
            "bin_start": 89.2,
            "bin_end": 92.1,
            "count": 0
           },
           {
            "bin_start": 92.1,
            "bin_end": 95,
            "count": 3
           }
          ]
         }
        },
        {
         "name": "ShotPower",
         "dtype": "float64",
         "stats": {
          "unique_count": 9,
          "nan_count": 0,
          "min": "79.0",
          "max": "95.0",
          "histogram": [
           {
            "bin_start": 79,
            "bin_end": 80.6,
            "count": 3
           },
           {
            "bin_start": 80.6,
            "bin_end": 82.2,
            "count": 1
           },
           {
            "bin_start": 82.2,
            "bin_end": 83.8,
            "count": 0
           },
           {
            "bin_start": 83.8,
            "bin_end": 85.4,
            "count": 1
           },
           {
            "bin_start": 85.4,
            "bin_end": 87,
            "count": 1
           },
           {
            "bin_start": 87,
            "bin_end": 88.6,
            "count": 2
           },
           {
            "bin_start": 88.6,
            "bin_end": 90.2,
            "count": 0
           },
           {
            "bin_start": 90.2,
            "bin_end": 91.8,
            "count": 1
           },
           {
            "bin_start": 91.8,
            "bin_end": 93.4,
            "count": 0
           },
           {
            "bin_start": 93.4,
            "bin_end": 95,
            "count": 1
           }
          ]
         }
        },
        {
         "name": "Jumping",
         "dtype": "float64",
         "stats": {
          "unique_count": 9,
          "nan_count": 0,
          "min": "30.0",
          "max": "95.0",
          "histogram": [
           {
            "bin_start": 30,
            "bin_end": 36.5,
            "count": 1
           },
           {
            "bin_start": 36.5,
            "bin_end": 43,
            "count": 0
           },
           {
            "bin_start": 43,
            "bin_end": 49.5,
            "count": 0
           },
           {
            "bin_start": 49.5,
            "bin_end": 56,
            "count": 0
           },
           {
            "bin_start": 56,
            "bin_end": 62.5,
            "count": 2
           },
           {
            "bin_start": 62.5,
            "bin_end": 69,
            "count": 3
           },
           {
            "bin_start": 69,
            "bin_end": 75.5,
            "count": 1
           },
           {
            "bin_start": 75.5,
            "bin_end": 82,
            "count": 0
           },
           {
            "bin_start": 82,
            "bin_end": 88.5,
            "count": 1
           },
           {
            "bin_start": 88.5,
            "bin_end": 95,
            "count": 2
           }
          ]
         }
        },
        {
         "name": "Stamina",
         "dtype": "float64",
         "stats": {
          "unique_count": 9,
          "nan_count": 0,
          "min": "72.0",
          "max": "90.0",
          "histogram": [
           {
            "bin_start": 72,
            "bin_end": 73.8,
            "count": 1
           },
           {
            "bin_start": 73.8,
            "bin_end": 75.6,
            "count": 1
           },
           {
            "bin_start": 75.6,
            "bin_end": 77.4,
            "count": 0
           },
           {
            "bin_start": 77.4,
            "bin_end": 79.2,
            "count": 1
           },
           {
            "bin_start": 79.2,
            "bin_end": 81,
            "count": 0
           },
           {
            "bin_start": 81,
            "bin_end": 82.8,
            "count": 1
           },
           {
            "bin_start": 82.8,
            "bin_end": 84.6,
            "count": 2
           },
           {
            "bin_start": 84.6,
            "bin_end": 86.4,
            "count": 0
           },
           {
            "bin_start": 86.4,
            "bin_end": 88.2,
            "count": 1
           },
           {
            "bin_start": 88.2,
            "bin_end": 90,
            "count": 3
           }
          ]
         }
        },
        {
         "name": "Strength",
         "dtype": "float64",
         "stats": {
          "unique_count": 9,
          "nan_count": 0,
          "min": "49.0",
          "max": "84.0",
          "histogram": [
           {
            "bin_start": 49,
            "bin_end": 52.5,
            "count": 1
           },
           {
            "bin_start": 52.5,
            "bin_end": 56,
            "count": 0
           },
           {
            "bin_start": 56,
            "bin_end": 59.5,
            "count": 2
           },
           {
            "bin_start": 59.5,
            "bin_end": 63,
            "count": 0
           },
           {
            "bin_start": 63,
            "bin_end": 66.5,
            "count": 1
           },
           {
            "bin_start": 66.5,
            "bin_end": 70,
            "count": 0
           },
           {
            "bin_start": 70,
            "bin_end": 73.5,
            "count": 1
           },
           {
            "bin_start": 73.5,
            "bin_end": 77,
            "count": 1
           },
           {
            "bin_start": 77,
            "bin_end": 80.5,
            "count": 1
           },
           {
            "bin_start": 80.5,
            "bin_end": 84,
            "count": 3
           }
          ]
         }
        },
        {
         "name": "LongShots",
         "dtype": "float64",
         "stats": {
          "unique_count": 9,
          "nan_count": 0,
          "min": "59.0",
          "max": "94.0",
          "histogram": [
           {
            "bin_start": 59,
            "bin_end": 62.5,
            "count": 1
           },
           {
            "bin_start": 62.5,
            "bin_end": 66,
            "count": 0
           },
           {
            "bin_start": 66,
            "bin_end": 69.5,
            "count": 0
           },
           {
            "bin_start": 69.5,
            "bin_end": 73,
            "count": 0
           },
           {
            "bin_start": 73,
            "bin_end": 76.5,
            "count": 0
           },
           {
            "bin_start": 76.5,
            "bin_end": 80,
            "count": 0
           },
           {
            "bin_start": 80,
            "bin_end": 83.5,
            "count": 3
           },
           {
            "bin_start": 83.5,
            "bin_end": 87,
            "count": 2
           },
           {
            "bin_start": 87,
            "bin_end": 90.5,
            "count": 0
           },
           {
            "bin_start": 90.5,
            "bin_end": 94,
            "count": 4
           }
          ]
         }
        },
        {
         "name": "Aggression",
         "dtype": "float64",
         "stats": {
          "unique_count": 10,
          "nan_count": 0,
          "min": "48.0",
          "max": "88.0",
          "histogram": [
           {
            "bin_start": 48,
            "bin_end": 52,
            "count": 1
           },
           {
            "bin_start": 52,
            "bin_end": 56,
            "count": 1
           },
           {
            "bin_start": 56,
            "bin_end": 60,
            "count": 1
           },
           {
            "bin_start": 60,
            "bin_end": 64,
            "count": 3
           },
           {
            "bin_start": 64,
            "bin_end": 68,
            "count": 0
           },
           {
            "bin_start": 68,
            "bin_end": 72,
            "count": 0
           },
           {
            "bin_start": 72,
            "bin_end": 76,
            "count": 0
           },
           {
            "bin_start": 76,
            "bin_end": 80,
            "count": 1
           },
           {
            "bin_start": 80,
            "bin_end": 84,
            "count": 1
           },
           {
            "bin_start": 84,
            "bin_end": 88,
            "count": 2
           }
          ]
         }
        },
        {
         "name": "Interceptions",
         "dtype": "float64",
         "stats": {
          "unique_count": 9,
          "nan_count": 0,
          "min": "22.0",
          "max": "90.0",
          "histogram": [
           {
            "bin_start": 22,
            "bin_end": 28.8,
            "count": 1
           },
           {
            "bin_start": 28.8,
            "bin_end": 35.6,
            "count": 1
           },
           {
            "bin_start": 35.6,
            "bin_end": 42.4,
            "count": 4
           },
           {
            "bin_start": 42.4,
            "bin_end": 49.2,
            "count": 0
           },
           {
            "bin_start": 49.2,
            "bin_end": 56,
            "count": 0
           },
           {
            "bin_start": 56,
            "bin_end": 62.8,
            "count": 1
           },
           {
            "bin_start": 62.8,
            "bin_end": 69.6,
            "count": 0
           },
           {
            "bin_start": 69.6,
            "bin_end": 76.4,
            "count": 0
           },
           {
            "bin_start": 76.4,
            "bin_end": 83.19999999999999,
            "count": 2
           },
           {
            "bin_start": 83.19999999999999,
            "bin_end": 90,
            "count": 1
           }
          ]
         }
        },
        {
         "name": "Positioning",
         "dtype": "float64",
         "stats": {
          "unique_count": 8,
          "nan_count": 0,
          "min": "60.0",
          "max": "95.0",
          "histogram": [
           {
            "bin_start": 60,
            "bin_end": 63.5,
            "count": 1
           },
           {
            "bin_start": 63.5,
            "bin_end": 67,
            "count": 0
           },
           {
            "bin_start": 67,
            "bin_end": 70.5,
            "count": 0
           },
           {
            "bin_start": 70.5,
            "bin_end": 74,
            "count": 0
           },
           {
            "bin_start": 74,
            "bin_end": 77.5,
            "count": 0
           },
           {
            "bin_start": 77.5,
            "bin_end": 81,
            "count": 2
           },
           {
            "bin_start": 81,
            "bin_end": 84.5,
            "count": 0
           },
           {
            "bin_start": 84.5,
            "bin_end": 88,
            "count": 2
           },
           {
            "bin_start": 88,
            "bin_end": 91.5,
            "count": 2
           },
           {
            "bin_start": 91.5,
            "bin_end": 95,
            "count": 3
           }
          ]
         }
        },
        {
         "name": "Vision",
         "dtype": "float64",
         "stats": {
          "unique_count": 9,
          "nan_count": 0,
          "min": "63.0",
          "max": "94.0",
          "histogram": [
           {
            "bin_start": 63,
            "bin_end": 66.1,
            "count": 1
           },
           {
            "bin_start": 66.1,
            "bin_end": 69.2,
            "count": 0
           },
           {
            "bin_start": 69.2,
            "bin_end": 72.3,
            "count": 0
           },
           {
            "bin_start": 72.3,
            "bin_end": 75.4,
            "count": 0
           },
           {
            "bin_start": 75.4,
            "bin_end": 78.5,
            "count": 1
           },
           {
            "bin_start": 78.5,
            "bin_end": 81.6,
            "count": 0
           },
           {
            "bin_start": 81.6,
            "bin_end": 84.7,
            "count": 2
           },
           {
            "bin_start": 84.7,
            "bin_end": 87.8,
            "count": 2
           },
           {
            "bin_start": 87.8,
            "bin_end": 90.9,
            "count": 1
           },
           {
            "bin_start": 90.9,
            "bin_end": 94,
            "count": 3
           }
          ]
         }
        },
        {
         "name": "Penalties",
         "dtype": "float64",
         "stats": {
          "unique_count": 8,
          "nan_count": 0,
          "min": "73.0",
          "max": "88.0",
          "histogram": [
           {
            "bin_start": 73,
            "bin_end": 74.5,
            "count": 1
           },
           {
            "bin_start": 74.5,
            "bin_end": 76,
            "count": 2
           },
           {
            "bin_start": 76,
            "bin_end": 77.5,
            "count": 0
           },
           {
            "bin_start": 77.5,
            "bin_end": 79,
            "count": 0
           },
           {
            "bin_start": 79,
            "bin_end": 80.5,
            "count": 1
           },
           {
            "bin_start": 80.5,
            "bin_end": 82,
            "count": 1
           },
           {
            "bin_start": 82,
            "bin_end": 83.5,
            "count": 1
           },
           {
            "bin_start": 83.5,
            "bin_end": 85,
            "count": 0
           },
           {
            "bin_start": 85,
            "bin_end": 86.5,
            "count": 3
           },
           {
            "bin_start": 86.5,
            "bin_end": 88,
            "count": 1
           }
          ]
         }
        },
        {
         "name": "Composure",
         "dtype": "float64",
         "stats": {
          "unique_count": 9,
          "nan_count": 0,
          "min": "82.0",
          "max": "96.0",
          "histogram": [
           {
            "bin_start": 82,
            "bin_end": 83.4,
            "count": 1
           },
           {
            "bin_start": 83.4,
            "bin_end": 84.8,
            "count": 1
           },
           {
            "bin_start": 84.8,
            "bin_end": 86.2,
            "count": 3
           },
           {
            "bin_start": 86.2,
            "bin_end": 87.6,
            "count": 0
           },
           {
            "bin_start": 87.6,
            "bin_end": 89,
            "count": 1
           },
           {
            "bin_start": 89,
            "bin_end": 90.4,
            "count": 0
           },
           {
            "bin_start": 90.4,
            "bin_end": 91.8,
            "count": 1
           },
           {
            "bin_start": 91.8,
            "bin_end": 93.2,
            "count": 0
           },
           {
            "bin_start": 93.2,
            "bin_end": 94.6,
            "count": 1
           },
           {
            "bin_start": 94.6,
            "bin_end": 96,
            "count": 2
           }
          ]
         }
        },
        {
         "name": "Marking",
         "dtype": "float64",
         "stats": {
          "unique_count": 9,
          "nan_count": 0,
          "min": "27.0",
          "max": "87.0",
          "histogram": [
           {
            "bin_start": 27,
            "bin_end": 33,
            "count": 2
           },
           {
            "bin_start": 33,
            "bin_end": 39,
            "count": 3
           },
           {
            "bin_start": 39,
            "bin_end": 45,
            "count": 0
           },
           {
            "bin_start": 45,
            "bin_end": 51,
            "count": 0
           },
           {
            "bin_start": 51,
            "bin_end": 57,
            "count": 0
           },
           {
            "bin_start": 57,
            "bin_end": 63,
            "count": 2
           },
           {
            "bin_start": 63,
            "bin_end": 69,
            "count": 1
           },
           {
            "bin_start": 69,
            "bin_end": 75,
            "count": 1
           },
           {
            "bin_start": 75,
            "bin_end": 81,
            "count": 0
           },
           {
            "bin_start": 81,
            "bin_end": 87,
            "count": 1
           }
          ]
         }
        },
        {
         "name": "StandingTackle",
         "dtype": "float64",
         "stats": {
          "unique_count": 10,
          "nan_count": 0,
          "min": "24.0",
          "max": "92.0",
          "histogram": [
           {
            "bin_start": 24,
            "bin_end": 30.8,
            "count": 3
           },
           {
            "bin_start": 30.8,
            "bin_end": 37.6,
            "count": 1
           },
           {
            "bin_start": 37.6,
            "bin_end": 44.4,
            "count": 1
           },
           {
            "bin_start": 44.4,
            "bin_end": 51.2,
            "count": 1
           },
           {
            "bin_start": 51.2,
            "bin_end": 58,
            "count": 0
           },
           {
            "bin_start": 58,
            "bin_end": 64.8,
            "count": 1
           },
           {
            "bin_start": 64.8,
            "bin_end": 71.6,
            "count": 0
           },
           {
            "bin_start": 71.6,
            "bin_end": 78.4,
            "count": 1
           },
           {
            "bin_start": 78.4,
            "bin_end": 85.19999999999999,
            "count": 1
           },
           {
            "bin_start": 85.19999999999999,
            "bin_end": 92,
            "count": 1
           }
          ]
         }
        },
        {
         "name": "SlidingTackle",
         "dtype": "float64",
         "stats": {
          "unique_count": 10,
          "nan_count": 0,
          "min": "19.0",
          "max": "91.0",
          "histogram": [
           {
            "bin_start": 19,
            "bin_end": 26.2,
            "count": 4
           },
           {
            "bin_start": 26.2,
            "bin_end": 33.4,
            "count": 1
           },
           {
            "bin_start": 33.4,
            "bin_end": 40.6,
            "count": 1
           },
           {
            "bin_start": 40.6,
            "bin_end": 47.8,
            "count": 0
           },
           {
            "bin_start": 47.8,
            "bin_end": 55,
            "count": 1
           },
           {
            "bin_start": 55,
            "bin_end": 62.2,
            "count": 0
           },
           {
            "bin_start": 62.2,
            "bin_end": 69.4,
            "count": 1
           },
           {
            "bin_start": 69.4,
            "bin_end": 76.6,
            "count": 1
           },
           {
            "bin_start": 76.6,
            "bin_end": 83.8,
            "count": 0
           },
           {
            "bin_start": 83.8,
            "bin_end": 91,
            "count": 1
           }
          ]
         }
        },
        {
         "name": "_deepnote_index_column",
         "dtype": "int64"
        }
       ],
       "rows_top": [
        {
         "Overall": 94,
         "Position": "RF",
         "Crossing": 84,
         "Finishing": 95,
         "HeadingAccuracy": 70,
         "ShortPassing": 90,
         "Volleys": 86,
         "Dribbling": 97,
         "Curve": 93,
         "FKAccuracy": 94,
         "LongPassing": 87,
         "BallControl": 96,
         "Acceleration": 91,
         "SprintSpeed": 86,
         "Agility": 91,
         "Reactions": 95,
         "Balance": 95,
         "ShotPower": 85,
         "Jumping": 68,
         "Stamina": 72,
         "Strength": 59,
         "LongShots": 94,
         "Aggression": 48,
         "Interceptions": 22,
         "Positioning": 94,
         "Vision": 94,
         "Penalties": 75,
         "Composure": 96,
         "Marking": 33,
         "StandingTackle": 28,
         "SlidingTackle": 26,
         "_deepnote_index_column": 0
        },
        {
         "Overall": 94,
         "Position": "ST",
         "Crossing": 84,
         "Finishing": 94,
         "HeadingAccuracy": 89,
         "ShortPassing": 81,
         "Volleys": 87,
         "Dribbling": 88,
         "Curve": 81,
         "FKAccuracy": 76,
         "LongPassing": 77,
         "BallControl": 94,
         "Acceleration": 89,
         "SprintSpeed": 91,
         "Agility": 87,
         "Reactions": 96,
         "Balance": 70,
         "ShotPower": 95,
         "Jumping": 95,
         "Stamina": 88,
         "Strength": 79,
         "LongShots": 93,
         "Aggression": 63,
         "Interceptions": 29,
         "Positioning": 95,
         "Vision": 82,
         "Penalties": 85,
         "Composure": 95,
         "Marking": 28,
         "StandingTackle": 31,
         "SlidingTackle": 23,
         "_deepnote_index_column": 1
        },
        {
         "Overall": 92,
         "Position": "LW",
         "Crossing": 79,
         "Finishing": 87,
         "HeadingAccuracy": 62,
         "ShortPassing": 84,
         "Volleys": 84,
         "Dribbling": 96,
         "Curve": 88,
         "FKAccuracy": 87,
         "LongPassing": 78,
         "BallControl": 95,
         "Acceleration": 94,
         "SprintSpeed": 90,
         "Agility": 96,
         "Reactions": 94,
         "Balance": 84,
         "ShotPower": 80,
         "Jumping": 61,
         "Stamina": 81,
         "Strength": 49,
         "LongShots": 82,
         "Aggression": 56,
         "Interceptions": 36,
         "Positioning": 89,
         "Vision": 87,
         "Penalties": 81,
         "Composure": 94,
         "Marking": 27,
         "StandingTackle": 24,
         "SlidingTackle": 33,
         "_deepnote_index_column": 2
        },
        {
         "Overall": 91,
         "Position": "RCM",
         "Crossing": 93,
         "Finishing": 82,
         "HeadingAccuracy": 55,
         "ShortPassing": 92,
         "Volleys": 82,
         "Dribbling": 86,
         "Curve": 85,
         "FKAccuracy": 83,
         "LongPassing": 91,
         "BallControl": 91,
         "Acceleration": 78,
         "SprintSpeed": 76,
         "Agility": 79,
         "Reactions": 91,
         "Balance": 77,
         "ShotPower": 91,
         "Jumping": 63,
         "Stamina": 90,
         "Strength": 75,
         "LongShots": 91,
         "Aggression": 76,
         "Interceptions": 61,
         "Positioning": 87,
         "Vision": 94,
         "Penalties": 79,
         "Composure": 88,
         "Marking": 68,
         "StandingTackle": 58,
         "SlidingTackle": 51,
         "_deepnote_index_column": 4
        },
        {
         "Overall": 91,
         "Position": "LF",
         "Crossing": 81,
         "Finishing": 84,
         "HeadingAccuracy": 61,
         "ShortPassing": 89,
         "Volleys": 80,
         "Dribbling": 95,
         "Curve": 83,
         "FKAccuracy": 79,
         "LongPassing": 83,
         "BallControl": 94,
         "Acceleration": 94,
         "SprintSpeed": 88,
         "Agility": 95,
         "Reactions": 90,
         "Balance": 94,
         "ShotPower": 82,
         "Jumping": 56,
         "Stamina": 83,
         "Strength": 66,
         "LongShots": 80,
         "Aggression": 54,
         "Interceptions": 41,
         "Positioning": 87,
         "Vision": 89,
         "Penalties": 86,
         "Composure": 91,
         "Marking": 34,
         "StandingTackle": 27,
         "SlidingTackle": 22,
         "_deepnote_index_column": 5
        },
        {
         "Overall": 91,
         "Position": "RCM",
         "Crossing": 86,
         "Finishing": 72,
         "HeadingAccuracy": 55,
         "ShortPassing": 93,
         "Volleys": 76,
         "Dribbling": 90,
         "Curve": 85,
         "FKAccuracy": 78,
         "LongPassing": 88,
         "BallControl": 93,
         "Acceleration": 80,
         "SprintSpeed": 72,
         "Agility": 93,
         "Reactions": 90,
         "Balance": 94,
         "ShotPower": 79,
         "Jumping": 68,
         "Stamina": 89,
         "Strength": 58,
         "LongShots": 82,
         "Aggression": 62,
         "Interceptions": 83,
         "Positioning": 79,
         "Vision": 92,
         "Penalties": 82,
         "Composure": 84,
         "Marking": 60,
         "StandingTackle": 76,
         "SlidingTackle": 73,
         "_deepnote_index_column": 6
        },
        {
         "Overall": 91,
         "Position": "RS",
         "Crossing": 77,
         "Finishing": 93,
         "HeadingAccuracy": 77,
         "ShortPassing": 82,
         "Volleys": 88,
         "Dribbling": 87,
         "Curve": 86,
         "FKAccuracy": 84,
         "LongPassing": 64,
         "BallControl": 90,
         "Acceleration": 86,
         "SprintSpeed": 75,
         "Agility": 82,
         "Reactions": 92,
         "Balance": 83,
         "ShotPower": 86,
         "Jumping": 69,
         "Stamina": 90,
         "Strength": 83,
         "LongShots": 85,
         "Aggression": 87,
         "Interceptions": 41,
         "Positioning": 92,
         "Vision": 84,
         "Penalties": 85,
         "Composure": 85,
         "Marking": 62,
         "StandingTackle": 45,
         "SlidingTackle": 38,
         "_deepnote_index_column": 7
        },
        {
         "Overall": 91,
         "Position": "RCB",
         "Crossing": 66,
         "Finishing": 60,
         "HeadingAccuracy": 91,
         "ShortPassing": 78,
         "Volleys": 66,
         "Dribbling": 63,
         "Curve": 74,
         "FKAccuracy": 72,
         "LongPassing": 77,
         "BallControl": 84,
         "Acceleration": 76,
         "SprintSpeed": 75,
         "Agility": 78,
         "Reactions": 85,
         "Balance": 66,
         "ShotPower": 79,
         "Jumping": 93,
         "Stamina": 84,
         "Strength": 83,
         "LongShots": 59,
         "Aggression": 88,
         "Interceptions": 90,
         "Positioning": 60,
         "Vision": 63,
         "Penalties": 75,
         "Composure": 82,
         "Marking": 87,
         "StandingTackle": 92,
         "SlidingTackle": 91,
         "_deepnote_index_column": 8
        },
        {
         "Overall": 90,
         "Position": "ST",
         "Crossing": 62,
         "Finishing": 91,
         "HeadingAccuracy": 85,
         "ShortPassing": 83,
         "Volleys": 89,
         "Dribbling": 85,
         "Curve": 77,
         "FKAccuracy": 86,
         "LongPassing": 65,
         "BallControl": 89,
         "Acceleration": 77,
         "SprintSpeed": 78,
         "Agility": 78,
         "Reactions": 90,
         "Balance": 78,
         "ShotPower": 88,
         "Jumping": 84,
         "Stamina": 78,
         "Strength": 84,
         "LongShots": 84,
         "Aggression": 80,
         "Interceptions": 39,
         "Positioning": 91,
         "Vision": 77,
         "Penalties": 88,
         "Composure": 86,
         "Marking": 34,
         "StandingTackle": 42,
         "SlidingTackle": 19,
         "_deepnote_index_column": 10
        },
        {
         "Overall": 90,
         "Position": "LCM",
         "Crossing": 88,
         "Finishing": 76,
         "HeadingAccuracy": 54,
         "ShortPassing": 92,
         "Volleys": 82,
         "Dribbling": 81,
         "Curve": 86,
         "FKAccuracy": 84,
         "LongPassing": 93,
         "BallControl": 90,
         "Acceleration": 64,
         "SprintSpeed": 62,
         "Agility": 70,
         "Reactions": 89,
         "Balance": 71,
         "ShotPower": 87,
         "Jumping": 30,
         "Stamina": 75,
         "Strength": 73,
         "LongShots": 92,
         "Aggression": 60,
         "Interceptions": 82,
         "Positioning": 79,
         "Vision": 86,
         "Penalties": 73,
         "Composure": 85,
         "Marking": 72,
         "StandingTackle": 79,
         "SlidingTackle": 69,
         "_deepnote_index_column": 11
        }
       ],
       "rows_bottom": null
      },
      "text/plain": "    Overall Position  Crossing  Finishing  HeadingAccuracy  ShortPassing  \\\n0        94       RF      84.0       95.0             70.0          90.0   \n1        94       ST      84.0       94.0             89.0          81.0   \n2        92       LW      79.0       87.0             62.0          84.0   \n4        91      RCM      93.0       82.0             55.0          92.0   \n5        91       LF      81.0       84.0             61.0          89.0   \n6        91      RCM      86.0       72.0             55.0          93.0   \n7        91       RS      77.0       93.0             77.0          82.0   \n8        91      RCB      66.0       60.0             91.0          78.0   \n10       90       ST      62.0       91.0             85.0          83.0   \n11       90      LCM      88.0       76.0             54.0          92.0   \n\n    Volleys  Dribbling  Curve  FKAccuracy  ...  LongShots  Aggression  \\\n0      86.0       97.0   93.0        94.0  ...       94.0        48.0   \n1      87.0       88.0   81.0        76.0  ...       93.0        63.0   \n2      84.0       96.0   88.0        87.0  ...       82.0        56.0   \n4      82.0       86.0   85.0        83.0  ...       91.0        76.0   \n5      80.0       95.0   83.0        79.0  ...       80.0        54.0   \n6      76.0       90.0   85.0        78.0  ...       82.0        62.0   \n7      88.0       87.0   86.0        84.0  ...       85.0        87.0   \n8      66.0       63.0   74.0        72.0  ...       59.0        88.0   \n10     89.0       85.0   77.0        86.0  ...       84.0        80.0   \n11     82.0       81.0   86.0        84.0  ...       92.0        60.0   \n\n    Interceptions  Positioning  Vision  Penalties  Composure  Marking  \\\n0            22.0         94.0    94.0       75.0       96.0     33.0   \n1            29.0         95.0    82.0       85.0       95.0     28.0   \n2            36.0         89.0    87.0       81.0       94.0     27.0   \n4            61.0         87.0    94.0       79.0       88.0     68.0   \n5            41.0         87.0    89.0       86.0       91.0     34.0   \n6            83.0         79.0    92.0       82.0       84.0     60.0   \n7            41.0         92.0    84.0       85.0       85.0     62.0   \n8            90.0         60.0    63.0       75.0       82.0     87.0   \n10           39.0         91.0    77.0       88.0       86.0     34.0   \n11           82.0         79.0    86.0       73.0       85.0     72.0   \n\n    StandingTackle  SlidingTackle  \n0             28.0           26.0  \n1             31.0           23.0  \n2             24.0           33.0  \n4             58.0           51.0  \n5             27.0           22.0  \n6             76.0           73.0  \n7             45.0           38.0  \n8             92.0           91.0  \n10            42.0           19.0  \n11            79.0           69.0  \n\n[10 rows x 31 columns]",
      "text/html": "<div>\n<style scoped>\n    .dataframe tbody tr th:only-of-type {\n        vertical-align: middle;\n    }\n\n    .dataframe tbody tr th {\n        vertical-align: top;\n    }\n\n    .dataframe thead th {\n        text-align: right;\n    }\n</style>\n<table border=\"1\" class=\"dataframe\">\n  <thead>\n    <tr style=\"text-align: right;\">\n      <th></th>\n      <th>Overall</th>\n      <th>Position</th>\n      <th>Crossing</th>\n      <th>Finishing</th>\n      <th>HeadingAccuracy</th>\n      <th>ShortPassing</th>\n      <th>Volleys</th>\n      <th>Dribbling</th>\n      <th>Curve</th>\n      <th>FKAccuracy</th>\n      <th>...</th>\n      <th>LongShots</th>\n      <th>Aggression</th>\n      <th>Interceptions</th>\n      <th>Positioning</th>\n      <th>Vision</th>\n      <th>Penalties</th>\n      <th>Composure</th>\n      <th>Marking</th>\n      <th>StandingTackle</th>\n      <th>SlidingTackle</th>\n    </tr>\n  </thead>\n  <tbody>\n    <tr>\n      <th>0</th>\n      <td>94</td>\n      <td>RF</td>\n      <td>84.0</td>\n      <td>95.0</td>\n      <td>70.0</td>\n      <td>90.0</td>\n      <td>86.0</td>\n      <td>97.0</td>\n      <td>93.0</td>\n      <td>94.0</td>\n      <td>...</td>\n      <td>94.0</td>\n      <td>48.0</td>\n      <td>22.0</td>\n      <td>94.0</td>\n      <td>94.0</td>\n      <td>75.0</td>\n      <td>96.0</td>\n      <td>33.0</td>\n      <td>28.0</td>\n      <td>26.0</td>\n    </tr>\n    <tr>\n      <th>1</th>\n      <td>94</td>\n      <td>ST</td>\n      <td>84.0</td>\n      <td>94.0</td>\n      <td>89.0</td>\n      <td>81.0</td>\n      <td>87.0</td>\n      <td>88.0</td>\n      <td>81.0</td>\n      <td>76.0</td>\n      <td>...</td>\n      <td>93.0</td>\n      <td>63.0</td>\n      <td>29.0</td>\n      <td>95.0</td>\n      <td>82.0</td>\n      <td>85.0</td>\n      <td>95.0</td>\n      <td>28.0</td>\n      <td>31.0</td>\n      <td>23.0</td>\n    </tr>\n    <tr>\n      <th>2</th>\n      <td>92</td>\n      <td>LW</td>\n      <td>79.0</td>\n      <td>87.0</td>\n      <td>62.0</td>\n      <td>84.0</td>\n      <td>84.0</td>\n      <td>96.0</td>\n      <td>88.0</td>\n      <td>87.0</td>\n      <td>...</td>\n      <td>82.0</td>\n      <td>56.0</td>\n      <td>36.0</td>\n      <td>89.0</td>\n      <td>87.0</td>\n      <td>81.0</td>\n      <td>94.0</td>\n      <td>27.0</td>\n      <td>24.0</td>\n      <td>33.0</td>\n    </tr>\n    <tr>\n      <th>4</th>\n      <td>91</td>\n      <td>RCM</td>\n      <td>93.0</td>\n      <td>82.0</td>\n      <td>55.0</td>\n      <td>92.0</td>\n      <td>82.0</td>\n      <td>86.0</td>\n      <td>85.0</td>\n      <td>83.0</td>\n      <td>...</td>\n      <td>91.0</td>\n      <td>76.0</td>\n      <td>61.0</td>\n      <td>87.0</td>\n      <td>94.0</td>\n      <td>79.0</td>\n      <td>88.0</td>\n      <td>68.0</td>\n      <td>58.0</td>\n      <td>51.0</td>\n    </tr>\n    <tr>\n      <th>5</th>\n      <td>91</td>\n      <td>LF</td>\n      <td>81.0</td>\n      <td>84.0</td>\n      <td>61.0</td>\n      <td>89.0</td>\n      <td>80.0</td>\n      <td>95.0</td>\n      <td>83.0</td>\n      <td>79.0</td>\n      <td>...</td>\n      <td>80.0</td>\n      <td>54.0</td>\n      <td>41.0</td>\n      <td>87.0</td>\n      <td>89.0</td>\n      <td>86.0</td>\n      <td>91.0</td>\n      <td>34.0</td>\n      <td>27.0</td>\n      <td>22.0</td>\n    </tr>\n    <tr>\n      <th>6</th>\n      <td>91</td>\n      <td>RCM</td>\n      <td>86.0</td>\n      <td>72.0</td>\n      <td>55.0</td>\n      <td>93.0</td>\n      <td>76.0</td>\n      <td>90.0</td>\n      <td>85.0</td>\n      <td>78.0</td>\n      <td>...</td>\n      <td>82.0</td>\n      <td>62.0</td>\n      <td>83.0</td>\n      <td>79.0</td>\n      <td>92.0</td>\n      <td>82.0</td>\n      <td>84.0</td>\n      <td>60.0</td>\n      <td>76.0</td>\n      <td>73.0</td>\n    </tr>\n    <tr>\n      <th>7</th>\n      <td>91</td>\n      <td>RS</td>\n      <td>77.0</td>\n      <td>93.0</td>\n      <td>77.0</td>\n      <td>82.0</td>\n      <td>88.0</td>\n      <td>87.0</td>\n      <td>86.0</td>\n      <td>84.0</td>\n      <td>...</td>\n      <td>85.0</td>\n      <td>87.0</td>\n      <td>41.0</td>\n      <td>92.0</td>\n      <td>84.0</td>\n      <td>85.0</td>\n      <td>85.0</td>\n      <td>62.0</td>\n      <td>45.0</td>\n      <td>38.0</td>\n    </tr>\n    <tr>\n      <th>8</th>\n      <td>91</td>\n      <td>RCB</td>\n      <td>66.0</td>\n      <td>60.0</td>\n      <td>91.0</td>\n      <td>78.0</td>\n      <td>66.0</td>\n      <td>63.0</td>\n      <td>74.0</td>\n      <td>72.0</td>\n      <td>...</td>\n      <td>59.0</td>\n      <td>88.0</td>\n      <td>90.0</td>\n      <td>60.0</td>\n      <td>63.0</td>\n      <td>75.0</td>\n      <td>82.0</td>\n      <td>87.0</td>\n      <td>92.0</td>\n      <td>91.0</td>\n    </tr>\n    <tr>\n      <th>10</th>\n      <td>90</td>\n      <td>ST</td>\n      <td>62.0</td>\n      <td>91.0</td>\n      <td>85.0</td>\n      <td>83.0</td>\n      <td>89.0</td>\n      <td>85.0</td>\n      <td>77.0</td>\n      <td>86.0</td>\n      <td>...</td>\n      <td>84.0</td>\n      <td>80.0</td>\n      <td>39.0</td>\n      <td>91.0</td>\n      <td>77.0</td>\n      <td>88.0</td>\n      <td>86.0</td>\n      <td>34.0</td>\n      <td>42.0</td>\n      <td>19.0</td>\n    </tr>\n    <tr>\n      <th>11</th>\n      <td>90</td>\n      <td>LCM</td>\n      <td>88.0</td>\n      <td>76.0</td>\n      <td>54.0</td>\n      <td>92.0</td>\n      <td>82.0</td>\n      <td>81.0</td>\n      <td>86.0</td>\n      <td>84.0</td>\n      <td>...</td>\n      <td>92.0</td>\n      <td>60.0</td>\n      <td>82.0</td>\n      <td>79.0</td>\n      <td>86.0</td>\n      <td>73.0</td>\n      <td>85.0</td>\n      <td>72.0</td>\n      <td>79.0</td>\n      <td>69.0</td>\n    </tr>\n  </tbody>\n</table>\n<p>10 rows × 31 columns</p>\n</div>"
     },
     "metadata": {}
    }
   ],
   "execution_count": null
  },
  {
   "cell_type": "code",
   "metadata": {
    "id": "ypyjO_omIPlT",
    "colab": {
     "base_uri": "https://localhost:8080/",
     "height": 386
    },
    "executionInfo": {
     "status": "ok",
     "timestamp": 1632395386886,
     "user_tz": -120,
     "elapsed": 31,
     "user": {
      "displayName": "Daniel Manrique",
      "photoUrl": "https://lh3.googleusercontent.com/a-/AOh14GitdHbMelm6f6tHV3gogFTulR815SvuoEcosIv2kg=s64",
      "userId": "14181066300969909559"
     }
    },
    "outputId": "53c3c2c0-3135-4edc-d618-4d43ecf48bda",
    "cell_id": "00011-2a6b4ea5-1035-4c42-b5cf-606d33b4de76",
    "deepnote_to_be_reexecuted": false,
    "source_hash": "c8d8069a",
    "execution_start": 1636882599804,
    "execution_millis": 181,
    "deepnote_cell_type": "code"
   },
   "source": "dataset[-10:]",
   "outputs": [
    {
     "output_type": "execute_result",
     "execution_count": 8,
     "data": {
      "application/vnd.deepnote.dataframe.v2+json": {
       "row_count": 10,
       "column_count": 31,
       "columns": [
        {
         "name": "Overall",
         "dtype": "int64",
         "stats": {
          "unique_count": 2,
          "nan_count": 0,
          "min": "46",
          "max": "47",
          "histogram": [
           {
            "bin_start": 46,
            "bin_end": 46.1,
            "count": 1
           },
           {
            "bin_start": 46.1,
            "bin_end": 46.2,
            "count": 0
           },
           {
            "bin_start": 46.2,
            "bin_end": 46.3,
            "count": 0
           },
           {
            "bin_start": 46.3,
            "bin_end": 46.4,
            "count": 0
           },
           {
            "bin_start": 46.4,
            "bin_end": 46.5,
            "count": 0
           },
           {
            "bin_start": 46.5,
            "bin_end": 46.6,
            "count": 0
           },
           {
            "bin_start": 46.6,
            "bin_end": 46.7,
            "count": 0
           },
           {
            "bin_start": 46.7,
            "bin_end": 46.8,
            "count": 0
           },
           {
            "bin_start": 46.8,
            "bin_end": 46.9,
            "count": 0
           },
           {
            "bin_start": 46.9,
            "bin_end": 47,
            "count": 9
           }
          ]
         }
        },
        {
         "name": "Position",
         "dtype": "object",
         "stats": {
          "unique_count": 4,
          "nan_count": 0,
          "categories": [
           {
            "name": "CM",
            "count": 5
           },
           {
            "name": "ST",
            "count": 3
           },
           {
            "name": "2 others",
            "count": 2
           }
          ]
         }
        },
        {
         "name": "Crossing",
         "dtype": "float64",
         "stats": {
          "unique_count": 8,
          "nan_count": 0,
          "min": "22.0",
          "max": "44.0",
          "histogram": [
           {
            "bin_start": 22,
            "bin_end": 24.2,
            "count": 2
           },
           {
            "bin_start": 24.2,
            "bin_end": 26.4,
            "count": 1
           },
           {
            "bin_start": 26.4,
            "bin_end": 28.6,
            "count": 1
           },
           {
            "bin_start": 28.6,
            "bin_end": 30.8,
            "count": 0
           },
           {
            "bin_start": 30.8,
            "bin_end": 33,
            "count": 2
           },
           {
            "bin_start": 33,
            "bin_end": 35.2,
            "count": 1
           },
           {
            "bin_start": 35.2,
            "bin_end": 37.400000000000006,
            "count": 0
           },
           {
            "bin_start": 37.400000000000006,
            "bin_end": 39.6,
            "count": 0
           },
           {
            "bin_start": 39.6,
            "bin_end": 41.8,
            "count": 1
           },
           {
            "bin_start": 41.8,
            "bin_end": 44,
            "count": 2
           }
          ]
         }
        },
        {
         "name": "Finishing",
         "dtype": "float64",
         "stats": {
          "unique_count": 10,
          "nan_count": 0,
          "min": "23.0",
          "max": "52.0",
          "histogram": [
           {
            "bin_start": 23,
            "bin_end": 25.9,
            "count": 1
           },
           {
            "bin_start": 25.9,
            "bin_end": 28.8,
            "count": 1
           },
           {
            "bin_start": 28.8,
            "bin_end": 31.7,
            "count": 1
           },
           {
            "bin_start": 31.7,
            "bin_end": 34.6,
            "count": 1
           },
           {
            "bin_start": 34.6,
            "bin_end": 37.5,
            "count": 0
           },
           {
            "bin_start": 37.5,
            "bin_end": 40.4,
            "count": 2
           },
           {
            "bin_start": 40.4,
            "bin_end": 43.3,
            "count": 0
           },
           {
            "bin_start": 43.3,
            "bin_end": 46.2,
            "count": 1
           },
           {
            "bin_start": 46.2,
            "bin_end": 49.099999999999994,
            "count": 1
           },
           {
            "bin_start": 49.099999999999994,
            "bin_end": 52,
            "count": 2
           }
          ]
         }
        },
        {
         "name": "HeadingAccuracy",
         "dtype": "float64",
         "stats": {
          "unique_count": 8,
          "nan_count": 0,
          "min": "36.0",
          "max": "52.0",
          "histogram": [
           {
            "bin_start": 36,
            "bin_end": 37.6,
            "count": 1
           },
           {
            "bin_start": 37.6,
            "bin_end": 39.2,
            "count": 1
           },
           {
            "bin_start": 39.2,
            "bin_end": 40.8,
            "count": 2
           },
           {
            "bin_start": 40.8,
            "bin_end": 42.4,
            "count": 1
           },
           {
            "bin_start": 42.4,
            "bin_end": 44,
            "count": 0
           },
           {
            "bin_start": 44,
            "bin_end": 45.6,
            "count": 1
           },
           {
            "bin_start": 45.6,
            "bin_end": 47.2,
            "count": 3
           },
           {
            "bin_start": 47.2,
            "bin_end": 48.8,
            "count": 0
           },
           {
            "bin_start": 48.8,
            "bin_end": 50.4,
            "count": 0
           },
           {
            "bin_start": 50.4,
            "bin_end": 52,
            "count": 1
           }
          ]
         }
        },
        {
         "name": "ShortPassing",
         "dtype": "float64",
         "stats": {
          "unique_count": 8,
          "nan_count": 0,
          "min": "25.0",
          "max": "53.0",
          "histogram": [
           {
            "bin_start": 25,
            "bin_end": 27.8,
            "count": 1
           },
           {
            "bin_start": 27.8,
            "bin_end": 30.6,
            "count": 0
           },
           {
            "bin_start": 30.6,
            "bin_end": 33.4,
            "count": 0
           },
           {
            "bin_start": 33.4,
            "bin_end": 36.2,
            "count": 0
           },
           {
            "bin_start": 36.2,
            "bin_end": 39,
            "count": 1
           },
           {
            "bin_start": 39,
            "bin_end": 41.8,
            "count": 0
           },
           {
            "bin_start": 41.8,
            "bin_end": 44.599999999999994,
            "count": 3
           },
           {
            "bin_start": 44.599999999999994,
            "bin_end": 47.4,
            "count": 0
           },
           {
            "bin_start": 47.4,
            "bin_end": 50.2,
            "count": 2
           },
           {
            "bin_start": 50.2,
            "bin_end": 53,
            "count": 3
           }
          ]
         }
        },
        {
         "name": "Volleys",
         "dtype": "float64",
         "stats": {
          "unique_count": 10,
          "nan_count": 0,
          "min": "25.0",
          "max": "43.0",
          "histogram": [
           {
            "bin_start": 25,
            "bin_end": 26.8,
            "count": 2
           },
           {
            "bin_start": 26.8,
            "bin_end": 28.6,
            "count": 1
           },
           {
            "bin_start": 28.6,
            "bin_end": 30.4,
            "count": 1
           },
           {
            "bin_start": 30.4,
            "bin_end": 32.2,
            "count": 1
           },
           {
            "bin_start": 32.2,
            "bin_end": 34,
            "count": 0
           },
           {
            "bin_start": 34,
            "bin_end": 35.8,
            "count": 0
           },
           {
            "bin_start": 35.8,
            "bin_end": 37.6,
            "count": 2
           },
           {
            "bin_start": 37.6,
            "bin_end": 39.4,
            "count": 1
           },
           {
            "bin_start": 39.4,
            "bin_end": 41.2,
            "count": 1
           },
           {
            "bin_start": 41.2,
            "bin_end": 43,
            "count": 1
           }
          ]
         }
        },
        {
         "name": "Dribbling",
         "dtype": "float64",
         "stats": {
          "unique_count": 8,
          "nan_count": 0,
          "min": "21.0",
          "max": "51.0",
          "histogram": [
           {
            "bin_start": 21,
            "bin_end": 24,
            "count": 1
           },
           {
            "bin_start": 24,
            "bin_end": 27,
            "count": 0
           },
           {
            "bin_start": 27,
            "bin_end": 30,
            "count": 0
           },
           {
            "bin_start": 30,
            "bin_end": 33,
            "count": 0
           },
           {
            "bin_start": 33,
            "bin_end": 36,
            "count": 0
           },
           {
            "bin_start": 36,
            "bin_end": 39,
            "count": 0
           },
           {
            "bin_start": 39,
            "bin_end": 42,
            "count": 2
           },
           {
            "bin_start": 42,
            "bin_end": 45,
            "count": 2
           },
           {
            "bin_start": 45,
            "bin_end": 48,
            "count": 3
           },
           {
            "bin_start": 48,
            "bin_end": 51,
            "count": 2
           }
          ]
         }
        },
        {
         "name": "Curve",
         "dtype": "float64",
         "stats": {
          "unique_count": 9,
          "nan_count": 0,
          "min": "21.0",
          "max": "48.0",
          "histogram": [
           {
            "bin_start": 21,
            "bin_end": 23.7,
            "count": 1
           },
           {
            "bin_start": 23.7,
            "bin_end": 26.4,
            "count": 0
           },
           {
            "bin_start": 26.4,
            "bin_end": 29.1,
            "count": 0
           },
           {
            "bin_start": 29.1,
            "bin_end": 31.8,
            "count": 1
           },
           {
            "bin_start": 31.8,
            "bin_end": 34.5,
            "count": 3
           },
           {
            "bin_start": 34.5,
            "bin_end": 37.2,
            "count": 1
           },
           {
            "bin_start": 37.2,
            "bin_end": 39.900000000000006,
            "count": 2
           },
           {
            "bin_start": 39.900000000000006,
            "bin_end": 42.6,
            "count": 1
           },
           {
            "bin_start": 42.6,
            "bin_end": 45.3,
            "count": 0
           },
           {
            "bin_start": 45.3,
            "bin_end": 48,
            "count": 1
           }
          ]
         }
        },
        {
         "name": "FKAccuracy",
         "dtype": "float64",
         "stats": {
          "unique_count": 8,
          "nan_count": 0,
          "min": "20.0",
          "max": "46.0",
          "histogram": [
           {
            "bin_start": 20,
            "bin_end": 22.6,
            "count": 1
           },
           {
            "bin_start": 22.6,
            "bin_end": 25.2,
            "count": 1
           },
           {
            "bin_start": 25.2,
            "bin_end": 27.8,
            "count": 2
           },
           {
            "bin_start": 27.8,
            "bin_end": 30.4,
            "count": 0
           },
           {
            "bin_start": 30.4,
            "bin_end": 33,
            "count": 2
           },
           {
            "bin_start": 33,
            "bin_end": 35.6,
            "count": 2
           },
           {
            "bin_start": 35.6,
            "bin_end": 38.2,
            "count": 1
           },
           {
            "bin_start": 38.2,
            "bin_end": 40.8,
            "count": 0
           },
           {
            "bin_start": 40.8,
            "bin_end": 43.400000000000006,
            "count": 0
           },
           {
            "bin_start": 43.400000000000006,
            "bin_end": 46,
            "count": 1
           }
          ]
         }
        },
        {
         "name": "LongPassing",
         "dtype": "float64",
         "stats": {
          "unique_count": 10,
          "nan_count": 0,
          "min": "25.0",
          "max": "55.0",
          "histogram": [
           {
            "bin_start": 25,
            "bin_end": 28,
            "count": 2
           },
           {
            "bin_start": 28,
            "bin_end": 31,
            "count": 2
           },
           {
            "bin_start": 31,
            "bin_end": 34,
            "count": 1
           },
           {
            "bin_start": 34,
            "bin_end": 37,
            "count": 0
           },
           {
            "bin_start": 37,
            "bin_end": 40,
            "count": 0
           },
           {
            "bin_start": 40,
            "bin_end": 43,
            "count": 0
           },
           {
            "bin_start": 43,
            "bin_end": 46,
            "count": 2
           },
           {
            "bin_start": 46,
            "bin_end": 49,
            "count": 1
           },
           {
            "bin_start": 49,
            "bin_end": 52,
            "count": 0
           },
           {
            "bin_start": 52,
            "bin_end": 55,
            "count": 2
           }
          ]
         }
        },
        {
         "name": "BallControl",
         "dtype": "float64",
         "stats": {
          "unique_count": 9,
          "nan_count": 0,
          "min": "32.0",
          "max": "52.0",
          "histogram": [
           {
            "bin_start": 32,
            "bin_end": 34,
            "count": 1
           },
           {
            "bin_start": 34,
            "bin_end": 36,
            "count": 0
           },
           {
            "bin_start": 36,
            "bin_end": 38,
            "count": 0
           },
           {
            "bin_start": 38,
            "bin_end": 40,
            "count": 0
           },
           {
            "bin_start": 40,
            "bin_end": 42,
            "count": 2
           },
           {
            "bin_start": 42,
            "bin_end": 44,
            "count": 1
           },
           {
            "bin_start": 44,
            "bin_end": 46,
            "count": 1
           },
           {
            "bin_start": 46,
            "bin_end": 48,
            "count": 1
           },
           {
            "bin_start": 48,
            "bin_end": 50,
            "count": 1
           },
           {
            "bin_start": 50,
            "bin_end": 52,
            "count": 3
           }
          ]
         }
        },
        {
         "name": "Acceleration",
         "dtype": "float64",
         "stats": {
          "unique_count": 10,
          "nan_count": 0,
          "min": "41.0",
          "max": "70.0",
          "histogram": [
           {
            "bin_start": 41,
            "bin_end": 43.9,
            "count": 1
           },
           {
            "bin_start": 43.9,
            "bin_end": 46.8,
            "count": 0
           },
           {
            "bin_start": 46.8,
            "bin_end": 49.7,
            "count": 0
           },
           {
            "bin_start": 49.7,
            "bin_end": 52.6,
            "count": 1
           },
           {
            "bin_start": 52.6,
            "bin_end": 55.5,
            "count": 1
           },
           {
            "bin_start": 55.5,
            "bin_end": 58.4,
            "count": 2
           },
           {
            "bin_start": 58.4,
            "bin_end": 61.3,
            "count": 2
           },
           {
            "bin_start": 61.3,
            "bin_end": 64.2,
            "count": 0
           },
           {
            "bin_start": 64.2,
            "bin_end": 67.1,
            "count": 1
           },
           {
            "bin_start": 67.1,
            "bin_end": 70,
            "count": 2
           }
          ]
         }
        },
        {
         "name": "SprintSpeed",
         "dtype": "float64",
         "stats": {
          "unique_count": 10,
          "nan_count": 0,
          "min": "39.0",
          "max": "69.0",
          "histogram": [
           {
            "bin_start": 39,
            "bin_end": 42,
            "count": 1
           },
           {
            "bin_start": 42,
            "bin_end": 45,
            "count": 0
           },
           {
            "bin_start": 45,
            "bin_end": 48,
            "count": 0
           },
           {
            "bin_start": 48,
            "bin_end": 51,
            "count": 1
           },
           {
            "bin_start": 51,
            "bin_end": 54,
            "count": 1
           },
           {
            "bin_start": 54,
            "bin_end": 57,
            "count": 1
           },
           {
            "bin_start": 57,
            "bin_end": 60,
            "count": 2
           },
           {
            "bin_start": 60,
            "bin_end": 63,
            "count": 2
           },
           {
            "bin_start": 63,
            "bin_end": 66,
            "count": 1
           },
           {
            "bin_start": 66,
            "bin_end": 69,
            "count": 1
           }
          ]
         }
        },
        {
         "name": "Agility",
         "dtype": "float64",
         "stats": {
          "unique_count": 9,
          "nan_count": 0,
          "min": "38.0",
          "max": "64.0",
          "histogram": [
           {
            "bin_start": 38,
            "bin_end": 40.6,
            "count": 2
           },
           {
            "bin_start": 40.6,
            "bin_end": 43.2,
            "count": 0
           },
           {
            "bin_start": 43.2,
            "bin_end": 45.8,
            "count": 0
           },
           {
            "bin_start": 45.8,
            "bin_end": 48.4,
            "count": 0
           },
           {
            "bin_start": 48.4,
            "bin_end": 51,
            "count": 1
           },
           {
            "bin_start": 51,
            "bin_end": 53.6,
            "count": 2
           },
           {
            "bin_start": 53.6,
            "bin_end": 56.2,
            "count": 1
           },
           {
            "bin_start": 56.2,
            "bin_end": 58.8,
            "count": 1
           },
           {
            "bin_start": 58.8,
            "bin_end": 61.400000000000006,
            "count": 2
           },
           {
            "bin_start": 61.400000000000006,
            "bin_end": 64,
            "count": 1
           }
          ]
         }
        },
        {
         "name": "Reactions",
         "dtype": "float64",
         "stats": {
          "unique_count": 10,
          "nan_count": 0,
          "min": "21.0",
          "max": "54.0",
          "histogram": [
           {
            "bin_start": 21,
            "bin_end": 24.3,
            "count": 1
           },
           {
            "bin_start": 24.3,
            "bin_end": 27.6,
            "count": 0
           },
           {
            "bin_start": 27.6,
            "bin_end": 30.9,
            "count": 0
           },
           {
            "bin_start": 30.9,
            "bin_end": 34.2,
            "count": 0
           },
           {
            "bin_start": 34.2,
            "bin_end": 37.5,
            "count": 0
           },
           {
            "bin_start": 37.5,
            "bin_end": 40.8,
            "count": 1
           },
           {
            "bin_start": 40.8,
            "bin_end": 44.099999999999994,
            "count": 2
           },
           {
            "bin_start": 44.099999999999994,
            "bin_end": 47.4,
            "count": 2
           },
           {
            "bin_start": 47.4,
            "bin_end": 50.7,
            "count": 2
           },
           {
            "bin_start": 50.7,
            "bin_end": 54,
            "count": 2
           }
          ]
         }
        },
        {
         "name": "Balance",
         "dtype": "float64",
         "stats": {
          "unique_count": 10,
          "nan_count": 0,
          "min": "48.0",
          "max": "80.0",
          "histogram": [
           {
            "bin_start": 48,
            "bin_end": 51.2,
            "count": 1
           },
           {
            "bin_start": 51.2,
            "bin_end": 54.4,
            "count": 1
           },
           {
            "bin_start": 54.4,
            "bin_end": 57.6,
            "count": 1
           },
           {
            "bin_start": 57.6,
            "bin_end": 60.8,
            "count": 1
           },
           {
            "bin_start": 60.8,
            "bin_end": 64,
            "count": 2
           },
           {
            "bin_start": 64,
            "bin_end": 67.2,
            "count": 0
           },
           {
            "bin_start": 67.2,
            "bin_end": 70.4,
            "count": 0
           },
           {
            "bin_start": 70.4,
            "bin_end": 73.6,
            "count": 1
           },
           {
            "bin_start": 73.6,
            "bin_end": 76.8,
            "count": 1
           },
           {
            "bin_start": 76.8,
            "bin_end": 80,
            "count": 2
           }
          ]
         }
        },
        {
         "name": "ShotPower",
         "dtype": "float64",
         "stats": {
          "unique_count": 9,
          "nan_count": 0,
          "min": "39.0",
          "max": "64.0",
          "histogram": [
           {
            "bin_start": 39,
            "bin_end": 41.5,
            "count": 2
           },
           {
            "bin_start": 41.5,
            "bin_end": 44,
            "count": 3
           },
           {
            "bin_start": 44,
            "bin_end": 46.5,
            "count": 2
           },
           {
            "bin_start": 46.5,
            "bin_end": 49,
            "count": 0
           },
           {
            "bin_start": 49,
            "bin_end": 51.5,
            "count": 2
           },
           {
            "bin_start": 51.5,
            "bin_end": 54,
            "count": 0
           },
           {
            "bin_start": 54,
            "bin_end": 56.5,
            "count": 0
           },
           {
            "bin_start": 56.5,
            "bin_end": 59,
            "count": 0
           },
           {
            "bin_start": 59,
            "bin_end": 61.5,
            "count": 0
           },
           {
            "bin_start": 61.5,
            "bin_end": 64,
            "count": 1
           }
          ]
         }
        },
        {
         "name": "Jumping",
         "dtype": "float64",
         "stats": {
          "unique_count": 9,
          "nan_count": 0,
          "min": "42.0",
          "max": "77.0",
          "histogram": [
           {
            "bin_start": 42,
            "bin_end": 45.5,
            "count": 1
           },
           {
            "bin_start": 45.5,
            "bin_end": 49,
            "count": 1
           },
           {
            "bin_start": 49,
            "bin_end": 52.5,
            "count": 0
           },
           {
            "bin_start": 52.5,
            "bin_end": 56,
            "count": 2
           },
           {
            "bin_start": 56,
            "bin_end": 59.5,
            "count": 1
           },
           {
            "bin_start": 59.5,
            "bin_end": 63,
            "count": 2
           },
           {
            "bin_start": 63,
            "bin_end": 66.5,
            "count": 1
           },
           {
            "bin_start": 66.5,
            "bin_end": 70,
            "count": 0
           },
           {
            "bin_start": 70,
            "bin_end": 73.5,
            "count": 0
           },
           {
            "bin_start": 73.5,
            "bin_end": 77,
            "count": 2
           }
          ]
         }
        },
        {
         "name": "Stamina",
         "dtype": "float64",
         "stats": {
          "unique_count": 9,
          "nan_count": 0,
          "min": "31.0",
          "max": "55.0",
          "histogram": [
           {
            "bin_start": 31,
            "bin_end": 33.4,
            "count": 1
           },
           {
            "bin_start": 33.4,
            "bin_end": 35.8,
            "count": 1
           },
           {
            "bin_start": 35.8,
            "bin_end": 38.2,
            "count": 0
           },
           {
            "bin_start": 38.2,
            "bin_end": 40.6,
            "count": 3
           },
           {
            "bin_start": 40.6,
            "bin_end": 43,
            "count": 1
           },
           {
            "bin_start": 43,
            "bin_end": 45.4,
            "count": 1
           },
           {
            "bin_start": 45.4,
            "bin_end": 47.8,
            "count": 1
           },
           {
            "bin_start": 47.8,
            "bin_end": 50.2,
            "count": 1
           },
           {
            "bin_start": 50.2,
            "bin_end": 52.599999999999994,
            "count": 0
           },
           {
            "bin_start": 52.599999999999994,
            "bin_end": 55,
            "count": 1
           }
          ]
         }
        },
        {
         "name": "Strength",
         "dtype": "float64",
         "stats": {
          "unique_count": 10,
          "nan_count": 0,
          "min": "31.0",
          "max": "67.0",
          "histogram": [
           {
            "bin_start": 31,
            "bin_end": 34.6,
            "count": 2
           },
           {
            "bin_start": 34.6,
            "bin_end": 38.2,
            "count": 1
           },
           {
            "bin_start": 38.2,
            "bin_end": 41.8,
            "count": 0
           },
           {
            "bin_start": 41.8,
            "bin_end": 45.4,
            "count": 1
           },
           {
            "bin_start": 45.4,
            "bin_end": 49,
            "count": 2
           },
           {
            "bin_start": 49,
            "bin_end": 52.6,
            "count": 2
           },
           {
            "bin_start": 52.6,
            "bin_end": 56.2,
            "count": 0
           },
           {
            "bin_start": 56.2,
            "bin_end": 59.8,
            "count": 0
           },
           {
            "bin_start": 59.8,
            "bin_end": 63.4,
            "count": 1
           },
           {
            "bin_start": 63.4,
            "bin_end": 67,
            "count": 1
           }
          ]
         }
        },
        {
         "name": "LongShots",
         "dtype": "float64",
         "stats": {
          "unique_count": 9,
          "nan_count": 0,
          "min": "16.0",
          "max": "51.0",
          "histogram": [
           {
            "bin_start": 16,
            "bin_end": 19.5,
            "count": 1
           },
           {
            "bin_start": 19.5,
            "bin_end": 23,
            "count": 0
           },
           {
            "bin_start": 23,
            "bin_end": 26.5,
            "count": 0
           },
           {
            "bin_start": 26.5,
            "bin_end": 30,
            "count": 0
           },
           {
            "bin_start": 30,
            "bin_end": 33.5,
            "count": 3
           },
           {
            "bin_start": 33.5,
            "bin_end": 37,
            "count": 1
           },
           {
            "bin_start": 37,
            "bin_end": 40.5,
            "count": 2
           },
           {
            "bin_start": 40.5,
            "bin_end": 44,
            "count": 1
           },
           {
            "bin_start": 44,
            "bin_end": 47.5,
            "count": 1
           },
           {
            "bin_start": 47.5,
            "bin_end": 51,
            "count": 1
           }
          ]
         }
        },
        {
         "name": "Aggression",
         "dtype": "float64",
         "stats": {
          "unique_count": 10,
          "nan_count": 0,
          "min": "26.0",
          "max": "56.0",
          "histogram": [
           {
            "bin_start": 26,
            "bin_end": 29,
            "count": 1
           },
           {
            "bin_start": 29,
            "bin_end": 32,
            "count": 0
           },
           {
            "bin_start": 32,
            "bin_end": 35,
            "count": 2
           },
           {
            "bin_start": 35,
            "bin_end": 38,
            "count": 1
           },
           {
            "bin_start": 38,
            "bin_end": 41,
            "count": 0
           },
           {
            "bin_start": 41,
            "bin_end": 44,
            "count": 0
           },
           {
            "bin_start": 44,
            "bin_end": 47,
            "count": 2
           },
           {
            "bin_start": 47,
            "bin_end": 50,
            "count": 1
           },
           {
            "bin_start": 50,
            "bin_end": 53,
            "count": 0
           },
           {
            "bin_start": 53,
            "bin_end": 56,
            "count": 3
           }
          ]
         }
        },
        {
         "name": "Interceptions",
         "dtype": "float64",
         "stats": {
          "unique_count": 9,
          "nan_count": 0,
          "min": "15.0",
          "max": "49.0",
          "histogram": [
           {
            "bin_start": 15,
            "bin_end": 18.4,
            "count": 3
           },
           {
            "bin_start": 18.4,
            "bin_end": 21.8,
            "count": 0
           },
           {
            "bin_start": 21.8,
            "bin_end": 25.2,
            "count": 1
           },
           {
            "bin_start": 25.2,
            "bin_end": 28.6,
            "count": 1
           },
           {
            "bin_start": 28.6,
            "bin_end": 32,
            "count": 0
           },
           {
            "bin_start": 32,
            "bin_end": 35.4,
            "count": 0
           },
           {
            "bin_start": 35.4,
            "bin_end": 38.8,
            "count": 0
           },
           {
            "bin_start": 38.8,
            "bin_end": 42.2,
            "count": 1
           },
           {
            "bin_start": 42.2,
            "bin_end": 45.599999999999994,
            "count": 2
           },
           {
            "bin_start": 45.599999999999994,
            "bin_end": 49,
            "count": 2
           }
          ]
         }
        },
        {
         "name": "Positioning",
         "dtype": "float64",
         "stats": {
          "unique_count": 8,
          "nan_count": 0,
          "min": "20.0",
          "max": "48.0",
          "histogram": [
           {
            "bin_start": 20,
            "bin_end": 22.8,
            "count": 1
           },
           {
            "bin_start": 22.8,
            "bin_end": 25.6,
            "count": 0
           },
           {
            "bin_start": 25.6,
            "bin_end": 28.4,
            "count": 1
           },
           {
            "bin_start": 28.4,
            "bin_end": 31.2,
            "count": 0
           },
           {
            "bin_start": 31.2,
            "bin_end": 34,
            "count": 0
           },
           {
            "bin_start": 34,
            "bin_end": 36.8,
            "count": 2
           },
           {
            "bin_start": 36.8,
            "bin_end": 39.599999999999994,
            "count": 2
           },
           {
            "bin_start": 39.599999999999994,
            "bin_end": 42.4,
            "count": 0
           },
           {
            "bin_start": 42.4,
            "bin_end": 45.2,
            "count": 1
           },
           {
            "bin_start": 45.2,
            "bin_end": 48,
            "count": 3
           }
          ]
         }
        },
        {
         "name": "Vision",
         "dtype": "float64",
         "stats": {
          "unique_count": 10,
          "nan_count": 0,
          "min": "31.0",
          "max": "52.0",
          "histogram": [
           {
            "bin_start": 31,
            "bin_end": 33.1,
            "count": 2
           },
           {
            "bin_start": 33.1,
            "bin_end": 35.2,
            "count": 0
           },
           {
            "bin_start": 35.2,
            "bin_end": 37.3,
            "count": 1
           },
           {
            "bin_start": 37.3,
            "bin_end": 39.4,
            "count": 0
           },
           {
            "bin_start": 39.4,
            "bin_end": 41.5,
            "count": 1
           },
           {
            "bin_start": 41.5,
            "bin_end": 43.6,
            "count": 1
           },
           {
            "bin_start": 43.6,
            "bin_end": 45.7,
            "count": 0
           },
           {
            "bin_start": 45.7,
            "bin_end": 47.8,
            "count": 1
           },
           {
            "bin_start": 47.8,
            "bin_end": 49.900000000000006,
            "count": 2
           },
           {
            "bin_start": 49.900000000000006,
            "bin_end": 52,
            "count": 2
           }
          ]
         }
        },
        {
         "name": "Penalties",
         "dtype": "float64",
         "stats": {
          "unique_count": 9,
          "nan_count": 0,
          "min": "33.0",
          "max": "58.0",
          "histogram": [
           {
            "bin_start": 33,
            "bin_end": 35.5,
            "count": 1
           },
           {
            "bin_start": 35.5,
            "bin_end": 38,
            "count": 1
           },
           {
            "bin_start": 38,
            "bin_end": 40.5,
            "count": 1
           },
           {
            "bin_start": 40.5,
            "bin_end": 43,
            "count": 0
           },
           {
            "bin_start": 43,
            "bin_end": 45.5,
            "count": 3
           },
           {
            "bin_start": 45.5,
            "bin_end": 48,
            "count": 0
           },
           {
            "bin_start": 48,
            "bin_end": 50.5,
            "count": 2
           },
           {
            "bin_start": 50.5,
            "bin_end": 53,
            "count": 0
           },
           {
            "bin_start": 53,
            "bin_end": 55.5,
            "count": 1
           },
           {
            "bin_start": 55.5,
            "bin_end": 58,
            "count": 1
           }
          ]
         }
        },
        {
         "name": "Composure",
         "dtype": "float64",
         "stats": {
          "unique_count": 9,
          "nan_count": 0,
          "min": "35.0",
          "max": "52.0",
          "histogram": [
           {
            "bin_start": 35,
            "bin_end": 36.7,
            "count": 1
           },
           {
            "bin_start": 36.7,
            "bin_end": 38.4,
            "count": 0
           },
           {
            "bin_start": 38.4,
            "bin_end": 40.1,
            "count": 1
           },
           {
            "bin_start": 40.1,
            "bin_end": 41.8,
            "count": 1
           },
           {
            "bin_start": 41.8,
            "bin_end": 43.5,
            "count": 3
           },
           {
            "bin_start": 43.5,
            "bin_end": 45.2,
            "count": 1
           },
           {
            "bin_start": 45.2,
            "bin_end": 46.9,
            "count": 1
           },
           {
            "bin_start": 46.9,
            "bin_end": 48.6,
            "count": 0
           },
           {
            "bin_start": 48.6,
            "bin_end": 50.3,
            "count": 1
           },
           {
            "bin_start": 50.3,
            "bin_end": 52,
            "count": 1
           }
          ]
         }
        },
        {
         "name": "Marking",
         "dtype": "float64",
         "stats": {
          "unique_count": 8,
          "nan_count": 0,
          "min": "15.0",
          "max": "48.0",
          "histogram": [
           {
            "bin_start": 15,
            "bin_end": 18.3,
            "count": 1
           },
           {
            "bin_start": 18.3,
            "bin_end": 21.6,
            "count": 1
           },
           {
            "bin_start": 21.6,
            "bin_end": 24.9,
            "count": 1
           },
           {
            "bin_start": 24.9,
            "bin_end": 28.2,
            "count": 0
           },
           {
            "bin_start": 28.2,
            "bin_end": 31.5,
            "count": 0
           },
           {
            "bin_start": 31.5,
            "bin_end": 34.8,
            "count": 1
           },
           {
            "bin_start": 34.8,
            "bin_end": 38.099999999999994,
            "count": 0
           },
           {
            "bin_start": 38.099999999999994,
            "bin_end": 41.4,
            "count": 4
           },
           {
            "bin_start": 41.4,
            "bin_end": 44.7,
            "count": 1
           },
           {
            "bin_start": 44.7,
            "bin_end": 48,
            "count": 1
           }
          ]
         }
        },
        {
         "name": "StandingTackle",
         "dtype": "float64",
         "stats": {
          "unique_count": 9,
          "nan_count": 0,
          "min": "13.0",
          "max": "49.0",
          "histogram": [
           {
            "bin_start": 13,
            "bin_end": 16.6,
            "count": 2
           },
           {
            "bin_start": 16.6,
            "bin_end": 20.2,
            "count": 1
           },
           {
            "bin_start": 20.2,
            "bin_end": 23.8,
            "count": 0
           },
           {
            "bin_start": 23.8,
            "bin_end": 27.4,
            "count": 1
           },
           {
            "bin_start": 27.4,
            "bin_end": 31,
            "count": 0
           },
           {
            "bin_start": 31,
            "bin_end": 34.6,
            "count": 0
           },
           {
            "bin_start": 34.6,
            "bin_end": 38.2,
            "count": 0
           },
           {
            "bin_start": 38.2,
            "bin_end": 41.8,
            "count": 0
           },
           {
            "bin_start": 41.8,
            "bin_end": 45.4,
            "count": 2
           },
           {
            "bin_start": 45.4,
            "bin_end": 49,
            "count": 4
           }
          ]
         }
        },
        {
         "name": "SlidingTackle",
         "dtype": "float64",
         "stats": {
          "unique_count": 10,
          "nan_count": 0,
          "min": "11.0",
          "max": "54.0",
          "histogram": [
           {
            "bin_start": 11,
            "bin_end": 15.3,
            "count": 2
           },
           {
            "bin_start": 15.3,
            "bin_end": 19.6,
            "count": 1
           },
           {
            "bin_start": 19.6,
            "bin_end": 23.9,
            "count": 0
           },
           {
            "bin_start": 23.9,
            "bin_end": 28.2,
            "count": 1
           },
           {
            "bin_start": 28.2,
            "bin_end": 32.5,
            "count": 0
           },
           {
            "bin_start": 32.5,
            "bin_end": 36.8,
            "count": 0
           },
           {
            "bin_start": 36.8,
            "bin_end": 41.099999999999994,
            "count": 1
           },
           {
            "bin_start": 41.099999999999994,
            "bin_end": 45.4,
            "count": 0
           },
           {
            "bin_start": 45.4,
            "bin_end": 49.699999999999996,
            "count": 2
           },
           {
            "bin_start": 49.699999999999996,
            "bin_end": 54,
            "count": 3
           }
          ]
         }
        },
        {
         "name": "_deepnote_index_column",
         "dtype": "int64"
        }
       ],
       "rows_top": [
        {
         "Overall": 47,
         "Position": "CM",
         "Crossing": 31,
         "Finishing": 28,
         "HeadingAccuracy": 40,
         "ShortPassing": 53,
         "Volleys": 31,
         "Dribbling": 46,
         "Curve": 39,
         "FKAccuracy": 37,
         "LongPassing": 48,
         "BallControl": 48,
         "Acceleration": 58,
         "SprintSpeed": 58,
         "Agility": 60,
         "Reactions": 48,
         "Balance": 79,
         "ShotPower": 42,
         "Jumping": 63,
         "Stamina": 35,
         "Strength": 51,
         "LongShots": 30,
         "Aggression": 55,
         "Interceptions": 44,
         "Positioning": 28,
         "Vision": 51,
         "Penalties": 44,
         "Composure": 35,
         "Marking": 41,
         "StandingTackle": 44,
         "SlidingTackle": 54,
         "_deepnote_index_column": 18196
        },
        {
         "Overall": 47,
         "Position": "CM",
         "Crossing": 44,
         "Finishing": 44,
         "HeadingAccuracy": 36,
         "ShortPassing": 53,
         "Volleys": 43,
         "Dribbling": 50,
         "Curve": 48,
         "FKAccuracy": 46,
         "LongPassing": 52,
         "BallControl": 51,
         "Acceleration": 68,
         "SprintSpeed": 62,
         "Agility": 58,
         "Reactions": 41,
         "Balance": 62,
         "ShotPower": 50,
         "Jumping": 55,
         "Stamina": 50,
         "Strength": 38,
         "LongShots": 37,
         "Aggression": 37,
         "Interceptions": 28,
         "Positioning": 39,
         "Vision": 48,
         "Penalties": 49,
         "Composure": 52,
         "Marking": 41,
         "StandingTackle": 47,
         "SlidingTackle": 38,
         "_deepnote_index_column": 18197
        },
        {
         "Overall": 47,
         "Position": "CM",
         "Crossing": 31,
         "Finishing": 31,
         "HeadingAccuracy": 41,
         "ShortPassing": 51,
         "Volleys": 26,
         "Dribbling": 46,
         "Curve": 35,
         "FKAccuracy": 31,
         "LongPassing": 55,
         "BallControl": 47,
         "Acceleration": 60,
         "SprintSpeed": 63,
         "Agility": 53,
         "Reactions": 46,
         "Balance": 55,
         "ShotPower": 49,
         "Jumping": 57,
         "Stamina": 42,
         "Strength": 43,
         "LongShots": 30,
         "Aggression": 53,
         "Interceptions": 49,
         "Positioning": 35,
         "Vision": 40,
         "Penalties": 36,
         "Composure": 40,
         "Marking": 48,
         "StandingTackle": 49,
         "SlidingTackle": 49,
         "_deepnote_index_column": 18199
        },
        {
         "Overall": 47,
         "Position": "ST",
         "Crossing": 28,
         "Finishing": 47,
         "HeadingAccuracy": 47,
         "ShortPassing": 42,
         "Volleys": 37,
         "Dribbling": 39,
         "Curve": 32,
         "FKAccuracy": 25,
         "LongPassing": 30,
         "BallControl": 41,
         "Acceleration": 65,
         "SprintSpeed": 48,
         "Agility": 64,
         "Reactions": 54,
         "Balance": 80,
         "ShotPower": 44,
         "Jumping": 77,
         "Stamina": 31,
         "Strength": 31,
         "LongShots": 51,
         "Aggression": 26,
         "Interceptions": 16,
         "Positioning": 46,
         "Vision": 37,
         "Penalties": 58,
         "Composure": 50,
         "Marking": 15,
         "StandingTackle": 17,
         "SlidingTackle": 14,
         "_deepnote_index_column": 18200
        },
        {
         "Overall": 47,
         "Position": "RB",
         "Crossing": 22,
         "Finishing": 23,
         "HeadingAccuracy": 45,
         "ShortPassing": 25,
         "Volleys": 27,
         "Dribbling": 21,
         "Curve": 21,
         "FKAccuracy": 27,
         "LongPassing": 27,
         "BallControl": 32,
         "Acceleration": 52,
         "SprintSpeed": 52,
         "Agility": 39,
         "Reactions": 43,
         "Balance": 48,
         "ShotPower": 39,
         "Jumping": 74,
         "Stamina": 39,
         "Strength": 52,
         "LongShots": 16,
         "Aggression": 44,
         "Interceptions": 45,
         "Positioning": 20,
         "Vision": 31,
         "Penalties": 38,
         "Composure": 43,
         "Marking": 44,
         "StandingTackle": 47,
         "SlidingTackle": 53,
         "_deepnote_index_column": 18201
        },
        {
         "Overall": 47,
         "Position": "CM",
         "Crossing": 34,
         "Finishing": 38,
         "HeadingAccuracy": 40,
         "ShortPassing": 49,
         "Volleys": 25,
         "Dribbling": 42,
         "Curve": 30,
         "FKAccuracy": 34,
         "LongPassing": 45,
         "BallControl": 43,
         "Acceleration": 54,
         "SprintSpeed": 57,
         "Agility": 60,
         "Reactions": 49,
         "Balance": 76,
         "ShotPower": 43,
         "Jumping": 55,
         "Stamina": 40,
         "Strength": 47,
         "LongShots": 38,
         "Aggression": 46,
         "Interceptions": 46,
         "Positioning": 39,
         "Vision": 52,
         "Penalties": 43,
         "Composure": 45,
         "Marking": 40,
         "StandingTackle": 48,
         "SlidingTackle": 47,
         "_deepnote_index_column": 18202
        },
        {
         "Overall": 47,
         "Position": "ST",
         "Crossing": 23,
         "Finishing": 52,
         "HeadingAccuracy": 52,
         "ShortPassing": 43,
         "Volleys": 36,
         "Dribbling": 39,
         "Curve": 32,
         "FKAccuracy": 20,
         "LongPassing": 25,
         "BallControl": 40,
         "Acceleration": 41,
         "SprintSpeed": 39,
         "Agility": 38,
         "Reactions": 40,
         "Balance": 52,
         "ShotPower": 41,
         "Jumping": 47,
         "Stamina": 43,
         "Strength": 67,
         "LongShots": 42,
         "Aggression": 47,
         "Interceptions": 16,
         "Positioning": 46,
         "Vision": 33,
         "Penalties": 43,
         "Composure": 42,
         "Marking": 22,
         "StandingTackle": 15,
         "SlidingTackle": 19,
         "_deepnote_index_column": 18203
        },
        {
         "Overall": 47,
         "Position": "ST",
         "Crossing": 25,
         "Finishing": 40,
         "HeadingAccuracy": 46,
         "ShortPassing": 38,
         "Volleys": 38,
         "Dribbling": 45,
         "Curve": 38,
         "FKAccuracy": 27,
         "LongPassing": 28,
         "BallControl": 44,
         "Acceleration": 70,
         "SprintSpeed": 69,
         "Agility": 50,
         "Reactions": 47,
         "Balance": 58,
         "ShotPower": 45,
         "Jumping": 60,
         "Stamina": 55,
         "Strength": 32,
         "LongShots": 45,
         "Aggression": 32,
         "Interceptions": 15,
         "Positioning": 48,
         "Vision": 43,
         "Penalties": 55,
         "Composure": 41,
         "Marking": 32,
         "StandingTackle": 13,
         "SlidingTackle": 11,
         "_deepnote_index_column": 18204
        },
        {
         "Overall": 47,
         "Position": "RW",
         "Crossing": 44,
         "Finishing": 50,
         "HeadingAccuracy": 39,
         "ShortPassing": 42,
         "Volleys": 40,
         "Dribbling": 51,
         "Curve": 34,
         "FKAccuracy": 32,
         "LongPassing": 32,
         "BallControl": 52,
         "Acceleration": 61,
         "SprintSpeed": 60,
         "Agility": 52,
         "Reactions": 21,
         "Balance": 71,
         "ShotPower": 64,
         "Jumping": 42,
         "Stamina": 40,
         "Strength": 48,
         "LongShots": 34,
         "Aggression": 33,
         "Interceptions": 22,
         "Positioning": 44,
         "Vision": 47,
         "Penalties": 50,
         "Composure": 46,
         "Marking": 20,
         "StandingTackle": 25,
         "SlidingTackle": 27,
         "_deepnote_index_column": 18205
        },
        {
         "Overall": 46,
         "Position": "CM",
         "Crossing": 41,
         "Finishing": 34,
         "HeadingAccuracy": 46,
         "ShortPassing": 48,
         "Volleys": 30,
         "Dribbling": 43,
         "Curve": 40,
         "FKAccuracy": 34,
         "LongPassing": 44,
         "BallControl": 51,
         "Acceleration": 57,
         "SprintSpeed": 55,
         "Agility": 55,
         "Reactions": 51,
         "Balance": 63,
         "ShotPower": 43,
         "Jumping": 62,
         "Stamina": 47,
         "Strength": 60,
         "LongShots": 32,
         "Aggression": 56,
         "Interceptions": 42,
         "Positioning": 34,
         "Vision": 49,
         "Penalties": 33,
         "Composure": 43,
         "Marking": 40,
         "StandingTackle": 43,
         "SlidingTackle": 50,
         "_deepnote_index_column": 18206
        }
       ],
       "rows_bottom": null
      },
      "text/plain": "       Overall Position  Crossing  Finishing  HeadingAccuracy  ShortPassing  \\\n18196       47       CM      31.0       28.0             40.0          53.0   \n18197       47       CM      44.0       44.0             36.0          53.0   \n18199       47       CM      31.0       31.0             41.0          51.0   \n18200       47       ST      28.0       47.0             47.0          42.0   \n18201       47       RB      22.0       23.0             45.0          25.0   \n18202       47       CM      34.0       38.0             40.0          49.0   \n18203       47       ST      23.0       52.0             52.0          43.0   \n18204       47       ST      25.0       40.0             46.0          38.0   \n18205       47       RW      44.0       50.0             39.0          42.0   \n18206       46       CM      41.0       34.0             46.0          48.0   \n\n       Volleys  Dribbling  Curve  FKAccuracy  ...  LongShots  Aggression  \\\n18196     31.0       46.0   39.0        37.0  ...       30.0        55.0   \n18197     43.0       50.0   48.0        46.0  ...       37.0        37.0   \n18199     26.0       46.0   35.0        31.0  ...       30.0        53.0   \n18200     37.0       39.0   32.0        25.0  ...       51.0        26.0   \n18201     27.0       21.0   21.0        27.0  ...       16.0        44.0   \n18202     25.0       42.0   30.0        34.0  ...       38.0        46.0   \n18203     36.0       39.0   32.0        20.0  ...       42.0        47.0   \n18204     38.0       45.0   38.0        27.0  ...       45.0        32.0   \n18205     40.0       51.0   34.0        32.0  ...       34.0        33.0   \n18206     30.0       43.0   40.0        34.0  ...       32.0        56.0   \n\n       Interceptions  Positioning  Vision  Penalties  Composure  Marking  \\\n18196           44.0         28.0    51.0       44.0       35.0     41.0   \n18197           28.0         39.0    48.0       49.0       52.0     41.0   \n18199           49.0         35.0    40.0       36.0       40.0     48.0   \n18200           16.0         46.0    37.0       58.0       50.0     15.0   \n18201           45.0         20.0    31.0       38.0       43.0     44.0   \n18202           46.0         39.0    52.0       43.0       45.0     40.0   \n18203           16.0         46.0    33.0       43.0       42.0     22.0   \n18204           15.0         48.0    43.0       55.0       41.0     32.0   \n18205           22.0         44.0    47.0       50.0       46.0     20.0   \n18206           42.0         34.0    49.0       33.0       43.0     40.0   \n\n       StandingTackle  SlidingTackle  \n18196            44.0           54.0  \n18197            47.0           38.0  \n18199            49.0           49.0  \n18200            17.0           14.0  \n18201            47.0           53.0  \n18202            48.0           47.0  \n18203            15.0           19.0  \n18204            13.0           11.0  \n18205            25.0           27.0  \n18206            43.0           50.0  \n\n[10 rows x 31 columns]",
      "text/html": "<div>\n<style scoped>\n    .dataframe tbody tr th:only-of-type {\n        vertical-align: middle;\n    }\n\n    .dataframe tbody tr th {\n        vertical-align: top;\n    }\n\n    .dataframe thead th {\n        text-align: right;\n    }\n</style>\n<table border=\"1\" class=\"dataframe\">\n  <thead>\n    <tr style=\"text-align: right;\">\n      <th></th>\n      <th>Overall</th>\n      <th>Position</th>\n      <th>Crossing</th>\n      <th>Finishing</th>\n      <th>HeadingAccuracy</th>\n      <th>ShortPassing</th>\n      <th>Volleys</th>\n      <th>Dribbling</th>\n      <th>Curve</th>\n      <th>FKAccuracy</th>\n      <th>...</th>\n      <th>LongShots</th>\n      <th>Aggression</th>\n      <th>Interceptions</th>\n      <th>Positioning</th>\n      <th>Vision</th>\n      <th>Penalties</th>\n      <th>Composure</th>\n      <th>Marking</th>\n      <th>StandingTackle</th>\n      <th>SlidingTackle</th>\n    </tr>\n  </thead>\n  <tbody>\n    <tr>\n      <th>18196</th>\n      <td>47</td>\n      <td>CM</td>\n      <td>31.0</td>\n      <td>28.0</td>\n      <td>40.0</td>\n      <td>53.0</td>\n      <td>31.0</td>\n      <td>46.0</td>\n      <td>39.0</td>\n      <td>37.0</td>\n      <td>...</td>\n      <td>30.0</td>\n      <td>55.0</td>\n      <td>44.0</td>\n      <td>28.0</td>\n      <td>51.0</td>\n      <td>44.0</td>\n      <td>35.0</td>\n      <td>41.0</td>\n      <td>44.0</td>\n      <td>54.0</td>\n    </tr>\n    <tr>\n      <th>18197</th>\n      <td>47</td>\n      <td>CM</td>\n      <td>44.0</td>\n      <td>44.0</td>\n      <td>36.0</td>\n      <td>53.0</td>\n      <td>43.0</td>\n      <td>50.0</td>\n      <td>48.0</td>\n      <td>46.0</td>\n      <td>...</td>\n      <td>37.0</td>\n      <td>37.0</td>\n      <td>28.0</td>\n      <td>39.0</td>\n      <td>48.0</td>\n      <td>49.0</td>\n      <td>52.0</td>\n      <td>41.0</td>\n      <td>47.0</td>\n      <td>38.0</td>\n    </tr>\n    <tr>\n      <th>18199</th>\n      <td>47</td>\n      <td>CM</td>\n      <td>31.0</td>\n      <td>31.0</td>\n      <td>41.0</td>\n      <td>51.0</td>\n      <td>26.0</td>\n      <td>46.0</td>\n      <td>35.0</td>\n      <td>31.0</td>\n      <td>...</td>\n      <td>30.0</td>\n      <td>53.0</td>\n      <td>49.0</td>\n      <td>35.0</td>\n      <td>40.0</td>\n      <td>36.0</td>\n      <td>40.0</td>\n      <td>48.0</td>\n      <td>49.0</td>\n      <td>49.0</td>\n    </tr>\n    <tr>\n      <th>18200</th>\n      <td>47</td>\n      <td>ST</td>\n      <td>28.0</td>\n      <td>47.0</td>\n      <td>47.0</td>\n      <td>42.0</td>\n      <td>37.0</td>\n      <td>39.0</td>\n      <td>32.0</td>\n      <td>25.0</td>\n      <td>...</td>\n      <td>51.0</td>\n      <td>26.0</td>\n      <td>16.0</td>\n      <td>46.0</td>\n      <td>37.0</td>\n      <td>58.0</td>\n      <td>50.0</td>\n      <td>15.0</td>\n      <td>17.0</td>\n      <td>14.0</td>\n    </tr>\n    <tr>\n      <th>18201</th>\n      <td>47</td>\n      <td>RB</td>\n      <td>22.0</td>\n      <td>23.0</td>\n      <td>45.0</td>\n      <td>25.0</td>\n      <td>27.0</td>\n      <td>21.0</td>\n      <td>21.0</td>\n      <td>27.0</td>\n      <td>...</td>\n      <td>16.0</td>\n      <td>44.0</td>\n      <td>45.0</td>\n      <td>20.0</td>\n      <td>31.0</td>\n      <td>38.0</td>\n      <td>43.0</td>\n      <td>44.0</td>\n      <td>47.0</td>\n      <td>53.0</td>\n    </tr>\n    <tr>\n      <th>18202</th>\n      <td>47</td>\n      <td>CM</td>\n      <td>34.0</td>\n      <td>38.0</td>\n      <td>40.0</td>\n      <td>49.0</td>\n      <td>25.0</td>\n      <td>42.0</td>\n      <td>30.0</td>\n      <td>34.0</td>\n      <td>...</td>\n      <td>38.0</td>\n      <td>46.0</td>\n      <td>46.0</td>\n      <td>39.0</td>\n      <td>52.0</td>\n      <td>43.0</td>\n      <td>45.0</td>\n      <td>40.0</td>\n      <td>48.0</td>\n      <td>47.0</td>\n    </tr>\n    <tr>\n      <th>18203</th>\n      <td>47</td>\n      <td>ST</td>\n      <td>23.0</td>\n      <td>52.0</td>\n      <td>52.0</td>\n      <td>43.0</td>\n      <td>36.0</td>\n      <td>39.0</td>\n      <td>32.0</td>\n      <td>20.0</td>\n      <td>...</td>\n      <td>42.0</td>\n      <td>47.0</td>\n      <td>16.0</td>\n      <td>46.0</td>\n      <td>33.0</td>\n      <td>43.0</td>\n      <td>42.0</td>\n      <td>22.0</td>\n      <td>15.0</td>\n      <td>19.0</td>\n    </tr>\n    <tr>\n      <th>18204</th>\n      <td>47</td>\n      <td>ST</td>\n      <td>25.0</td>\n      <td>40.0</td>\n      <td>46.0</td>\n      <td>38.0</td>\n      <td>38.0</td>\n      <td>45.0</td>\n      <td>38.0</td>\n      <td>27.0</td>\n      <td>...</td>\n      <td>45.0</td>\n      <td>32.0</td>\n      <td>15.0</td>\n      <td>48.0</td>\n      <td>43.0</td>\n      <td>55.0</td>\n      <td>41.0</td>\n      <td>32.0</td>\n      <td>13.0</td>\n      <td>11.0</td>\n    </tr>\n    <tr>\n      <th>18205</th>\n      <td>47</td>\n      <td>RW</td>\n      <td>44.0</td>\n      <td>50.0</td>\n      <td>39.0</td>\n      <td>42.0</td>\n      <td>40.0</td>\n      <td>51.0</td>\n      <td>34.0</td>\n      <td>32.0</td>\n      <td>...</td>\n      <td>34.0</td>\n      <td>33.0</td>\n      <td>22.0</td>\n      <td>44.0</td>\n      <td>47.0</td>\n      <td>50.0</td>\n      <td>46.0</td>\n      <td>20.0</td>\n      <td>25.0</td>\n      <td>27.0</td>\n    </tr>\n    <tr>\n      <th>18206</th>\n      <td>46</td>\n      <td>CM</td>\n      <td>41.0</td>\n      <td>34.0</td>\n      <td>46.0</td>\n      <td>48.0</td>\n      <td>30.0</td>\n      <td>43.0</td>\n      <td>40.0</td>\n      <td>34.0</td>\n      <td>...</td>\n      <td>32.0</td>\n      <td>56.0</td>\n      <td>42.0</td>\n      <td>34.0</td>\n      <td>49.0</td>\n      <td>33.0</td>\n      <td>43.0</td>\n      <td>40.0</td>\n      <td>43.0</td>\n      <td>50.0</td>\n    </tr>\n  </tbody>\n</table>\n<p>10 rows × 31 columns</p>\n</div>"
     },
     "metadata": {}
    }
   ],
   "execution_count": null
  },
  {
   "cell_type": "markdown",
   "source": "**Second Step:** find out whether or not there are missing values and remove the least influential attributes. ",
   "metadata": {
    "id": "3BRBLQSjIPlb",
    "cell_id": "00012-7e1915ae-37d2-4ffa-85d5-707926e206fc",
    "deepnote_cell_type": "markdown"
   }
  },
  {
   "cell_type": "code",
   "metadata": {
    "id": "zD6rSJ9XIPlb",
    "colab": {
     "base_uri": "https://localhost:8080/"
    },
    "executionInfo": {
     "status": "ok",
     "timestamp": 1632395386886,
     "user_tz": -120,
     "elapsed": 29,
     "user": {
      "displayName": "Daniel Manrique",
      "photoUrl": "https://lh3.googleusercontent.com/a-/AOh14GitdHbMelm6f6tHV3gogFTulR815SvuoEcosIv2kg=s64",
      "userId": "14181066300969909559"
     }
    },
    "outputId": "b51e335f-6799-4628-8c51-e5d48d0fda69",
    "cell_id": "00013-6649a611-a69c-40b7-a163-fd762d13c21a",
    "deepnote_to_be_reexecuted": false,
    "source_hash": "d5a5598",
    "execution_start": 1636882609556,
    "execution_millis": 29,
    "deepnote_cell_type": "code"
   },
   "source": "{att : dataset[dataset[att].isnull()].shape[0] for att in dataset.columns}",
   "outputs": [
    {
     "output_type": "execute_result",
     "execution_count": 9,
     "data": {
      "text/plain": "{'Overall': 0,\n 'Position': 60,\n 'Crossing': 48,\n 'Finishing': 48,\n 'HeadingAccuracy': 48,\n 'ShortPassing': 48,\n 'Volleys': 48,\n 'Dribbling': 48,\n 'Curve': 48,\n 'FKAccuracy': 48,\n 'LongPassing': 48,\n 'BallControl': 48,\n 'Acceleration': 48,\n 'SprintSpeed': 48,\n 'Agility': 48,\n 'Reactions': 48,\n 'Balance': 48,\n 'ShotPower': 48,\n 'Jumping': 48,\n 'Stamina': 48,\n 'Strength': 48,\n 'LongShots': 48,\n 'Aggression': 48,\n 'Interceptions': 48,\n 'Positioning': 48,\n 'Vision': 48,\n 'Penalties': 48,\n 'Composure': 48,\n 'Marking': 48,\n 'StandingTackle': 48,\n 'SlidingTackle': 48}"
     },
     "metadata": {}
    }
   ],
   "execution_count": null
  },
  {
   "cell_type": "markdown",
   "source": "Since we have enough data, we remove all rows with missing values in any attribute",
   "metadata": {
    "id": "Ncc0p8nWIPld",
    "cell_id": "00014-fac24786-0b89-47b5-bd5c-aae754948d39",
    "deepnote_cell_type": "markdown"
   }
  },
  {
   "cell_type": "code",
   "metadata": {
    "id": "cCN9db1D2Occ",
    "colab": {
     "base_uri": "https://localhost:8080/"
    },
    "executionInfo": {
     "status": "ok",
     "timestamp": 1632395387315,
     "user_tz": -120,
     "elapsed": 438,
     "user": {
      "displayName": "Daniel Manrique",
      "photoUrl": "https://lh3.googleusercontent.com/a-/AOh14GitdHbMelm6f6tHV3gogFTulR815SvuoEcosIv2kg=s64",
      "userId": "14181066300969909559"
     }
    },
    "outputId": "537e15cc-0045-4053-af54-fcafc4321f4f",
    "cell_id": "00015-d7a289eb-d802-4e5c-b08a-d5b749c6c06c",
    "deepnote_to_be_reexecuted": false,
    "source_hash": "c6c4eb75",
    "execution_start": 1636882618801,
    "execution_millis": 50,
    "deepnote_cell_type": "code"
   },
   "source": "dataset.dropna (inplace=True)\n{att : dataset[dataset[att].isnull()].shape[0] for att in dataset.columns}",
   "outputs": [
    {
     "output_type": "execute_result",
     "execution_count": 10,
     "data": {
      "text/plain": "{'Overall': 0,\n 'Position': 0,\n 'Crossing': 0,\n 'Finishing': 0,\n 'HeadingAccuracy': 0,\n 'ShortPassing': 0,\n 'Volleys': 0,\n 'Dribbling': 0,\n 'Curve': 0,\n 'FKAccuracy': 0,\n 'LongPassing': 0,\n 'BallControl': 0,\n 'Acceleration': 0,\n 'SprintSpeed': 0,\n 'Agility': 0,\n 'Reactions': 0,\n 'Balance': 0,\n 'ShotPower': 0,\n 'Jumping': 0,\n 'Stamina': 0,\n 'Strength': 0,\n 'LongShots': 0,\n 'Aggression': 0,\n 'Interceptions': 0,\n 'Positioning': 0,\n 'Vision': 0,\n 'Penalties': 0,\n 'Composure': 0,\n 'Marking': 0,\n 'StandingTackle': 0,\n 'SlidingTackle': 0}"
     },
     "metadata": {}
    }
   ],
   "execution_count": null
  },
  {
   "cell_type": "code",
   "metadata": {
    "id": "UAB1CCVo2-eJ",
    "colab": {
     "base_uri": "https://localhost:8080/"
    },
    "executionInfo": {
     "status": "ok",
     "timestamp": 1632395387316,
     "user_tz": -120,
     "elapsed": 44,
     "user": {
      "displayName": "Daniel Manrique",
      "photoUrl": "https://lh3.googleusercontent.com/a-/AOh14GitdHbMelm6f6tHV3gogFTulR815SvuoEcosIv2kg=s64",
      "userId": "14181066300969909559"
     }
    },
    "outputId": "a6351084-6653-4307-a5cb-6b1759345443",
    "cell_id": "00016-f9681059-f5a7-4521-b6c2-7f16914bd764",
    "deepnote_to_be_reexecuted": false,
    "source_hash": "60577c1c",
    "execution_start": 1636882631117,
    "execution_millis": 11,
    "deepnote_cell_type": "code"
   },
   "source": "dataset.shape",
   "outputs": [
    {
     "output_type": "execute_result",
     "execution_count": 11,
     "data": {
      "text/plain": "(16122, 31)"
     },
     "metadata": {}
    }
   ],
   "execution_count": null
  },
  {
   "cell_type": "markdown",
   "source": "The **correlation matrix** permits to visualize dependencies between pairs of attributes: values close to -1 or +1 indicate a high correlation. A negative correlation value means than when the value of an attribute gets high, the value of the other attribute decreases, and vice-versa. Positive correlation values point out that both features increase or decrease simultaneously. ",
   "metadata": {
    "id": "CK0YZV4X4xMN",
    "cell_id": "00017-81b60182-3d8f-455b-a78a-9c5c60cafda4",
    "deepnote_cell_type": "markdown"
   }
  },
  {
   "cell_type": "code",
   "metadata": {
    "id": "jMH2GEL73SY3",
    "colab": {
     "base_uri": "https://localhost:8080/",
     "height": 1000
    },
    "executionInfo": {
     "status": "ok",
     "timestamp": 1632395387316,
     "user_tz": -120,
     "elapsed": 30,
     "user": {
      "displayName": "Daniel Manrique",
      "photoUrl": "https://lh3.googleusercontent.com/a-/AOh14GitdHbMelm6f6tHV3gogFTulR815SvuoEcosIv2kg=s64",
      "userId": "14181066300969909559"
     }
    },
    "outputId": "e0a59df3-f710-4e29-cb78-c10bbe90dfa2",
    "cell_id": "00018-4dceca35-41eb-41c4-a021-7ca72ae4a731",
    "deepnote_to_be_reexecuted": false,
    "source_hash": "1cf5e53b",
    "execution_start": 1636882636316,
    "execution_millis": 247,
    "deepnote_cell_type": "code"
   },
   "source": "dataset.corr()",
   "outputs": [
    {
     "output_type": "execute_result",
     "execution_count": 12,
     "data": {
      "application/vnd.deepnote.dataframe.v2+json": {
       "row_count": 30,
       "column_count": 30,
       "columns": [
        {
         "name": "Overall",
         "dtype": "float64",
         "stats": {
          "unique_count": 30,
          "nan_count": 0,
          "min": "0.059424546344840075",
          "max": "1.0",
          "histogram": [
           {
            "bin_start": 0.059424546344840075,
            "bin_end": 0.15348209171035607,
            "count": 2
           },
           {
            "bin_start": 0.15348209171035607,
            "bin_end": 0.24753963707587207,
            "count": 4
           },
           {
            "bin_start": 0.24753963707587207,
            "bin_end": 0.34159718244138804,
            "count": 4
           },
           {
            "bin_start": 0.34159718244138804,
            "bin_end": 0.43565472780690406,
            "count": 2
           },
           {
            "bin_start": 0.43565472780690406,
            "bin_end": 0.5297122731724201,
            "count": 11
           },
           {
            "bin_start": 0.5297122731724201,
            "bin_end": 0.623769818537936,
            "count": 2
           },
           {
            "bin_start": 0.623769818537936,
            "bin_end": 0.717827363903452,
            "count": 0
           },
           {
            "bin_start": 0.717827363903452,
            "bin_end": 0.8118849092689681,
            "count": 3
           },
           {
            "bin_start": 0.8118849092689681,
            "bin_end": 0.9059424546344841,
            "count": 1
           },
           {
            "bin_start": 0.9059424546344841,
            "bin_end": 1,
            "count": 1
           }
          ]
         }
        },
        {
         "name": "Crossing",
         "dtype": "float64",
         "stats": {
          "unique_count": 30,
          "nan_count": 0,
          "min": "-0.17725493310285972",
          "max": "1.0",
          "histogram": [
           {
            "bin_start": -0.17725493310285972,
            "bin_end": -0.05952943979257376,
            "count": 2
           },
           {
            "bin_start": -0.05952943979257376,
            "bin_end": 0.058196053517712204,
            "count": 1
           },
           {
            "bin_start": 0.058196053517712204,
            "bin_end": 0.17592154682799815,
            "count": 5
           },
           {
            "bin_start": 0.17592154682799815,
            "bin_end": 0.29364704013828413,
            "count": 0
           },
           {
            "bin_start": 0.29364704013828413,
            "bin_end": 0.4113725334485701,
            "count": 3
           },
           {
            "bin_start": 0.4113725334485701,
            "bin_end": 0.5290980267588561,
            "count": 8
           },
           {
            "bin_start": 0.5290980267588561,
            "bin_end": 0.6468235200691421,
            "count": 7
           },
           {
            "bin_start": 0.6468235200691421,
            "bin_end": 0.7645490133794279,
            "count": 3
           },
           {
            "bin_start": 0.7645490133794279,
            "bin_end": 0.882274506689714,
            "count": 0
           },
           {
            "bin_start": 0.882274506689714,
            "bin_end": 1,
            "count": 1
           }
          ]
         }
        },
        {
         "name": "Finishing",
         "dtype": "float64",
         "stats": {
          "unique_count": 30,
          "nan_count": 0,
          "min": "-0.5858412866136773",
          "max": "1.0",
          "histogram": [
           {
            "bin_start": -0.5858412866136773,
            "bin_end": -0.42725715795230956,
            "count": 4
           },
           {
            "bin_start": -0.42725715795230956,
            "bin_end": -0.26867302929094183,
            "count": 0
           },
           {
            "bin_start": -0.26867302929094183,
            "bin_end": -0.1100889006295741,
            "count": 2
           },
           {
            "bin_start": -0.1100889006295741,
            "bin_end": 0.048495228031793625,
            "count": 2
           },
           {
            "bin_start": 0.048495228031793625,
            "bin_end": 0.20707935669316135,
            "count": 1
           },
           {
            "bin_start": 0.20707935669316135,
            "bin_end": 0.3656634853545291,
            "count": 4
           },
           {
            "bin_start": 0.3656634853545291,
            "bin_end": 0.5242476140158969,
            "count": 6
           },
           {
            "bin_start": 0.5242476140158969,
            "bin_end": 0.6828317426772645,
            "count": 4
           },
           {
            "bin_start": 0.6828317426772645,
            "bin_end": 0.8414158713386322,
            "count": 6
           },
           {
            "bin_start": 0.8414158713386322,
            "bin_end": 1,
            "count": 1
           }
          ]
         }
        },
        {
         "name": "HeadingAccuracy",
         "dtype": "float64",
         "stats": {
          "unique_count": 30,
          "nan_count": 0,
          "min": "-0.4678261932737129",
          "max": "1.0",
          "histogram": [
           {
            "bin_start": -0.4678261932737129,
            "bin_end": -0.3210435739463416,
            "count": 3
           },
           {
            "bin_start": -0.3210435739463416,
            "bin_end": -0.1742609546189703,
            "count": 1
           },
           {
            "bin_start": -0.1742609546189703,
            "bin_end": -0.027478335291598988,
            "count": 5
           },
           {
            "bin_start": -0.027478335291598988,
            "bin_end": 0.11930428403577231,
            "count": 7
           },
           {
            "bin_start": 0.11930428403577231,
            "bin_end": 0.26608690336314367,
            "count": 5
           },
           {
            "bin_start": 0.26608690336314367,
            "bin_end": 0.4128695226905149,
            "count": 5
           },
           {
            "bin_start": 0.4128695226905149,
            "bin_end": 0.5596521420178862,
            "count": 2
           },
           {
            "bin_start": 0.5596521420178862,
            "bin_end": 0.7064347613452575,
            "count": 1
           },
           {
            "bin_start": 0.7064347613452575,
            "bin_end": 0.8532173806726289,
            "count": 0
           },
           {
            "bin_start": 0.8532173806726289,
            "bin_end": 1,
            "count": 1
           }
          ]
         }
        },
        {
         "name": "ShortPassing",
         "dtype": "float64",
         "stats": {
          "unique_count": 30,
          "nan_count": 0,
          "min": "0.02675751867874004",
          "max": "1.0",
          "histogram": [
           {
            "bin_start": 0.02675751867874004,
            "bin_end": 0.12408176681086605,
            "count": 2
           },
           {
            "bin_start": 0.12408176681086605,
            "bin_end": 0.22140601494299206,
            "count": 4
           },
           {
            "bin_start": 0.22140601494299206,
            "bin_end": 0.31873026307511804,
            "count": 5
           },
           {
            "bin_start": 0.31873026307511804,
            "bin_end": 0.41605451120724407,
            "count": 4
           },
           {
            "bin_start": 0.41605451120724407,
            "bin_end": 0.51337875933937,
            "count": 2
           },
           {
            "bin_start": 0.51337875933937,
            "bin_end": 0.610703007471496,
            "count": 3
           },
           {
            "bin_start": 0.610703007471496,
            "bin_end": 0.708027255603622,
            "count": 5
           },
           {
            "bin_start": 0.708027255603622,
            "bin_end": 0.805351503735748,
            "count": 3
           },
           {
            "bin_start": 0.805351503735748,
            "bin_end": 0.9026757518678741,
            "count": 1
           },
           {
            "bin_start": 0.9026757518678741,
            "bin_end": 1,
            "count": 1
           }
          ]
         }
        },
        {
         "name": "Volleys",
         "dtype": "float64",
         "stats": {
          "unique_count": 30,
          "nan_count": 0,
          "min": "-0.43005592258986514",
          "max": "1.0",
          "histogram": [
           {
            "bin_start": -0.43005592258986514,
            "bin_end": -0.2870503303308786,
            "count": 4
           },
           {
            "bin_start": -0.2870503303308786,
            "bin_end": -0.1440447380718921,
            "count": 0
           },
           {
            "bin_start": -0.1440447380718921,
            "bin_end": -0.0010391458129055953,
            "count": 3
           },
           {
            "bin_start": -0.0010391458129055953,
            "bin_end": 0.14196644644608092,
            "count": 1
           },
           {
            "bin_start": 0.14196644644608092,
            "bin_end": 0.2849720387050675,
            "count": 2
           },
           {
            "bin_start": 0.2849720387050675,
            "bin_end": 0.42797763096405395,
            "count": 3
           },
           {
            "bin_start": 0.42797763096405395,
            "bin_end": 0.5709832232230404,
            "count": 6
           },
           {
            "bin_start": 0.5709832232230404,
            "bin_end": 0.713988815482027,
            "count": 5
           },
           {
            "bin_start": 0.713988815482027,
            "bin_end": 0.8569944077410135,
            "count": 5
           },
           {
            "bin_start": 0.8569944077410135,
            "bin_end": 1,
            "count": 1
           }
          ]
         }
        },
        {
         "name": "Dribbling",
         "dtype": "float64",
         "stats": {
          "unique_count": 30,
          "nan_count": 0,
          "min": "-0.2580457089686168",
          "max": "1.0",
          "histogram": [
           {
            "bin_start": -0.2580457089686168,
            "bin_end": -0.1322411380717551,
            "count": 6
           },
           {
            "bin_start": -0.1322411380717551,
            "bin_end": -0.006436567174893437,
            "count": 2
           },
           {
            "bin_start": -0.006436567174893437,
            "bin_end": 0.11936800372196821,
            "count": 0
           },
           {
            "bin_start": 0.11936800372196821,
            "bin_end": 0.2451725746188299,
            "count": 0
           },
           {
            "bin_start": 0.2451725746188299,
            "bin_end": 0.3709771455156916,
            "count": 1
           },
           {
            "bin_start": 0.3709771455156916,
            "bin_end": 0.4967817164125532,
            "count": 3
           },
           {
            "bin_start": 0.4967817164125532,
            "bin_end": 0.6225862873094149,
            "count": 7
           },
           {
            "bin_start": 0.6225862873094149,
            "bin_end": 0.7483908582062766,
            "count": 7
           },
           {
            "bin_start": 0.7483908582062766,
            "bin_end": 0.8741954291031382,
            "count": 3
           },
           {
            "bin_start": 0.8741954291031382,
            "bin_end": 1,
            "count": 1
           }
          ]
         }
        },
        {
         "name": "Curve",
         "dtype": "float64",
         "stats": {
          "unique_count": 30,
          "nan_count": 0,
          "min": "-0.16430046684681252",
          "max": "1.0",
          "histogram": [
           {
            "bin_start": -0.16430046684681252,
            "bin_end": -0.04787042016213128,
            "count": 6
           },
           {
            "bin_start": -0.04787042016213128,
            "bin_end": 0.06855962652254996,
            "count": 2
           },
           {
            "bin_start": 0.06855962652254996,
            "bin_end": 0.18498967320723117,
            "count": 0
           },
           {
            "bin_start": 0.18498967320723117,
            "bin_end": 0.3014197198919124,
            "count": 1
           },
           {
            "bin_start": 0.3014197198919124,
            "bin_end": 0.4178497665765937,
            "count": 3
           },
           {
            "bin_start": 0.4178497665765937,
            "bin_end": 0.5342798132612748,
            "count": 2
           },
           {
            "bin_start": 0.5342798132612748,
            "bin_end": 0.6507098599459561,
            "count": 6
           },
           {
            "bin_start": 0.6507098599459561,
            "bin_end": 0.7671399066306374,
            "count": 8
           },
           {
            "bin_start": 0.7671399066306374,
            "bin_end": 0.8835699533153186,
            "count": 1
           },
           {
            "bin_start": 0.8835699533153186,
            "bin_end": 1,
            "count": 1
           }
          ]
         }
        },
        {
         "name": "FKAccuracy",
         "dtype": "float64",
         "stats": {
          "unique_count": 30,
          "nan_count": 0,
          "min": "-0.12632582198021663",
          "max": "1.0",
          "histogram": [
           {
            "bin_start": -0.12632582198021663,
            "bin_end": -0.013693239782194971,
            "count": 6
           },
           {
            "bin_start": -0.013693239782194971,
            "bin_end": 0.09893934241582669,
            "count": 2
           },
           {
            "bin_start": 0.09893934241582669,
            "bin_end": 0.21157192461384838,
            "count": 2
           },
           {
            "bin_start": 0.21157192461384838,
            "bin_end": 0.32420450681187,
            "count": 1
           },
           {
            "bin_start": 0.32420450681187,
            "bin_end": 0.43683708900989165,
            "count": 2
           },
           {
            "bin_start": 0.43683708900989165,
            "bin_end": 0.5494696712079135,
            "count": 4
           },
           {
            "bin_start": 0.5494696712079135,
            "bin_end": 0.6621022534059351,
            "count": 9
           },
           {
            "bin_start": 0.6621022534059351,
            "bin_end": 0.7747348356039567,
            "count": 2
           },
           {
            "bin_start": 0.7747348356039567,
            "bin_end": 0.8873674178019784,
            "count": 1
           },
           {
            "bin_start": 0.8873674178019784,
            "bin_end": 1,
            "count": 1
           }
          ]
         }
        },
        {
         "name": "LongPassing",
         "dtype": "float64",
         "stats": {
          "unique_count": 30,
          "nan_count": 0,
          "min": "0.002908084193004354",
          "max": "1.0",
          "histogram": [
           {
            "bin_start": 0.002908084193004354,
            "bin_end": 0.10261727577370391,
            "count": 5
           },
           {
            "bin_start": 0.10261727577370391,
            "bin_end": 0.20232646735440346,
            "count": 0
           },
           {
            "bin_start": 0.20232646735440346,
            "bin_end": 0.30203565893510304,
            "count": 4
           },
           {
            "bin_start": 0.30203565893510304,
            "bin_end": 0.4017448505158026,
            "count": 7
           },
           {
            "bin_start": 0.4017448505158026,
            "bin_end": 0.5014540420965021,
            "count": 4
           },
           {
            "bin_start": 0.5014540420965021,
            "bin_end": 0.6011632336772017,
            "count": 6
           },
           {
            "bin_start": 0.6011632336772017,
            "bin_end": 0.7008724252579013,
            "count": 2
           },
           {
            "bin_start": 0.7008724252579013,
            "bin_end": 0.8005816168386009,
            "count": 0
           },
           {
            "bin_start": 0.8005816168386009,
            "bin_end": 0.9002908084193004,
            "count": 1
           },
           {
            "bin_start": 0.9002908084193004,
            "bin_end": 1,
            "count": 1
           }
          ]
         }
        },
        {
         "name": "BallControl",
         "dtype": "float64",
         "stats": {
          "unique_count": 30,
          "nan_count": 0,
          "min": "-0.09575296125327443",
          "max": "1.0",
          "histogram": [
           {
            "bin_start": -0.09575296125327443,
            "bin_end": 0.013822334872053005,
            "count": 6
           },
           {
            "bin_start": 0.013822334872053005,
            "bin_end": 0.12339763099738044,
            "count": 1
           },
           {
            "bin_start": 0.12339763099738044,
            "bin_end": 0.23297292712270784,
            "count": 1
           },
           {
            "bin_start": 0.23297292712270784,
            "bin_end": 0.3425482232480353,
            "count": 2
           },
           {
            "bin_start": 0.3425482232480353,
            "bin_end": 0.45212351937336276,
            "count": 2
           },
           {
            "bin_start": 0.45212351937336276,
            "bin_end": 0.5616988154986902,
            "count": 2
           },
           {
            "bin_start": 0.5616988154986902,
            "bin_end": 0.6712741116240175,
            "count": 6
           },
           {
            "bin_start": 0.6712741116240175,
            "bin_end": 0.7808494077493451,
            "count": 7
           },
           {
            "bin_start": 0.7808494077493451,
            "bin_end": 0.8904247038746724,
            "count": 2
           },
           {
            "bin_start": 0.8904247038746724,
            "bin_end": 1,
            "count": 1
           }
          ]
         }
        },
        {
         "name": "Acceleration",
         "dtype": "float64",
         "stats": {
          "unique_count": 30,
          "nan_count": 0,
          "min": "-0.3832933952154274",
          "max": "1.0",
          "histogram": [
           {
            "bin_start": -0.3832933952154274,
            "bin_end": -0.24496405569388463,
            "count": 6
           },
           {
            "bin_start": -0.24496405569388463,
            "bin_end": -0.10663471617234188,
            "count": 1
           },
           {
            "bin_start": -0.10663471617234188,
            "bin_end": 0.03169462334920087,
            "count": 0
           },
           {
            "bin_start": 0.03169462334920087,
            "bin_end": 0.17002396287074362,
            "count": 5
           },
           {
            "bin_start": 0.17002396287074362,
            "bin_end": 0.3083533023922864,
            "count": 7
           },
           {
            "bin_start": 0.3083533023922864,
            "bin_end": 0.4466826419138291,
            "count": 5
           },
           {
            "bin_start": 0.4466826419138291,
            "bin_end": 0.5850119814353718,
            "count": 2
           },
           {
            "bin_start": 0.5850119814353718,
            "bin_end": 0.7233413209569146,
            "count": 1
           },
           {
            "bin_start": 0.7233413209569146,
            "bin_end": 0.8616706604784574,
            "count": 1
           },
           {
            "bin_start": 0.8616706604784574,
            "bin_end": 1,
            "count": 2
           }
          ]
         }
        },
        {
         "name": "SprintSpeed",
         "dtype": "float64",
         "stats": {
          "unique_count": 30,
          "nan_count": 0,
          "min": "-0.2766625610091078",
          "max": "1.0",
          "histogram": [
           {
            "bin_start": -0.2766625610091078,
            "bin_end": -0.148996304908197,
            "count": 7
           },
           {
            "bin_start": -0.148996304908197,
            "bin_end": -0.021330048807286228,
            "count": 0
           },
           {
            "bin_start": -0.021330048807286228,
            "bin_end": 0.10633620729362459,
            "count": 3
           },
           {
            "bin_start": 0.10633620729362459,
            "bin_end": 0.23400246339453534,
            "count": 6
           },
           {
            "bin_start": 0.23400246339453534,
            "bin_end": 0.3616687194954461,
            "count": 7
           },
           {
            "bin_start": 0.3616687194954461,
            "bin_end": 0.48933497559635697,
            "count": 3
           },
           {
            "bin_start": 0.48933497559635697,
            "bin_end": 0.6170012316972677,
            "count": 1
           },
           {
            "bin_start": 0.6170012316972677,
            "bin_end": 0.7446674877981785,
            "count": 1
           },
           {
            "bin_start": 0.7446674877981785,
            "bin_end": 0.8723337438990892,
            "count": 0
           },
           {
            "bin_start": 0.8723337438990892,
            "bin_end": 1,
            "count": 2
           }
          ]
         }
        },
        {
         "name": "Agility",
         "dtype": "float64",
         "stats": {
          "unique_count": 30,
          "nan_count": 0,
          "min": "-0.43289473716616145",
          "max": "1.0",
          "histogram": [
           {
            "bin_start": -0.43289473716616145,
            "bin_end": -0.2896052634495453,
            "count": 2
           },
           {
            "bin_start": -0.2896052634495453,
            "bin_end": -0.14631578973292914,
            "count": 5
           },
           {
            "bin_start": -0.14631578973292914,
            "bin_end": -0.00302631601631298,
            "count": 0
           },
           {
            "bin_start": -0.00302631601631298,
            "bin_end": 0.14026315770030318,
            "count": 1
           },
           {
            "bin_start": 0.14026315770030318,
            "bin_end": 0.28355263141691933,
            "count": 5
           },
           {
            "bin_start": 0.28355263141691933,
            "bin_end": 0.4268421051335355,
            "count": 4
           },
           {
            "bin_start": 0.4268421051335355,
            "bin_end": 0.5701315788501516,
            "count": 8
           },
           {
            "bin_start": 0.5701315788501516,
            "bin_end": 0.7134210525667678,
            "count": 3
           },
           {
            "bin_start": 0.7134210525667678,
            "bin_end": 0.856710526283384,
            "count": 1
           },
           {
            "bin_start": 0.856710526283384,
            "bin_end": 1,
            "count": 1
           }
          ]
         }
        },
        {
         "name": "Reactions",
         "dtype": "float64",
         "stats": {
          "unique_count": 30,
          "nan_count": 0,
          "min": "0.09524623823479966",
          "max": "1.0",
          "histogram": [
           {
            "bin_start": 0.09524623823479966,
            "bin_end": 0.1857216144113197,
            "count": 3
           },
           {
            "bin_start": 0.1857216144113197,
            "bin_end": 0.27619699058783975,
            "count": 5
           },
           {
            "bin_start": 0.27619699058783975,
            "bin_end": 0.3666723667643598,
            "count": 3
           },
           {
            "bin_start": 0.3666723667643598,
            "bin_end": 0.45714774294087984,
            "count": 7
           },
           {
            "bin_start": 0.45714774294087984,
            "bin_end": 0.5476231191173999,
            "count": 7
           },
           {
            "bin_start": 0.5476231191173999,
            "bin_end": 0.6380984952939199,
            "count": 0
           },
           {
            "bin_start": 0.6380984952939199,
            "bin_end": 0.72857387147044,
            "count": 2
           },
           {
            "bin_start": 0.72857387147044,
            "bin_end": 0.81904924764696,
            "count": 1
           },
           {
            "bin_start": 0.81904924764696,
            "bin_end": 0.90952462382348,
            "count": 1
           },
           {
            "bin_start": 0.90952462382348,
            "bin_end": 1,
            "count": 1
           }
          ]
         }
        },
        {
         "name": "Balance",
         "dtype": "float64",
         "stats": {
          "unique_count": 30,
          "nan_count": 0,
          "min": "-0.5981742095258491",
          "max": "1.0",
          "histogram": [
           {
            "bin_start": -0.5981742095258491,
            "bin_end": -0.4383567885732642,
            "count": 2
           },
           {
            "bin_start": -0.4383567885732642,
            "bin_end": -0.27853936762067927,
            "count": 0
           },
           {
            "bin_start": -0.27853936762067927,
            "bin_end": -0.11872194666809432,
            "count": 5
           },
           {
            "bin_start": -0.11872194666809432,
            "bin_end": 0.04109547428449056,
            "count": 0
           },
           {
            "bin_start": 0.04109547428449056,
            "bin_end": 0.20091289523707545,
            "count": 6
           },
           {
            "bin_start": 0.20091289523707545,
            "bin_end": 0.36073031618966045,
            "count": 7
           },
           {
            "bin_start": 0.36073031618966045,
            "bin_end": 0.5205477371422453,
            "count": 7
           },
           {
            "bin_start": 0.5205477371422453,
            "bin_end": 0.6803651580948302,
            "count": 1
           },
           {
            "bin_start": 0.6803651580948302,
            "bin_end": 0.8401825790474151,
            "count": 1
           },
           {
            "bin_start": 0.8401825790474151,
            "bin_end": 1,
            "count": 1
           }
          ]
         }
        },
        {
         "name": "ShotPower",
         "dtype": "float64",
         "stats": {
          "unique_count": 30,
          "nan_count": 0,
          "min": "-0.22303663048973374",
          "max": "1.0",
          "histogram": [
           {
            "bin_start": -0.22303663048973374,
            "bin_end": -0.10073296744076037,
            "count": 4
           },
           {
            "bin_start": -0.10073296744076037,
            "bin_end": 0.02157069560821301,
            "count": 0
           },
           {
            "bin_start": 0.02157069560821301,
            "bin_end": 0.14387435865718637,
            "count": 2
           },
           {
            "bin_start": 0.14387435865718637,
            "bin_end": 0.2661780217061598,
            "count": 6
           },
           {
            "bin_start": 0.2661780217061598,
            "bin_end": 0.3884816847551331,
            "count": 1
           },
           {
            "bin_start": 0.3884816847551331,
            "bin_end": 0.5107853478041064,
            "count": 3
           },
           {
            "bin_start": 0.5107853478041064,
            "bin_end": 0.6330890108530799,
            "count": 5
           },
           {
            "bin_start": 0.6330890108530799,
            "bin_end": 0.7553926739020532,
            "count": 7
           },
           {
            "bin_start": 0.7553926739020532,
            "bin_end": 0.8776963369510267,
            "count": 1
           },
           {
            "bin_start": 0.8776963369510267,
            "bin_end": 1,
            "count": 1
           }
          ]
         }
        },
        {
         "name": "Jumping",
         "dtype": "float64",
         "stats": {
          "unique_count": 30,
          "nan_count": 0,
          "min": "-0.06734071010729141",
          "max": "1.0",
          "histogram": [
           {
            "bin_start": -0.06734071010729141,
            "bin_end": 0.03939336090343773,
            "count": 13
           },
           {
            "bin_start": 0.03939336090343773,
            "bin_end": 0.14612743191416688,
            "count": 5
           },
           {
            "bin_start": 0.14612743191416688,
            "bin_end": 0.252861502924896,
            "count": 7
           },
           {
            "bin_start": 0.252861502924896,
            "bin_end": 0.35959557393562513,
            "count": 4
           },
           {
            "bin_start": 0.35959557393562513,
            "bin_end": 0.46632964494635426,
            "count": 0
           },
           {
            "bin_start": 0.46632964494635426,
            "bin_end": 0.5730637159570835,
            "count": 0
           },
           {
            "bin_start": 0.5730637159570835,
            "bin_end": 0.6797977869678126,
            "count": 0
           },
           {
            "bin_start": 0.6797977869678126,
            "bin_end": 0.7865318579785417,
            "count": 0
           },
           {
            "bin_start": 0.7865318579785417,
            "bin_end": 0.8932659289892709,
            "count": 0
           },
           {
            "bin_start": 0.8932659289892709,
            "bin_end": 1,
            "count": 1
           }
          ]
         }
        },
        {
         "name": "Stamina",
         "dtype": "float64",
         "stats": {
          "unique_count": 30,
          "nan_count": 0,
          "min": "0.08177352607880055",
          "max": "1.0",
          "histogram": [
           {
            "bin_start": 0.08177352607880055,
            "bin_end": 0.1735961734709205,
            "count": 5
           },
           {
            "bin_start": 0.1735961734709205,
            "bin_end": 0.26541882086304047,
            "count": 6
           },
           {
            "bin_start": 0.26541882086304047,
            "bin_end": 0.3572414682551604,
            "count": 13
           },
           {
            "bin_start": 0.3572414682551604,
            "bin_end": 0.4490641156472804,
            "count": 4
           },
           {
            "bin_start": 0.4490641156472804,
            "bin_end": 0.5408867630394003,
            "count": 1
           },
           {
            "bin_start": 0.5408867630394003,
            "bin_end": 0.6327094104315202,
            "count": 0
           },
           {
            "bin_start": 0.6327094104315202,
            "bin_end": 0.7245320578236402,
            "count": 0
           },
           {
            "bin_start": 0.7245320578236402,
            "bin_end": 0.8163547052157601,
            "count": 0
           },
           {
            "bin_start": 0.8163547052157601,
            "bin_end": 0.9081773526078801,
            "count": 0
           },
           {
            "bin_start": 0.9081773526078801,
            "bin_end": 1,
            "count": 1
           }
          ]
         }
        },
        {
         "name": "Strength",
         "dtype": "float64",
         "stats": {
          "unique_count": 30,
          "nan_count": 0,
          "min": "-0.5981742095258491",
          "max": "1.0",
          "histogram": [
           {
            "bin_start": -0.5981742095258491,
            "bin_end": -0.4383567885732642,
            "count": 1
           },
           {
            "bin_start": -0.4383567885732642,
            "bin_end": -0.27853936762067927,
            "count": 2
           },
           {
            "bin_start": -0.27853936762067927,
            "bin_end": -0.11872194666809432,
            "count": 8
           },
           {
            "bin_start": -0.11872194666809432,
            "bin_end": 0.04109547428449056,
            "count": 5
           },
           {
            "bin_start": 0.04109547428449056,
            "bin_end": 0.20091289523707545,
            "count": 2
           },
           {
            "bin_start": 0.20091289523707545,
            "bin_end": 0.36073031618966045,
            "count": 9
           },
           {
            "bin_start": 0.36073031618966045,
            "bin_end": 0.5205477371422453,
            "count": 1
           },
           {
            "bin_start": 0.5205477371422453,
            "bin_end": 0.6803651580948302,
            "count": 1
           },
           {
            "bin_start": 0.6803651580948302,
            "bin_end": 0.8401825790474151,
            "count": 0
           },
           {
            "bin_start": 0.8401825790474151,
            "bin_end": 1,
            "count": 1
           }
          ]
         }
        },
        {
         "name": "LongShots",
         "dtype": "float64",
         "stats": {
          "unique_count": 30,
          "nan_count": 0,
          "min": "-0.3081312661788104",
          "max": "1.0",
          "histogram": [
           {
            "bin_start": -0.3081312661788104,
            "bin_end": -0.17731813956092937,
            "count": 4
           },
           {
            "bin_start": -0.17731813956092937,
            "bin_end": -0.04650501294304832,
            "count": 1
           },
           {
            "bin_start": -0.04650501294304832,
            "bin_end": 0.08430811367483276,
            "count": 3
           },
           {
            "bin_start": 0.08430811367483276,
            "bin_end": 0.2151212402927138,
            "count": 0
           },
           {
            "bin_start": 0.2151212402927138,
            "bin_end": 0.3459343669105948,
            "count": 4
           },
           {
            "bin_start": 0.3459343669105948,
            "bin_end": 0.47674749352847595,
            "count": 2
           },
           {
            "bin_start": 0.47674749352847595,
            "bin_end": 0.607560620146357,
            "count": 5
           },
           {
            "bin_start": 0.607560620146357,
            "bin_end": 0.738373746764238,
            "count": 5
           },
           {
            "bin_start": 0.738373746764238,
            "bin_end": 0.8691868733821191,
            "count": 5
           },
           {
            "bin_start": 0.8691868733821191,
            "bin_end": 1,
            "count": 1
           }
          ]
         }
        },
        {
         "name": "Aggression",
         "dtype": "float64",
         "stats": {
          "unique_count": 30,
          "nan_count": 0,
          "min": "-0.2300400962347009",
          "max": "1.0",
          "histogram": [
           {
            "bin_start": -0.2300400962347009,
            "bin_end": -0.1070360866112308,
            "count": 5
           },
           {
            "bin_start": -0.1070360866112308,
            "bin_end": 0.015967923012239288,
            "count": 5
           },
           {
            "bin_start": 0.015967923012239288,
            "bin_end": 0.1389719326357094,
            "count": 5
           },
           {
            "bin_start": 0.1389719326357094,
            "bin_end": 0.2619759422591795,
            "count": 1
           },
           {
            "bin_start": 0.2619759422591795,
            "bin_end": 0.38497995188264955,
            "count": 4
           },
           {
            "bin_start": 0.38497995188264955,
            "bin_end": 0.5079839615061197,
            "count": 4
           },
           {
            "bin_start": 0.5079839615061197,
            "bin_end": 0.6309879711295897,
            "count": 3
           },
           {
            "bin_start": 0.6309879711295897,
            "bin_end": 0.7539919807530598,
            "count": 2
           },
           {
            "bin_start": 0.7539919807530598,
            "bin_end": 0.8769959903765299,
            "count": 0
           },
           {
            "bin_start": 0.8769959903765299,
            "bin_end": 1,
            "count": 1
           }
          ]
         }
        },
        {
         "name": "Interceptions",
         "dtype": "float64",
         "stats": {
          "unique_count": 30,
          "nan_count": 0,
          "min": "-0.4917334626021592",
          "max": "1.0",
          "histogram": [
           {
            "bin_start": -0.4917334626021592,
            "bin_end": -0.3425601163419433,
            "count": 1
           },
           {
            "bin_start": -0.3425601163419433,
            "bin_end": -0.1933867700817274,
            "count": 7
           },
           {
            "bin_start": -0.1933867700817274,
            "bin_end": -0.0442134238215115,
            "count": 4
           },
           {
            "bin_start": -0.0442134238215115,
            "bin_end": 0.10495992243870444,
            "count": 3
           },
           {
            "bin_start": 0.10495992243870444,
            "bin_end": 0.2541332686989204,
            "count": 3
           },
           {
            "bin_start": 0.2541332686989204,
            "bin_end": 0.4033066149591362,
            "count": 6
           },
           {
            "bin_start": 0.4033066149591362,
            "bin_end": 0.5524799612193523,
            "count": 1
           },
           {
            "bin_start": 0.5524799612193523,
            "bin_end": 0.7016533074795681,
            "count": 1
           },
           {
            "bin_start": 0.7016533074795681,
            "bin_end": 0.850826653739784,
            "count": 0
           },
           {
            "bin_start": 0.850826653739784,
            "bin_end": 1,
            "count": 4
           }
          ]
         }
        },
        {
         "name": "Positioning",
         "dtype": "float64",
         "stats": {
          "unique_count": 30,
          "nan_count": 0,
          "min": "-0.4094505143224189",
          "max": "1.0",
          "histogram": [
           {
            "bin_start": -0.4094505143224189,
            "bin_end": -0.268505462890177,
            "count": 4
           },
           {
            "bin_start": -0.268505462890177,
            "bin_end": -0.12756041145793512,
            "count": 1
           },
           {
            "bin_start": -0.12756041145793512,
            "bin_end": 0.013384639974306778,
            "count": 3
           },
           {
            "bin_start": 0.013384639974306778,
            "bin_end": 0.15432969140654867,
            "count": 0
           },
           {
            "bin_start": 0.15432969140654867,
            "bin_end": 0.29527474283879057,
            "count": 1
           },
           {
            "bin_start": 0.29527474283879057,
            "bin_end": 0.43621979427103247,
            "count": 3
           },
           {
            "bin_start": 0.43621979427103247,
            "bin_end": 0.5771648457032743,
            "count": 7
           },
           {
            "bin_start": 0.5771648457032743,
            "bin_end": 0.7181098971355162,
            "count": 4
           },
           {
            "bin_start": 0.7181098971355162,
            "bin_end": 0.8590549485677581,
            "count": 6
           },
           {
            "bin_start": 0.8590549485677581,
            "bin_end": 1,
            "count": 1
           }
          ]
         }
        },
        {
         "name": "Vision",
         "dtype": "float64",
         "stats": {
          "unique_count": 30,
          "nan_count": 0,
          "min": "-0.14212631664391284",
          "max": "1.0",
          "histogram": [
           {
            "bin_start": -0.14212631664391284,
            "bin_end": -0.027913684979521555,
            "count": 7
           },
           {
            "bin_start": -0.027913684979521555,
            "bin_end": 0.08629894668486973,
            "count": 1
           },
           {
            "bin_start": 0.08629894668486973,
            "bin_end": 0.20051157834926103,
            "count": 0
           },
           {
            "bin_start": 0.20051157834926103,
            "bin_end": 0.3147242100136523,
            "count": 3
           },
           {
            "bin_start": 0.3147242100136523,
            "bin_end": 0.4289368416780436,
            "count": 1
           },
           {
            "bin_start": 0.4289368416780436,
            "bin_end": 0.5431494733424349,
            "count": 3
           },
           {
            "bin_start": 0.5431494733424349,
            "bin_end": 0.6573621050068261,
            "count": 6
           },
           {
            "bin_start": 0.6573621050068261,
            "bin_end": 0.7715747366712175,
            "count": 7
           },
           {
            "bin_start": 0.7715747366712175,
            "bin_end": 0.8857873683356088,
            "count": 1
           },
           {
            "bin_start": 0.8857873683356088,
            "bin_end": 1,
            "count": 1
           }
          ]
         }
        },
        {
         "name": "Penalties",
         "dtype": "float64",
         "stats": {
          "unique_count": 30,
          "nan_count": 0,
          "min": "-0.42938091451257704",
          "max": "1.0",
          "histogram": [
           {
            "bin_start": -0.42938091451257704,
            "bin_end": -0.2864428230613193,
            "count": 4
           },
           {
            "bin_start": -0.2864428230613193,
            "bin_end": -0.1435047316100616,
            "count": 0
           },
           {
            "bin_start": -0.1435047316100616,
            "bin_end": -0.0005666401588038661,
            "count": 3
           },
           {
            "bin_start": -0.0005666401588038661,
            "bin_end": 0.14237145129245382,
            "count": 2
           },
           {
            "bin_start": 0.14237145129245382,
            "bin_end": 0.2853095427437115,
            "count": 4
           },
           {
            "bin_start": 0.2853095427437115,
            "bin_end": 0.4282476341949693,
            "count": 5
           },
           {
            "bin_start": 0.4282476341949693,
            "bin_end": 0.5711857256462269,
            "count": 4
           },
           {
            "bin_start": 0.5711857256462269,
            "bin_end": 0.7141238170974846,
            "count": 5
           },
           {
            "bin_start": 0.7141238170974846,
            "bin_end": 0.8570619085487423,
            "count": 2
           },
           {
            "bin_start": 0.8570619085487423,
            "bin_end": 1,
            "count": 1
           }
          ]
         }
        },
        {
         "name": "Composure",
         "dtype": "float64",
         "stats": {
          "unique_count": 30,
          "nan_count": 0,
          "min": "0.09025399106438027",
          "max": "1.0",
          "histogram": [
           {
            "bin_start": 0.09025399106438027,
            "bin_end": 0.18122859195794225,
            "count": 6
           },
           {
            "bin_start": 0.18122859195794225,
            "bin_end": 0.27220319285150424,
            "count": 4
           },
           {
            "bin_start": 0.27220319285150424,
            "bin_end": 0.3631777937450662,
            "count": 1
           },
           {
            "bin_start": 0.3631777937450662,
            "bin_end": 0.45415239463862817,
            "count": 4
           },
           {
            "bin_start": 0.45415239463862817,
            "bin_end": 0.5451269955321901,
            "count": 7
           },
           {
            "bin_start": 0.5451269955321901,
            "bin_end": 0.6361015964257521,
            "count": 3
           },
           {
            "bin_start": 0.6361015964257521,
            "bin_end": 0.727076197319314,
            "count": 2
           },
           {
            "bin_start": 0.727076197319314,
            "bin_end": 0.8180507982128761,
            "count": 2
           },
           {
            "bin_start": 0.8180507982128761,
            "bin_end": 0.9090253991064381,
            "count": 0
           },
           {
            "bin_start": 0.9090253991064381,
            "bin_end": 1,
            "count": 1
           }
          ]
         }
        },
        {
         "name": "Marking",
         "dtype": "float64",
         "stats": {
          "unique_count": 30,
          "nan_count": 0,
          "min": "-0.5030420166404205",
          "max": "1.0",
          "histogram": [
           {
            "bin_start": -0.5030420166404205,
            "bin_end": -0.35273781497637846,
            "count": 3
           },
           {
            "bin_start": -0.35273781497637846,
            "bin_end": -0.2024336133123364,
            "count": 6
           },
           {
            "bin_start": -0.2024336133123364,
            "bin_end": -0.05212941164829432,
            "count": 4
           },
           {
            "bin_start": -0.05212941164829432,
            "bin_end": 0.09817479001574769,
            "count": 3
           },
           {
            "bin_start": 0.09817479001574769,
            "bin_end": 0.2484789916797897,
            "count": 3
           },
           {
            "bin_start": 0.2484789916797897,
            "bin_end": 0.39878319334383183,
            "count": 6
           },
           {
            "bin_start": 0.39878319334383183,
            "bin_end": 0.5490873950078737,
            "count": 0
           },
           {
            "bin_start": 0.5490873950078737,
            "bin_end": 0.6993915966719159,
            "count": 1
           },
           {
            "bin_start": 0.6993915966719159,
            "bin_end": 0.849695798335958,
            "count": 0
           },
           {
            "bin_start": 0.849695798335958,
            "bin_end": 1,
            "count": 4
           }
          ]
         }
        },
        {
         "name": "StandingTackle",
         "dtype": "float64",
         "stats": {
          "unique_count": 30,
          "nan_count": 0,
          "min": "-0.5585647742741102",
          "max": "1.0",
          "histogram": [
           {
            "bin_start": -0.5585647742741102,
            "bin_end": -0.4027082968466992,
            "count": 2
           },
           {
            "bin_start": -0.4027082968466992,
            "bin_end": -0.2468518194192882,
            "count": 6
           },
           {
            "bin_start": -0.2468518194192882,
            "bin_end": -0.0909953419918772,
            "count": 5
           },
           {
            "bin_start": -0.0909953419918772,
            "bin_end": 0.06486113543553385,
            "count": 2
           },
           {
            "bin_start": 0.06486113543553385,
            "bin_end": 0.2207176128629449,
            "count": 3
           },
           {
            "bin_start": 0.2207176128629449,
            "bin_end": 0.3765740902903558,
            "count": 6
           },
           {
            "bin_start": 0.3765740902903558,
            "bin_end": 0.532430567717767,
            "count": 1
           },
           {
            "bin_start": 0.532430567717767,
            "bin_end": 0.6882870451451779,
            "count": 1
           },
           {
            "bin_start": 0.6882870451451779,
            "bin_end": 0.8441435225725888,
            "count": 0
           },
           {
            "bin_start": 0.8441435225725888,
            "bin_end": 1,
            "count": 4
           }
          ]
         }
        },
        {
         "name": "SlidingTackle",
         "dtype": "float64",
         "stats": {
          "unique_count": 30,
          "nan_count": 0,
          "min": "-0.5858412866136773",
          "max": "1.0",
          "histogram": [
           {
            "bin_start": -0.5858412866136773,
            "bin_end": -0.42725715795230956,
            "count": 3
           },
           {
            "bin_start": -0.42725715795230956,
            "bin_end": -0.26867302929094183,
            "count": 3
           },
           {
            "bin_start": -0.26867302929094183,
            "bin_end": -0.1100889006295741,
            "count": 7
           },
           {
            "bin_start": -0.1100889006295741,
            "bin_end": 0.048495228031793625,
            "count": 2
           },
           {
            "bin_start": 0.048495228031793625,
            "bin_end": 0.20707935669316135,
            "count": 4
           },
           {
            "bin_start": 0.20707935669316135,
            "bin_end": 0.3656634853545291,
            "count": 6
           },
           {
            "bin_start": 0.3656634853545291,
            "bin_end": 0.5242476140158969,
            "count": 0
           },
           {
            "bin_start": 0.5242476140158969,
            "bin_end": 0.6828317426772645,
            "count": 1
           },
           {
            "bin_start": 0.6828317426772645,
            "bin_end": 0.8414158713386322,
            "count": 0
           },
           {
            "bin_start": 0.8414158713386322,
            "bin_end": 1,
            "count": 4
           }
          ]
         }
        },
        {
         "name": "_deepnote_index_column",
         "dtype": "object"
        }
       ],
       "rows_top": [
        {
         "Overall": 1,
         "Crossing": 0.49660306460120585,
         "Finishing": 0.3730792343340532,
         "HeadingAccuracy": 0.4669081588714868,
         "ShortPassing": 0.7227198510428069,
         "Volleys": 0.4520903337162444,
         "Dribbling": 0.5163626016073016,
         "Curve": 0.5030539685022571,
         "FKAccuracy": 0.45587522306677974,
         "LongPassing": 0.5851044896206681,
         "BallControl": 0.7179330418007833,
         "Acceleration": 0.1508248375884262,
         "SprintSpeed": 0.17015465903840019,
         "Agility": 0.2443444180556348,
         "Reactions": 0.847739365005686,
         "Balance": 0.059424546344840075,
         "ShotPower": 0.5629603404456004,
         "Jumping": 0.2282711951559699,
         "Stamina": 0.46141665228875384,
         "Strength": 0.3410667986257833,
         "LongShots": 0.5021087455252944,
         "Aggression": 0.4529159866292944,
         "Interceptions": 0.3332749060955741,
         "Positioning": 0.4386918851312591,
         "Vision": 0.5243605924084997,
         "Penalties": 0.3911235627237332,
         "Composure": 0.8017494888055617,
         "Marking": 0.305697742766116,
         "StandingTackle": 0.26408185679928287,
         "SlidingTackle": 0.2243648338602615,
         "_deepnote_index_column": "Overall"
        },
        {
         "Overall": 0.49660306460120585,
         "Crossing": 1,
         "Finishing": 0.413404409688766,
         "HeadingAccuracy": -0.13495868819260173,
         "ShortPassing": 0.6323860389330853,
         "Volleys": 0.4724849099163663,
         "Dribbling": 0.7122607341994194,
         "Curve": 0.7147615360073171,
         "FKAccuracy": 0.6185795950060876,
         "LongPassing": 0.5927814174918378,
         "BallControl": 0.6827957370915145,
         "Acceleration": 0.43979879548613876,
         "SprintSpeed": 0.3934026810551071,
         "Agility": 0.5475898164664876,
         "Reactions": 0.46186098480777926,
         "Balance": 0.43575106109198875,
         "ShotPower": 0.4575305565355261,
         "Jumping": -0.027528919620845752,
         "Stamina": 0.35186165117362384,
         "Strength": -0.17725493310285972,
         "LongShots": 0.5484622703370722,
         "Aggression": 0.10553882435792232,
         "Interceptions": 0.12598470333714726,
         "Positioning": 0.5856236763892844,
         "Vision": 0.6439477299077139,
         "Penalties": 0.3716057014541741,
         "Composure": 0.4696655248450042,
         "Marking": 0.08697057196844829,
         "StandingTackle": 0.08542894921682516,
         "SlidingTackle": 0.07896333297261472,
         "_deepnote_index_column": "Crossing"
        },
        {
         "Overall": 0.3730792343340532,
         "Crossing": 0.413404409688766,
         "Finishing": 1,
         "HeadingAccuracy": 0.002099360451512331,
         "ShortPassing": 0.3988949761720737,
         "Volleys": 0.8146626233750959,
         "Dribbling": 0.7066350989492887,
         "Curve": 0.6141890744767395,
         "FKAccuracy": 0.5375084433045767,
         "LongPassing": 0.21896542635937255,
         "BallControl": 0.64584948924766,
         "Acceleration": 0.37363002457265915,
         "SprintSpeed": 0.34908720846776065,
         "Agility": 0.48079223584156605,
         "Reactions": 0.34914598185043116,
         "Balance": 0.31148739092613303,
         "ShotPower": 0.7034078417528635,
         "Jumping": -0.057518601366091666,
         "Stamina": 0.11941459173340449,
         "Strength": -0.12554956982671509,
         "LongShots": 0.8030358999777875,
         "Aggression": -0.20140690804607303,
         "Interceptions": -0.4917334626021592,
         "Positioning": 0.8189635276643215,
         "Vision": 0.6552828509088912,
         "Penalties": 0.7448351317210604,
         "Composure": 0.41217698220803656,
         "Marking": -0.5030420166404205,
         "StandingTackle": -0.5585647742741102,
         "SlidingTackle": -0.5858412866136773,
         "_deepnote_index_column": "Finishing"
        },
        {
         "Overall": 0.4669081588714868,
         "Crossing": -0.13495868819260173,
         "Finishing": 0.002099360451512331,
         "HeadingAccuracy": 1,
         "ShortPassing": 0.13190918121563108,
         "Volleys": 0.06235697884180169,
         "Dribbling": -0.13453507333242148,
         "Curve": -0.09165249861364415,
         "FKAccuracy": -0.07651704282226415,
         "LongPassing": 0.0572671838376656,
         "BallControl": 0.06989046806310091,
         "Acceleration": -0.33571221211625457,
         "SprintSpeed": -0.23873437137523035,
         "Agility": -0.3513976251671624,
         "Reactions": 0.4056711351633616,
         "Balance": -0.4678261932737129,
         "ShotPower": 0.18962772380723733,
         "Jumping": 0.3579512743219586,
         "Stamina": 0.16159358101674787,
         "Strength": 0.6416620022770344,
         "LongShots": 0.029783981756591072,
         "Aggression": 0.4586313855356533,
         "Interceptions": 0.2868800334395204,
         "Positioning": -0.02410504775205651,
         "Vision": -0.079290861484707,
         "Penalties": 0.10840490835824147,
         "Composure": 0.34476975771725027,
         "Marking": 0.27427959810875363,
         "StandingTackle": 0.2574201232821685,
         "SlidingTackle": 0.23493348149339152,
         "_deepnote_index_column": "HeadingAccuracy"
        },
        {
         "Overall": 0.7227198510428069,
         "Crossing": 0.6323860389330853,
         "Finishing": 0.3988949761720737,
         "HeadingAccuracy": 0.13190918121563108,
         "ShortPassing": 1,
         "Volleys": 0.4690961169165975,
         "Dribbling": 0.6389831159685456,
         "Curve": 0.6148103378969182,
         "FKAccuracy": 0.5844116102615844,
         "LongPassing": 0.842294031698954,
         "BallControl": 0.8003174189948178,
         "Acceleration": 0.1716641465842658,
         "SprintSpeed": 0.14061770485440314,
         "Agility": 0.36131436372146436,
         "Reactions": 0.658268638539258,
         "Balance": 0.2525516293943732,
         "ShotPower": 0.5567940504278998,
         "Jumping": 0.02675751867874004,
         "Stamina": 0.3750377249167832,
         "Strength": 0.041783700125314384,
         "LongShots": 0.5751260706749505,
         "Aggression": 0.3053313583241328,
         "Interceptions": 0.28705329463526,
         "Positioning": 0.5017915650541265,
         "Vision": 0.7245111267425439,
         "Penalties": 0.3845873200773066,
         "Composure": 0.6732433773965618,
         "Marking": 0.24469645377066207,
         "StandingTackle": 0.23508285378727978,
         "SlidingTackle": 0.20300871530488948,
         "_deepnote_index_column": "ShortPassing"
        },
        {
         "Overall": 0.4520903337162444,
         "Crossing": 0.4724849099163663,
         "Finishing": 0.8146626233750959,
         "HeadingAccuracy": 0.06235697884180169,
         "ShortPassing": 0.4690961169165975,
         "Volleys": 1,
         "Dribbling": 0.6744610134530498,
         "Curve": 0.6916237805579857,
         "FKAccuracy": 0.6180305910087572,
         "LongPassing": 0.3139508412818683,
         "BallControl": 0.6572464122886028,
         "Acceleration": 0.3116059986518496,
         "SprintSpeed": 0.28219769448820625,
         "Agility": 0.44763032924146257,
         "Reactions": 0.4337955436899559,
         "Balance": 0.2940441494999968,
         "ShotPower": 0.7320579007462853,
         "Jumping": -0.01998396732409562,
         "Stamina": 0.1463525912303514,
         "Strength": -0.0748279651488162,
         "LongShots": 0.7867795617499748,
         "Aggression": -0.06427507357511682,
         "Interceptions": -0.3345360852755497,
         "Positioning": 0.745740378567091,
         "Vision": 0.6590909330449282,
         "Penalties": 0.7300610528499628,
         "Composure": 0.5041116139240963,
         "Marking": -0.35715020567359174,
         "StandingTackle": -0.40222245188313044,
         "SlidingTackle": -0.43005592258986514,
         "_deepnote_index_column": "Volleys"
        },
        {
         "Overall": 0.5163626016073016,
         "Crossing": 0.7122607341994194,
         "Finishing": 0.7066350989492887,
         "HeadingAccuracy": -0.13453507333242148,
         "ShortPassing": 0.6389831159685456,
         "Volleys": 0.6744610134530498,
         "Dribbling": 1,
         "Curve": 0.7317263180630751,
         "FKAccuracy": 0.5994240255811942,
         "LongPassing": 0.49453306375203643,
         "BallControl": 0.8510008067365631,
         "Acceleration": 0.5529777503777245,
         "SprintSpeed": 0.5009517796093109,
         "Agility": 0.6625686097737203,
         "Reactions": 0.4759575025519734,
         "Balance": 0.4957341651372956,
         "ShotPower": 0.612244918643011,
         "Jumping": -0.059451379979537505,
         "Stamina": 0.2768418023163075,
         "Strength": -0.23779698920743855,
         "LongShots": 0.7241906418105948,
         "Aggression": -0.059600241155132926,
         "Interceptions": -0.19031597685314883,
         "Positioning": 0.7889390982710743,
         "Vision": 0.7588294396863406,
         "Penalties": 0.5657160032431225,
         "Composure": 0.5091425388545899,
         "Marking": -0.21448063329315523,
         "StandingTackle": -0.2447368198629382,
         "SlidingTackle": -0.2580457089686168,
         "_deepnote_index_column": "Dribbling"
        },
        {
         "Overall": 0.5030539685022571,
         "Crossing": 0.7147615360073171,
         "Finishing": 0.6141890744767395,
         "HeadingAccuracy": -0.09165249861364415,
         "ShortPassing": 0.6148103378969182,
         "Volleys": 0.6916237805579857,
         "Dribbling": 0.7317263180630751,
         "Curve": 1,
         "FKAccuracy": 0.7889275512710575,
         "LongPassing": 0.539850565407836,
         "BallControl": 0.7219561664625633,
         "Acceleration": 0.36791290998457404,
         "SprintSpeed": 0.3138340006422311,
         "Agility": 0.537080030623192,
         "Reactions": 0.4728688604545836,
         "Balance": 0.40630405588643986,
         "ShotPower": 0.6510750370525145,
         "Jumping": -0.04265703420560426,
         "Stamina": 0.2527751291570292,
         "Strength": -0.16430046684681252,
         "LongShots": 0.7307342488556272,
         "Aggression": 0.03540203989916679,
         "Interceptions": -0.06881954770544556,
         "Positioning": 0.6739745531815071,
         "Vision": 0.7274156235301289,
         "Penalties": 0.5935315441387039,
         "Composure": 0.5404713979562213,
         "Marking": -0.10824221599546928,
         "StandingTackle": -0.12824577096990877,
         "SlidingTackle": -0.14752343343324192,
         "_deepnote_index_column": "Curve"
        },
        {
         "Overall": 0.45587522306677974,
         "Crossing": 0.6185795950060876,
         "Finishing": 0.5375084433045767,
         "HeadingAccuracy": -0.07651704282226415,
         "ShortPassing": 0.5844116102615844,
         "Volleys": 0.6180305910087572,
         "Dribbling": 0.5994240255811942,
         "Curve": 0.7889275512710575,
         "FKAccuracy": 1,
         "LongPassing": 0.5544553586564194,
         "BallControl": 0.6254040594634219,
         "Acceleration": 0.2236598712830382,
         "SprintSpeed": 0.16687090804459098,
         "Agility": 0.4134730998166023,
         "Reactions": 0.4376396614377513,
         "Balance": 0.3285493606686594,
         "ShotPower": 0.6150192445613696,
         "Jumping": -0.06456837283030478,
         "Stamina": 0.21148854816883794,
         "Strength": -0.12632582198021663,
         "LongShots": 0.6957639494765354,
         "Aggression": 0.07513174537068307,
         "Interceptions": 0.0015745550157566326,
         "Positioning": 0.5620746154970485,
         "Vision": 0.6832141899192542,
         "Penalties": 0.5899462394459001,
         "Composure": 0.4988774247236177,
         "Marking": -0.048092137564651895,
         "StandingTackle": -0.05632844464115154,
         "SlidingTackle": -0.0812502871421864,
         "_deepnote_index_column": "FKAccuracy"
        },
        {
         "Overall": 0.5851044896206681,
         "Crossing": 0.5927814174918378,
         "Finishing": 0.21896542635937255,
         "HeadingAccuracy": 0.0572671838376656,
         "ShortPassing": 0.842294031698954,
         "Volleys": 0.3139508412818683,
         "Dribbling": 0.49453306375203643,
         "Curve": 0.539850565407836,
         "FKAccuracy": 0.5544553586564194,
         "LongPassing": 1,
         "BallControl": 0.6333539348108452,
         "Acceleration": 0.07518364391186087,
         "SprintSpeed": 0.04304895742926776,
         "Agility": 0.2727544590861028,
         "Reactions": 0.5341869130979453,
         "Balance": 0.21093848647141475,
         "ShotPower": 0.4430551137233682,
         "Jumping": 0.002908084193004354,
         "Stamina": 0.3449687070793276,
         "Strength": 0.03438688089804338,
         "LongShots": 0.4612473346031744,
         "Aggression": 0.3488008947616052,
         "Interceptions": 0.42559496510049777,
         "Positioning": 0.32566398839697097,
         "Vision": 0.651982877300471,
         "Penalties": 0.2381352435914609,
         "Composure": 0.5778081745600925,
         "Marking": 0.36996541958826423,
         "StandingTackle": 0.38463725067982496,
         "SlidingTackle": 0.3607266176048195,
         "_deepnote_index_column": "LongPassing"
        },
        {
         "Overall": 0.7179330418007833,
         "Crossing": 0.6827957370915145,
         "Finishing": 0.64584948924766,
         "HeadingAccuracy": 0.06989046806310091,
         "ShortPassing": 0.8003174189948178,
         "Volleys": 0.6572464122886028,
         "Dribbling": 0.8510008067365631,
         "Curve": 0.7219561664625633,
         "FKAccuracy": 0.6254040594634219,
         "LongPassing": 0.6333539348108452,
         "BallControl": 1,
         "Acceleration": 0.3714900730377647,
         "SprintSpeed": 0.3352134728165745,
         "Agility": 0.5375702678773623,
         "Reactions": 0.646956925184472,
         "Balance": 0.36255730654595797,
         "ShotPower": 0.6709722734024114,
         "Jumping": 0.0086045630347209,
         "Stamina": 0.3410488049739634,
         "Strength": -0.04865290929264507,
         "LongShots": 0.7235875031818989,
         "Aggression": 0.12342181854579418,
         "Interceptions": 0.0004936006298906,
         "Positioning": 0.7186407381111498,
         "Vision": 0.7755451059460162,
         "Penalties": 0.558718416916369,
         "Composure": 0.6803203141181176,
         "Marking": -0.032123819893355283,
         "StandingTackle": -0.06735845791699942,
         "SlidingTackle": -0.09575296125327443,
         "_deepnote_index_column": "BallControl"
        },
        {
         "Overall": 0.1508248375884262,
         "Crossing": 0.43979879548613876,
         "Finishing": 0.37363002457265915,
         "HeadingAccuracy": -0.33571221211625457,
         "ShortPassing": 0.1716641465842658,
         "Volleys": 0.3116059986518496,
         "Dribbling": 0.5529777503777245,
         "Curve": 0.36791290998457404,
         "FKAccuracy": 0.2236598712830382,
         "LongPassing": 0.07518364391186087,
         "BallControl": 0.3714900730377647,
         "Acceleration": 1,
         "SprintSpeed": 0.8755845935404298,
         "Agility": 0.7308188073047818,
         "Reactions": 0.10976065356077788,
         "Balance": 0.5919967315352642,
         "ShotPower": 0.20901489669488515,
         "Jumping": 0.05599742486302,
         "Stamina": 0.26960980984529553,
         "Strength": -0.3832933952154274,
         "LongShots": 0.30807669214735456,
         "Aggression": -0.2300400962347009,
         "Interceptions": -0.2782422464731429,
         "Positioning": 0.4486534559225279,
         "Vision": 0.3070298439078848,
         "Penalties": 0.2137530325324004,
         "Composure": 0.09025399106438027,
         "Marking": -0.27308925499398556,
         "StandingTackle": -0.2952430455717516,
         "SlidingTackle": -0.27639343210852546,
         "_deepnote_index_column": "Acceleration"
        },
        {
         "Overall": 0.17015465903840019,
         "Crossing": 0.3934026810551071,
         "Finishing": 0.34908720846776065,
         "HeadingAccuracy": -0.23873437137523035,
         "ShortPassing": 0.14061770485440314,
         "Volleys": 0.28219769448820625,
         "Dribbling": 0.5009517796093109,
         "Curve": 0.3138340006422311,
         "FKAccuracy": 0.16687090804459098,
         "LongPassing": 0.04304895742926776,
         "BallControl": 0.3352134728165745,
         "Acceleration": 0.8755845935404298,
         "SprintSpeed": 1,
         "Agility": 0.6505370715490324,
         "Reactions": 0.11315415049414541,
         "Balance": 0.47878919902471784,
         "ShotPower": 0.21207139612466147,
         "Jumping": 0.08231614475341112,
         "Stamina": 0.2888083794542346,
         "Strength": -0.26853423282549493,
         "LongShots": 0.2714132316406076,
         "Aggression": -0.18868306691456524,
         "Interceptions": -0.2642719187092367,
         "Positioning": 0.41113982650847225,
         "Vision": 0.2543162224824906,
         "Penalties": 0.187497109859363,
         "Composure": 0.09425497437974967,
         "Marking": -0.25158957047776287,
         "StandingTackle": -0.2766625610091078,
         "SlidingTackle": -0.2591004208998162,
         "_deepnote_index_column": "SprintSpeed"
        },
        {
         "Overall": 0.2443444180556348,
         "Crossing": 0.5475898164664876,
         "Finishing": 0.48079223584156605,
         "HeadingAccuracy": -0.3513976251671624,
         "ShortPassing": 0.36131436372146436,
         "Volleys": 0.44763032924146257,
         "Dribbling": 0.6625686097737203,
         "Curve": 0.537080030623192,
         "FKAccuracy": 0.4134730998166023,
         "LongPassing": 0.2727544590861028,
         "BallControl": 0.5375702678773623,
         "Acceleration": 0.7308188073047818,
         "SprintSpeed": 0.6505370715490324,
         "Agility": 1,
         "Reactions": 0.23606696166293872,
         "Balance": 0.7094542466374536,
         "ShotPower": 0.33275959890344436,
         "Jumping": 0.06992186423240723,
         "Stamina": 0.279674801522977,
         "Strength": -0.43289473716616145,
         "LongShots": 0.4698234596661429,
         "Aggression": -0.17057921532251466,
         "Interceptions": -0.22556114199270386,
         "Positioning": 0.5570511167916463,
         "Vision": 0.5152132477949173,
         "Penalties": 0.33519448645787553,
         "Composure": 0.2538095311621587,
         "Marking": -0.2419606158404625,
         "StandingTackle": -0.27283101207075855,
         "SlidingTackle": -0.2676485369023399,
         "_deepnote_index_column": "Agility"
        },
        {
         "Overall": 0.847739365005686,
         "Crossing": 0.46186098480777926,
         "Finishing": 0.34914598185043116,
         "HeadingAccuracy": 0.4056711351633616,
         "ShortPassing": 0.658268638539258,
         "Volleys": 0.4337955436899559,
         "Dribbling": 0.4759575025519734,
         "Curve": 0.4728688604545836,
         "FKAccuracy": 0.4376396614377513,
         "LongPassing": 0.5341869130979453,
         "BallControl": 0.646956925184472,
         "Acceleration": 0.10976065356077788,
         "SprintSpeed": 0.11315415049414541,
         "Agility": 0.23606696166293872,
         "Reactions": 1,
         "Balance": 0.09524623823479966,
         "ShotPower": 0.5051660154309906,
         "Jumping": 0.20829547587154326,
         "Stamina": 0.4340655343089052,
         "Strength": 0.2669281735220954,
         "LongShots": 0.48072740155977645,
         "Aggression": 0.44078528285030427,
         "Interceptions": 0.33756409237169466,
         "Positioning": 0.4556090509337982,
         "Vision": 0.5235477466037928,
         "Penalties": 0.37155033146567584,
         "Composure": 0.7395994964212975,
         "Marking": 0.2809838147760551,
         "StandingTackle": 0.24846986473538898,
         "SlidingTackle": 0.21307318452081128,
         "_deepnote_index_column": "Reactions"
        },
        {
         "Overall": 0.059424546344840075,
         "Crossing": 0.43575106109198875,
         "Finishing": 0.31148739092613303,
         "HeadingAccuracy": -0.4678261932737129,
         "ShortPassing": 0.2525516293943732,
         "Volleys": 0.2940441494999968,
         "Dribbling": 0.4957341651372956,
         "Curve": 0.40630405588643986,
         "FKAccuracy": 0.3285493606686594,
         "LongPassing": 0.21093848647141475,
         "BallControl": 0.36255730654595797,
         "Acceleration": 0.5919967315352642,
         "SprintSpeed": 0.47878919902471784,
         "Agility": 0.7094542466374536,
         "Reactions": 0.09524623823479966,
         "Balance": 1,
         "ShotPower": 0.17391260794649105,
         "Jumping": 0.04365201590822264,
         "Stamina": 0.14868367690314283,
         "Strength": -0.5981742095258491,
         "LongShots": 0.314049784523157,
         "Aggression": -0.21014346889820396,
         "Interceptions": -0.1769872765547514,
         "Positioning": 0.38713098145969455,
         "Vision": 0.38867633705460053,
         "Penalties": 0.22506541874190447,
         "Composure": 0.11242756937922992,
         "Marking": -0.18608717425988242,
         "StandingTackle": -0.20096647165094497,
         "SlidingTackle": -0.18240941348149237,
         "_deepnote_index_column": "Balance"
        },
        {
         "Overall": 0.5629603404456004,
         "Crossing": 0.4575305565355261,
         "Finishing": 0.7034078417528635,
         "HeadingAccuracy": 0.18962772380723733,
         "ShortPassing": 0.5567940504278998,
         "Volleys": 0.7320579007462853,
         "Dribbling": 0.612244918643011,
         "Curve": 0.6510750370525145,
         "FKAccuracy": 0.6150192445613696,
         "LongPassing": 0.4430551137233682,
         "BallControl": 0.6709722734024114,
         "Acceleration": 0.20901489669488515,
         "SprintSpeed": 0.21207139612466147,
         "Agility": 0.33275959890344436,
         "Reactions": 0.5051660154309906,
         "Balance": 0.17391260794649105,
         "ShotPower": 1,
         "Jumping": 0.043305959279268814,
         "Stamina": 0.24603711944679355,
         "Strength": 0.1111193812475886,
         "LongShots": 0.8222473972397413,
         "Aggression": 0.1449402667041024,
         "Interceptions": -0.1288239089742291,
         "Positioning": 0.6501212192228153,
         "Vision": 0.6388122629249178,
         "Penalties": 0.6503346485164505,
         "Composure": 0.5720068356152024,
         "Marking": -0.1526455510793582,
         "StandingTackle": -0.19288303141313917,
         "SlidingTackle": -0.22303663048973374,
         "_deepnote_index_column": "ShotPower"
        },
        {
         "Overall": 0.2282711951559699,
         "Crossing": -0.027528919620845752,
         "Finishing": -0.057518601366091666,
         "HeadingAccuracy": 0.3579512743219586,
         "ShortPassing": 0.02675751867874004,
         "Volleys": -0.01998396732409562,
         "Dribbling": -0.059451379979537505,
         "Curve": -0.04265703420560426,
         "FKAccuracy": -0.06456837283030478,
         "LongPassing": 0.002908084193004354,
         "BallControl": 0.0086045630347209,
         "Acceleration": 0.05599742486302,
         "SprintSpeed": 0.08231614475341112,
         "Agility": 0.06992186423240723,
         "Reactions": 0.20829547587154326,
         "Balance": 0.04365201590822264,
         "ShotPower": 0.043305959279268814,
         "Jumping": 1,
         "Stamina": 0.2720929926992887,
         "Strength": 0.2717525806073738,
         "LongShots": -0.014426263117018298,
         "Aggression": 0.3168554556276493,
         "Interceptions": 0.212539298112186,
         "Positioning": -0.027261120651718315,
         "Vision": -0.06734071010729141,
         "Penalties": -0.026719771096695714,
         "Composure": 0.16081879629912843,
         "Marking": 0.1987988229321715,
         "StandingTackle": 0.1797985457707712,
         "SlidingTackle": 0.18209481233295471,
         "_deepnote_index_column": "Jumping"
        },
        {
         "Overall": 0.46141665228875384,
         "Crossing": 0.35186165117362384,
         "Finishing": 0.11941459173340449,
         "HeadingAccuracy": 0.16159358101674787,
         "ShortPassing": 0.3750377249167832,
         "Volleys": 0.1463525912303514,
         "Dribbling": 0.2768418023163075,
         "Curve": 0.2527751291570292,
         "FKAccuracy": 0.21148854816883794,
         "LongPassing": 0.3449687070793276,
         "BallControl": 0.3410488049739634,
         "Acceleration": 0.26960980984529553,
         "SprintSpeed": 0.2888083794542346,
         "Agility": 0.279674801522977,
         "Reactions": 0.4340655343089052,
         "Balance": 0.14868367690314283,
         "ShotPower": 0.24603711944679355,
         "Jumping": 0.2720929926992887,
         "Stamina": 1,
         "Strength": 0.24514852352464062,
         "LongShots": 0.25223716343709773,
         "Aggression": 0.38513723445733206,
         "Interceptions": 0.3515757466200471,
         "Positioning": 0.26255208662093393,
         "Vision": 0.2872779876064872,
         "Penalties": 0.08177352607880055,
         "Composure": 0.36705931026516825,
         "Marking": 0.31194051878078555,
         "StandingTackle": 0.30292306935805813,
         "SlidingTackle": 0.2827236019112268,
         "_deepnote_index_column": "Stamina"
        },
        {
         "Overall": 0.3410667986257833,
         "Crossing": -0.17725493310285972,
         "Finishing": -0.12554956982671509,
         "HeadingAccuracy": 0.6416620022770344,
         "ShortPassing": 0.041783700125314384,
         "Volleys": -0.0748279651488162,
         "Dribbling": -0.23779698920743855,
         "Curve": -0.16430046684681252,
         "FKAccuracy": -0.12632582198021663,
         "LongPassing": 0.03438688089804338,
         "BallControl": -0.04865290929264507,
         "Acceleration": -0.3832933952154274,
         "SprintSpeed": -0.26853423282549493,
         "Agility": -0.43289473716616145,
         "Reactions": 0.2669281735220954,
         "Balance": -0.5981742095258491,
         "ShotPower": 0.1111193812475886,
         "Jumping": 0.2717525806073738,
         "Stamina": 0.24514852352464062,
         "Strength": 1,
         "LongShots": -0.05261398336791508,
         "Aggression": 0.5159980472985879,
         "Interceptions": 0.34776012378707677,
         "Positioning": -0.1372005703994995,
         "Vision": -0.14050864868010093,
         "Penalties": -0.051467558180854286,
         "Composure": 0.2534331061664804,
         "Marking": 0.32995698689091835,
         "StandingTackle": 0.3273017172744579,
         "SlidingTackle": 0.2904213008679017,
         "_deepnote_index_column": "Strength"
        },
        {
         "Overall": 0.5021087455252944,
         "Crossing": 0.5484622703370722,
         "Finishing": 0.8030358999777875,
         "HeadingAccuracy": 0.029783981756591072,
         "ShortPassing": 0.5751260706749505,
         "Volleys": 0.7867795617499748,
         "Dribbling": 0.7241906418105948,
         "Curve": 0.7307342488556272,
         "FKAccuracy": 0.6957639494765354,
         "LongPassing": 0.4612473346031744,
         "BallControl": 0.7235875031818989,
         "Acceleration": 0.30807669214735456,
         "SprintSpeed": 0.2714132316406076,
         "Agility": 0.4698234596661429,
         "Reactions": 0.48072740155977645,
         "Balance": 0.314049784523157,
         "ShotPower": 0.8222473972397413,
         "Jumping": -0.014426263117018298,
         "Stamina": 0.25223716343709773,
         "Strength": -0.05261398336791508,
         "LongShots": 1,
         "Aggression": 0.014632106141808666,
         "Interceptions": -0.199560373244295,
         "Positioning": 0.757527237834662,
         "Vision": 0.7417436331951065,
         "Penalties": 0.6919564281058764,
         "Composure": 0.5340122456319806,
         "Marking": -0.23512601483738335,
         "StandingTackle": -0.2759529045311691,
         "SlidingTackle": -0.3081312661788104,
         "_deepnote_index_column": "LongShots"
        },
        {
         "Overall": 0.4529159866292944,
         "Crossing": 0.10553882435792232,
         "Finishing": -0.20140690804607303,
         "HeadingAccuracy": 0.4586313855356533,
         "ShortPassing": 0.3053313583241328,
         "Volleys": -0.06427507357511682,
         "Dribbling": -0.059600241155132926,
         "Curve": 0.03540203989916679,
         "FKAccuracy": 0.07513174537068307,
         "LongPassing": 0.3488008947616052,
         "BallControl": 0.12342181854579418,
         "Acceleration": -0.2300400962347009,
         "SprintSpeed": -0.18868306691456524,
         "Agility": -0.17057921532251466,
         "Reactions": 0.44078528285030427,
         "Balance": -0.21014346889820396,
         "ShotPower": 0.1449402667041024,
         "Jumping": 0.3168554556276493,
         "Stamina": 0.38513723445733206,
         "Strength": 0.5159980472985879,
         "LongShots": 0.014632106141808666,
         "Aggression": 1,
         "Interceptions": 0.6587170127712123,
         "Positioning": -0.07764331547631301,
         "Vision": 0.06068013170848783,
         "Penalties": -0.0925889742038732,
         "Composure": 0.37799647561696115,
         "Marking": 0.5925380984745995,
         "StandingTackle": 0.6314947625009266,
         "SlidingTackle": 0.6067451563407252,
         "_deepnote_index_column": "Aggression"
        },
        {
         "Overall": 0.3332749060955741,
         "Crossing": 0.12598470333714726,
         "Finishing": -0.4917334626021592,
         "HeadingAccuracy": 0.2868800334395204,
         "ShortPassing": 0.28705329463526,
         "Volleys": -0.3345360852755497,
         "Dribbling": -0.19031597685314883,
         "Curve": -0.06881954770544556,
         "FKAccuracy": 0.0015745550157566326,
         "LongPassing": 0.42559496510049777,
         "BallControl": 0.0004936006298906,
         "Acceleration": -0.2782422464731429,
         "SprintSpeed": -0.2642719187092367,
         "Agility": -0.22556114199270386,
         "Reactions": 0.33756409237169466,
         "Balance": -0.1769872765547514,
         "ShotPower": -0.1288239089742291,
         "Jumping": 0.212539298112186,
         "Stamina": 0.3515757466200471,
         "Strength": 0.34776012378707677,
         "LongShots": -0.199560373244295,
         "Aggression": 0.6587170127712123,
         "Interceptions": 1,
         "Positioning": -0.3131379112831651,
         "Vision": -0.04136520933553727,
         "Penalties": -0.3425594677687499,
         "Composure": 0.24157987895004499,
         "Marking": 0.8543327015568413,
         "StandingTackle": 0.9262793169059583,
         "SlidingTackle": 0.9080766004510037,
         "_deepnote_index_column": "Interceptions"
        },
        {
         "Overall": 0.4386918851312591,
         "Crossing": 0.5856236763892844,
         "Finishing": 0.8189635276643215,
         "HeadingAccuracy": -0.02410504775205651,
         "ShortPassing": 0.5017915650541265,
         "Volleys": 0.745740378567091,
         "Dribbling": 0.7889390982710743,
         "Curve": 0.6739745531815071,
         "FKAccuracy": 0.5620746154970485,
         "LongPassing": 0.32566398839697097,
         "BallControl": 0.7186407381111498,
         "Acceleration": 0.4486534559225279,
         "SprintSpeed": 0.41113982650847225,
         "Agility": 0.5570511167916463,
         "Reactions": 0.4556090509337982,
         "Balance": 0.38713098145969455,
         "ShotPower": 0.6501212192228153,
         "Jumping": -0.027261120651718315,
         "Stamina": 0.26255208662093393,
         "Strength": -0.1372005703994995,
         "LongShots": 0.757527237834662,
         "Aggression": -0.07764331547631301,
         "Interceptions": -0.3131379112831651,
         "Positioning": 1,
         "Vision": 0.726851408037216,
         "Penalties": 0.6502639231575846,
         "Composure": 0.4707137750784133,
         "Marking": -0.3456150077791102,
         "StandingTackle": -0.3866305174101193,
         "SlidingTackle": -0.4094505143224189,
         "_deepnote_index_column": "Positioning"
        },
        {
         "Overall": 0.5243605924084997,
         "Crossing": 0.6439477299077139,
         "Finishing": 0.6552828509088912,
         "HeadingAccuracy": -0.079290861484707,
         "ShortPassing": 0.7245111267425439,
         "Volleys": 0.6590909330449282,
         "Dribbling": 0.7588294396863406,
         "Curve": 0.7274156235301289,
         "FKAccuracy": 0.6832141899192542,
         "LongPassing": 0.651982877300471,
         "BallControl": 0.7755451059460162,
         "Acceleration": 0.3070298439078848,
         "SprintSpeed": 0.2543162224824906,
         "Agility": 0.5152132477949173,
         "Reactions": 0.5235477466037928,
         "Balance": 0.38867633705460053,
         "ShotPower": 0.6388122629249178,
         "Jumping": -0.06734071010729141,
         "Stamina": 0.2872779876064872,
         "Strength": -0.14050864868010093,
         "LongShots": 0.7417436331951065,
         "Aggression": 0.06068013170848783,
         "Interceptions": -0.04136520933553727,
         "Positioning": 0.726851408037216,
         "Vision": 1,
         "Penalties": 0.5678680947751198,
         "Composure": 0.5924777718679094,
         "Marking": -0.08842144281105482,
         "StandingTackle": -0.1106868182569499,
         "SlidingTackle": -0.14212631664391284,
         "_deepnote_index_column": "Vision"
        },
        {
         "Overall": 0.3911235627237332,
         "Crossing": 0.3716057014541741,
         "Finishing": 0.7448351317210604,
         "HeadingAccuracy": 0.10840490835824147,
         "ShortPassing": 0.3845873200773066,
         "Volleys": 0.7300610528499628,
         "Dribbling": 0.5657160032431225,
         "Curve": 0.5935315441387039,
         "FKAccuracy": 0.5899462394459001,
         "LongPassing": 0.2381352435914609,
         "BallControl": 0.558718416916369,
         "Acceleration": 0.2137530325324004,
         "SprintSpeed": 0.187497109859363,
         "Agility": 0.33519448645787553,
         "Reactions": 0.37155033146567584,
         "Balance": 0.22506541874190447,
         "ShotPower": 0.6503346485164505,
         "Jumping": -0.026719771096695714,
         "Stamina": 0.08177352607880055,
         "Strength": -0.051467558180854286,
         "LongShots": 0.6919564281058764,
         "Aggression": -0.0925889742038732,
         "Interceptions": -0.3425594677687499,
         "Positioning": 0.6502639231575846,
         "Vision": 0.5678680947751198,
         "Penalties": 1,
         "Composure": 0.43416923208597774,
         "Marking": -0.3544678427399236,
         "StandingTackle": -0.4044255478456217,
         "SlidingTackle": -0.42938091451257704,
         "_deepnote_index_column": "Penalties"
        },
        {
         "Overall": 0.8017494888055617,
         "Crossing": 0.4696655248450042,
         "Finishing": 0.41217698220803656,
         "HeadingAccuracy": 0.34476975771725027,
         "ShortPassing": 0.6732433773965618,
         "Volleys": 0.5041116139240963,
         "Dribbling": 0.5091425388545899,
         "Curve": 0.5404713979562213,
         "FKAccuracy": 0.4988774247236177,
         "LongPassing": 0.5778081745600925,
         "BallControl": 0.6803203141181176,
         "Acceleration": 0.09025399106438027,
         "SprintSpeed": 0.09425497437974967,
         "Agility": 0.2538095311621587,
         "Reactions": 0.7395994964212975,
         "Balance": 0.11242756937922992,
         "ShotPower": 0.5720068356152024,
         "Jumping": 0.16081879629912843,
         "Stamina": 0.36705931026516825,
         "Strength": 0.2534331061664804,
         "LongShots": 0.5340122456319806,
         "Aggression": 0.37799647561696115,
         "Interceptions": 0.24157987895004499,
         "Positioning": 0.4707137750784133,
         "Vision": 0.5924777718679094,
         "Penalties": 0.43416923208597774,
         "Composure": 1,
         "Marking": 0.20314674534555996,
         "StandingTackle": 0.17195703548700686,
         "SlidingTackle": 0.13428101829983563,
         "_deepnote_index_column": "Composure"
        },
        {
         "Overall": 0.305697742766116,
         "Crossing": 0.08697057196844829,
         "Finishing": -0.5030420166404205,
         "HeadingAccuracy": 0.27427959810875363,
         "ShortPassing": 0.24469645377066207,
         "Volleys": -0.35715020567359174,
         "Dribbling": -0.21448063329315523,
         "Curve": -0.10824221599546928,
         "FKAccuracy": -0.048092137564651895,
         "LongPassing": 0.36996541958826423,
         "BallControl": -0.032123819893355283,
         "Acceleration": -0.27308925499398556,
         "SprintSpeed": -0.25158957047776287,
         "Agility": -0.2419606158404625,
         "Reactions": 0.2809838147760551,
         "Balance": -0.18608717425988242,
         "ShotPower": -0.1526455510793582,
         "Jumping": 0.1987988229321715,
         "Stamina": 0.31194051878078555,
         "Strength": 0.32995698689091835,
         "LongShots": -0.23512601483738335,
         "Aggression": 0.5925380984745995,
         "Interceptions": 0.8543327015568413,
         "Positioning": -0.3456150077791102,
         "Vision": -0.08842144281105482,
         "Penalties": -0.3544678427399236,
         "Composure": 0.20314674534555996,
         "Marking": 1,
         "StandingTackle": 0.8708614501134037,
         "SlidingTackle": 0.8592365550976325,
         "_deepnote_index_column": "Marking"
        },
        {
         "Overall": 0.26408185679928287,
         "Crossing": 0.08542894921682516,
         "Finishing": -0.5585647742741102,
         "HeadingAccuracy": 0.2574201232821685,
         "ShortPassing": 0.23508285378727978,
         "Volleys": -0.40222245188313044,
         "Dribbling": -0.2447368198629382,
         "Curve": -0.12824577096990877,
         "FKAccuracy": -0.05632844464115154,
         "LongPassing": 0.38463725067982496,
         "BallControl": -0.06735845791699942,
         "Acceleration": -0.2952430455717516,
         "SprintSpeed": -0.2766625610091078,
         "Agility": -0.27283101207075855,
         "Reactions": 0.24846986473538898,
         "Balance": -0.20096647165094497,
         "ShotPower": -0.19288303141313917,
         "Jumping": 0.1797985457707712,
         "Stamina": 0.30292306935805813,
         "Strength": 0.3273017172744579,
         "LongShots": -0.2759529045311691,
         "Aggression": 0.6314947625009266,
         "Interceptions": 0.9262793169059583,
         "Positioning": -0.3866305174101193,
         "Vision": -0.1106868182569499,
         "Penalties": -0.4044255478456217,
         "Composure": 0.17195703548700686,
         "Marking": 0.8708614501134037,
         "StandingTackle": 1,
         "SlidingTackle": 0.966533074113733,
         "_deepnote_index_column": "StandingTackle"
        },
        {
         "Overall": 0.2243648338602615,
         "Crossing": 0.07896333297261472,
         "Finishing": -0.5858412866136773,
         "HeadingAccuracy": 0.23493348149339152,
         "ShortPassing": 0.20300871530488948,
         "Volleys": -0.43005592258986514,
         "Dribbling": -0.2580457089686168,
         "Curve": -0.14752343343324192,
         "FKAccuracy": -0.0812502871421864,
         "LongPassing": 0.3607266176048195,
         "BallControl": -0.09575296125327443,
         "Acceleration": -0.27639343210852546,
         "SprintSpeed": -0.2591004208998162,
         "Agility": -0.2676485369023399,
         "Reactions": 0.21307318452081128,
         "Balance": -0.18240941348149237,
         "ShotPower": -0.22303663048973374,
         "Jumping": 0.18209481233295471,
         "Stamina": 0.2827236019112268,
         "Strength": 0.2904213008679017,
         "LongShots": -0.3081312661788104,
         "Aggression": 0.6067451563407252,
         "Interceptions": 0.9080766004510037,
         "Positioning": -0.4094505143224189,
         "Vision": -0.14212631664391284,
         "Penalties": -0.42938091451257704,
         "Composure": 0.13428101829983563,
         "Marking": 0.8592365550976325,
         "StandingTackle": 0.966533074113733,
         "SlidingTackle": 1,
         "_deepnote_index_column": "SlidingTackle"
        }
       ],
       "rows_bottom": null
      },
      "text/plain": "                  Overall  Crossing  Finishing  HeadingAccuracy  ShortPassing  \\\nOverall          1.000000  0.496603   0.373079         0.466908      0.722720   \nCrossing         0.496603  1.000000   0.413404        -0.134959      0.632386   \nFinishing        0.373079  0.413404   1.000000         0.002099      0.398895   \nHeadingAccuracy  0.466908 -0.134959   0.002099         1.000000      0.131909   \nShortPassing     0.722720  0.632386   0.398895         0.131909      1.000000   \nVolleys          0.452090  0.472485   0.814663         0.062357      0.469096   \nDribbling        0.516363  0.712261   0.706635        -0.134535      0.638983   \nCurve            0.503054  0.714762   0.614189        -0.091652      0.614810   \nFKAccuracy       0.455875  0.618580   0.537508        -0.076517      0.584412   \nLongPassing      0.585104  0.592781   0.218965         0.057267      0.842294   \nBallControl      0.717933  0.682796   0.645849         0.069890      0.800317   \nAcceleration     0.150825  0.439799   0.373630        -0.335712      0.171664   \nSprintSpeed      0.170155  0.393403   0.349087        -0.238734      0.140618   \nAgility          0.244344  0.547590   0.480792        -0.351398      0.361314   \nReactions        0.847739  0.461861   0.349146         0.405671      0.658269   \nBalance          0.059425  0.435751   0.311487        -0.467826      0.252552   \nShotPower        0.562960  0.457531   0.703408         0.189628      0.556794   \nJumping          0.228271 -0.027529  -0.057519         0.357951      0.026758   \nStamina          0.461417  0.351862   0.119415         0.161594      0.375038   \nStrength         0.341067 -0.177255  -0.125550         0.641662      0.041784   \nLongShots        0.502109  0.548462   0.803036         0.029784      0.575126   \nAggression       0.452916  0.105539  -0.201407         0.458631      0.305331   \nInterceptions    0.333275  0.125985  -0.491733         0.286880      0.287053   \nPositioning      0.438692  0.585624   0.818964        -0.024105      0.501792   \nVision           0.524361  0.643948   0.655283        -0.079291      0.724511   \nPenalties        0.391124  0.371606   0.744835         0.108405      0.384587   \nComposure        0.801749  0.469666   0.412177         0.344770      0.673243   \nMarking          0.305698  0.086971  -0.503042         0.274280      0.244696   \nStandingTackle   0.264082  0.085429  -0.558565         0.257420      0.235083   \nSlidingTackle    0.224365  0.078963  -0.585841         0.234933      0.203009   \n\n                  Volleys  Dribbling     Curve  FKAccuracy  LongPassing  ...  \\\nOverall          0.452090   0.516363  0.503054    0.455875     0.585104  ...   \nCrossing         0.472485   0.712261  0.714762    0.618580     0.592781  ...   \nFinishing        0.814663   0.706635  0.614189    0.537508     0.218965  ...   \nHeadingAccuracy  0.062357  -0.134535 -0.091652   -0.076517     0.057267  ...   \nShortPassing     0.469096   0.638983  0.614810    0.584412     0.842294  ...   \nVolleys          1.000000   0.674461  0.691624    0.618031     0.313951  ...   \nDribbling        0.674461   1.000000  0.731726    0.599424     0.494533  ...   \nCurve            0.691624   0.731726  1.000000    0.788928     0.539851  ...   \nFKAccuracy       0.618031   0.599424  0.788928    1.000000     0.554455  ...   \nLongPassing      0.313951   0.494533  0.539851    0.554455     1.000000  ...   \nBallControl      0.657246   0.851001  0.721956    0.625404     0.633354  ...   \nAcceleration     0.311606   0.552978  0.367913    0.223660     0.075184  ...   \nSprintSpeed      0.282198   0.500952  0.313834    0.166871     0.043049  ...   \nAgility          0.447630   0.662569  0.537080    0.413473     0.272754  ...   \nReactions        0.433796   0.475958  0.472869    0.437640     0.534187  ...   \nBalance          0.294044   0.495734  0.406304    0.328549     0.210938  ...   \nShotPower        0.732058   0.612245  0.651075    0.615019     0.443055  ...   \nJumping         -0.019984  -0.059451 -0.042657   -0.064568     0.002908  ...   \nStamina          0.146353   0.276842  0.252775    0.211489     0.344969  ...   \nStrength        -0.074828  -0.237797 -0.164300   -0.126326     0.034387  ...   \nLongShots        0.786780   0.724191  0.730734    0.695764     0.461247  ...   \nAggression      -0.064275  -0.059600  0.035402    0.075132     0.348801  ...   \nInterceptions   -0.334536  -0.190316 -0.068820    0.001575     0.425595  ...   \nPositioning      0.745740   0.788939  0.673975    0.562075     0.325664  ...   \nVision           0.659091   0.758829  0.727416    0.683214     0.651983  ...   \nPenalties        0.730061   0.565716  0.593532    0.589946     0.238135  ...   \nComposure        0.504112   0.509143  0.540471    0.498877     0.577808  ...   \nMarking         -0.357150  -0.214481 -0.108242   -0.048092     0.369965  ...   \nStandingTackle  -0.402222  -0.244737 -0.128246   -0.056328     0.384637  ...   \nSlidingTackle   -0.430056  -0.258046 -0.147523   -0.081250     0.360727  ...   \n\n                 LongShots  Aggression  Interceptions  Positioning    Vision  \\\nOverall           0.502109    0.452916       0.333275     0.438692  0.524361   \nCrossing          0.548462    0.105539       0.125985     0.585624  0.643948   \nFinishing         0.803036   -0.201407      -0.491733     0.818964  0.655283   \nHeadingAccuracy   0.029784    0.458631       0.286880    -0.024105 -0.079291   \nShortPassing      0.575126    0.305331       0.287053     0.501792  0.724511   \nVolleys           0.786780   -0.064275      -0.334536     0.745740  0.659091   \nDribbling         0.724191   -0.059600      -0.190316     0.788939  0.758829   \nCurve             0.730734    0.035402      -0.068820     0.673975  0.727416   \nFKAccuracy        0.695764    0.075132       0.001575     0.562075  0.683214   \nLongPassing       0.461247    0.348801       0.425595     0.325664  0.651983   \nBallControl       0.723588    0.123422       0.000494     0.718641  0.775545   \nAcceleration      0.308077   -0.230040      -0.278242     0.448653  0.307030   \nSprintSpeed       0.271413   -0.188683      -0.264272     0.411140  0.254316   \nAgility           0.469823   -0.170579      -0.225561     0.557051  0.515213   \nReactions         0.480727    0.440785       0.337564     0.455609  0.523548   \nBalance           0.314050   -0.210143      -0.176987     0.387131  0.388676   \nShotPower         0.822247    0.144940      -0.128824     0.650121  0.638812   \nJumping          -0.014426    0.316855       0.212539    -0.027261 -0.067341   \nStamina           0.252237    0.385137       0.351576     0.262552  0.287278   \nStrength         -0.052614    0.515998       0.347760    -0.137201 -0.140509   \nLongShots         1.000000    0.014632      -0.199560     0.757527  0.741744   \nAggression        0.014632    1.000000       0.658717    -0.077643  0.060680   \nInterceptions    -0.199560    0.658717       1.000000    -0.313138 -0.041365   \nPositioning       0.757527   -0.077643      -0.313138     1.000000  0.726851   \nVision            0.741744    0.060680      -0.041365     0.726851  1.000000   \nPenalties         0.691956   -0.092589      -0.342559     0.650264  0.567868   \nComposure         0.534012    0.377996       0.241580     0.470714  0.592478   \nMarking          -0.235126    0.592538       0.854333    -0.345615 -0.088421   \nStandingTackle   -0.275953    0.631495       0.926279    -0.386631 -0.110687   \nSlidingTackle    -0.308131    0.606745       0.908077    -0.409451 -0.142126   \n\n                 Penalties  Composure   Marking  StandingTackle  SlidingTackle  \nOverall           0.391124   0.801749  0.305698        0.264082       0.224365  \nCrossing          0.371606   0.469666  0.086971        0.085429       0.078963  \nFinishing         0.744835   0.412177 -0.503042       -0.558565      -0.585841  \nHeadingAccuracy   0.108405   0.344770  0.274280        0.257420       0.234933  \nShortPassing      0.384587   0.673243  0.244696        0.235083       0.203009  \nVolleys           0.730061   0.504112 -0.357150       -0.402222      -0.430056  \nDribbling         0.565716   0.509143 -0.214481       -0.244737      -0.258046  \nCurve             0.593532   0.540471 -0.108242       -0.128246      -0.147523  \nFKAccuracy        0.589946   0.498877 -0.048092       -0.056328      -0.081250  \nLongPassing       0.238135   0.577808  0.369965        0.384637       0.360727  \nBallControl       0.558718   0.680320 -0.032124       -0.067358      -0.095753  \nAcceleration      0.213753   0.090254 -0.273089       -0.295243      -0.276393  \nSprintSpeed       0.187497   0.094255 -0.251590       -0.276663      -0.259100  \nAgility           0.335194   0.253810 -0.241961       -0.272831      -0.267649  \nReactions         0.371550   0.739599  0.280984        0.248470       0.213073  \nBalance           0.225065   0.112428 -0.186087       -0.200966      -0.182409  \nShotPower         0.650335   0.572007 -0.152646       -0.192883      -0.223037  \nJumping          -0.026720   0.160819  0.198799        0.179799       0.182095  \nStamina           0.081774   0.367059  0.311941        0.302923       0.282724  \nStrength         -0.051468   0.253433  0.329957        0.327302       0.290421  \nLongShots         0.691956   0.534012 -0.235126       -0.275953      -0.308131  \nAggression       -0.092589   0.377996  0.592538        0.631495       0.606745  \nInterceptions    -0.342559   0.241580  0.854333        0.926279       0.908077  \nPositioning       0.650264   0.470714 -0.345615       -0.386631      -0.409451  \nVision            0.567868   0.592478 -0.088421       -0.110687      -0.142126  \nPenalties         1.000000   0.434169 -0.354468       -0.404426      -0.429381  \nComposure         0.434169   1.000000  0.203147        0.171957       0.134281  \nMarking          -0.354468   0.203147  1.000000        0.870861       0.859237  \nStandingTackle   -0.404426   0.171957  0.870861        1.000000       0.966533  \nSlidingTackle    -0.429381   0.134281  0.859237        0.966533       1.000000  \n\n[30 rows x 30 columns]",
      "text/html": "<div>\n<style scoped>\n    .dataframe tbody tr th:only-of-type {\n        vertical-align: middle;\n    }\n\n    .dataframe tbody tr th {\n        vertical-align: top;\n    }\n\n    .dataframe thead th {\n        text-align: right;\n    }\n</style>\n<table border=\"1\" class=\"dataframe\">\n  <thead>\n    <tr style=\"text-align: right;\">\n      <th></th>\n      <th>Overall</th>\n      <th>Crossing</th>\n      <th>Finishing</th>\n      <th>HeadingAccuracy</th>\n      <th>ShortPassing</th>\n      <th>Volleys</th>\n      <th>Dribbling</th>\n      <th>Curve</th>\n      <th>FKAccuracy</th>\n      <th>LongPassing</th>\n      <th>...</th>\n      <th>LongShots</th>\n      <th>Aggression</th>\n      <th>Interceptions</th>\n      <th>Positioning</th>\n      <th>Vision</th>\n      <th>Penalties</th>\n      <th>Composure</th>\n      <th>Marking</th>\n      <th>StandingTackle</th>\n      <th>SlidingTackle</th>\n    </tr>\n  </thead>\n  <tbody>\n    <tr>\n      <th>Overall</th>\n      <td>1.000000</td>\n      <td>0.496603</td>\n      <td>0.373079</td>\n      <td>0.466908</td>\n      <td>0.722720</td>\n      <td>0.452090</td>\n      <td>0.516363</td>\n      <td>0.503054</td>\n      <td>0.455875</td>\n      <td>0.585104</td>\n      <td>...</td>\n      <td>0.502109</td>\n      <td>0.452916</td>\n      <td>0.333275</td>\n      <td>0.438692</td>\n      <td>0.524361</td>\n      <td>0.391124</td>\n      <td>0.801749</td>\n      <td>0.305698</td>\n      <td>0.264082</td>\n      <td>0.224365</td>\n    </tr>\n    <tr>\n      <th>Crossing</th>\n      <td>0.496603</td>\n      <td>1.000000</td>\n      <td>0.413404</td>\n      <td>-0.134959</td>\n      <td>0.632386</td>\n      <td>0.472485</td>\n      <td>0.712261</td>\n      <td>0.714762</td>\n      <td>0.618580</td>\n      <td>0.592781</td>\n      <td>...</td>\n      <td>0.548462</td>\n      <td>0.105539</td>\n      <td>0.125985</td>\n      <td>0.585624</td>\n      <td>0.643948</td>\n      <td>0.371606</td>\n      <td>0.469666</td>\n      <td>0.086971</td>\n      <td>0.085429</td>\n      <td>0.078963</td>\n    </tr>\n    <tr>\n      <th>Finishing</th>\n      <td>0.373079</td>\n      <td>0.413404</td>\n      <td>1.000000</td>\n      <td>0.002099</td>\n      <td>0.398895</td>\n      <td>0.814663</td>\n      <td>0.706635</td>\n      <td>0.614189</td>\n      <td>0.537508</td>\n      <td>0.218965</td>\n      <td>...</td>\n      <td>0.803036</td>\n      <td>-0.201407</td>\n      <td>-0.491733</td>\n      <td>0.818964</td>\n      <td>0.655283</td>\n      <td>0.744835</td>\n      <td>0.412177</td>\n      <td>-0.503042</td>\n      <td>-0.558565</td>\n      <td>-0.585841</td>\n    </tr>\n    <tr>\n      <th>HeadingAccuracy</th>\n      <td>0.466908</td>\n      <td>-0.134959</td>\n      <td>0.002099</td>\n      <td>1.000000</td>\n      <td>0.131909</td>\n      <td>0.062357</td>\n      <td>-0.134535</td>\n      <td>-0.091652</td>\n      <td>-0.076517</td>\n      <td>0.057267</td>\n      <td>...</td>\n      <td>0.029784</td>\n      <td>0.458631</td>\n      <td>0.286880</td>\n      <td>-0.024105</td>\n      <td>-0.079291</td>\n      <td>0.108405</td>\n      <td>0.344770</td>\n      <td>0.274280</td>\n      <td>0.257420</td>\n      <td>0.234933</td>\n    </tr>\n    <tr>\n      <th>ShortPassing</th>\n      <td>0.722720</td>\n      <td>0.632386</td>\n      <td>0.398895</td>\n      <td>0.131909</td>\n      <td>1.000000</td>\n      <td>0.469096</td>\n      <td>0.638983</td>\n      <td>0.614810</td>\n      <td>0.584412</td>\n      <td>0.842294</td>\n      <td>...</td>\n      <td>0.575126</td>\n      <td>0.305331</td>\n      <td>0.287053</td>\n      <td>0.501792</td>\n      <td>0.724511</td>\n      <td>0.384587</td>\n      <td>0.673243</td>\n      <td>0.244696</td>\n      <td>0.235083</td>\n      <td>0.203009</td>\n    </tr>\n    <tr>\n      <th>Volleys</th>\n      <td>0.452090</td>\n      <td>0.472485</td>\n      <td>0.814663</td>\n      <td>0.062357</td>\n      <td>0.469096</td>\n      <td>1.000000</td>\n      <td>0.674461</td>\n      <td>0.691624</td>\n      <td>0.618031</td>\n      <td>0.313951</td>\n      <td>...</td>\n      <td>0.786780</td>\n      <td>-0.064275</td>\n      <td>-0.334536</td>\n      <td>0.745740</td>\n      <td>0.659091</td>\n      <td>0.730061</td>\n      <td>0.504112</td>\n      <td>-0.357150</td>\n      <td>-0.402222</td>\n      <td>-0.430056</td>\n    </tr>\n    <tr>\n      <th>Dribbling</th>\n      <td>0.516363</td>\n      <td>0.712261</td>\n      <td>0.706635</td>\n      <td>-0.134535</td>\n      <td>0.638983</td>\n      <td>0.674461</td>\n      <td>1.000000</td>\n      <td>0.731726</td>\n      <td>0.599424</td>\n      <td>0.494533</td>\n      <td>...</td>\n      <td>0.724191</td>\n      <td>-0.059600</td>\n      <td>-0.190316</td>\n      <td>0.788939</td>\n      <td>0.758829</td>\n      <td>0.565716</td>\n      <td>0.509143</td>\n      <td>-0.214481</td>\n      <td>-0.244737</td>\n      <td>-0.258046</td>\n    </tr>\n    <tr>\n      <th>Curve</th>\n      <td>0.503054</td>\n      <td>0.714762</td>\n      <td>0.614189</td>\n      <td>-0.091652</td>\n      <td>0.614810</td>\n      <td>0.691624</td>\n      <td>0.731726</td>\n      <td>1.000000</td>\n      <td>0.788928</td>\n      <td>0.539851</td>\n      <td>...</td>\n      <td>0.730734</td>\n      <td>0.035402</td>\n      <td>-0.068820</td>\n      <td>0.673975</td>\n      <td>0.727416</td>\n      <td>0.593532</td>\n      <td>0.540471</td>\n      <td>-0.108242</td>\n      <td>-0.128246</td>\n      <td>-0.147523</td>\n    </tr>\n    <tr>\n      <th>FKAccuracy</th>\n      <td>0.455875</td>\n      <td>0.618580</td>\n      <td>0.537508</td>\n      <td>-0.076517</td>\n      <td>0.584412</td>\n      <td>0.618031</td>\n      <td>0.599424</td>\n      <td>0.788928</td>\n      <td>1.000000</td>\n      <td>0.554455</td>\n      <td>...</td>\n      <td>0.695764</td>\n      <td>0.075132</td>\n      <td>0.001575</td>\n      <td>0.562075</td>\n      <td>0.683214</td>\n      <td>0.589946</td>\n      <td>0.498877</td>\n      <td>-0.048092</td>\n      <td>-0.056328</td>\n      <td>-0.081250</td>\n    </tr>\n    <tr>\n      <th>LongPassing</th>\n      <td>0.585104</td>\n      <td>0.592781</td>\n      <td>0.218965</td>\n      <td>0.057267</td>\n      <td>0.842294</td>\n      <td>0.313951</td>\n      <td>0.494533</td>\n      <td>0.539851</td>\n      <td>0.554455</td>\n      <td>1.000000</td>\n      <td>...</td>\n      <td>0.461247</td>\n      <td>0.348801</td>\n      <td>0.425595</td>\n      <td>0.325664</td>\n      <td>0.651983</td>\n      <td>0.238135</td>\n      <td>0.577808</td>\n      <td>0.369965</td>\n      <td>0.384637</td>\n      <td>0.360727</td>\n    </tr>\n    <tr>\n      <th>BallControl</th>\n      <td>0.717933</td>\n      <td>0.682796</td>\n      <td>0.645849</td>\n      <td>0.069890</td>\n      <td>0.800317</td>\n      <td>0.657246</td>\n      <td>0.851001</td>\n      <td>0.721956</td>\n      <td>0.625404</td>\n      <td>0.633354</td>\n      <td>...</td>\n      <td>0.723588</td>\n      <td>0.123422</td>\n      <td>0.000494</td>\n      <td>0.718641</td>\n      <td>0.775545</td>\n      <td>0.558718</td>\n      <td>0.680320</td>\n      <td>-0.032124</td>\n      <td>-0.067358</td>\n      <td>-0.095753</td>\n    </tr>\n    <tr>\n      <th>Acceleration</th>\n      <td>0.150825</td>\n      <td>0.439799</td>\n      <td>0.373630</td>\n      <td>-0.335712</td>\n      <td>0.171664</td>\n      <td>0.311606</td>\n      <td>0.552978</td>\n      <td>0.367913</td>\n      <td>0.223660</td>\n      <td>0.075184</td>\n      <td>...</td>\n      <td>0.308077</td>\n      <td>-0.230040</td>\n      <td>-0.278242</td>\n      <td>0.448653</td>\n      <td>0.307030</td>\n      <td>0.213753</td>\n      <td>0.090254</td>\n      <td>-0.273089</td>\n      <td>-0.295243</td>\n      <td>-0.276393</td>\n    </tr>\n    <tr>\n      <th>SprintSpeed</th>\n      <td>0.170155</td>\n      <td>0.393403</td>\n      <td>0.349087</td>\n      <td>-0.238734</td>\n      <td>0.140618</td>\n      <td>0.282198</td>\n      <td>0.500952</td>\n      <td>0.313834</td>\n      <td>0.166871</td>\n      <td>0.043049</td>\n      <td>...</td>\n      <td>0.271413</td>\n      <td>-0.188683</td>\n      <td>-0.264272</td>\n      <td>0.411140</td>\n      <td>0.254316</td>\n      <td>0.187497</td>\n      <td>0.094255</td>\n      <td>-0.251590</td>\n      <td>-0.276663</td>\n      <td>-0.259100</td>\n    </tr>\n    <tr>\n      <th>Agility</th>\n      <td>0.244344</td>\n      <td>0.547590</td>\n      <td>0.480792</td>\n      <td>-0.351398</td>\n      <td>0.361314</td>\n      <td>0.447630</td>\n      <td>0.662569</td>\n      <td>0.537080</td>\n      <td>0.413473</td>\n      <td>0.272754</td>\n      <td>...</td>\n      <td>0.469823</td>\n      <td>-0.170579</td>\n      <td>-0.225561</td>\n      <td>0.557051</td>\n      <td>0.515213</td>\n      <td>0.335194</td>\n      <td>0.253810</td>\n      <td>-0.241961</td>\n      <td>-0.272831</td>\n      <td>-0.267649</td>\n    </tr>\n    <tr>\n      <th>Reactions</th>\n      <td>0.847739</td>\n      <td>0.461861</td>\n      <td>0.349146</td>\n      <td>0.405671</td>\n      <td>0.658269</td>\n      <td>0.433796</td>\n      <td>0.475958</td>\n      <td>0.472869</td>\n      <td>0.437640</td>\n      <td>0.534187</td>\n      <td>...</td>\n      <td>0.480727</td>\n      <td>0.440785</td>\n      <td>0.337564</td>\n      <td>0.455609</td>\n      <td>0.523548</td>\n      <td>0.371550</td>\n      <td>0.739599</td>\n      <td>0.280984</td>\n      <td>0.248470</td>\n      <td>0.213073</td>\n    </tr>\n    <tr>\n      <th>Balance</th>\n      <td>0.059425</td>\n      <td>0.435751</td>\n      <td>0.311487</td>\n      <td>-0.467826</td>\n      <td>0.252552</td>\n      <td>0.294044</td>\n      <td>0.495734</td>\n      <td>0.406304</td>\n      <td>0.328549</td>\n      <td>0.210938</td>\n      <td>...</td>\n      <td>0.314050</td>\n      <td>-0.210143</td>\n      <td>-0.176987</td>\n      <td>0.387131</td>\n      <td>0.388676</td>\n      <td>0.225065</td>\n      <td>0.112428</td>\n      <td>-0.186087</td>\n      <td>-0.200966</td>\n      <td>-0.182409</td>\n    </tr>\n    <tr>\n      <th>ShotPower</th>\n      <td>0.562960</td>\n      <td>0.457531</td>\n      <td>0.703408</td>\n      <td>0.189628</td>\n      <td>0.556794</td>\n      <td>0.732058</td>\n      <td>0.612245</td>\n      <td>0.651075</td>\n      <td>0.615019</td>\n      <td>0.443055</td>\n      <td>...</td>\n      <td>0.822247</td>\n      <td>0.144940</td>\n      <td>-0.128824</td>\n      <td>0.650121</td>\n      <td>0.638812</td>\n      <td>0.650335</td>\n      <td>0.572007</td>\n      <td>-0.152646</td>\n      <td>-0.192883</td>\n      <td>-0.223037</td>\n    </tr>\n    <tr>\n      <th>Jumping</th>\n      <td>0.228271</td>\n      <td>-0.027529</td>\n      <td>-0.057519</td>\n      <td>0.357951</td>\n      <td>0.026758</td>\n      <td>-0.019984</td>\n      <td>-0.059451</td>\n      <td>-0.042657</td>\n      <td>-0.064568</td>\n      <td>0.002908</td>\n      <td>...</td>\n      <td>-0.014426</td>\n      <td>0.316855</td>\n      <td>0.212539</td>\n      <td>-0.027261</td>\n      <td>-0.067341</td>\n      <td>-0.026720</td>\n      <td>0.160819</td>\n      <td>0.198799</td>\n      <td>0.179799</td>\n      <td>0.182095</td>\n    </tr>\n    <tr>\n      <th>Stamina</th>\n      <td>0.461417</td>\n      <td>0.351862</td>\n      <td>0.119415</td>\n      <td>0.161594</td>\n      <td>0.375038</td>\n      <td>0.146353</td>\n      <td>0.276842</td>\n      <td>0.252775</td>\n      <td>0.211489</td>\n      <td>0.344969</td>\n      <td>...</td>\n      <td>0.252237</td>\n      <td>0.385137</td>\n      <td>0.351576</td>\n      <td>0.262552</td>\n      <td>0.287278</td>\n      <td>0.081774</td>\n      <td>0.367059</td>\n      <td>0.311941</td>\n      <td>0.302923</td>\n      <td>0.282724</td>\n    </tr>\n    <tr>\n      <th>Strength</th>\n      <td>0.341067</td>\n      <td>-0.177255</td>\n      <td>-0.125550</td>\n      <td>0.641662</td>\n      <td>0.041784</td>\n      <td>-0.074828</td>\n      <td>-0.237797</td>\n      <td>-0.164300</td>\n      <td>-0.126326</td>\n      <td>0.034387</td>\n      <td>...</td>\n      <td>-0.052614</td>\n      <td>0.515998</td>\n      <td>0.347760</td>\n      <td>-0.137201</td>\n      <td>-0.140509</td>\n      <td>-0.051468</td>\n      <td>0.253433</td>\n      <td>0.329957</td>\n      <td>0.327302</td>\n      <td>0.290421</td>\n    </tr>\n    <tr>\n      <th>LongShots</th>\n      <td>0.502109</td>\n      <td>0.548462</td>\n      <td>0.803036</td>\n      <td>0.029784</td>\n      <td>0.575126</td>\n      <td>0.786780</td>\n      <td>0.724191</td>\n      <td>0.730734</td>\n      <td>0.695764</td>\n      <td>0.461247</td>\n      <td>...</td>\n      <td>1.000000</td>\n      <td>0.014632</td>\n      <td>-0.199560</td>\n      <td>0.757527</td>\n      <td>0.741744</td>\n      <td>0.691956</td>\n      <td>0.534012</td>\n      <td>-0.235126</td>\n      <td>-0.275953</td>\n      <td>-0.308131</td>\n    </tr>\n    <tr>\n      <th>Aggression</th>\n      <td>0.452916</td>\n      <td>0.105539</td>\n      <td>-0.201407</td>\n      <td>0.458631</td>\n      <td>0.305331</td>\n      <td>-0.064275</td>\n      <td>-0.059600</td>\n      <td>0.035402</td>\n      <td>0.075132</td>\n      <td>0.348801</td>\n      <td>...</td>\n      <td>0.014632</td>\n      <td>1.000000</td>\n      <td>0.658717</td>\n      <td>-0.077643</td>\n      <td>0.060680</td>\n      <td>-0.092589</td>\n      <td>0.377996</td>\n      <td>0.592538</td>\n      <td>0.631495</td>\n      <td>0.606745</td>\n    </tr>\n    <tr>\n      <th>Interceptions</th>\n      <td>0.333275</td>\n      <td>0.125985</td>\n      <td>-0.491733</td>\n      <td>0.286880</td>\n      <td>0.287053</td>\n      <td>-0.334536</td>\n      <td>-0.190316</td>\n      <td>-0.068820</td>\n      <td>0.001575</td>\n      <td>0.425595</td>\n      <td>...</td>\n      <td>-0.199560</td>\n      <td>0.658717</td>\n      <td>1.000000</td>\n      <td>-0.313138</td>\n      <td>-0.041365</td>\n      <td>-0.342559</td>\n      <td>0.241580</td>\n      <td>0.854333</td>\n      <td>0.926279</td>\n      <td>0.908077</td>\n    </tr>\n    <tr>\n      <th>Positioning</th>\n      <td>0.438692</td>\n      <td>0.585624</td>\n      <td>0.818964</td>\n      <td>-0.024105</td>\n      <td>0.501792</td>\n      <td>0.745740</td>\n      <td>0.788939</td>\n      <td>0.673975</td>\n      <td>0.562075</td>\n      <td>0.325664</td>\n      <td>...</td>\n      <td>0.757527</td>\n      <td>-0.077643</td>\n      <td>-0.313138</td>\n      <td>1.000000</td>\n      <td>0.726851</td>\n      <td>0.650264</td>\n      <td>0.470714</td>\n      <td>-0.345615</td>\n      <td>-0.386631</td>\n      <td>-0.409451</td>\n    </tr>\n    <tr>\n      <th>Vision</th>\n      <td>0.524361</td>\n      <td>0.643948</td>\n      <td>0.655283</td>\n      <td>-0.079291</td>\n      <td>0.724511</td>\n      <td>0.659091</td>\n      <td>0.758829</td>\n      <td>0.727416</td>\n      <td>0.683214</td>\n      <td>0.651983</td>\n      <td>...</td>\n      <td>0.741744</td>\n      <td>0.060680</td>\n      <td>-0.041365</td>\n      <td>0.726851</td>\n      <td>1.000000</td>\n      <td>0.567868</td>\n      <td>0.592478</td>\n      <td>-0.088421</td>\n      <td>-0.110687</td>\n      <td>-0.142126</td>\n    </tr>\n    <tr>\n      <th>Penalties</th>\n      <td>0.391124</td>\n      <td>0.371606</td>\n      <td>0.744835</td>\n      <td>0.108405</td>\n      <td>0.384587</td>\n      <td>0.730061</td>\n      <td>0.565716</td>\n      <td>0.593532</td>\n      <td>0.589946</td>\n      <td>0.238135</td>\n      <td>...</td>\n      <td>0.691956</td>\n      <td>-0.092589</td>\n      <td>-0.342559</td>\n      <td>0.650264</td>\n      <td>0.567868</td>\n      <td>1.000000</td>\n      <td>0.434169</td>\n      <td>-0.354468</td>\n      <td>-0.404426</td>\n      <td>-0.429381</td>\n    </tr>\n    <tr>\n      <th>Composure</th>\n      <td>0.801749</td>\n      <td>0.469666</td>\n      <td>0.412177</td>\n      <td>0.344770</td>\n      <td>0.673243</td>\n      <td>0.504112</td>\n      <td>0.509143</td>\n      <td>0.540471</td>\n      <td>0.498877</td>\n      <td>0.577808</td>\n      <td>...</td>\n      <td>0.534012</td>\n      <td>0.377996</td>\n      <td>0.241580</td>\n      <td>0.470714</td>\n      <td>0.592478</td>\n      <td>0.434169</td>\n      <td>1.000000</td>\n      <td>0.203147</td>\n      <td>0.171957</td>\n      <td>0.134281</td>\n    </tr>\n    <tr>\n      <th>Marking</th>\n      <td>0.305698</td>\n      <td>0.086971</td>\n      <td>-0.503042</td>\n      <td>0.274280</td>\n      <td>0.244696</td>\n      <td>-0.357150</td>\n      <td>-0.214481</td>\n      <td>-0.108242</td>\n      <td>-0.048092</td>\n      <td>0.369965</td>\n      <td>...</td>\n      <td>-0.235126</td>\n      <td>0.592538</td>\n      <td>0.854333</td>\n      <td>-0.345615</td>\n      <td>-0.088421</td>\n      <td>-0.354468</td>\n      <td>0.203147</td>\n      <td>1.000000</td>\n      <td>0.870861</td>\n      <td>0.859237</td>\n    </tr>\n    <tr>\n      <th>StandingTackle</th>\n      <td>0.264082</td>\n      <td>0.085429</td>\n      <td>-0.558565</td>\n      <td>0.257420</td>\n      <td>0.235083</td>\n      <td>-0.402222</td>\n      <td>-0.244737</td>\n      <td>-0.128246</td>\n      <td>-0.056328</td>\n      <td>0.384637</td>\n      <td>...</td>\n      <td>-0.275953</td>\n      <td>0.631495</td>\n      <td>0.926279</td>\n      <td>-0.386631</td>\n      <td>-0.110687</td>\n      <td>-0.404426</td>\n      <td>0.171957</td>\n      <td>0.870861</td>\n      <td>1.000000</td>\n      <td>0.966533</td>\n    </tr>\n    <tr>\n      <th>SlidingTackle</th>\n      <td>0.224365</td>\n      <td>0.078963</td>\n      <td>-0.585841</td>\n      <td>0.234933</td>\n      <td>0.203009</td>\n      <td>-0.430056</td>\n      <td>-0.258046</td>\n      <td>-0.147523</td>\n      <td>-0.081250</td>\n      <td>0.360727</td>\n      <td>...</td>\n      <td>-0.308131</td>\n      <td>0.606745</td>\n      <td>0.908077</td>\n      <td>-0.409451</td>\n      <td>-0.142126</td>\n      <td>-0.429381</td>\n      <td>0.134281</td>\n      <td>0.859237</td>\n      <td>0.966533</td>\n      <td>1.000000</td>\n    </tr>\n  </tbody>\n</table>\n<p>30 rows × 30 columns</p>\n</div>"
     },
     "metadata": {}
    }
   ],
   "execution_count": null
  },
  {
   "cell_type": "code",
   "metadata": {
    "id": "RtAXfjzQ5s6Q",
    "colab": {
     "base_uri": "https://localhost:8080/",
     "height": 386
    },
    "executionInfo": {
     "status": "ok",
     "timestamp": 1632395387317,
     "user_tz": -120,
     "elapsed": 29,
     "user": {
      "displayName": "Daniel Manrique",
      "photoUrl": "https://lh3.googleusercontent.com/a-/AOh14GitdHbMelm6f6tHV3gogFTulR815SvuoEcosIv2kg=s64",
      "userId": "14181066300969909559"
     }
    },
    "outputId": "f3107450-85c1-4a4a-db86-c7c6dddc63da",
    "cell_id": "00019-226be244-c9ce-47bc-ad7c-a13f840cc1c5",
    "deepnote_to_be_reexecuted": false,
    "source_hash": "785e569e",
    "execution_start": 1636882639664,
    "execution_millis": 43,
    "deepnote_cell_type": "code"
   },
   "source": "dataset[:10]",
   "outputs": [
    {
     "output_type": "execute_result",
     "execution_count": 13,
     "data": {
      "application/vnd.deepnote.dataframe.v2+json": {
       "row_count": 10,
       "column_count": 31,
       "columns": [
        {
         "name": "Overall",
         "dtype": "int64",
         "stats": {
          "unique_count": 4,
          "nan_count": 0,
          "min": "90",
          "max": "94",
          "histogram": [
           {
            "bin_start": 90,
            "bin_end": 90.4,
            "count": 2
           },
           {
            "bin_start": 90.4,
            "bin_end": 90.8,
            "count": 0
           },
           {
            "bin_start": 90.8,
            "bin_end": 91.2,
            "count": 5
           },
           {
            "bin_start": 91.2,
            "bin_end": 91.6,
            "count": 0
           },
           {
            "bin_start": 91.6,
            "bin_end": 92,
            "count": 0
           },
           {
            "bin_start": 92,
            "bin_end": 92.4,
            "count": 1
           },
           {
            "bin_start": 92.4,
            "bin_end": 92.8,
            "count": 0
           },
           {
            "bin_start": 92.8,
            "bin_end": 93.2,
            "count": 0
           },
           {
            "bin_start": 93.2,
            "bin_end": 93.6,
            "count": 0
           },
           {
            "bin_start": 93.6,
            "bin_end": 94,
            "count": 2
           }
          ]
         }
        },
        {
         "name": "Position",
         "dtype": "object",
         "stats": {
          "unique_count": 8,
          "nan_count": 0,
          "categories": [
           {
            "name": "ST",
            "count": 2
           },
           {
            "name": "RCM",
            "count": 2
           },
           {
            "name": "6 others",
            "count": 6
           }
          ]
         }
        },
        {
         "name": "Crossing",
         "dtype": "float64",
         "stats": {
          "unique_count": 9,
          "nan_count": 0,
          "min": "62.0",
          "max": "93.0",
          "histogram": [
           {
            "bin_start": 62,
            "bin_end": 65.1,
            "count": 1
           },
           {
            "bin_start": 65.1,
            "bin_end": 68.2,
            "count": 1
           },
           {
            "bin_start": 68.2,
            "bin_end": 71.3,
            "count": 0
           },
           {
            "bin_start": 71.3,
            "bin_end": 74.4,
            "count": 0
           },
           {
            "bin_start": 74.4,
            "bin_end": 77.5,
            "count": 1
           },
           {
            "bin_start": 77.5,
            "bin_end": 80.6,
            "count": 1
           },
           {
            "bin_start": 80.6,
            "bin_end": 83.7,
            "count": 1
           },
           {
            "bin_start": 83.7,
            "bin_end": 86.8,
            "count": 3
           },
           {
            "bin_start": 86.8,
            "bin_end": 89.9,
            "count": 1
           },
           {
            "bin_start": 89.9,
            "bin_end": 93,
            "count": 1
           }
          ]
         }
        },
        {
         "name": "Finishing",
         "dtype": "float64",
         "stats": {
          "unique_count": 10,
          "nan_count": 0,
          "min": "60.0",
          "max": "95.0",
          "histogram": [
           {
            "bin_start": 60,
            "bin_end": 63.5,
            "count": 1
           },
           {
            "bin_start": 63.5,
            "bin_end": 67,
            "count": 0
           },
           {
            "bin_start": 67,
            "bin_end": 70.5,
            "count": 0
           },
           {
            "bin_start": 70.5,
            "bin_end": 74,
            "count": 1
           },
           {
            "bin_start": 74,
            "bin_end": 77.5,
            "count": 1
           },
           {
            "bin_start": 77.5,
            "bin_end": 81,
            "count": 0
           },
           {
            "bin_start": 81,
            "bin_end": 84.5,
            "count": 2
           },
           {
            "bin_start": 84.5,
            "bin_end": 88,
            "count": 1
           },
           {
            "bin_start": 88,
            "bin_end": 91.5,
            "count": 1
           },
           {
            "bin_start": 91.5,
            "bin_end": 95,
            "count": 3
           }
          ]
         }
        },
        {
         "name": "HeadingAccuracy",
         "dtype": "float64",
         "stats": {
          "unique_count": 9,
          "nan_count": 0,
          "min": "54.0",
          "max": "91.0",
          "histogram": [
           {
            "bin_start": 54,
            "bin_end": 57.7,
            "count": 3
           },
           {
            "bin_start": 57.7,
            "bin_end": 61.4,
            "count": 1
           },
           {
            "bin_start": 61.4,
            "bin_end": 65.1,
            "count": 1
           },
           {
            "bin_start": 65.1,
            "bin_end": 68.8,
            "count": 0
           },
           {
            "bin_start": 68.8,
            "bin_end": 72.5,
            "count": 1
           },
           {
            "bin_start": 72.5,
            "bin_end": 76.2,
            "count": 0
           },
           {
            "bin_start": 76.2,
            "bin_end": 79.9,
            "count": 1
           },
           {
            "bin_start": 79.9,
            "bin_end": 83.6,
            "count": 0
           },
           {
            "bin_start": 83.6,
            "bin_end": 87.30000000000001,
            "count": 1
           },
           {
            "bin_start": 87.30000000000001,
            "bin_end": 91,
            "count": 2
           }
          ]
         }
        },
        {
         "name": "ShortPassing",
         "dtype": "float64",
         "stats": {
          "unique_count": 9,
          "nan_count": 0,
          "min": "78.0",
          "max": "93.0",
          "histogram": [
           {
            "bin_start": 78,
            "bin_end": 79.5,
            "count": 1
           },
           {
            "bin_start": 79.5,
            "bin_end": 81,
            "count": 0
           },
           {
            "bin_start": 81,
            "bin_end": 82.5,
            "count": 2
           },
           {
            "bin_start": 82.5,
            "bin_end": 84,
            "count": 1
           },
           {
            "bin_start": 84,
            "bin_end": 85.5,
            "count": 1
           },
           {
            "bin_start": 85.5,
            "bin_end": 87,
            "count": 0
           },
           {
            "bin_start": 87,
            "bin_end": 88.5,
            "count": 0
           },
           {
            "bin_start": 88.5,
            "bin_end": 90,
            "count": 1
           },
           {
            "bin_start": 90,
            "bin_end": 91.5,
            "count": 1
           },
           {
            "bin_start": 91.5,
            "bin_end": 93,
            "count": 3
           }
          ]
         }
        },
        {
         "name": "Volleys",
         "dtype": "float64",
         "stats": {
          "unique_count": 9,
          "nan_count": 0,
          "min": "66.0",
          "max": "89.0",
          "histogram": [
           {
            "bin_start": 66,
            "bin_end": 68.3,
            "count": 1
           },
           {
            "bin_start": 68.3,
            "bin_end": 70.6,
            "count": 0
           },
           {
            "bin_start": 70.6,
            "bin_end": 72.9,
            "count": 0
           },
           {
            "bin_start": 72.9,
            "bin_end": 75.2,
            "count": 0
           },
           {
            "bin_start": 75.2,
            "bin_end": 77.5,
            "count": 1
           },
           {
            "bin_start": 77.5,
            "bin_end": 79.8,
            "count": 0
           },
           {
            "bin_start": 79.8,
            "bin_end": 82.1,
            "count": 3
           },
           {
            "bin_start": 82.1,
            "bin_end": 84.4,
            "count": 1
           },
           {
            "bin_start": 84.4,
            "bin_end": 86.7,
            "count": 1
           },
           {
            "bin_start": 86.7,
            "bin_end": 89,
            "count": 3
           }
          ]
         }
        },
        {
         "name": "Dribbling",
         "dtype": "float64",
         "stats": {
          "unique_count": 10,
          "nan_count": 0,
          "min": "63.0",
          "max": "97.0",
          "histogram": [
           {
            "bin_start": 63,
            "bin_end": 66.4,
            "count": 1
           },
           {
            "bin_start": 66.4,
            "bin_end": 69.8,
            "count": 0
           },
           {
            "bin_start": 69.8,
            "bin_end": 73.2,
            "count": 0
           },
           {
            "bin_start": 73.2,
            "bin_end": 76.6,
            "count": 0
           },
           {
            "bin_start": 76.6,
            "bin_end": 80,
            "count": 0
           },
           {
            "bin_start": 80,
            "bin_end": 83.4,
            "count": 1
           },
           {
            "bin_start": 83.4,
            "bin_end": 86.8,
            "count": 2
           },
           {
            "bin_start": 86.8,
            "bin_end": 90.2,
            "count": 3
           },
           {
            "bin_start": 90.2,
            "bin_end": 93.6,
            "count": 0
           },
           {
            "bin_start": 93.6,
            "bin_end": 97,
            "count": 3
           }
          ]
         }
        },
        {
         "name": "Curve",
         "dtype": "float64",
         "stats": {
          "unique_count": 8,
          "nan_count": 0,
          "min": "74.0",
          "max": "93.0",
          "histogram": [
           {
            "bin_start": 74,
            "bin_end": 75.9,
            "count": 1
           },
           {
            "bin_start": 75.9,
            "bin_end": 77.8,
            "count": 1
           },
           {
            "bin_start": 77.8,
            "bin_end": 79.7,
            "count": 0
           },
           {
            "bin_start": 79.7,
            "bin_end": 81.6,
            "count": 1
           },
           {
            "bin_start": 81.6,
            "bin_end": 83.5,
            "count": 1
           },
           {
            "bin_start": 83.5,
            "bin_end": 85.4,
            "count": 2
           },
           {
            "bin_start": 85.4,
            "bin_end": 87.3,
            "count": 2
           },
           {
            "bin_start": 87.3,
            "bin_end": 89.2,
            "count": 1
           },
           {
            "bin_start": 89.2,
            "bin_end": 91.1,
            "count": 0
           },
           {
            "bin_start": 91.1,
            "bin_end": 93,
            "count": 1
           }
          ]
         }
        },
        {
         "name": "FKAccuracy",
         "dtype": "float64",
         "stats": {
          "unique_count": 9,
          "nan_count": 0,
          "min": "72.0",
          "max": "94.0",
          "histogram": [
           {
            "bin_start": 72,
            "bin_end": 74.2,
            "count": 1
           },
           {
            "bin_start": 74.2,
            "bin_end": 76.4,
            "count": 1
           },
           {
            "bin_start": 76.4,
            "bin_end": 78.6,
            "count": 1
           },
           {
            "bin_start": 78.6,
            "bin_end": 80.8,
            "count": 1
           },
           {
            "bin_start": 80.8,
            "bin_end": 83,
            "count": 0
           },
           {
            "bin_start": 83,
            "bin_end": 85.2,
            "count": 3
           },
           {
            "bin_start": 85.2,
            "bin_end": 87.4,
            "count": 2
           },
           {
            "bin_start": 87.4,
            "bin_end": 89.6,
            "count": 0
           },
           {
            "bin_start": 89.6,
            "bin_end": 91.8,
            "count": 0
           },
           {
            "bin_start": 91.8,
            "bin_end": 94,
            "count": 1
           }
          ]
         }
        },
        {
         "name": "LongPassing",
         "dtype": "float64",
         "stats": {
          "unique_count": 9,
          "nan_count": 0,
          "min": "64.0",
          "max": "93.0",
          "histogram": [
           {
            "bin_start": 64,
            "bin_end": 66.9,
            "count": 2
           },
           {
            "bin_start": 66.9,
            "bin_end": 69.8,
            "count": 0
           },
           {
            "bin_start": 69.8,
            "bin_end": 72.7,
            "count": 0
           },
           {
            "bin_start": 72.7,
            "bin_end": 75.6,
            "count": 0
           },
           {
            "bin_start": 75.6,
            "bin_end": 78.5,
            "count": 3
           },
           {
            "bin_start": 78.5,
            "bin_end": 81.4,
            "count": 0
           },
           {
            "bin_start": 81.4,
            "bin_end": 84.3,
            "count": 1
           },
           {
            "bin_start": 84.3,
            "bin_end": 87.2,
            "count": 1
           },
           {
            "bin_start": 87.2,
            "bin_end": 90.1,
            "count": 1
           },
           {
            "bin_start": 90.1,
            "bin_end": 93,
            "count": 2
           }
          ]
         }
        },
        {
         "name": "BallControl",
         "dtype": "float64",
         "stats": {
          "unique_count": 8,
          "nan_count": 0,
          "min": "84.0",
          "max": "96.0",
          "histogram": [
           {
            "bin_start": 84,
            "bin_end": 85.2,
            "count": 1
           },
           {
            "bin_start": 85.2,
            "bin_end": 86.4,
            "count": 0
           },
           {
            "bin_start": 86.4,
            "bin_end": 87.6,
            "count": 0
           },
           {
            "bin_start": 87.6,
            "bin_end": 88.8,
            "count": 0
           },
           {
            "bin_start": 88.8,
            "bin_end": 90,
            "count": 1
           },
           {
            "bin_start": 90,
            "bin_end": 91.2,
            "count": 3
           },
           {
            "bin_start": 91.2,
            "bin_end": 92.4,
            "count": 0
           },
           {
            "bin_start": 92.4,
            "bin_end": 93.6,
            "count": 1
           },
           {
            "bin_start": 93.6,
            "bin_end": 94.8,
            "count": 2
           },
           {
            "bin_start": 94.8,
            "bin_end": 96,
            "count": 2
           }
          ]
         }
        },
        {
         "name": "Acceleration",
         "dtype": "float64",
         "stats": {
          "unique_count": 9,
          "nan_count": 0,
          "min": "64.0",
          "max": "94.0",
          "histogram": [
           {
            "bin_start": 64,
            "bin_end": 67,
            "count": 1
           },
           {
            "bin_start": 67,
            "bin_end": 70,
            "count": 0
           },
           {
            "bin_start": 70,
            "bin_end": 73,
            "count": 0
           },
           {
            "bin_start": 73,
            "bin_end": 76,
            "count": 0
           },
           {
            "bin_start": 76,
            "bin_end": 79,
            "count": 3
           },
           {
            "bin_start": 79,
            "bin_end": 82,
            "count": 1
           },
           {
            "bin_start": 82,
            "bin_end": 85,
            "count": 0
           },
           {
            "bin_start": 85,
            "bin_end": 88,
            "count": 1
           },
           {
            "bin_start": 88,
            "bin_end": 91,
            "count": 1
           },
           {
            "bin_start": 91,
            "bin_end": 94,
            "count": 3
           }
          ]
         }
        },
        {
         "name": "SprintSpeed",
         "dtype": "float64",
         "stats": {
          "unique_count": 9,
          "nan_count": 0,
          "min": "62.0",
          "max": "91.0",
          "histogram": [
           {
            "bin_start": 62,
            "bin_end": 64.9,
            "count": 1
           },
           {
            "bin_start": 64.9,
            "bin_end": 67.8,
            "count": 0
           },
           {
            "bin_start": 67.8,
            "bin_end": 70.7,
            "count": 0
           },
           {
            "bin_start": 70.7,
            "bin_end": 73.6,
            "count": 1
           },
           {
            "bin_start": 73.6,
            "bin_end": 76.5,
            "count": 3
           },
           {
            "bin_start": 76.5,
            "bin_end": 79.4,
            "count": 1
           },
           {
            "bin_start": 79.4,
            "bin_end": 82.3,
            "count": 0
           },
           {
            "bin_start": 82.3,
            "bin_end": 85.2,
            "count": 0
           },
           {
            "bin_start": 85.2,
            "bin_end": 88.1,
            "count": 2
           },
           {
            "bin_start": 88.1,
            "bin_end": 91,
            "count": 2
           }
          ]
         }
        },
        {
         "name": "Agility",
         "dtype": "float64",
         "stats": {
          "unique_count": 9,
          "nan_count": 0,
          "min": "70.0",
          "max": "96.0",
          "histogram": [
           {
            "bin_start": 70,
            "bin_end": 72.6,
            "count": 1
           },
           {
            "bin_start": 72.6,
            "bin_end": 75.2,
            "count": 0
           },
           {
            "bin_start": 75.2,
            "bin_end": 77.8,
            "count": 0
           },
           {
            "bin_start": 77.8,
            "bin_end": 80.4,
            "count": 3
           },
           {
            "bin_start": 80.4,
            "bin_end": 83,
            "count": 1
           },
           {
            "bin_start": 83,
            "bin_end": 85.6,
            "count": 0
           },
           {
            "bin_start": 85.6,
            "bin_end": 88.2,
            "count": 1
           },
           {
            "bin_start": 88.2,
            "bin_end": 90.8,
            "count": 0
           },
           {
            "bin_start": 90.8,
            "bin_end": 93.4,
            "count": 2
           },
           {
            "bin_start": 93.4,
            "bin_end": 96,
            "count": 2
           }
          ]
         }
        },
        {
         "name": "Reactions",
         "dtype": "float64",
         "stats": {
          "unique_count": 8,
          "nan_count": 0,
          "min": "85.0",
          "max": "96.0",
          "histogram": [
           {
            "bin_start": 85,
            "bin_end": 86.1,
            "count": 1
           },
           {
            "bin_start": 86.1,
            "bin_end": 87.2,
            "count": 0
           },
           {
            "bin_start": 87.2,
            "bin_end": 88.3,
            "count": 0
           },
           {
            "bin_start": 88.3,
            "bin_end": 89.4,
            "count": 1
           },
           {
            "bin_start": 89.4,
            "bin_end": 90.5,
            "count": 3
           },
           {
            "bin_start": 90.5,
            "bin_end": 91.6,
            "count": 1
           },
           {
            "bin_start": 91.6,
            "bin_end": 92.7,
            "count": 1
           },
           {
            "bin_start": 92.7,
            "bin_end": 93.8,
            "count": 0
           },
           {
            "bin_start": 93.8,
            "bin_end": 94.9,
            "count": 1
           },
           {
            "bin_start": 94.9,
            "bin_end": 96,
            "count": 2
           }
          ]
         }
        },
        {
         "name": "Balance",
         "dtype": "float64",
         "stats": {
          "unique_count": 9,
          "nan_count": 0,
          "min": "66.0",
          "max": "95.0",
          "histogram": [
           {
            "bin_start": 66,
            "bin_end": 68.9,
            "count": 1
           },
           {
            "bin_start": 68.9,
            "bin_end": 71.8,
            "count": 2
           },
           {
            "bin_start": 71.8,
            "bin_end": 74.7,
            "count": 0
           },
           {
            "bin_start": 74.7,
            "bin_end": 77.6,
            "count": 1
           },
           {
            "bin_start": 77.6,
            "bin_end": 80.5,
            "count": 1
           },
           {
            "bin_start": 80.5,
            "bin_end": 83.4,
            "count": 1
           },
           {
            "bin_start": 83.4,
            "bin_end": 86.3,
            "count": 1
           },
           {
            "bin_start": 86.3,
            "bin_end": 89.2,
            "count": 0
           },
           {
            "bin_start": 89.2,
            "bin_end": 92.1,
            "count": 0
           },
           {
            "bin_start": 92.1,
            "bin_end": 95,
            "count": 3
           }
          ]
         }
        },
        {
         "name": "ShotPower",
         "dtype": "float64",
         "stats": {
          "unique_count": 9,
          "nan_count": 0,
          "min": "79.0",
          "max": "95.0",
          "histogram": [
           {
            "bin_start": 79,
            "bin_end": 80.6,
            "count": 3
           },
           {
            "bin_start": 80.6,
            "bin_end": 82.2,
            "count": 1
           },
           {
            "bin_start": 82.2,
            "bin_end": 83.8,
            "count": 0
           },
           {
            "bin_start": 83.8,
            "bin_end": 85.4,
            "count": 1
           },
           {
            "bin_start": 85.4,
            "bin_end": 87,
            "count": 1
           },
           {
            "bin_start": 87,
            "bin_end": 88.6,
            "count": 2
           },
           {
            "bin_start": 88.6,
            "bin_end": 90.2,
            "count": 0
           },
           {
            "bin_start": 90.2,
            "bin_end": 91.8,
            "count": 1
           },
           {
            "bin_start": 91.8,
            "bin_end": 93.4,
            "count": 0
           },
           {
            "bin_start": 93.4,
            "bin_end": 95,
            "count": 1
           }
          ]
         }
        },
        {
         "name": "Jumping",
         "dtype": "float64",
         "stats": {
          "unique_count": 9,
          "nan_count": 0,
          "min": "30.0",
          "max": "95.0",
          "histogram": [
           {
            "bin_start": 30,
            "bin_end": 36.5,
            "count": 1
           },
           {
            "bin_start": 36.5,
            "bin_end": 43,
            "count": 0
           },
           {
            "bin_start": 43,
            "bin_end": 49.5,
            "count": 0
           },
           {
            "bin_start": 49.5,
            "bin_end": 56,
            "count": 0
           },
           {
            "bin_start": 56,
            "bin_end": 62.5,
            "count": 2
           },
           {
            "bin_start": 62.5,
            "bin_end": 69,
            "count": 3
           },
           {
            "bin_start": 69,
            "bin_end": 75.5,
            "count": 1
           },
           {
            "bin_start": 75.5,
            "bin_end": 82,
            "count": 0
           },
           {
            "bin_start": 82,
            "bin_end": 88.5,
            "count": 1
           },
           {
            "bin_start": 88.5,
            "bin_end": 95,
            "count": 2
           }
          ]
         }
        },
        {
         "name": "Stamina",
         "dtype": "float64",
         "stats": {
          "unique_count": 9,
          "nan_count": 0,
          "min": "72.0",
          "max": "90.0",
          "histogram": [
           {
            "bin_start": 72,
            "bin_end": 73.8,
            "count": 1
           },
           {
            "bin_start": 73.8,
            "bin_end": 75.6,
            "count": 1
           },
           {
            "bin_start": 75.6,
            "bin_end": 77.4,
            "count": 0
           },
           {
            "bin_start": 77.4,
            "bin_end": 79.2,
            "count": 1
           },
           {
            "bin_start": 79.2,
            "bin_end": 81,
            "count": 0
           },
           {
            "bin_start": 81,
            "bin_end": 82.8,
            "count": 1
           },
           {
            "bin_start": 82.8,
            "bin_end": 84.6,
            "count": 2
           },
           {
            "bin_start": 84.6,
            "bin_end": 86.4,
            "count": 0
           },
           {
            "bin_start": 86.4,
            "bin_end": 88.2,
            "count": 1
           },
           {
            "bin_start": 88.2,
            "bin_end": 90,
            "count": 3
           }
          ]
         }
        },
        {
         "name": "Strength",
         "dtype": "float64",
         "stats": {
          "unique_count": 9,
          "nan_count": 0,
          "min": "49.0",
          "max": "84.0",
          "histogram": [
           {
            "bin_start": 49,
            "bin_end": 52.5,
            "count": 1
           },
           {
            "bin_start": 52.5,
            "bin_end": 56,
            "count": 0
           },
           {
            "bin_start": 56,
            "bin_end": 59.5,
            "count": 2
           },
           {
            "bin_start": 59.5,
            "bin_end": 63,
            "count": 0
           },
           {
            "bin_start": 63,
            "bin_end": 66.5,
            "count": 1
           },
           {
            "bin_start": 66.5,
            "bin_end": 70,
            "count": 0
           },
           {
            "bin_start": 70,
            "bin_end": 73.5,
            "count": 1
           },
           {
            "bin_start": 73.5,
            "bin_end": 77,
            "count": 1
           },
           {
            "bin_start": 77,
            "bin_end": 80.5,
            "count": 1
           },
           {
            "bin_start": 80.5,
            "bin_end": 84,
            "count": 3
           }
          ]
         }
        },
        {
         "name": "LongShots",
         "dtype": "float64",
         "stats": {
          "unique_count": 9,
          "nan_count": 0,
          "min": "59.0",
          "max": "94.0",
          "histogram": [
           {
            "bin_start": 59,
            "bin_end": 62.5,
            "count": 1
           },
           {
            "bin_start": 62.5,
            "bin_end": 66,
            "count": 0
           },
           {
            "bin_start": 66,
            "bin_end": 69.5,
            "count": 0
           },
           {
            "bin_start": 69.5,
            "bin_end": 73,
            "count": 0
           },
           {
            "bin_start": 73,
            "bin_end": 76.5,
            "count": 0
           },
           {
            "bin_start": 76.5,
            "bin_end": 80,
            "count": 0
           },
           {
            "bin_start": 80,
            "bin_end": 83.5,
            "count": 3
           },
           {
            "bin_start": 83.5,
            "bin_end": 87,
            "count": 2
           },
           {
            "bin_start": 87,
            "bin_end": 90.5,
            "count": 0
           },
           {
            "bin_start": 90.5,
            "bin_end": 94,
            "count": 4
           }
          ]
         }
        },
        {
         "name": "Aggression",
         "dtype": "float64",
         "stats": {
          "unique_count": 10,
          "nan_count": 0,
          "min": "48.0",
          "max": "88.0",
          "histogram": [
           {
            "bin_start": 48,
            "bin_end": 52,
            "count": 1
           },
           {
            "bin_start": 52,
            "bin_end": 56,
            "count": 1
           },
           {
            "bin_start": 56,
            "bin_end": 60,
            "count": 1
           },
           {
            "bin_start": 60,
            "bin_end": 64,
            "count": 3
           },
           {
            "bin_start": 64,
            "bin_end": 68,
            "count": 0
           },
           {
            "bin_start": 68,
            "bin_end": 72,
            "count": 0
           },
           {
            "bin_start": 72,
            "bin_end": 76,
            "count": 0
           },
           {
            "bin_start": 76,
            "bin_end": 80,
            "count": 1
           },
           {
            "bin_start": 80,
            "bin_end": 84,
            "count": 1
           },
           {
            "bin_start": 84,
            "bin_end": 88,
            "count": 2
           }
          ]
         }
        },
        {
         "name": "Interceptions",
         "dtype": "float64",
         "stats": {
          "unique_count": 9,
          "nan_count": 0,
          "min": "22.0",
          "max": "90.0",
          "histogram": [
           {
            "bin_start": 22,
            "bin_end": 28.8,
            "count": 1
           },
           {
            "bin_start": 28.8,
            "bin_end": 35.6,
            "count": 1
           },
           {
            "bin_start": 35.6,
            "bin_end": 42.4,
            "count": 4
           },
           {
            "bin_start": 42.4,
            "bin_end": 49.2,
            "count": 0
           },
           {
            "bin_start": 49.2,
            "bin_end": 56,
            "count": 0
           },
           {
            "bin_start": 56,
            "bin_end": 62.8,
            "count": 1
           },
           {
            "bin_start": 62.8,
            "bin_end": 69.6,
            "count": 0
           },
           {
            "bin_start": 69.6,
            "bin_end": 76.4,
            "count": 0
           },
           {
            "bin_start": 76.4,
            "bin_end": 83.19999999999999,
            "count": 2
           },
           {
            "bin_start": 83.19999999999999,
            "bin_end": 90,
            "count": 1
           }
          ]
         }
        },
        {
         "name": "Positioning",
         "dtype": "float64",
         "stats": {
          "unique_count": 8,
          "nan_count": 0,
          "min": "60.0",
          "max": "95.0",
          "histogram": [
           {
            "bin_start": 60,
            "bin_end": 63.5,
            "count": 1
           },
           {
            "bin_start": 63.5,
            "bin_end": 67,
            "count": 0
           },
           {
            "bin_start": 67,
            "bin_end": 70.5,
            "count": 0
           },
           {
            "bin_start": 70.5,
            "bin_end": 74,
            "count": 0
           },
           {
            "bin_start": 74,
            "bin_end": 77.5,
            "count": 0
           },
           {
            "bin_start": 77.5,
            "bin_end": 81,
            "count": 2
           },
           {
            "bin_start": 81,
            "bin_end": 84.5,
            "count": 0
           },
           {
            "bin_start": 84.5,
            "bin_end": 88,
            "count": 2
           },
           {
            "bin_start": 88,
            "bin_end": 91.5,
            "count": 2
           },
           {
            "bin_start": 91.5,
            "bin_end": 95,
            "count": 3
           }
          ]
         }
        },
        {
         "name": "Vision",
         "dtype": "float64",
         "stats": {
          "unique_count": 9,
          "nan_count": 0,
          "min": "63.0",
          "max": "94.0",
          "histogram": [
           {
            "bin_start": 63,
            "bin_end": 66.1,
            "count": 1
           },
           {
            "bin_start": 66.1,
            "bin_end": 69.2,
            "count": 0
           },
           {
            "bin_start": 69.2,
            "bin_end": 72.3,
            "count": 0
           },
           {
            "bin_start": 72.3,
            "bin_end": 75.4,
            "count": 0
           },
           {
            "bin_start": 75.4,
            "bin_end": 78.5,
            "count": 1
           },
           {
            "bin_start": 78.5,
            "bin_end": 81.6,
            "count": 0
           },
           {
            "bin_start": 81.6,
            "bin_end": 84.7,
            "count": 2
           },
           {
            "bin_start": 84.7,
            "bin_end": 87.8,
            "count": 2
           },
           {
            "bin_start": 87.8,
            "bin_end": 90.9,
            "count": 1
           },
           {
            "bin_start": 90.9,
            "bin_end": 94,
            "count": 3
           }
          ]
         }
        },
        {
         "name": "Penalties",
         "dtype": "float64",
         "stats": {
          "unique_count": 8,
          "nan_count": 0,
          "min": "73.0",
          "max": "88.0",
          "histogram": [
           {
            "bin_start": 73,
            "bin_end": 74.5,
            "count": 1
           },
           {
            "bin_start": 74.5,
            "bin_end": 76,
            "count": 2
           },
           {
            "bin_start": 76,
            "bin_end": 77.5,
            "count": 0
           },
           {
            "bin_start": 77.5,
            "bin_end": 79,
            "count": 0
           },
           {
            "bin_start": 79,
            "bin_end": 80.5,
            "count": 1
           },
           {
            "bin_start": 80.5,
            "bin_end": 82,
            "count": 1
           },
           {
            "bin_start": 82,
            "bin_end": 83.5,
            "count": 1
           },
           {
            "bin_start": 83.5,
            "bin_end": 85,
            "count": 0
           },
           {
            "bin_start": 85,
            "bin_end": 86.5,
            "count": 3
           },
           {
            "bin_start": 86.5,
            "bin_end": 88,
            "count": 1
           }
          ]
         }
        },
        {
         "name": "Composure",
         "dtype": "float64",
         "stats": {
          "unique_count": 9,
          "nan_count": 0,
          "min": "82.0",
          "max": "96.0",
          "histogram": [
           {
            "bin_start": 82,
            "bin_end": 83.4,
            "count": 1
           },
           {
            "bin_start": 83.4,
            "bin_end": 84.8,
            "count": 1
           },
           {
            "bin_start": 84.8,
            "bin_end": 86.2,
            "count": 3
           },
           {
            "bin_start": 86.2,
            "bin_end": 87.6,
            "count": 0
           },
           {
            "bin_start": 87.6,
            "bin_end": 89,
            "count": 1
           },
           {
            "bin_start": 89,
            "bin_end": 90.4,
            "count": 0
           },
           {
            "bin_start": 90.4,
            "bin_end": 91.8,
            "count": 1
           },
           {
            "bin_start": 91.8,
            "bin_end": 93.2,
            "count": 0
           },
           {
            "bin_start": 93.2,
            "bin_end": 94.6,
            "count": 1
           },
           {
            "bin_start": 94.6,
            "bin_end": 96,
            "count": 2
           }
          ]
         }
        },
        {
         "name": "Marking",
         "dtype": "float64",
         "stats": {
          "unique_count": 9,
          "nan_count": 0,
          "min": "27.0",
          "max": "87.0",
          "histogram": [
           {
            "bin_start": 27,
            "bin_end": 33,
            "count": 2
           },
           {
            "bin_start": 33,
            "bin_end": 39,
            "count": 3
           },
           {
            "bin_start": 39,
            "bin_end": 45,
            "count": 0
           },
           {
            "bin_start": 45,
            "bin_end": 51,
            "count": 0
           },
           {
            "bin_start": 51,
            "bin_end": 57,
            "count": 0
           },
           {
            "bin_start": 57,
            "bin_end": 63,
            "count": 2
           },
           {
            "bin_start": 63,
            "bin_end": 69,
            "count": 1
           },
           {
            "bin_start": 69,
            "bin_end": 75,
            "count": 1
           },
           {
            "bin_start": 75,
            "bin_end": 81,
            "count": 0
           },
           {
            "bin_start": 81,
            "bin_end": 87,
            "count": 1
           }
          ]
         }
        },
        {
         "name": "StandingTackle",
         "dtype": "float64",
         "stats": {
          "unique_count": 10,
          "nan_count": 0,
          "min": "24.0",
          "max": "92.0",
          "histogram": [
           {
            "bin_start": 24,
            "bin_end": 30.8,
            "count": 3
           },
           {
            "bin_start": 30.8,
            "bin_end": 37.6,
            "count": 1
           },
           {
            "bin_start": 37.6,
            "bin_end": 44.4,
            "count": 1
           },
           {
            "bin_start": 44.4,
            "bin_end": 51.2,
            "count": 1
           },
           {
            "bin_start": 51.2,
            "bin_end": 58,
            "count": 0
           },
           {
            "bin_start": 58,
            "bin_end": 64.8,
            "count": 1
           },
           {
            "bin_start": 64.8,
            "bin_end": 71.6,
            "count": 0
           },
           {
            "bin_start": 71.6,
            "bin_end": 78.4,
            "count": 1
           },
           {
            "bin_start": 78.4,
            "bin_end": 85.19999999999999,
            "count": 1
           },
           {
            "bin_start": 85.19999999999999,
            "bin_end": 92,
            "count": 1
           }
          ]
         }
        },
        {
         "name": "SlidingTackle",
         "dtype": "float64",
         "stats": {
          "unique_count": 10,
          "nan_count": 0,
          "min": "19.0",
          "max": "91.0",
          "histogram": [
           {
            "bin_start": 19,
            "bin_end": 26.2,
            "count": 4
           },
           {
            "bin_start": 26.2,
            "bin_end": 33.4,
            "count": 1
           },
           {
            "bin_start": 33.4,
            "bin_end": 40.6,
            "count": 1
           },
           {
            "bin_start": 40.6,
            "bin_end": 47.8,
            "count": 0
           },
           {
            "bin_start": 47.8,
            "bin_end": 55,
            "count": 1
           },
           {
            "bin_start": 55,
            "bin_end": 62.2,
            "count": 0
           },
           {
            "bin_start": 62.2,
            "bin_end": 69.4,
            "count": 1
           },
           {
            "bin_start": 69.4,
            "bin_end": 76.6,
            "count": 1
           },
           {
            "bin_start": 76.6,
            "bin_end": 83.8,
            "count": 0
           },
           {
            "bin_start": 83.8,
            "bin_end": 91,
            "count": 1
           }
          ]
         }
        },
        {
         "name": "_deepnote_index_column",
         "dtype": "int64"
        }
       ],
       "rows_top": [
        {
         "Overall": 94,
         "Position": "RF",
         "Crossing": 84,
         "Finishing": 95,
         "HeadingAccuracy": 70,
         "ShortPassing": 90,
         "Volleys": 86,
         "Dribbling": 97,
         "Curve": 93,
         "FKAccuracy": 94,
         "LongPassing": 87,
         "BallControl": 96,
         "Acceleration": 91,
         "SprintSpeed": 86,
         "Agility": 91,
         "Reactions": 95,
         "Balance": 95,
         "ShotPower": 85,
         "Jumping": 68,
         "Stamina": 72,
         "Strength": 59,
         "LongShots": 94,
         "Aggression": 48,
         "Interceptions": 22,
         "Positioning": 94,
         "Vision": 94,
         "Penalties": 75,
         "Composure": 96,
         "Marking": 33,
         "StandingTackle": 28,
         "SlidingTackle": 26,
         "_deepnote_index_column": 0
        },
        {
         "Overall": 94,
         "Position": "ST",
         "Crossing": 84,
         "Finishing": 94,
         "HeadingAccuracy": 89,
         "ShortPassing": 81,
         "Volleys": 87,
         "Dribbling": 88,
         "Curve": 81,
         "FKAccuracy": 76,
         "LongPassing": 77,
         "BallControl": 94,
         "Acceleration": 89,
         "SprintSpeed": 91,
         "Agility": 87,
         "Reactions": 96,
         "Balance": 70,
         "ShotPower": 95,
         "Jumping": 95,
         "Stamina": 88,
         "Strength": 79,
         "LongShots": 93,
         "Aggression": 63,
         "Interceptions": 29,
         "Positioning": 95,
         "Vision": 82,
         "Penalties": 85,
         "Composure": 95,
         "Marking": 28,
         "StandingTackle": 31,
         "SlidingTackle": 23,
         "_deepnote_index_column": 1
        },
        {
         "Overall": 92,
         "Position": "LW",
         "Crossing": 79,
         "Finishing": 87,
         "HeadingAccuracy": 62,
         "ShortPassing": 84,
         "Volleys": 84,
         "Dribbling": 96,
         "Curve": 88,
         "FKAccuracy": 87,
         "LongPassing": 78,
         "BallControl": 95,
         "Acceleration": 94,
         "SprintSpeed": 90,
         "Agility": 96,
         "Reactions": 94,
         "Balance": 84,
         "ShotPower": 80,
         "Jumping": 61,
         "Stamina": 81,
         "Strength": 49,
         "LongShots": 82,
         "Aggression": 56,
         "Interceptions": 36,
         "Positioning": 89,
         "Vision": 87,
         "Penalties": 81,
         "Composure": 94,
         "Marking": 27,
         "StandingTackle": 24,
         "SlidingTackle": 33,
         "_deepnote_index_column": 2
        },
        {
         "Overall": 91,
         "Position": "RCM",
         "Crossing": 93,
         "Finishing": 82,
         "HeadingAccuracy": 55,
         "ShortPassing": 92,
         "Volleys": 82,
         "Dribbling": 86,
         "Curve": 85,
         "FKAccuracy": 83,
         "LongPassing": 91,
         "BallControl": 91,
         "Acceleration": 78,
         "SprintSpeed": 76,
         "Agility": 79,
         "Reactions": 91,
         "Balance": 77,
         "ShotPower": 91,
         "Jumping": 63,
         "Stamina": 90,
         "Strength": 75,
         "LongShots": 91,
         "Aggression": 76,
         "Interceptions": 61,
         "Positioning": 87,
         "Vision": 94,
         "Penalties": 79,
         "Composure": 88,
         "Marking": 68,
         "StandingTackle": 58,
         "SlidingTackle": 51,
         "_deepnote_index_column": 4
        },
        {
         "Overall": 91,
         "Position": "LF",
         "Crossing": 81,
         "Finishing": 84,
         "HeadingAccuracy": 61,
         "ShortPassing": 89,
         "Volleys": 80,
         "Dribbling": 95,
         "Curve": 83,
         "FKAccuracy": 79,
         "LongPassing": 83,
         "BallControl": 94,
         "Acceleration": 94,
         "SprintSpeed": 88,
         "Agility": 95,
         "Reactions": 90,
         "Balance": 94,
         "ShotPower": 82,
         "Jumping": 56,
         "Stamina": 83,
         "Strength": 66,
         "LongShots": 80,
         "Aggression": 54,
         "Interceptions": 41,
         "Positioning": 87,
         "Vision": 89,
         "Penalties": 86,
         "Composure": 91,
         "Marking": 34,
         "StandingTackle": 27,
         "SlidingTackle": 22,
         "_deepnote_index_column": 5
        },
        {
         "Overall": 91,
         "Position": "RCM",
         "Crossing": 86,
         "Finishing": 72,
         "HeadingAccuracy": 55,
         "ShortPassing": 93,
         "Volleys": 76,
         "Dribbling": 90,
         "Curve": 85,
         "FKAccuracy": 78,
         "LongPassing": 88,
         "BallControl": 93,
         "Acceleration": 80,
         "SprintSpeed": 72,
         "Agility": 93,
         "Reactions": 90,
         "Balance": 94,
         "ShotPower": 79,
         "Jumping": 68,
         "Stamina": 89,
         "Strength": 58,
         "LongShots": 82,
         "Aggression": 62,
         "Interceptions": 83,
         "Positioning": 79,
         "Vision": 92,
         "Penalties": 82,
         "Composure": 84,
         "Marking": 60,
         "StandingTackle": 76,
         "SlidingTackle": 73,
         "_deepnote_index_column": 6
        },
        {
         "Overall": 91,
         "Position": "RS",
         "Crossing": 77,
         "Finishing": 93,
         "HeadingAccuracy": 77,
         "ShortPassing": 82,
         "Volleys": 88,
         "Dribbling": 87,
         "Curve": 86,
         "FKAccuracy": 84,
         "LongPassing": 64,
         "BallControl": 90,
         "Acceleration": 86,
         "SprintSpeed": 75,
         "Agility": 82,
         "Reactions": 92,
         "Balance": 83,
         "ShotPower": 86,
         "Jumping": 69,
         "Stamina": 90,
         "Strength": 83,
         "LongShots": 85,
         "Aggression": 87,
         "Interceptions": 41,
         "Positioning": 92,
         "Vision": 84,
         "Penalties": 85,
         "Composure": 85,
         "Marking": 62,
         "StandingTackle": 45,
         "SlidingTackle": 38,
         "_deepnote_index_column": 7
        },
        {
         "Overall": 91,
         "Position": "RCB",
         "Crossing": 66,
         "Finishing": 60,
         "HeadingAccuracy": 91,
         "ShortPassing": 78,
         "Volleys": 66,
         "Dribbling": 63,
         "Curve": 74,
         "FKAccuracy": 72,
         "LongPassing": 77,
         "BallControl": 84,
         "Acceleration": 76,
         "SprintSpeed": 75,
         "Agility": 78,
         "Reactions": 85,
         "Balance": 66,
         "ShotPower": 79,
         "Jumping": 93,
         "Stamina": 84,
         "Strength": 83,
         "LongShots": 59,
         "Aggression": 88,
         "Interceptions": 90,
         "Positioning": 60,
         "Vision": 63,
         "Penalties": 75,
         "Composure": 82,
         "Marking": 87,
         "StandingTackle": 92,
         "SlidingTackle": 91,
         "_deepnote_index_column": 8
        },
        {
         "Overall": 90,
         "Position": "ST",
         "Crossing": 62,
         "Finishing": 91,
         "HeadingAccuracy": 85,
         "ShortPassing": 83,
         "Volleys": 89,
         "Dribbling": 85,
         "Curve": 77,
         "FKAccuracy": 86,
         "LongPassing": 65,
         "BallControl": 89,
         "Acceleration": 77,
         "SprintSpeed": 78,
         "Agility": 78,
         "Reactions": 90,
         "Balance": 78,
         "ShotPower": 88,
         "Jumping": 84,
         "Stamina": 78,
         "Strength": 84,
         "LongShots": 84,
         "Aggression": 80,
         "Interceptions": 39,
         "Positioning": 91,
         "Vision": 77,
         "Penalties": 88,
         "Composure": 86,
         "Marking": 34,
         "StandingTackle": 42,
         "SlidingTackle": 19,
         "_deepnote_index_column": 10
        },
        {
         "Overall": 90,
         "Position": "LCM",
         "Crossing": 88,
         "Finishing": 76,
         "HeadingAccuracy": 54,
         "ShortPassing": 92,
         "Volleys": 82,
         "Dribbling": 81,
         "Curve": 86,
         "FKAccuracy": 84,
         "LongPassing": 93,
         "BallControl": 90,
         "Acceleration": 64,
         "SprintSpeed": 62,
         "Agility": 70,
         "Reactions": 89,
         "Balance": 71,
         "ShotPower": 87,
         "Jumping": 30,
         "Stamina": 75,
         "Strength": 73,
         "LongShots": 92,
         "Aggression": 60,
         "Interceptions": 82,
         "Positioning": 79,
         "Vision": 86,
         "Penalties": 73,
         "Composure": 85,
         "Marking": 72,
         "StandingTackle": 79,
         "SlidingTackle": 69,
         "_deepnote_index_column": 11
        }
       ],
       "rows_bottom": null
      },
      "text/plain": "    Overall Position  Crossing  Finishing  HeadingAccuracy  ShortPassing  \\\n0        94       RF      84.0       95.0             70.0          90.0   \n1        94       ST      84.0       94.0             89.0          81.0   \n2        92       LW      79.0       87.0             62.0          84.0   \n4        91      RCM      93.0       82.0             55.0          92.0   \n5        91       LF      81.0       84.0             61.0          89.0   \n6        91      RCM      86.0       72.0             55.0          93.0   \n7        91       RS      77.0       93.0             77.0          82.0   \n8        91      RCB      66.0       60.0             91.0          78.0   \n10       90       ST      62.0       91.0             85.0          83.0   \n11       90      LCM      88.0       76.0             54.0          92.0   \n\n    Volleys  Dribbling  Curve  FKAccuracy  ...  LongShots  Aggression  \\\n0      86.0       97.0   93.0        94.0  ...       94.0        48.0   \n1      87.0       88.0   81.0        76.0  ...       93.0        63.0   \n2      84.0       96.0   88.0        87.0  ...       82.0        56.0   \n4      82.0       86.0   85.0        83.0  ...       91.0        76.0   \n5      80.0       95.0   83.0        79.0  ...       80.0        54.0   \n6      76.0       90.0   85.0        78.0  ...       82.0        62.0   \n7      88.0       87.0   86.0        84.0  ...       85.0        87.0   \n8      66.0       63.0   74.0        72.0  ...       59.0        88.0   \n10     89.0       85.0   77.0        86.0  ...       84.0        80.0   \n11     82.0       81.0   86.0        84.0  ...       92.0        60.0   \n\n    Interceptions  Positioning  Vision  Penalties  Composure  Marking  \\\n0            22.0         94.0    94.0       75.0       96.0     33.0   \n1            29.0         95.0    82.0       85.0       95.0     28.0   \n2            36.0         89.0    87.0       81.0       94.0     27.0   \n4            61.0         87.0    94.0       79.0       88.0     68.0   \n5            41.0         87.0    89.0       86.0       91.0     34.0   \n6            83.0         79.0    92.0       82.0       84.0     60.0   \n7            41.0         92.0    84.0       85.0       85.0     62.0   \n8            90.0         60.0    63.0       75.0       82.0     87.0   \n10           39.0         91.0    77.0       88.0       86.0     34.0   \n11           82.0         79.0    86.0       73.0       85.0     72.0   \n\n    StandingTackle  SlidingTackle  \n0             28.0           26.0  \n1             31.0           23.0  \n2             24.0           33.0  \n4             58.0           51.0  \n5             27.0           22.0  \n6             76.0           73.0  \n7             45.0           38.0  \n8             92.0           91.0  \n10            42.0           19.0  \n11            79.0           69.0  \n\n[10 rows x 31 columns]",
      "text/html": "<div>\n<style scoped>\n    .dataframe tbody tr th:only-of-type {\n        vertical-align: middle;\n    }\n\n    .dataframe tbody tr th {\n        vertical-align: top;\n    }\n\n    .dataframe thead th {\n        text-align: right;\n    }\n</style>\n<table border=\"1\" class=\"dataframe\">\n  <thead>\n    <tr style=\"text-align: right;\">\n      <th></th>\n      <th>Overall</th>\n      <th>Position</th>\n      <th>Crossing</th>\n      <th>Finishing</th>\n      <th>HeadingAccuracy</th>\n      <th>ShortPassing</th>\n      <th>Volleys</th>\n      <th>Dribbling</th>\n      <th>Curve</th>\n      <th>FKAccuracy</th>\n      <th>...</th>\n      <th>LongShots</th>\n      <th>Aggression</th>\n      <th>Interceptions</th>\n      <th>Positioning</th>\n      <th>Vision</th>\n      <th>Penalties</th>\n      <th>Composure</th>\n      <th>Marking</th>\n      <th>StandingTackle</th>\n      <th>SlidingTackle</th>\n    </tr>\n  </thead>\n  <tbody>\n    <tr>\n      <th>0</th>\n      <td>94</td>\n      <td>RF</td>\n      <td>84.0</td>\n      <td>95.0</td>\n      <td>70.0</td>\n      <td>90.0</td>\n      <td>86.0</td>\n      <td>97.0</td>\n      <td>93.0</td>\n      <td>94.0</td>\n      <td>...</td>\n      <td>94.0</td>\n      <td>48.0</td>\n      <td>22.0</td>\n      <td>94.0</td>\n      <td>94.0</td>\n      <td>75.0</td>\n      <td>96.0</td>\n      <td>33.0</td>\n      <td>28.0</td>\n      <td>26.0</td>\n    </tr>\n    <tr>\n      <th>1</th>\n      <td>94</td>\n      <td>ST</td>\n      <td>84.0</td>\n      <td>94.0</td>\n      <td>89.0</td>\n      <td>81.0</td>\n      <td>87.0</td>\n      <td>88.0</td>\n      <td>81.0</td>\n      <td>76.0</td>\n      <td>...</td>\n      <td>93.0</td>\n      <td>63.0</td>\n      <td>29.0</td>\n      <td>95.0</td>\n      <td>82.0</td>\n      <td>85.0</td>\n      <td>95.0</td>\n      <td>28.0</td>\n      <td>31.0</td>\n      <td>23.0</td>\n    </tr>\n    <tr>\n      <th>2</th>\n      <td>92</td>\n      <td>LW</td>\n      <td>79.0</td>\n      <td>87.0</td>\n      <td>62.0</td>\n      <td>84.0</td>\n      <td>84.0</td>\n      <td>96.0</td>\n      <td>88.0</td>\n      <td>87.0</td>\n      <td>...</td>\n      <td>82.0</td>\n      <td>56.0</td>\n      <td>36.0</td>\n      <td>89.0</td>\n      <td>87.0</td>\n      <td>81.0</td>\n      <td>94.0</td>\n      <td>27.0</td>\n      <td>24.0</td>\n      <td>33.0</td>\n    </tr>\n    <tr>\n      <th>4</th>\n      <td>91</td>\n      <td>RCM</td>\n      <td>93.0</td>\n      <td>82.0</td>\n      <td>55.0</td>\n      <td>92.0</td>\n      <td>82.0</td>\n      <td>86.0</td>\n      <td>85.0</td>\n      <td>83.0</td>\n      <td>...</td>\n      <td>91.0</td>\n      <td>76.0</td>\n      <td>61.0</td>\n      <td>87.0</td>\n      <td>94.0</td>\n      <td>79.0</td>\n      <td>88.0</td>\n      <td>68.0</td>\n      <td>58.0</td>\n      <td>51.0</td>\n    </tr>\n    <tr>\n      <th>5</th>\n      <td>91</td>\n      <td>LF</td>\n      <td>81.0</td>\n      <td>84.0</td>\n      <td>61.0</td>\n      <td>89.0</td>\n      <td>80.0</td>\n      <td>95.0</td>\n      <td>83.0</td>\n      <td>79.0</td>\n      <td>...</td>\n      <td>80.0</td>\n      <td>54.0</td>\n      <td>41.0</td>\n      <td>87.0</td>\n      <td>89.0</td>\n      <td>86.0</td>\n      <td>91.0</td>\n      <td>34.0</td>\n      <td>27.0</td>\n      <td>22.0</td>\n    </tr>\n    <tr>\n      <th>6</th>\n      <td>91</td>\n      <td>RCM</td>\n      <td>86.0</td>\n      <td>72.0</td>\n      <td>55.0</td>\n      <td>93.0</td>\n      <td>76.0</td>\n      <td>90.0</td>\n      <td>85.0</td>\n      <td>78.0</td>\n      <td>...</td>\n      <td>82.0</td>\n      <td>62.0</td>\n      <td>83.0</td>\n      <td>79.0</td>\n      <td>92.0</td>\n      <td>82.0</td>\n      <td>84.0</td>\n      <td>60.0</td>\n      <td>76.0</td>\n      <td>73.0</td>\n    </tr>\n    <tr>\n      <th>7</th>\n      <td>91</td>\n      <td>RS</td>\n      <td>77.0</td>\n      <td>93.0</td>\n      <td>77.0</td>\n      <td>82.0</td>\n      <td>88.0</td>\n      <td>87.0</td>\n      <td>86.0</td>\n      <td>84.0</td>\n      <td>...</td>\n      <td>85.0</td>\n      <td>87.0</td>\n      <td>41.0</td>\n      <td>92.0</td>\n      <td>84.0</td>\n      <td>85.0</td>\n      <td>85.0</td>\n      <td>62.0</td>\n      <td>45.0</td>\n      <td>38.0</td>\n    </tr>\n    <tr>\n      <th>8</th>\n      <td>91</td>\n      <td>RCB</td>\n      <td>66.0</td>\n      <td>60.0</td>\n      <td>91.0</td>\n      <td>78.0</td>\n      <td>66.0</td>\n      <td>63.0</td>\n      <td>74.0</td>\n      <td>72.0</td>\n      <td>...</td>\n      <td>59.0</td>\n      <td>88.0</td>\n      <td>90.0</td>\n      <td>60.0</td>\n      <td>63.0</td>\n      <td>75.0</td>\n      <td>82.0</td>\n      <td>87.0</td>\n      <td>92.0</td>\n      <td>91.0</td>\n    </tr>\n    <tr>\n      <th>10</th>\n      <td>90</td>\n      <td>ST</td>\n      <td>62.0</td>\n      <td>91.0</td>\n      <td>85.0</td>\n      <td>83.0</td>\n      <td>89.0</td>\n      <td>85.0</td>\n      <td>77.0</td>\n      <td>86.0</td>\n      <td>...</td>\n      <td>84.0</td>\n      <td>80.0</td>\n      <td>39.0</td>\n      <td>91.0</td>\n      <td>77.0</td>\n      <td>88.0</td>\n      <td>86.0</td>\n      <td>34.0</td>\n      <td>42.0</td>\n      <td>19.0</td>\n    </tr>\n    <tr>\n      <th>11</th>\n      <td>90</td>\n      <td>LCM</td>\n      <td>88.0</td>\n      <td>76.0</td>\n      <td>54.0</td>\n      <td>92.0</td>\n      <td>82.0</td>\n      <td>81.0</td>\n      <td>86.0</td>\n      <td>84.0</td>\n      <td>...</td>\n      <td>92.0</td>\n      <td>60.0</td>\n      <td>82.0</td>\n      <td>79.0</td>\n      <td>86.0</td>\n      <td>73.0</td>\n      <td>85.0</td>\n      <td>72.0</td>\n      <td>79.0</td>\n      <td>69.0</td>\n    </tr>\n  </tbody>\n</table>\n<p>10 rows × 31 columns</p>\n</div>"
     },
     "metadata": {}
    }
   ],
   "execution_count": null
  },
  {
   "cell_type": "markdown",
   "source": "We remove \"Position\" and those attributes with a correlation value less than 0.4, assuming that they do not excessively influence the overall value. ",
   "metadata": {
    "id": "_cZBM_6d44pm",
    "cell_id": "00020-b5f50c3e-b759-48ac-8290-9d7db3682931",
    "deepnote_cell_type": "markdown"
   }
  },
  {
   "cell_type": "code",
   "metadata": {
    "id": "qRGsELNf6BqX",
    "executionInfo": {
     "status": "ok",
     "timestamp": 1632395387317,
     "user_tz": -120,
     "elapsed": 27,
     "user": {
      "displayName": "Daniel Manrique",
      "photoUrl": "https://lh3.googleusercontent.com/a-/AOh14GitdHbMelm6f6tHV3gogFTulR815SvuoEcosIv2kg=s64",
      "userId": "14181066300969909559"
     }
    },
    "cell_id": "00021-517a8c32-1df0-4d2b-8414-1d61979a11b8",
    "deepnote_to_be_reexecuted": false,
    "source_hash": "5dde7cbc",
    "execution_start": 1636882674697,
    "execution_millis": 3,
    "deepnote_cell_type": "code"
   },
   "source": "dataset.drop(['Position'], inplace=True, axis = 1)\ndataset.drop(['Finishing'], inplace=True, axis = 1)\ndataset.drop(dataset.loc[:, 'Acceleration':'Agility'].columns, inplace=True, axis = 1)\ndataset.drop(['Balance'], inplace=True, axis = 1)\ndataset.drop(['Jumping'], inplace=True, axis = 1)\ndataset.drop(['Strength'], inplace=True, axis = 1)\ndataset.drop(['Interceptions'], inplace=True, axis = 1)\ndataset.drop(['Penalties'], inplace=True, axis = 1)\ndataset.drop(dataset.loc[:, 'Marking':'SlidingTackle'].columns, inplace=True, axis = 1)",
   "outputs": [],
   "execution_count": null
  },
  {
   "cell_type": "code",
   "metadata": {
    "id": "jEohC8hu79rK",
    "colab": {
     "base_uri": "https://localhost:8080/"
    },
    "executionInfo": {
     "status": "ok",
     "timestamp": 1632395387318,
     "user_tz": -120,
     "elapsed": 27,
     "user": {
      "displayName": "Daniel Manrique",
      "photoUrl": "https://lh3.googleusercontent.com/a-/AOh14GitdHbMelm6f6tHV3gogFTulR815SvuoEcosIv2kg=s64",
      "userId": "14181066300969909559"
     }
    },
    "outputId": "180610c1-6721-4c0c-91ed-53b29617fd0b",
    "cell_id": "00022-71177e9d-2447-4bb4-b4d0-8b105c0c5c80",
    "deepnote_to_be_reexecuted": false,
    "source_hash": "60577c1c",
    "execution_start": 1636882676095,
    "execution_millis": 10,
    "deepnote_cell_type": "code"
   },
   "source": "dataset.shape",
   "outputs": [
    {
     "output_type": "execute_result",
     "execution_count": 15,
     "data": {
      "text/plain": "(16122, 18)"
     },
     "metadata": {}
    }
   ],
   "execution_count": null
  },
  {
   "cell_type": "markdown",
   "source": "**Third Step:** shuffle the dataset (three times).",
   "metadata": {
    "id": "ecx5zTQW9DD2",
    "cell_id": "00023-93cac186-e478-4a26-b602-3235fbf5978c",
    "deepnote_cell_type": "markdown"
   }
  },
  {
   "cell_type": "code",
   "metadata": {
    "id": "lJVd57Hh8Ftl",
    "colab": {
     "base_uri": "https://localhost:8080/",
     "height": 228
    },
    "executionInfo": {
     "status": "ok",
     "timestamp": 1632395387318,
     "user_tz": -120,
     "elapsed": 14,
     "user": {
      "displayName": "Daniel Manrique",
      "photoUrl": "https://lh3.googleusercontent.com/a-/AOh14GitdHbMelm6f6tHV3gogFTulR815SvuoEcosIv2kg=s64",
      "userId": "14181066300969909559"
     }
    },
    "outputId": "f9a43fa0-3207-465e-a600-1a42a96a565f",
    "cell_id": "00024-63b2f0be-18b9-4ff4-8342-a0dc9f16bfa4",
    "deepnote_to_be_reexecuted": false,
    "source_hash": "b4b6a579",
    "execution_start": 1636882722761,
    "execution_millis": 57,
    "deepnote_cell_type": "code"
   },
   "source": "dataset=dataset.sample(frac=1) #frac is the fraction of axis items to return. 1 means all of them\ndataset=dataset.sample(frac=1)\ndataset=dataset.sample(frac=1).reset_index(drop=True) #Reset index and drop the old one\ndataset.head()",
   "outputs": [
    {
     "output_type": "execute_result",
     "execution_count": 16,
     "data": {
      "application/vnd.deepnote.dataframe.v2+json": {
       "row_count": 5,
       "column_count": 18,
       "columns": [
        {
         "name": "Overall",
         "dtype": "int64",
         "stats": {
          "unique_count": 3,
          "nan_count": 0,
          "min": "54",
          "max": "68",
          "histogram": [
           {
            "bin_start": 54,
            "bin_end": 55.4,
            "count": 1
           },
           {
            "bin_start": 55.4,
            "bin_end": 56.8,
            "count": 0
           },
           {
            "bin_start": 56.8,
            "bin_end": 58.2,
            "count": 0
           },
           {
            "bin_start": 58.2,
            "bin_end": 59.6,
            "count": 0
           },
           {
            "bin_start": 59.6,
            "bin_end": 61,
            "count": 0
           },
           {
            "bin_start": 61,
            "bin_end": 62.4,
            "count": 1
           },
           {
            "bin_start": 62.4,
            "bin_end": 63.8,
            "count": 0
           },
           {
            "bin_start": 63.8,
            "bin_end": 65.2,
            "count": 0
           },
           {
            "bin_start": 65.2,
            "bin_end": 66.6,
            "count": 0
           },
           {
            "bin_start": 66.6,
            "bin_end": 68,
            "count": 3
           }
          ]
         }
        },
        {
         "name": "Crossing",
         "dtype": "float64",
         "stats": {
          "unique_count": 5,
          "nan_count": 0,
          "min": "28.0",
          "max": "62.0",
          "histogram": [
           {
            "bin_start": 28,
            "bin_end": 31.4,
            "count": 2
           },
           {
            "bin_start": 31.4,
            "bin_end": 34.8,
            "count": 0
           },
           {
            "bin_start": 34.8,
            "bin_end": 38.2,
            "count": 1
           },
           {
            "bin_start": 38.2,
            "bin_end": 41.6,
            "count": 0
           },
           {
            "bin_start": 41.6,
            "bin_end": 45,
            "count": 0
           },
           {
            "bin_start": 45,
            "bin_end": 48.4,
            "count": 0
           },
           {
            "bin_start": 48.4,
            "bin_end": 51.8,
            "count": 0
           },
           {
            "bin_start": 51.8,
            "bin_end": 55.2,
            "count": 1
           },
           {
            "bin_start": 55.2,
            "bin_end": 58.599999999999994,
            "count": 0
           },
           {
            "bin_start": 58.599999999999994,
            "bin_end": 62,
            "count": 1
           }
          ]
         }
        },
        {
         "name": "HeadingAccuracy",
         "dtype": "float64",
         "stats": {
          "unique_count": 5,
          "nan_count": 0,
          "min": "42.0",
          "max": "74.0",
          "histogram": [
           {
            "bin_start": 42,
            "bin_end": 45.2,
            "count": 1
           },
           {
            "bin_start": 45.2,
            "bin_end": 48.4,
            "count": 0
           },
           {
            "bin_start": 48.4,
            "bin_end": 51.6,
            "count": 0
           },
           {
            "bin_start": 51.6,
            "bin_end": 54.8,
            "count": 0
           },
           {
            "bin_start": 54.8,
            "bin_end": 58,
            "count": 0
           },
           {
            "bin_start": 58,
            "bin_end": 61.2,
            "count": 2
           },
           {
            "bin_start": 61.2,
            "bin_end": 64.4,
            "count": 1
           },
           {
            "bin_start": 64.4,
            "bin_end": 67.6,
            "count": 0
           },
           {
            "bin_start": 67.6,
            "bin_end": 70.8,
            "count": 0
           },
           {
            "bin_start": 70.8,
            "bin_end": 74,
            "count": 1
           }
          ]
         }
        },
        {
         "name": "ShortPassing",
         "dtype": "float64",
         "stats": {
          "unique_count": 5,
          "nan_count": 0,
          "min": "44.0",
          "max": "69.0",
          "histogram": [
           {
            "bin_start": 44,
            "bin_end": 46.5,
            "count": 1
           },
           {
            "bin_start": 46.5,
            "bin_end": 49,
            "count": 0
           },
           {
            "bin_start": 49,
            "bin_end": 51.5,
            "count": 0
           },
           {
            "bin_start": 51.5,
            "bin_end": 54,
            "count": 0
           },
           {
            "bin_start": 54,
            "bin_end": 56.5,
            "count": 1
           },
           {
            "bin_start": 56.5,
            "bin_end": 59,
            "count": 0
           },
           {
            "bin_start": 59,
            "bin_end": 61.5,
            "count": 0
           },
           {
            "bin_start": 61.5,
            "bin_end": 64,
            "count": 0
           },
           {
            "bin_start": 64,
            "bin_end": 66.5,
            "count": 2
           },
           {
            "bin_start": 66.5,
            "bin_end": 69,
            "count": 1
           }
          ]
         }
        },
        {
         "name": "Volleys",
         "dtype": "float64",
         "stats": {
          "unique_count": 4,
          "nan_count": 0,
          "min": "22.0",
          "max": "45.0",
          "histogram": [
           {
            "bin_start": 22,
            "bin_end": 24.3,
            "count": 1
           },
           {
            "bin_start": 24.3,
            "bin_end": 26.6,
            "count": 1
           },
           {
            "bin_start": 26.6,
            "bin_end": 28.9,
            "count": 0
           },
           {
            "bin_start": 28.9,
            "bin_end": 31.2,
            "count": 0
           },
           {
            "bin_start": 31.2,
            "bin_end": 33.5,
            "count": 0
           },
           {
            "bin_start": 33.5,
            "bin_end": 35.8,
            "count": 0
           },
           {
            "bin_start": 35.8,
            "bin_end": 38.099999999999994,
            "count": 0
           },
           {
            "bin_start": 38.099999999999994,
            "bin_end": 40.4,
            "count": 0
           },
           {
            "bin_start": 40.4,
            "bin_end": 42.7,
            "count": 0
           },
           {
            "bin_start": 42.7,
            "bin_end": 45,
            "count": 3
           }
          ]
         }
        },
        {
         "name": "Dribbling",
         "dtype": "float64",
         "stats": {
          "unique_count": 5,
          "nan_count": 0,
          "min": "49.0",
          "max": "76.0",
          "histogram": [
           {
            "bin_start": 49,
            "bin_end": 51.7,
            "count": 1
           },
           {
            "bin_start": 51.7,
            "bin_end": 54.4,
            "count": 1
           },
           {
            "bin_start": 54.4,
            "bin_end": 57.1,
            "count": 0
           },
           {
            "bin_start": 57.1,
            "bin_end": 59.8,
            "count": 1
           },
           {
            "bin_start": 59.8,
            "bin_end": 62.5,
            "count": 0
           },
           {
            "bin_start": 62.5,
            "bin_end": 65.2,
            "count": 0
           },
           {
            "bin_start": 65.2,
            "bin_end": 67.9,
            "count": 1
           },
           {
            "bin_start": 67.9,
            "bin_end": 70.6,
            "count": 0
           },
           {
            "bin_start": 70.6,
            "bin_end": 73.3,
            "count": 0
           },
           {
            "bin_start": 73.3,
            "bin_end": 76,
            "count": 1
           }
          ]
         }
        },
        {
         "name": "Curve",
         "dtype": "float64",
         "stats": {
          "unique_count": 5,
          "nan_count": 0,
          "min": "28.0",
          "max": "52.0",
          "histogram": [
           {
            "bin_start": 28,
            "bin_end": 30.4,
            "count": 2
           },
           {
            "bin_start": 30.4,
            "bin_end": 32.8,
            "count": 1
           },
           {
            "bin_start": 32.8,
            "bin_end": 35.2,
            "count": 0
           },
           {
            "bin_start": 35.2,
            "bin_end": 37.6,
            "count": 0
           },
           {
            "bin_start": 37.6,
            "bin_end": 40,
            "count": 0
           },
           {
            "bin_start": 40,
            "bin_end": 42.4,
            "count": 0
           },
           {
            "bin_start": 42.4,
            "bin_end": 44.8,
            "count": 0
           },
           {
            "bin_start": 44.8,
            "bin_end": 47.2,
            "count": 0
           },
           {
            "bin_start": 47.2,
            "bin_end": 49.599999999999994,
            "count": 1
           },
           {
            "bin_start": 49.599999999999994,
            "bin_end": 52,
            "count": 1
           }
          ]
         }
        },
        {
         "name": "FKAccuracy",
         "dtype": "float64",
         "stats": {
          "unique_count": 5,
          "nan_count": 0,
          "min": "21.0",
          "max": "42.0",
          "histogram": [
           {
            "bin_start": 21,
            "bin_end": 23.1,
            "count": 2
           },
           {
            "bin_start": 23.1,
            "bin_end": 25.2,
            "count": 0
           },
           {
            "bin_start": 25.2,
            "bin_end": 27.3,
            "count": 1
           },
           {
            "bin_start": 27.3,
            "bin_end": 29.4,
            "count": 0
           },
           {
            "bin_start": 29.4,
            "bin_end": 31.5,
            "count": 0
           },
           {
            "bin_start": 31.5,
            "bin_end": 33.6,
            "count": 1
           },
           {
            "bin_start": 33.6,
            "bin_end": 35.7,
            "count": 0
           },
           {
            "bin_start": 35.7,
            "bin_end": 37.8,
            "count": 0
           },
           {
            "bin_start": 37.8,
            "bin_end": 39.900000000000006,
            "count": 0
           },
           {
            "bin_start": 39.900000000000006,
            "bin_end": 42,
            "count": 1
           }
          ]
         }
        },
        {
         "name": "LongPassing",
         "dtype": "float64",
         "stats": {
          "unique_count": 5,
          "nan_count": 0,
          "min": "42.0",
          "max": "63.0",
          "histogram": [
           {
            "bin_start": 42,
            "bin_end": 44.1,
            "count": 1
           },
           {
            "bin_start": 44.1,
            "bin_end": 46.2,
            "count": 0
           },
           {
            "bin_start": 46.2,
            "bin_end": 48.3,
            "count": 0
           },
           {
            "bin_start": 48.3,
            "bin_end": 50.4,
            "count": 1
           },
           {
            "bin_start": 50.4,
            "bin_end": 52.5,
            "count": 0
           },
           {
            "bin_start": 52.5,
            "bin_end": 54.6,
            "count": 0
           },
           {
            "bin_start": 54.6,
            "bin_end": 56.7,
            "count": 0
           },
           {
            "bin_start": 56.7,
            "bin_end": 58.8,
            "count": 0
           },
           {
            "bin_start": 58.8,
            "bin_end": 60.900000000000006,
            "count": 1
           },
           {
            "bin_start": 60.900000000000006,
            "bin_end": 63,
            "count": 2
           }
          ]
         }
        },
        {
         "name": "BallControl",
         "dtype": "float64",
         "stats": {
          "unique_count": 5,
          "nan_count": 0,
          "min": "50.0",
          "max": "69.0",
          "histogram": [
           {
            "bin_start": 50,
            "bin_end": 51.9,
            "count": 1
           },
           {
            "bin_start": 51.9,
            "bin_end": 53.8,
            "count": 1
           },
           {
            "bin_start": 53.8,
            "bin_end": 55.7,
            "count": 1
           },
           {
            "bin_start": 55.7,
            "bin_end": 57.6,
            "count": 0
           },
           {
            "bin_start": 57.6,
            "bin_end": 59.5,
            "count": 0
           },
           {
            "bin_start": 59.5,
            "bin_end": 61.4,
            "count": 0
           },
           {
            "bin_start": 61.4,
            "bin_end": 63.3,
            "count": 1
           },
           {
            "bin_start": 63.3,
            "bin_end": 65.2,
            "count": 0
           },
           {
            "bin_start": 65.2,
            "bin_end": 67.1,
            "count": 0
           },
           {
            "bin_start": 67.1,
            "bin_end": 69,
            "count": 1
           }
          ]
         }
        },
        {
         "name": "Reactions",
         "dtype": "float64",
         "stats": {
          "unique_count": 4,
          "nan_count": 0,
          "min": "49.0",
          "max": "67.0",
          "histogram": [
           {
            "bin_start": 49,
            "bin_end": 50.8,
            "count": 1
           },
           {
            "bin_start": 50.8,
            "bin_end": 52.6,
            "count": 0
           },
           {
            "bin_start": 52.6,
            "bin_end": 54.4,
            "count": 0
           },
           {
            "bin_start": 54.4,
            "bin_end": 56.2,
            "count": 1
           },
           {
            "bin_start": 56.2,
            "bin_end": 58,
            "count": 0
           },
           {
            "bin_start": 58,
            "bin_end": 59.8,
            "count": 0
           },
           {
            "bin_start": 59.8,
            "bin_end": 61.6,
            "count": 1
           },
           {
            "bin_start": 61.6,
            "bin_end": 63.4,
            "count": 0
           },
           {
            "bin_start": 63.4,
            "bin_end": 65.2,
            "count": 0
           },
           {
            "bin_start": 65.2,
            "bin_end": 67,
            "count": 2
           }
          ]
         }
        },
        {
         "name": "ShotPower",
         "dtype": "float64",
         "stats": {
          "unique_count": 5,
          "nan_count": 0,
          "min": "37.0",
          "max": "63.0",
          "histogram": [
           {
            "bin_start": 37,
            "bin_end": 39.6,
            "count": 1
           },
           {
            "bin_start": 39.6,
            "bin_end": 42.2,
            "count": 0
           },
           {
            "bin_start": 42.2,
            "bin_end": 44.8,
            "count": 1
           },
           {
            "bin_start": 44.8,
            "bin_end": 47.4,
            "count": 0
           },
           {
            "bin_start": 47.4,
            "bin_end": 50,
            "count": 1
           },
           {
            "bin_start": 50,
            "bin_end": 52.6,
            "count": 0
           },
           {
            "bin_start": 52.6,
            "bin_end": 55.2,
            "count": 1
           },
           {
            "bin_start": 55.2,
            "bin_end": 57.8,
            "count": 0
           },
           {
            "bin_start": 57.8,
            "bin_end": 60.400000000000006,
            "count": 0
           },
           {
            "bin_start": 60.400000000000006,
            "bin_end": 63,
            "count": 1
           }
          ]
         }
        },
        {
         "name": "Stamina",
         "dtype": "float64",
         "stats": {
          "unique_count": 5,
          "nan_count": 0,
          "min": "63.0",
          "max": "75.0",
          "histogram": [
           {
            "bin_start": 63,
            "bin_end": 64.2,
            "count": 1
           },
           {
            "bin_start": 64.2,
            "bin_end": 65.4,
            "count": 1
           },
           {
            "bin_start": 65.4,
            "bin_end": 66.6,
            "count": 1
           },
           {
            "bin_start": 66.6,
            "bin_end": 67.8,
            "count": 1
           },
           {
            "bin_start": 67.8,
            "bin_end": 69,
            "count": 0
           },
           {
            "bin_start": 69,
            "bin_end": 70.2,
            "count": 0
           },
           {
            "bin_start": 70.2,
            "bin_end": 71.4,
            "count": 0
           },
           {
            "bin_start": 71.4,
            "bin_end": 72.6,
            "count": 0
           },
           {
            "bin_start": 72.6,
            "bin_end": 73.8,
            "count": 0
           },
           {
            "bin_start": 73.8,
            "bin_end": 75,
            "count": 1
           }
          ]
         }
        },
        {
         "name": "LongShots",
         "dtype": "float64",
         "stats": {
          "unique_count": 5,
          "nan_count": 0,
          "min": "18.0",
          "max": "58.0",
          "histogram": [
           {
            "bin_start": 18,
            "bin_end": 22,
            "count": 1
           },
           {
            "bin_start": 22,
            "bin_end": 26,
            "count": 0
           },
           {
            "bin_start": 26,
            "bin_end": 30,
            "count": 1
           },
           {
            "bin_start": 30,
            "bin_end": 34,
            "count": 0
           },
           {
            "bin_start": 34,
            "bin_end": 38,
            "count": 0
           },
           {
            "bin_start": 38,
            "bin_end": 42,
            "count": 0
           },
           {
            "bin_start": 42,
            "bin_end": 46,
            "count": 0
           },
           {
            "bin_start": 46,
            "bin_end": 50,
            "count": 2
           },
           {
            "bin_start": 50,
            "bin_end": 54,
            "count": 0
           },
           {
            "bin_start": 54,
            "bin_end": 58,
            "count": 1
           }
          ]
         }
        },
        {
         "name": "Aggression",
         "dtype": "float64",
         "stats": {
          "unique_count": 5,
          "nan_count": 0,
          "min": "40.0",
          "max": "82.0",
          "histogram": [
           {
            "bin_start": 40,
            "bin_end": 44.2,
            "count": 1
           },
           {
            "bin_start": 44.2,
            "bin_end": 48.4,
            "count": 1
           },
           {
            "bin_start": 48.4,
            "bin_end": 52.6,
            "count": 1
           },
           {
            "bin_start": 52.6,
            "bin_end": 56.8,
            "count": 0
           },
           {
            "bin_start": 56.8,
            "bin_end": 61,
            "count": 0
           },
           {
            "bin_start": 61,
            "bin_end": 65.2,
            "count": 0
           },
           {
            "bin_start": 65.2,
            "bin_end": 69.4,
            "count": 0
           },
           {
            "bin_start": 69.4,
            "bin_end": 73.6,
            "count": 1
           },
           {
            "bin_start": 73.6,
            "bin_end": 77.80000000000001,
            "count": 0
           },
           {
            "bin_start": 77.80000000000001,
            "bin_end": 82,
            "count": 1
           }
          ]
         }
        },
        {
         "name": "Positioning",
         "dtype": "float64",
         "stats": {
          "unique_count": 5,
          "nan_count": 0,
          "min": "25.0",
          "max": "62.0",
          "histogram": [
           {
            "bin_start": 25,
            "bin_end": 28.7,
            "count": 1
           },
           {
            "bin_start": 28.7,
            "bin_end": 32.4,
            "count": 1
           },
           {
            "bin_start": 32.4,
            "bin_end": 36.1,
            "count": 0
           },
           {
            "bin_start": 36.1,
            "bin_end": 39.8,
            "count": 0
           },
           {
            "bin_start": 39.8,
            "bin_end": 43.5,
            "count": 0
           },
           {
            "bin_start": 43.5,
            "bin_end": 47.2,
            "count": 0
           },
           {
            "bin_start": 47.2,
            "bin_end": 50.900000000000006,
            "count": 0
           },
           {
            "bin_start": 50.900000000000006,
            "bin_end": 54.6,
            "count": 1
           },
           {
            "bin_start": 54.6,
            "bin_end": 58.300000000000004,
            "count": 1
           },
           {
            "bin_start": 58.300000000000004,
            "bin_end": 62,
            "count": 1
           }
          ]
         }
        },
        {
         "name": "Vision",
         "dtype": "float64",
         "stats": {
          "unique_count": 5,
          "nan_count": 0,
          "min": "27.0",
          "max": "58.0",
          "histogram": [
           {
            "bin_start": 27,
            "bin_end": 30.1,
            "count": 1
           },
           {
            "bin_start": 30.1,
            "bin_end": 33.2,
            "count": 1
           },
           {
            "bin_start": 33.2,
            "bin_end": 36.3,
            "count": 0
           },
           {
            "bin_start": 36.3,
            "bin_end": 39.4,
            "count": 0
           },
           {
            "bin_start": 39.4,
            "bin_end": 42.5,
            "count": 0
           },
           {
            "bin_start": 42.5,
            "bin_end": 45.6,
            "count": 0
           },
           {
            "bin_start": 45.6,
            "bin_end": 48.7,
            "count": 0
           },
           {
            "bin_start": 48.7,
            "bin_end": 51.8,
            "count": 2
           },
           {
            "bin_start": 51.8,
            "bin_end": 54.900000000000006,
            "count": 0
           },
           {
            "bin_start": 54.900000000000006,
            "bin_end": 58,
            "count": 1
           }
          ]
         }
        },
        {
         "name": "Composure",
         "dtype": "float64",
         "stats": {
          "unique_count": 5,
          "nan_count": 0,
          "min": "48.0",
          "max": "63.0",
          "histogram": [
           {
            "bin_start": 48,
            "bin_end": 49.5,
            "count": 1
           },
           {
            "bin_start": 49.5,
            "bin_end": 51,
            "count": 0
           },
           {
            "bin_start": 51,
            "bin_end": 52.5,
            "count": 0
           },
           {
            "bin_start": 52.5,
            "bin_end": 54,
            "count": 0
           },
           {
            "bin_start": 54,
            "bin_end": 55.5,
            "count": 0
           },
           {
            "bin_start": 55.5,
            "bin_end": 57,
            "count": 1
           },
           {
            "bin_start": 57,
            "bin_end": 58.5,
            "count": 1
           },
           {
            "bin_start": 58.5,
            "bin_end": 60,
            "count": 0
           },
           {
            "bin_start": 60,
            "bin_end": 61.5,
            "count": 1
           },
           {
            "bin_start": 61.5,
            "bin_end": 63,
            "count": 1
           }
          ]
         }
        },
        {
         "name": "_deepnote_index_column",
         "dtype": "int64"
        }
       ],
       "rows_top": [
        {
         "Overall": 68,
         "Crossing": 30,
         "HeadingAccuracy": 74,
         "ShortPassing": 56,
         "Volleys": 22,
         "Dribbling": 49,
         "Curve": 30,
         "FKAccuracy": 27,
         "LongPassing": 49,
         "BallControl": 55,
         "Reactions": 67,
         "ShotPower": 37,
         "Stamina": 67,
         "LongShots": 18,
         "Aggression": 82,
         "Positioning": 30,
         "Vision": 31,
         "Composure": 61,
         "_deepnote_index_column": 0
        },
        {
         "Overall": 54,
         "Crossing": 28,
         "HeadingAccuracy": 60,
         "ShortPassing": 44,
         "Volleys": 43,
         "Dribbling": 54,
         "Curve": 31,
         "FKAccuracy": 21,
         "LongPassing": 42,
         "BallControl": 52,
         "Reactions": 49,
         "ShotPower": 49,
         "Stamina": 63,
         "LongShots": 46,
         "Aggression": 45,
         "Positioning": 53,
         "Vision": 49,
         "Composure": 48,
         "_deepnote_index_column": 1
        },
        {
         "Overall": 62,
         "Crossing": 62,
         "HeadingAccuracy": 59,
         "ShortPassing": 64,
         "Volleys": 43,
         "Dribbling": 67,
         "Curve": 52,
         "FKAccuracy": 33,
         "LongPassing": 61,
         "BallControl": 63,
         "Reactions": 55,
         "ShotPower": 63,
         "Stamina": 75,
         "LongShots": 47,
         "Aggression": 50,
         "Positioning": 58,
         "Vision": 50,
         "Composure": 56,
         "_deepnote_index_column": 2
        },
        {
         "Overall": 68,
         "Crossing": 36,
         "HeadingAccuracy": 62,
         "ShortPassing": 69,
         "Volleys": 26,
         "Dribbling": 58,
         "Curve": 28,
         "FKAccuracy": 22,
         "LongPassing": 63,
         "BallControl": 50,
         "Reactions": 67,
         "ShotPower": 44,
         "Stamina": 66,
         "LongShots": 29,
         "Aggression": 71,
         "Positioning": 25,
         "Vision": 27,
         "Composure": 57,
         "_deepnote_index_column": 3
        },
        {
         "Overall": 68,
         "Crossing": 55,
         "HeadingAccuracy": 42,
         "ShortPassing": 65,
         "Volleys": 45,
         "Dribbling": 76,
         "Curve": 48,
         "FKAccuracy": 42,
         "LongPassing": 60,
         "BallControl": 69,
         "Reactions": 61,
         "ShotPower": 55,
         "Stamina": 65,
         "LongShots": 58,
         "Aggression": 40,
         "Positioning": 62,
         "Vision": 58,
         "Composure": 63,
         "_deepnote_index_column": 4
        }
       ],
       "rows_bottom": null
      },
      "text/plain": "   Overall  Crossing  HeadingAccuracy  ShortPassing  Volleys  Dribbling  \\\n0       68      30.0             74.0          56.0     22.0       49.0   \n1       54      28.0             60.0          44.0     43.0       54.0   \n2       62      62.0             59.0          64.0     43.0       67.0   \n3       68      36.0             62.0          69.0     26.0       58.0   \n4       68      55.0             42.0          65.0     45.0       76.0   \n\n   Curve  FKAccuracy  LongPassing  BallControl  Reactions  ShotPower  Stamina  \\\n0   30.0        27.0         49.0         55.0       67.0       37.0     67.0   \n1   31.0        21.0         42.0         52.0       49.0       49.0     63.0   \n2   52.0        33.0         61.0         63.0       55.0       63.0     75.0   \n3   28.0        22.0         63.0         50.0       67.0       44.0     66.0   \n4   48.0        42.0         60.0         69.0       61.0       55.0     65.0   \n\n   LongShots  Aggression  Positioning  Vision  Composure  \n0       18.0        82.0         30.0    31.0       61.0  \n1       46.0        45.0         53.0    49.0       48.0  \n2       47.0        50.0         58.0    50.0       56.0  \n3       29.0        71.0         25.0    27.0       57.0  \n4       58.0        40.0         62.0    58.0       63.0  ",
      "text/html": "<div>\n<style scoped>\n    .dataframe tbody tr th:only-of-type {\n        vertical-align: middle;\n    }\n\n    .dataframe tbody tr th {\n        vertical-align: top;\n    }\n\n    .dataframe thead th {\n        text-align: right;\n    }\n</style>\n<table border=\"1\" class=\"dataframe\">\n  <thead>\n    <tr style=\"text-align: right;\">\n      <th></th>\n      <th>Overall</th>\n      <th>Crossing</th>\n      <th>HeadingAccuracy</th>\n      <th>ShortPassing</th>\n      <th>Volleys</th>\n      <th>Dribbling</th>\n      <th>Curve</th>\n      <th>FKAccuracy</th>\n      <th>LongPassing</th>\n      <th>BallControl</th>\n      <th>Reactions</th>\n      <th>ShotPower</th>\n      <th>Stamina</th>\n      <th>LongShots</th>\n      <th>Aggression</th>\n      <th>Positioning</th>\n      <th>Vision</th>\n      <th>Composure</th>\n    </tr>\n  </thead>\n  <tbody>\n    <tr>\n      <th>0</th>\n      <td>68</td>\n      <td>30.0</td>\n      <td>74.0</td>\n      <td>56.0</td>\n      <td>22.0</td>\n      <td>49.0</td>\n      <td>30.0</td>\n      <td>27.0</td>\n      <td>49.0</td>\n      <td>55.0</td>\n      <td>67.0</td>\n      <td>37.0</td>\n      <td>67.0</td>\n      <td>18.0</td>\n      <td>82.0</td>\n      <td>30.0</td>\n      <td>31.0</td>\n      <td>61.0</td>\n    </tr>\n    <tr>\n      <th>1</th>\n      <td>54</td>\n      <td>28.0</td>\n      <td>60.0</td>\n      <td>44.0</td>\n      <td>43.0</td>\n      <td>54.0</td>\n      <td>31.0</td>\n      <td>21.0</td>\n      <td>42.0</td>\n      <td>52.0</td>\n      <td>49.0</td>\n      <td>49.0</td>\n      <td>63.0</td>\n      <td>46.0</td>\n      <td>45.0</td>\n      <td>53.0</td>\n      <td>49.0</td>\n      <td>48.0</td>\n    </tr>\n    <tr>\n      <th>2</th>\n      <td>62</td>\n      <td>62.0</td>\n      <td>59.0</td>\n      <td>64.0</td>\n      <td>43.0</td>\n      <td>67.0</td>\n      <td>52.0</td>\n      <td>33.0</td>\n      <td>61.0</td>\n      <td>63.0</td>\n      <td>55.0</td>\n      <td>63.0</td>\n      <td>75.0</td>\n      <td>47.0</td>\n      <td>50.0</td>\n      <td>58.0</td>\n      <td>50.0</td>\n      <td>56.0</td>\n    </tr>\n    <tr>\n      <th>3</th>\n      <td>68</td>\n      <td>36.0</td>\n      <td>62.0</td>\n      <td>69.0</td>\n      <td>26.0</td>\n      <td>58.0</td>\n      <td>28.0</td>\n      <td>22.0</td>\n      <td>63.0</td>\n      <td>50.0</td>\n      <td>67.0</td>\n      <td>44.0</td>\n      <td>66.0</td>\n      <td>29.0</td>\n      <td>71.0</td>\n      <td>25.0</td>\n      <td>27.0</td>\n      <td>57.0</td>\n    </tr>\n    <tr>\n      <th>4</th>\n      <td>68</td>\n      <td>55.0</td>\n      <td>42.0</td>\n      <td>65.0</td>\n      <td>45.0</td>\n      <td>76.0</td>\n      <td>48.0</td>\n      <td>42.0</td>\n      <td>60.0</td>\n      <td>69.0</td>\n      <td>61.0</td>\n      <td>55.0</td>\n      <td>65.0</td>\n      <td>58.0</td>\n      <td>40.0</td>\n      <td>62.0</td>\n      <td>58.0</td>\n      <td>63.0</td>\n    </tr>\n  </tbody>\n</table>\n</div>"
     },
     "metadata": {}
    }
   ],
   "execution_count": null
  },
  {
   "cell_type": "markdown",
   "source": "**Fourth step:** The problem consists on classifying football players depending on their overall score (quality) into four categories: Poor, Intermediate, Good, and Excellent. We use a quatile-based discretization function to perform this task.  ",
   "metadata": {
    "id": "s6B6Kg_m-Jwr",
    "cell_id": "00025-e67833d1-eff4-46e2-83da-e6dd4d855409",
    "deepnote_cell_type": "markdown"
   }
  },
  {
   "cell_type": "code",
   "metadata": {
    "id": "fGXYnwIU_grk",
    "executionInfo": {
     "status": "ok",
     "timestamp": 1632395387318,
     "user_tz": -120,
     "elapsed": 12,
     "user": {
      "displayName": "Daniel Manrique",
      "photoUrl": "https://lh3.googleusercontent.com/a-/AOh14GitdHbMelm6f6tHV3gogFTulR815SvuoEcosIv2kg=s64",
      "userId": "14181066300969909559"
     }
    },
    "cell_id": "00026-3e04714c-07c3-498f-957c-24a7610f1ee7",
    "deepnote_to_be_reexecuted": false,
    "source_hash": "ba62ffda",
    "execution_start": 1636883293092,
    "execution_millis": 1,
    "deepnote_cell_type": "code"
   },
   "source": "labels = pd.qcut(dataset[\"Overall\"],4,labels=False)",
   "outputs": [],
   "execution_count": null
  },
  {
   "cell_type": "code",
   "metadata": {
    "id": "NT6MwM2sCCER",
    "colab": {
     "base_uri": "https://localhost:8080/",
     "height": 386
    },
    "executionInfo": {
     "status": "ok",
     "timestamp": 1632395387319,
     "user_tz": -120,
     "elapsed": 13,
     "user": {
      "displayName": "Daniel Manrique",
      "photoUrl": "https://lh3.googleusercontent.com/a-/AOh14GitdHbMelm6f6tHV3gogFTulR815SvuoEcosIv2kg=s64",
      "userId": "14181066300969909559"
     }
    },
    "outputId": "284bb904-16fe-4918-9288-cf009a338ae6",
    "cell_id": "00027-bbf6f3ac-cd7b-49b5-be06-2ba1fe97071f",
    "deepnote_to_be_reexecuted": false,
    "source_hash": "33e4c874",
    "execution_start": 1636883372757,
    "execution_millis": 32,
    "deepnote_cell_type": "code"
   },
   "source": "dataset.insert(1,\"Quality\",labels)\ndataset[:10]",
   "outputs": [
    {
     "output_type": "execute_result",
     "execution_count": 18,
     "data": {
      "application/vnd.deepnote.dataframe.v2+json": {
       "row_count": 10,
       "column_count": 19,
       "columns": [
        {
         "name": "Overall",
         "dtype": "int64",
         "stats": {
          "unique_count": 8,
          "nan_count": 0,
          "min": "54",
          "max": "73",
          "histogram": [
           {
            "bin_start": 54,
            "bin_end": 55.9,
            "count": 1
           },
           {
            "bin_start": 55.9,
            "bin_end": 57.8,
            "count": 0
           },
           {
            "bin_start": 57.8,
            "bin_end": 59.7,
            "count": 2
           },
           {
            "bin_start": 59.7,
            "bin_end": 61.6,
            "count": 0
           },
           {
            "bin_start": 61.6,
            "bin_end": 63.5,
            "count": 1
           },
           {
            "bin_start": 63.5,
            "bin_end": 65.4,
            "count": 1
           },
           {
            "bin_start": 65.4,
            "bin_end": 67.3,
            "count": 0
           },
           {
            "bin_start": 67.3,
            "bin_end": 69.2,
            "count": 4
           },
           {
            "bin_start": 69.2,
            "bin_end": 71.1,
            "count": 0
           },
           {
            "bin_start": 71.1,
            "bin_end": 73,
            "count": 1
           }
          ]
         }
        },
        {
         "name": "Quality",
         "dtype": "int64",
         "stats": {
          "unique_count": 4,
          "nan_count": 0,
          "min": "0",
          "max": "3",
          "histogram": [
           {
            "bin_start": 0,
            "bin_end": 0.3,
            "count": 4
           },
           {
            "bin_start": 0.3,
            "bin_end": 0.6,
            "count": 0
           },
           {
            "bin_start": 0.6,
            "bin_end": 0.8999999999999999,
            "count": 0
           },
           {
            "bin_start": 0.8999999999999999,
            "bin_end": 1.2,
            "count": 1
           },
           {
            "bin_start": 1.2,
            "bin_end": 1.5,
            "count": 0
           },
           {
            "bin_start": 1.5,
            "bin_end": 1.7999999999999998,
            "count": 0
           },
           {
            "bin_start": 1.7999999999999998,
            "bin_end": 2.1,
            "count": 4
           },
           {
            "bin_start": 2.1,
            "bin_end": 2.4,
            "count": 0
           },
           {
            "bin_start": 2.4,
            "bin_end": 2.6999999999999997,
            "count": 0
           },
           {
            "bin_start": 2.6999999999999997,
            "bin_end": 3,
            "count": 1
           }
          ]
         }
        },
        {
         "name": "Crossing",
         "dtype": "float64",
         "stats": {
          "unique_count": 10,
          "nan_count": 0,
          "min": "28.0",
          "max": "65.0",
          "histogram": [
           {
            "bin_start": 28,
            "bin_end": 31.7,
            "count": 2
           },
           {
            "bin_start": 31.7,
            "bin_end": 35.4,
            "count": 0
           },
           {
            "bin_start": 35.4,
            "bin_end": 39.1,
            "count": 2
           },
           {
            "bin_start": 39.1,
            "bin_end": 42.8,
            "count": 0
           },
           {
            "bin_start": 42.8,
            "bin_end": 46.5,
            "count": 0
           },
           {
            "bin_start": 46.5,
            "bin_end": 50.2,
            "count": 0
           },
           {
            "bin_start": 50.2,
            "bin_end": 53.900000000000006,
            "count": 0
           },
           {
            "bin_start": 53.900000000000006,
            "bin_end": 57.6,
            "count": 2
           },
           {
            "bin_start": 57.6,
            "bin_end": 61.300000000000004,
            "count": 1
           },
           {
            "bin_start": 61.300000000000004,
            "bin_end": 65,
            "count": 3
           }
          ]
         }
        },
        {
         "name": "HeadingAccuracy",
         "dtype": "float64",
         "stats": {
          "unique_count": 9,
          "nan_count": 0,
          "min": "39.0",
          "max": "74.0",
          "histogram": [
           {
            "bin_start": 39,
            "bin_end": 42.5,
            "count": 3
           },
           {
            "bin_start": 42.5,
            "bin_end": 46,
            "count": 0
           },
           {
            "bin_start": 46,
            "bin_end": 49.5,
            "count": 0
           },
           {
            "bin_start": 49.5,
            "bin_end": 53,
            "count": 1
           },
           {
            "bin_start": 53,
            "bin_end": 56.5,
            "count": 1
           },
           {
            "bin_start": 56.5,
            "bin_end": 60,
            "count": 2
           },
           {
            "bin_start": 60,
            "bin_end": 63.5,
            "count": 2
           },
           {
            "bin_start": 63.5,
            "bin_end": 67,
            "count": 0
           },
           {
            "bin_start": 67,
            "bin_end": 70.5,
            "count": 0
           },
           {
            "bin_start": 70.5,
            "bin_end": 74,
            "count": 1
           }
          ]
         }
        },
        {
         "name": "ShortPassing",
         "dtype": "float64",
         "stats": {
          "unique_count": 10,
          "nan_count": 0,
          "min": "44.0",
          "max": "73.0",
          "histogram": [
           {
            "bin_start": 44,
            "bin_end": 46.9,
            "count": 1
           },
           {
            "bin_start": 46.9,
            "bin_end": 49.8,
            "count": 0
           },
           {
            "bin_start": 49.8,
            "bin_end": 52.7,
            "count": 0
           },
           {
            "bin_start": 52.7,
            "bin_end": 55.6,
            "count": 2
           },
           {
            "bin_start": 55.6,
            "bin_end": 58.5,
            "count": 2
           },
           {
            "bin_start": 58.5,
            "bin_end": 61.4,
            "count": 0
           },
           {
            "bin_start": 61.4,
            "bin_end": 64.3,
            "count": 1
           },
           {
            "bin_start": 64.3,
            "bin_end": 67.2,
            "count": 1
           },
           {
            "bin_start": 67.2,
            "bin_end": 70.1,
            "count": 2
           },
           {
            "bin_start": 70.1,
            "bin_end": 73,
            "count": 1
           }
          ]
         }
        },
        {
         "name": "Volleys",
         "dtype": "float64",
         "stats": {
          "unique_count": 8,
          "nan_count": 0,
          "min": "22.0",
          "max": "68.0",
          "histogram": [
           {
            "bin_start": 22,
            "bin_end": 26.6,
            "count": 2
           },
           {
            "bin_start": 26.6,
            "bin_end": 31.2,
            "count": 1
           },
           {
            "bin_start": 31.2,
            "bin_end": 35.8,
            "count": 0
           },
           {
            "bin_start": 35.8,
            "bin_end": 40.4,
            "count": 3
           },
           {
            "bin_start": 40.4,
            "bin_end": 45,
            "count": 2
           },
           {
            "bin_start": 45,
            "bin_end": 49.599999999999994,
            "count": 1
           },
           {
            "bin_start": 49.599999999999994,
            "bin_end": 54.199999999999996,
            "count": 0
           },
           {
            "bin_start": 54.199999999999996,
            "bin_end": 58.8,
            "count": 0
           },
           {
            "bin_start": 58.8,
            "bin_end": 63.4,
            "count": 0
           },
           {
            "bin_start": 63.4,
            "bin_end": 68,
            "count": 1
           }
          ]
         }
        },
        {
         "name": "Dribbling",
         "dtype": "float64",
         "stats": {
          "unique_count": 8,
          "nan_count": 0,
          "min": "45.0",
          "max": "80.0",
          "histogram": [
           {
            "bin_start": 45,
            "bin_end": 48.5,
            "count": 1
           },
           {
            "bin_start": 48.5,
            "bin_end": 52,
            "count": 2
           },
           {
            "bin_start": 52,
            "bin_end": 55.5,
            "count": 1
           },
           {
            "bin_start": 55.5,
            "bin_end": 59,
            "count": 1
           },
           {
            "bin_start": 59,
            "bin_end": 62.5,
            "count": 1
           },
           {
            "bin_start": 62.5,
            "bin_end": 66,
            "count": 0
           },
           {
            "bin_start": 66,
            "bin_end": 69.5,
            "count": 1
           },
           {
            "bin_start": 69.5,
            "bin_end": 73,
            "count": 0
           },
           {
            "bin_start": 73,
            "bin_end": 76.5,
            "count": 2
           },
           {
            "bin_start": 76.5,
            "bin_end": 80,
            "count": 1
           }
          ]
         }
        },
        {
         "name": "Curve",
         "dtype": "float64",
         "stats": {
          "unique_count": 10,
          "nan_count": 0,
          "min": "26.0",
          "max": "70.0",
          "histogram": [
           {
            "bin_start": 26,
            "bin_end": 30.4,
            "count": 3
           },
           {
            "bin_start": 30.4,
            "bin_end": 34.8,
            "count": 1
           },
           {
            "bin_start": 34.8,
            "bin_end": 39.2,
            "count": 0
           },
           {
            "bin_start": 39.2,
            "bin_end": 43.6,
            "count": 1
           },
           {
            "bin_start": 43.6,
            "bin_end": 48,
            "count": 0
           },
           {
            "bin_start": 48,
            "bin_end": 52.400000000000006,
            "count": 2
           },
           {
            "bin_start": 52.400000000000006,
            "bin_end": 56.800000000000004,
            "count": 1
           },
           {
            "bin_start": 56.800000000000004,
            "bin_end": 61.2,
            "count": 0
           },
           {
            "bin_start": 61.2,
            "bin_end": 65.6,
            "count": 0
           },
           {
            "bin_start": 65.6,
            "bin_end": 70,
            "count": 2
           }
          ]
         }
        },
        {
         "name": "FKAccuracy",
         "dtype": "float64",
         "stats": {
          "unique_count": 9,
          "nan_count": 0,
          "min": "21.0",
          "max": "53.0",
          "histogram": [
           {
            "bin_start": 21,
            "bin_end": 24.2,
            "count": 2
           },
           {
            "bin_start": 24.2,
            "bin_end": 27.4,
            "count": 1
           },
           {
            "bin_start": 27.4,
            "bin_end": 30.6,
            "count": 0
           },
           {
            "bin_start": 30.6,
            "bin_end": 33.8,
            "count": 2
           },
           {
            "bin_start": 33.8,
            "bin_end": 37,
            "count": 1
           },
           {
            "bin_start": 37,
            "bin_end": 40.2,
            "count": 0
           },
           {
            "bin_start": 40.2,
            "bin_end": 43.400000000000006,
            "count": 2
           },
           {
            "bin_start": 43.400000000000006,
            "bin_end": 46.6,
            "count": 0
           },
           {
            "bin_start": 46.6,
            "bin_end": 49.8,
            "count": 0
           },
           {
            "bin_start": 49.8,
            "bin_end": 53,
            "count": 2
           }
          ]
         }
        },
        {
         "name": "LongPassing",
         "dtype": "float64",
         "stats": {
          "unique_count": 8,
          "nan_count": 0,
          "min": "29.0",
          "max": "71.0",
          "histogram": [
           {
            "bin_start": 29,
            "bin_end": 33.2,
            "count": 1
           },
           {
            "bin_start": 33.2,
            "bin_end": 37.4,
            "count": 0
           },
           {
            "bin_start": 37.4,
            "bin_end": 41.6,
            "count": 0
           },
           {
            "bin_start": 41.6,
            "bin_end": 45.8,
            "count": 2
           },
           {
            "bin_start": 45.8,
            "bin_end": 50,
            "count": 2
           },
           {
            "bin_start": 50,
            "bin_end": 54.2,
            "count": 0
           },
           {
            "bin_start": 54.2,
            "bin_end": 58.400000000000006,
            "count": 0
           },
           {
            "bin_start": 58.400000000000006,
            "bin_end": 62.6,
            "count": 2
           },
           {
            "bin_start": 62.6,
            "bin_end": 66.80000000000001,
            "count": 2
           },
           {
            "bin_start": 66.80000000000001,
            "bin_end": 71,
            "count": 1
           }
          ]
         }
        },
        {
         "name": "BallControl",
         "dtype": "float64",
         "stats": {
          "unique_count": 9,
          "nan_count": 0,
          "min": "50.0",
          "max": "74.0",
          "histogram": [
           {
            "bin_start": 50,
            "bin_end": 52.4,
            "count": 2
           },
           {
            "bin_start": 52.4,
            "bin_end": 54.8,
            "count": 0
           },
           {
            "bin_start": 54.8,
            "bin_end": 57.2,
            "count": 3
           },
           {
            "bin_start": 57.2,
            "bin_end": 59.6,
            "count": 0
           },
           {
            "bin_start": 59.6,
            "bin_end": 62,
            "count": 0
           },
           {
            "bin_start": 62,
            "bin_end": 64.4,
            "count": 2
           },
           {
            "bin_start": 64.4,
            "bin_end": 66.8,
            "count": 0
           },
           {
            "bin_start": 66.8,
            "bin_end": 69.2,
            "count": 1
           },
           {
            "bin_start": 69.2,
            "bin_end": 71.6,
            "count": 0
           },
           {
            "bin_start": 71.6,
            "bin_end": 74,
            "count": 2
           }
          ]
         }
        },
        {
         "name": "Reactions",
         "dtype": "float64",
         "stats": {
          "unique_count": 7,
          "nan_count": 0,
          "min": "41.0",
          "max": "68.0",
          "histogram": [
           {
            "bin_start": 41,
            "bin_end": 43.7,
            "count": 1
           },
           {
            "bin_start": 43.7,
            "bin_end": 46.4,
            "count": 0
           },
           {
            "bin_start": 46.4,
            "bin_end": 49.1,
            "count": 1
           },
           {
            "bin_start": 49.1,
            "bin_end": 51.8,
            "count": 0
           },
           {
            "bin_start": 51.8,
            "bin_end": 54.5,
            "count": 0
           },
           {
            "bin_start": 54.5,
            "bin_end": 57.2,
            "count": 1
           },
           {
            "bin_start": 57.2,
            "bin_end": 59.900000000000006,
            "count": 0
           },
           {
            "bin_start": 59.900000000000006,
            "bin_end": 62.6,
            "count": 2
           },
           {
            "bin_start": 62.6,
            "bin_end": 65.3,
            "count": 2
           },
           {
            "bin_start": 65.3,
            "bin_end": 68,
            "count": 3
           }
          ]
         }
        },
        {
         "name": "ShotPower",
         "dtype": "float64",
         "stats": {
          "unique_count": 10,
          "nan_count": 0,
          "min": "29.0",
          "max": "77.0",
          "histogram": [
           {
            "bin_start": 29,
            "bin_end": 33.8,
            "count": 1
           },
           {
            "bin_start": 33.8,
            "bin_end": 38.6,
            "count": 1
           },
           {
            "bin_start": 38.6,
            "bin_end": 43.4,
            "count": 0
           },
           {
            "bin_start": 43.4,
            "bin_end": 48.2,
            "count": 1
           },
           {
            "bin_start": 48.2,
            "bin_end": 53,
            "count": 1
           },
           {
            "bin_start": 53,
            "bin_end": 57.8,
            "count": 3
           },
           {
            "bin_start": 57.8,
            "bin_end": 62.6,
            "count": 1
           },
           {
            "bin_start": 62.6,
            "bin_end": 67.4,
            "count": 1
           },
           {
            "bin_start": 67.4,
            "bin_end": 72.19999999999999,
            "count": 0
           },
           {
            "bin_start": 72.19999999999999,
            "bin_end": 77,
            "count": 1
           }
          ]
         }
        },
        {
         "name": "Stamina",
         "dtype": "float64",
         "stats": {
          "unique_count": 9,
          "nan_count": 0,
          "min": "50.0",
          "max": "78.0",
          "histogram": [
           {
            "bin_start": 50,
            "bin_end": 52.8,
            "count": 1
           },
           {
            "bin_start": 52.8,
            "bin_end": 55.6,
            "count": 0
           },
           {
            "bin_start": 55.6,
            "bin_end": 58.4,
            "count": 0
           },
           {
            "bin_start": 58.4,
            "bin_end": 61.2,
            "count": 1
           },
           {
            "bin_start": 61.2,
            "bin_end": 64,
            "count": 1
           },
           {
            "bin_start": 64,
            "bin_end": 66.8,
            "count": 3
           },
           {
            "bin_start": 66.8,
            "bin_end": 69.6,
            "count": 1
           },
           {
            "bin_start": 69.6,
            "bin_end": 72.4,
            "count": 0
           },
           {
            "bin_start": 72.4,
            "bin_end": 75.2,
            "count": 2
           },
           {
            "bin_start": 75.2,
            "bin_end": 78,
            "count": 1
           }
          ]
         }
        },
        {
         "name": "LongShots",
         "dtype": "float64",
         "stats": {
          "unique_count": 7,
          "nan_count": 0,
          "min": "18.0",
          "max": "69.0",
          "histogram": [
           {
            "bin_start": 18,
            "bin_end": 23.1,
            "count": 1
           },
           {
            "bin_start": 23.1,
            "bin_end": 28.2,
            "count": 0
           },
           {
            "bin_start": 28.2,
            "bin_end": 33.3,
            "count": 2
           },
           {
            "bin_start": 33.3,
            "bin_end": 38.4,
            "count": 0
           },
           {
            "bin_start": 38.4,
            "bin_end": 43.5,
            "count": 0
           },
           {
            "bin_start": 43.5,
            "bin_end": 48.599999999999994,
            "count": 4
           },
           {
            "bin_start": 48.599999999999994,
            "bin_end": 53.699999999999996,
            "count": 0
           },
           {
            "bin_start": 53.699999999999996,
            "bin_end": 58.8,
            "count": 2
           },
           {
            "bin_start": 58.8,
            "bin_end": 63.9,
            "count": 0
           },
           {
            "bin_start": 63.9,
            "bin_end": 69,
            "count": 1
           }
          ]
         }
        },
        {
         "name": "Aggression",
         "dtype": "float64",
         "stats": {
          "unique_count": 10,
          "nan_count": 0,
          "min": "28.0",
          "max": "82.0",
          "histogram": [
           {
            "bin_start": 28,
            "bin_end": 33.4,
            "count": 1
           },
           {
            "bin_start": 33.4,
            "bin_end": 38.8,
            "count": 1
           },
           {
            "bin_start": 38.8,
            "bin_end": 44.2,
            "count": 1
           },
           {
            "bin_start": 44.2,
            "bin_end": 49.6,
            "count": 2
           },
           {
            "bin_start": 49.6,
            "bin_end": 55,
            "count": 1
           },
           {
            "bin_start": 55,
            "bin_end": 60.400000000000006,
            "count": 1
           },
           {
            "bin_start": 60.400000000000006,
            "bin_end": 65.80000000000001,
            "count": 1
           },
           {
            "bin_start": 65.80000000000001,
            "bin_end": 71.2,
            "count": 1
           },
           {
            "bin_start": 71.2,
            "bin_end": 76.6,
            "count": 0
           },
           {
            "bin_start": 76.6,
            "bin_end": 82,
            "count": 1
           }
          ]
         }
        },
        {
         "name": "Positioning",
         "dtype": "float64",
         "stats": {
          "unique_count": 9,
          "nan_count": 0,
          "min": "25.0",
          "max": "69.0",
          "histogram": [
           {
            "bin_start": 25,
            "bin_end": 29.4,
            "count": 1
           },
           {
            "bin_start": 29.4,
            "bin_end": 33.8,
            "count": 1
           },
           {
            "bin_start": 33.8,
            "bin_end": 38.2,
            "count": 0
           },
           {
            "bin_start": 38.2,
            "bin_end": 42.6,
            "count": 0
           },
           {
            "bin_start": 42.6,
            "bin_end": 47,
            "count": 1
           },
           {
            "bin_start": 47,
            "bin_end": 51.400000000000006,
            "count": 1
           },
           {
            "bin_start": 51.400000000000006,
            "bin_end": 55.800000000000004,
            "count": 1
           },
           {
            "bin_start": 55.800000000000004,
            "bin_end": 60.2,
            "count": 3
           },
           {
            "bin_start": 60.2,
            "bin_end": 64.6,
            "count": 1
           },
           {
            "bin_start": 64.6,
            "bin_end": 69,
            "count": 1
           }
          ]
         }
        },
        {
         "name": "Vision",
         "dtype": "float64",
         "stats": {
          "unique_count": 10,
          "nan_count": 0,
          "min": "27.0",
          "max": "76.0",
          "histogram": [
           {
            "bin_start": 27,
            "bin_end": 31.9,
            "count": 2
           },
           {
            "bin_start": 31.9,
            "bin_end": 36.8,
            "count": 0
           },
           {
            "bin_start": 36.8,
            "bin_end": 41.7,
            "count": 1
           },
           {
            "bin_start": 41.7,
            "bin_end": 46.6,
            "count": 1
           },
           {
            "bin_start": 46.6,
            "bin_end": 51.5,
            "count": 2
           },
           {
            "bin_start": 51.5,
            "bin_end": 56.400000000000006,
            "count": 1
           },
           {
            "bin_start": 56.400000000000006,
            "bin_end": 61.300000000000004,
            "count": 1
           },
           {
            "bin_start": 61.300000000000004,
            "bin_end": 66.2,
            "count": 0
           },
           {
            "bin_start": 66.2,
            "bin_end": 71.1,
            "count": 1
           },
           {
            "bin_start": 71.1,
            "bin_end": 76,
            "count": 1
           }
          ]
         }
        },
        {
         "name": "Composure",
         "dtype": "float64",
         "stats": {
          "unique_count": 9,
          "nan_count": 0,
          "min": "46.0",
          "max": "71.0",
          "histogram": [
           {
            "bin_start": 46,
            "bin_end": 48.5,
            "count": 2
           },
           {
            "bin_start": 48.5,
            "bin_end": 51,
            "count": 0
           },
           {
            "bin_start": 51,
            "bin_end": 53.5,
            "count": 1
           },
           {
            "bin_start": 53.5,
            "bin_end": 56,
            "count": 0
           },
           {
            "bin_start": 56,
            "bin_end": 58.5,
            "count": 3
           },
           {
            "bin_start": 58.5,
            "bin_end": 61,
            "count": 0
           },
           {
            "bin_start": 61,
            "bin_end": 63.5,
            "count": 2
           },
           {
            "bin_start": 63.5,
            "bin_end": 66,
            "count": 1
           },
           {
            "bin_start": 66,
            "bin_end": 68.5,
            "count": 0
           },
           {
            "bin_start": 68.5,
            "bin_end": 71,
            "count": 1
           }
          ]
         }
        },
        {
         "name": "_deepnote_index_column",
         "dtype": "int64"
        }
       ],
       "rows_top": [
        {
         "Overall": 68,
         "Quality": 2,
         "Crossing": 30,
         "HeadingAccuracy": 74,
         "ShortPassing": 56,
         "Volleys": 22,
         "Dribbling": 49,
         "Curve": 30,
         "FKAccuracy": 27,
         "LongPassing": 49,
         "BallControl": 55,
         "Reactions": 67,
         "ShotPower": 37,
         "Stamina": 67,
         "LongShots": 18,
         "Aggression": 82,
         "Positioning": 30,
         "Vision": 31,
         "Composure": 61,
         "_deepnote_index_column": 0
        },
        {
         "Overall": 54,
         "Quality": 0,
         "Crossing": 28,
         "HeadingAccuracy": 60,
         "ShortPassing": 44,
         "Volleys": 43,
         "Dribbling": 54,
         "Curve": 31,
         "FKAccuracy": 21,
         "LongPassing": 42,
         "BallControl": 52,
         "Reactions": 49,
         "ShotPower": 49,
         "Stamina": 63,
         "LongShots": 46,
         "Aggression": 45,
         "Positioning": 53,
         "Vision": 49,
         "Composure": 48,
         "_deepnote_index_column": 1
        },
        {
         "Overall": 62,
         "Quality": 0,
         "Crossing": 62,
         "HeadingAccuracy": 59,
         "ShortPassing": 64,
         "Volleys": 43,
         "Dribbling": 67,
         "Curve": 52,
         "FKAccuracy": 33,
         "LongPassing": 61,
         "BallControl": 63,
         "Reactions": 55,
         "ShotPower": 63,
         "Stamina": 75,
         "LongShots": 47,
         "Aggression": 50,
         "Positioning": 58,
         "Vision": 50,
         "Composure": 56,
         "_deepnote_index_column": 2
        },
        {
         "Overall": 68,
         "Quality": 2,
         "Crossing": 36,
         "HeadingAccuracy": 62,
         "ShortPassing": 69,
         "Volleys": 26,
         "Dribbling": 58,
         "Curve": 28,
         "FKAccuracy": 22,
         "LongPassing": 63,
         "BallControl": 50,
         "Reactions": 67,
         "ShotPower": 44,
         "Stamina": 66,
         "LongShots": 29,
         "Aggression": 71,
         "Positioning": 25,
         "Vision": 27,
         "Composure": 57,
         "_deepnote_index_column": 3
        },
        {
         "Overall": 68,
         "Quality": 2,
         "Crossing": 55,
         "HeadingAccuracy": 42,
         "ShortPassing": 65,
         "Volleys": 45,
         "Dribbling": 76,
         "Curve": 48,
         "FKAccuracy": 42,
         "LongPassing": 60,
         "BallControl": 69,
         "Reactions": 61,
         "ShotPower": 55,
         "Stamina": 65,
         "LongShots": 58,
         "Aggression": 40,
         "Positioning": 62,
         "Vision": 58,
         "Composure": 63,
         "_deepnote_index_column": 4
        },
        {
         "Overall": 69,
         "Quality": 2,
         "Crossing": 65,
         "HeadingAccuracy": 42,
         "ShortPassing": 73,
         "Volleys": 40,
         "Dribbling": 76,
         "Curve": 67,
         "FKAccuracy": 53,
         "LongPassing": 71,
         "BallControl": 74,
         "Reactions": 68,
         "ShotPower": 58,
         "Stamina": 50,
         "LongShots": 46,
         "Aggression": 47,
         "Positioning": 58,
         "Vision": 76,
         "Composure": 71,
         "_deepnote_index_column": 5
        },
        {
         "Overall": 58,
         "Quality": 0,
         "Crossing": 39,
         "HeadingAccuracy": 52,
         "ShortPassing": 54,
         "Volleys": 39,
         "Dribbling": 49,
         "Curve": 43,
         "FKAccuracy": 36,
         "LongPassing": 43,
         "BallControl": 57,
         "Reactions": 61,
         "ShotPower": 56,
         "Stamina": 65,
         "LongShots": 57,
         "Aggression": 28,
         "Positioning": 57,
         "Vision": 55,
         "Composure": 57,
         "_deepnote_index_column": 6
        },
        {
         "Overall": 73,
         "Quality": 3,
         "Crossing": 64,
         "HeadingAccuracy": 55,
         "ShortPassing": 68,
         "Volleys": 68,
         "Dribbling": 80,
         "Curve": 70,
         "FKAccuracy": 52,
         "LongPassing": 63,
         "BallControl": 74,
         "Reactions": 63,
         "ShotPower": 77,
         "Stamina": 73,
         "LongShots": 69,
         "Aggression": 62,
         "Positioning": 69,
         "Vision": 67,
         "Composure": 64,
         "_deepnote_index_column": 7
        },
        {
         "Overall": 64,
         "Quality": 1,
         "Crossing": 57,
         "HeadingAccuracy": 58,
         "ShortPassing": 55,
         "Volleys": 27,
         "Dribbling": 45,
         "Curve": 26,
         "FKAccuracy": 32,
         "LongPassing": 29,
         "BallControl": 62,
         "Reactions": 63,
         "ShotPower": 29,
         "Stamina": 78,
         "LongShots": 29,
         "Aggression": 56,
         "Positioning": 44,
         "Vision": 38,
         "Composure": 52,
         "_deepnote_index_column": 8
        },
        {
         "Overall": 59,
         "Quality": 0,
         "Crossing": 58,
         "HeadingAccuracy": 39,
         "ShortPassing": 57,
         "Volleys": 39,
         "Dribbling": 62,
         "Curve": 53,
         "FKAccuracy": 42,
         "LongPassing": 49,
         "BallControl": 56,
         "Reactions": 41,
         "ShotPower": 57,
         "Stamina": 59,
         "LongShots": 47,
         "Aggression": 36,
         "Positioning": 51,
         "Vision": 46,
         "Composure": 46,
         "_deepnote_index_column": 9
        }
       ],
       "rows_bottom": null
      },
      "text/plain": "   Overall  Quality  Crossing  HeadingAccuracy  ShortPassing  Volleys  \\\n0       68        2      30.0             74.0          56.0     22.0   \n1       54        0      28.0             60.0          44.0     43.0   \n2       62        0      62.0             59.0          64.0     43.0   \n3       68        2      36.0             62.0          69.0     26.0   \n4       68        2      55.0             42.0          65.0     45.0   \n5       69        2      65.0             42.0          73.0     40.0   \n6       58        0      39.0             52.0          54.0     39.0   \n7       73        3      64.0             55.0          68.0     68.0   \n8       64        1      57.0             58.0          55.0     27.0   \n9       59        0      58.0             39.0          57.0     39.0   \n\n   Dribbling  Curve  FKAccuracy  LongPassing  BallControl  Reactions  \\\n0       49.0   30.0        27.0         49.0         55.0       67.0   \n1       54.0   31.0        21.0         42.0         52.0       49.0   \n2       67.0   52.0        33.0         61.0         63.0       55.0   \n3       58.0   28.0        22.0         63.0         50.0       67.0   \n4       76.0   48.0        42.0         60.0         69.0       61.0   \n5       76.0   67.0        53.0         71.0         74.0       68.0   \n6       49.0   43.0        36.0         43.0         57.0       61.0   \n7       80.0   70.0        52.0         63.0         74.0       63.0   \n8       45.0   26.0        32.0         29.0         62.0       63.0   \n9       62.0   53.0        42.0         49.0         56.0       41.0   \n\n   ShotPower  Stamina  LongShots  Aggression  Positioning  Vision  Composure  \n0       37.0     67.0       18.0        82.0         30.0    31.0       61.0  \n1       49.0     63.0       46.0        45.0         53.0    49.0       48.0  \n2       63.0     75.0       47.0        50.0         58.0    50.0       56.0  \n3       44.0     66.0       29.0        71.0         25.0    27.0       57.0  \n4       55.0     65.0       58.0        40.0         62.0    58.0       63.0  \n5       58.0     50.0       46.0        47.0         58.0    76.0       71.0  \n6       56.0     65.0       57.0        28.0         57.0    55.0       57.0  \n7       77.0     73.0       69.0        62.0         69.0    67.0       64.0  \n8       29.0     78.0       29.0        56.0         44.0    38.0       52.0  \n9       57.0     59.0       47.0        36.0         51.0    46.0       46.0  ",
      "text/html": "<div>\n<style scoped>\n    .dataframe tbody tr th:only-of-type {\n        vertical-align: middle;\n    }\n\n    .dataframe tbody tr th {\n        vertical-align: top;\n    }\n\n    .dataframe thead th {\n        text-align: right;\n    }\n</style>\n<table border=\"1\" class=\"dataframe\">\n  <thead>\n    <tr style=\"text-align: right;\">\n      <th></th>\n      <th>Overall</th>\n      <th>Quality</th>\n      <th>Crossing</th>\n      <th>HeadingAccuracy</th>\n      <th>ShortPassing</th>\n      <th>Volleys</th>\n      <th>Dribbling</th>\n      <th>Curve</th>\n      <th>FKAccuracy</th>\n      <th>LongPassing</th>\n      <th>BallControl</th>\n      <th>Reactions</th>\n      <th>ShotPower</th>\n      <th>Stamina</th>\n      <th>LongShots</th>\n      <th>Aggression</th>\n      <th>Positioning</th>\n      <th>Vision</th>\n      <th>Composure</th>\n    </tr>\n  </thead>\n  <tbody>\n    <tr>\n      <th>0</th>\n      <td>68</td>\n      <td>2</td>\n      <td>30.0</td>\n      <td>74.0</td>\n      <td>56.0</td>\n      <td>22.0</td>\n      <td>49.0</td>\n      <td>30.0</td>\n      <td>27.0</td>\n      <td>49.0</td>\n      <td>55.0</td>\n      <td>67.0</td>\n      <td>37.0</td>\n      <td>67.0</td>\n      <td>18.0</td>\n      <td>82.0</td>\n      <td>30.0</td>\n      <td>31.0</td>\n      <td>61.0</td>\n    </tr>\n    <tr>\n      <th>1</th>\n      <td>54</td>\n      <td>0</td>\n      <td>28.0</td>\n      <td>60.0</td>\n      <td>44.0</td>\n      <td>43.0</td>\n      <td>54.0</td>\n      <td>31.0</td>\n      <td>21.0</td>\n      <td>42.0</td>\n      <td>52.0</td>\n      <td>49.0</td>\n      <td>49.0</td>\n      <td>63.0</td>\n      <td>46.0</td>\n      <td>45.0</td>\n      <td>53.0</td>\n      <td>49.0</td>\n      <td>48.0</td>\n    </tr>\n    <tr>\n      <th>2</th>\n      <td>62</td>\n      <td>0</td>\n      <td>62.0</td>\n      <td>59.0</td>\n      <td>64.0</td>\n      <td>43.0</td>\n      <td>67.0</td>\n      <td>52.0</td>\n      <td>33.0</td>\n      <td>61.0</td>\n      <td>63.0</td>\n      <td>55.0</td>\n      <td>63.0</td>\n      <td>75.0</td>\n      <td>47.0</td>\n      <td>50.0</td>\n      <td>58.0</td>\n      <td>50.0</td>\n      <td>56.0</td>\n    </tr>\n    <tr>\n      <th>3</th>\n      <td>68</td>\n      <td>2</td>\n      <td>36.0</td>\n      <td>62.0</td>\n      <td>69.0</td>\n      <td>26.0</td>\n      <td>58.0</td>\n      <td>28.0</td>\n      <td>22.0</td>\n      <td>63.0</td>\n      <td>50.0</td>\n      <td>67.0</td>\n      <td>44.0</td>\n      <td>66.0</td>\n      <td>29.0</td>\n      <td>71.0</td>\n      <td>25.0</td>\n      <td>27.0</td>\n      <td>57.0</td>\n    </tr>\n    <tr>\n      <th>4</th>\n      <td>68</td>\n      <td>2</td>\n      <td>55.0</td>\n      <td>42.0</td>\n      <td>65.0</td>\n      <td>45.0</td>\n      <td>76.0</td>\n      <td>48.0</td>\n      <td>42.0</td>\n      <td>60.0</td>\n      <td>69.0</td>\n      <td>61.0</td>\n      <td>55.0</td>\n      <td>65.0</td>\n      <td>58.0</td>\n      <td>40.0</td>\n      <td>62.0</td>\n      <td>58.0</td>\n      <td>63.0</td>\n    </tr>\n    <tr>\n      <th>5</th>\n      <td>69</td>\n      <td>2</td>\n      <td>65.0</td>\n      <td>42.0</td>\n      <td>73.0</td>\n      <td>40.0</td>\n      <td>76.0</td>\n      <td>67.0</td>\n      <td>53.0</td>\n      <td>71.0</td>\n      <td>74.0</td>\n      <td>68.0</td>\n      <td>58.0</td>\n      <td>50.0</td>\n      <td>46.0</td>\n      <td>47.0</td>\n      <td>58.0</td>\n      <td>76.0</td>\n      <td>71.0</td>\n    </tr>\n    <tr>\n      <th>6</th>\n      <td>58</td>\n      <td>0</td>\n      <td>39.0</td>\n      <td>52.0</td>\n      <td>54.0</td>\n      <td>39.0</td>\n      <td>49.0</td>\n      <td>43.0</td>\n      <td>36.0</td>\n      <td>43.0</td>\n      <td>57.0</td>\n      <td>61.0</td>\n      <td>56.0</td>\n      <td>65.0</td>\n      <td>57.0</td>\n      <td>28.0</td>\n      <td>57.0</td>\n      <td>55.0</td>\n      <td>57.0</td>\n    </tr>\n    <tr>\n      <th>7</th>\n      <td>73</td>\n      <td>3</td>\n      <td>64.0</td>\n      <td>55.0</td>\n      <td>68.0</td>\n      <td>68.0</td>\n      <td>80.0</td>\n      <td>70.0</td>\n      <td>52.0</td>\n      <td>63.0</td>\n      <td>74.0</td>\n      <td>63.0</td>\n      <td>77.0</td>\n      <td>73.0</td>\n      <td>69.0</td>\n      <td>62.0</td>\n      <td>69.0</td>\n      <td>67.0</td>\n      <td>64.0</td>\n    </tr>\n    <tr>\n      <th>8</th>\n      <td>64</td>\n      <td>1</td>\n      <td>57.0</td>\n      <td>58.0</td>\n      <td>55.0</td>\n      <td>27.0</td>\n      <td>45.0</td>\n      <td>26.0</td>\n      <td>32.0</td>\n      <td>29.0</td>\n      <td>62.0</td>\n      <td>63.0</td>\n      <td>29.0</td>\n      <td>78.0</td>\n      <td>29.0</td>\n      <td>56.0</td>\n      <td>44.0</td>\n      <td>38.0</td>\n      <td>52.0</td>\n    </tr>\n    <tr>\n      <th>9</th>\n      <td>59</td>\n      <td>0</td>\n      <td>58.0</td>\n      <td>39.0</td>\n      <td>57.0</td>\n      <td>39.0</td>\n      <td>62.0</td>\n      <td>53.0</td>\n      <td>42.0</td>\n      <td>49.0</td>\n      <td>56.0</td>\n      <td>41.0</td>\n      <td>57.0</td>\n      <td>59.0</td>\n      <td>47.0</td>\n      <td>36.0</td>\n      <td>51.0</td>\n      <td>46.0</td>\n      <td>46.0</td>\n    </tr>\n  </tbody>\n</table>\n</div>"
     },
     "metadata": {}
    }
   ],
   "execution_count": null
  },
  {
   "cell_type": "markdown",
   "source": "Calculating the *Overall* intervals for each label.",
   "metadata": {
    "id": "ss9erGMbFAiz",
    "cell_id": "00028-cd727c8e-2916-4fa3-927c-9b951c24ed27",
    "deepnote_cell_type": "markdown"
   }
  },
  {
   "cell_type": "code",
   "metadata": {
    "id": "qEh2o0jHCoGy",
    "colab": {
     "base_uri": "https://localhost:8080/"
    },
    "executionInfo": {
     "status": "ok",
     "timestamp": 1632395387725,
     "user_tz": -120,
     "elapsed": 417,
     "user": {
      "displayName": "Daniel Manrique",
      "photoUrl": "https://lh3.googleusercontent.com/a-/AOh14GitdHbMelm6f6tHV3gogFTulR815SvuoEcosIv2kg=s64",
      "userId": "14181066300969909559"
     }
    },
    "outputId": "0209e22b-bc3e-40b6-8f8f-c452d7f7e596",
    "cell_id": "00029-f043c3d6-fba8-4b29-ac2e-76bb87ca9a8c",
    "deepnote_to_be_reexecuted": false,
    "source_hash": "854adb7c",
    "execution_start": 1636883427965,
    "execution_millis": 152,
    "deepnote_cell_type": "code"
   },
   "source": "intervals={label : [(dataset.loc[dataset[\"Quality\"]==label].min()[\"Overall\"]),\n                    (dataset.loc[dataset[\"Quality\"]==label].max()[\"Overall\"])]\n                    for label in range(4)}\nintervals",
   "outputs": [
    {
     "output_type": "execute_result",
     "execution_count": 19,
     "data": {
      "text/plain": "{0: [46.0, 62.0], 1: [63.0, 66.0], 2: [67.0, 71.0], 3: [72.0, 94.0]}"
     },
     "metadata": {}
    }
   ],
   "execution_count": null
  },
  {
   "cell_type": "markdown",
   "source": "The number of instances per label should be balanced.",
   "metadata": {
    "id": "U-ZJEC-MFiBJ",
    "cell_id": "00030-c9eb3e55-ccfd-4c6a-9ec8-1585274be28a",
    "deepnote_cell_type": "markdown"
   }
  },
  {
   "cell_type": "code",
   "metadata": {
    "id": "9P4OhYpfFmlL",
    "colab": {
     "base_uri": "https://localhost:8080/"
    },
    "executionInfo": {
     "status": "ok",
     "timestamp": 1632395387726,
     "user_tz": -120,
     "elapsed": 69,
     "user": {
      "displayName": "Daniel Manrique",
      "photoUrl": "https://lh3.googleusercontent.com/a-/AOh14GitdHbMelm6f6tHV3gogFTulR815SvuoEcosIv2kg=s64",
      "userId": "14181066300969909559"
     }
    },
    "outputId": "d4d04afe-e77a-43cf-8c8a-1a268a60ad64",
    "cell_id": "00031-4ca5ea9f-2d82-4a9a-bd08-3e2a7e3a132d",
    "deepnote_to_be_reexecuted": false,
    "source_hash": "166b7c48",
    "execution_start": 1636883435454,
    "execution_millis": 3,
    "deepnote_cell_type": "code"
   },
   "source": "dataset[\"Quality\"].value_counts()",
   "outputs": [
    {
     "output_type": "execute_result",
     "execution_count": 20,
     "data": {
      "text/plain": "2    4353\n0    4296\n1    3868\n3    3605\nName: Quality, dtype: int64"
     },
     "metadata": {}
    }
   ],
   "execution_count": null
  },
  {
   "cell_type": "code",
   "metadata": {
    "id": "w3O2GZcImTJK",
    "colab": {
     "base_uri": "https://localhost:8080/"
    },
    "executionInfo": {
     "status": "ok",
     "timestamp": 1632395387726,
     "user_tz": -120,
     "elapsed": 56,
     "user": {
      "displayName": "Daniel Manrique",
      "photoUrl": "https://lh3.googleusercontent.com/a-/AOh14GitdHbMelm6f6tHV3gogFTulR815SvuoEcosIv2kg=s64",
      "userId": "14181066300969909559"
     }
    },
    "outputId": "6ee8438c-02ed-4c86-e40a-ada88a25f4db",
    "cell_id": "00032-2e0bb397-bff5-4184-b932-57fdfcd7d2b8",
    "deepnote_to_be_reexecuted": false,
    "source_hash": "1b7ed4c7",
    "execution_start": 1636883553930,
    "execution_millis": 38,
    "deepnote_cell_type": "code"
   },
   "source": "interval_names = [str(interval) for interval in intervals.values()]\ninterval_names[0]=\"Poor:\"+interval_names[0]\ninterval_names[1]=\"Interm:\"+interval_names[1]\ninterval_names[2]=\"Good:\"+interval_names[2]\ninterval_names[3]=\"Excel:\"+interval_names[3]\ninterval_names",
   "outputs": [
    {
     "output_type": "execute_result",
     "execution_count": 21,
     "data": {
      "text/plain": "['Poor:[46.0, 62.0]',\n 'Interm:[63.0, 66.0]',\n 'Good:[67.0, 71.0]',\n 'Excel:[72.0, 94.0]']"
     },
     "metadata": {}
    }
   ],
   "execution_count": null
  },
  {
   "cell_type": "code",
   "metadata": {
    "id": "DzUqqHJjnIUW",
    "colab": {
     "base_uri": "https://localhost:8080/",
     "height": 386
    },
    "executionInfo": {
     "status": "ok",
     "timestamp": 1632395387727,
     "user_tz": -120,
     "elapsed": 45,
     "user": {
      "displayName": "Daniel Manrique",
      "photoUrl": "https://lh3.googleusercontent.com/a-/AOh14GitdHbMelm6f6tHV3gogFTulR815SvuoEcosIv2kg=s64",
      "userId": "14181066300969909559"
     }
    },
    "outputId": "fa131723-a6db-4dee-a750-30eedd934923",
    "cell_id": "00033-dfd3a44c-ad18-4705-92d8-257996c04698",
    "deepnote_to_be_reexecuted": false,
    "source_hash": "e7009c41",
    "execution_start": 1636883562869,
    "execution_millis": 69,
    "deepnote_cell_type": "code"
   },
   "source": "dataset.drop(columns=\"Overall\", inplace=True)\ndataset[:10]",
   "outputs": [
    {
     "output_type": "execute_result",
     "execution_count": 22,
     "data": {
      "application/vnd.deepnote.dataframe.v2+json": {
       "row_count": 10,
       "column_count": 18,
       "columns": [
        {
         "name": "Quality",
         "dtype": "int64",
         "stats": {
          "unique_count": 4,
          "nan_count": 0,
          "min": "0",
          "max": "3",
          "histogram": [
           {
            "bin_start": 0,
            "bin_end": 0.3,
            "count": 4
           },
           {
            "bin_start": 0.3,
            "bin_end": 0.6,
            "count": 0
           },
           {
            "bin_start": 0.6,
            "bin_end": 0.8999999999999999,
            "count": 0
           },
           {
            "bin_start": 0.8999999999999999,
            "bin_end": 1.2,
            "count": 1
           },
           {
            "bin_start": 1.2,
            "bin_end": 1.5,
            "count": 0
           },
           {
            "bin_start": 1.5,
            "bin_end": 1.7999999999999998,
            "count": 0
           },
           {
            "bin_start": 1.7999999999999998,
            "bin_end": 2.1,
            "count": 4
           },
           {
            "bin_start": 2.1,
            "bin_end": 2.4,
            "count": 0
           },
           {
            "bin_start": 2.4,
            "bin_end": 2.6999999999999997,
            "count": 0
           },
           {
            "bin_start": 2.6999999999999997,
            "bin_end": 3,
            "count": 1
           }
          ]
         }
        },
        {
         "name": "Crossing",
         "dtype": "float64",
         "stats": {
          "unique_count": 10,
          "nan_count": 0,
          "min": "28.0",
          "max": "65.0",
          "histogram": [
           {
            "bin_start": 28,
            "bin_end": 31.7,
            "count": 2
           },
           {
            "bin_start": 31.7,
            "bin_end": 35.4,
            "count": 0
           },
           {
            "bin_start": 35.4,
            "bin_end": 39.1,
            "count": 2
           },
           {
            "bin_start": 39.1,
            "bin_end": 42.8,
            "count": 0
           },
           {
            "bin_start": 42.8,
            "bin_end": 46.5,
            "count": 0
           },
           {
            "bin_start": 46.5,
            "bin_end": 50.2,
            "count": 0
           },
           {
            "bin_start": 50.2,
            "bin_end": 53.900000000000006,
            "count": 0
           },
           {
            "bin_start": 53.900000000000006,
            "bin_end": 57.6,
            "count": 2
           },
           {
            "bin_start": 57.6,
            "bin_end": 61.300000000000004,
            "count": 1
           },
           {
            "bin_start": 61.300000000000004,
            "bin_end": 65,
            "count": 3
           }
          ]
         }
        },
        {
         "name": "HeadingAccuracy",
         "dtype": "float64",
         "stats": {
          "unique_count": 9,
          "nan_count": 0,
          "min": "39.0",
          "max": "74.0",
          "histogram": [
           {
            "bin_start": 39,
            "bin_end": 42.5,
            "count": 3
           },
           {
            "bin_start": 42.5,
            "bin_end": 46,
            "count": 0
           },
           {
            "bin_start": 46,
            "bin_end": 49.5,
            "count": 0
           },
           {
            "bin_start": 49.5,
            "bin_end": 53,
            "count": 1
           },
           {
            "bin_start": 53,
            "bin_end": 56.5,
            "count": 1
           },
           {
            "bin_start": 56.5,
            "bin_end": 60,
            "count": 2
           },
           {
            "bin_start": 60,
            "bin_end": 63.5,
            "count": 2
           },
           {
            "bin_start": 63.5,
            "bin_end": 67,
            "count": 0
           },
           {
            "bin_start": 67,
            "bin_end": 70.5,
            "count": 0
           },
           {
            "bin_start": 70.5,
            "bin_end": 74,
            "count": 1
           }
          ]
         }
        },
        {
         "name": "ShortPassing",
         "dtype": "float64",
         "stats": {
          "unique_count": 10,
          "nan_count": 0,
          "min": "44.0",
          "max": "73.0",
          "histogram": [
           {
            "bin_start": 44,
            "bin_end": 46.9,
            "count": 1
           },
           {
            "bin_start": 46.9,
            "bin_end": 49.8,
            "count": 0
           },
           {
            "bin_start": 49.8,
            "bin_end": 52.7,
            "count": 0
           },
           {
            "bin_start": 52.7,
            "bin_end": 55.6,
            "count": 2
           },
           {
            "bin_start": 55.6,
            "bin_end": 58.5,
            "count": 2
           },
           {
            "bin_start": 58.5,
            "bin_end": 61.4,
            "count": 0
           },
           {
            "bin_start": 61.4,
            "bin_end": 64.3,
            "count": 1
           },
           {
            "bin_start": 64.3,
            "bin_end": 67.2,
            "count": 1
           },
           {
            "bin_start": 67.2,
            "bin_end": 70.1,
            "count": 2
           },
           {
            "bin_start": 70.1,
            "bin_end": 73,
            "count": 1
           }
          ]
         }
        },
        {
         "name": "Volleys",
         "dtype": "float64",
         "stats": {
          "unique_count": 8,
          "nan_count": 0,
          "min": "22.0",
          "max": "68.0",
          "histogram": [
           {
            "bin_start": 22,
            "bin_end": 26.6,
            "count": 2
           },
           {
            "bin_start": 26.6,
            "bin_end": 31.2,
            "count": 1
           },
           {
            "bin_start": 31.2,
            "bin_end": 35.8,
            "count": 0
           },
           {
            "bin_start": 35.8,
            "bin_end": 40.4,
            "count": 3
           },
           {
            "bin_start": 40.4,
            "bin_end": 45,
            "count": 2
           },
           {
            "bin_start": 45,
            "bin_end": 49.599999999999994,
            "count": 1
           },
           {
            "bin_start": 49.599999999999994,
            "bin_end": 54.199999999999996,
            "count": 0
           },
           {
            "bin_start": 54.199999999999996,
            "bin_end": 58.8,
            "count": 0
           },
           {
            "bin_start": 58.8,
            "bin_end": 63.4,
            "count": 0
           },
           {
            "bin_start": 63.4,
            "bin_end": 68,
            "count": 1
           }
          ]
         }
        },
        {
         "name": "Dribbling",
         "dtype": "float64",
         "stats": {
          "unique_count": 8,
          "nan_count": 0,
          "min": "45.0",
          "max": "80.0",
          "histogram": [
           {
            "bin_start": 45,
            "bin_end": 48.5,
            "count": 1
           },
           {
            "bin_start": 48.5,
            "bin_end": 52,
            "count": 2
           },
           {
            "bin_start": 52,
            "bin_end": 55.5,
            "count": 1
           },
           {
            "bin_start": 55.5,
            "bin_end": 59,
            "count": 1
           },
           {
            "bin_start": 59,
            "bin_end": 62.5,
            "count": 1
           },
           {
            "bin_start": 62.5,
            "bin_end": 66,
            "count": 0
           },
           {
            "bin_start": 66,
            "bin_end": 69.5,
            "count": 1
           },
           {
            "bin_start": 69.5,
            "bin_end": 73,
            "count": 0
           },
           {
            "bin_start": 73,
            "bin_end": 76.5,
            "count": 2
           },
           {
            "bin_start": 76.5,
            "bin_end": 80,
            "count": 1
           }
          ]
         }
        },
        {
         "name": "Curve",
         "dtype": "float64",
         "stats": {
          "unique_count": 10,
          "nan_count": 0,
          "min": "26.0",
          "max": "70.0",
          "histogram": [
           {
            "bin_start": 26,
            "bin_end": 30.4,
            "count": 3
           },
           {
            "bin_start": 30.4,
            "bin_end": 34.8,
            "count": 1
           },
           {
            "bin_start": 34.8,
            "bin_end": 39.2,
            "count": 0
           },
           {
            "bin_start": 39.2,
            "bin_end": 43.6,
            "count": 1
           },
           {
            "bin_start": 43.6,
            "bin_end": 48,
            "count": 0
           },
           {
            "bin_start": 48,
            "bin_end": 52.400000000000006,
            "count": 2
           },
           {
            "bin_start": 52.400000000000006,
            "bin_end": 56.800000000000004,
            "count": 1
           },
           {
            "bin_start": 56.800000000000004,
            "bin_end": 61.2,
            "count": 0
           },
           {
            "bin_start": 61.2,
            "bin_end": 65.6,
            "count": 0
           },
           {
            "bin_start": 65.6,
            "bin_end": 70,
            "count": 2
           }
          ]
         }
        },
        {
         "name": "FKAccuracy",
         "dtype": "float64",
         "stats": {
          "unique_count": 9,
          "nan_count": 0,
          "min": "21.0",
          "max": "53.0",
          "histogram": [
           {
            "bin_start": 21,
            "bin_end": 24.2,
            "count": 2
           },
           {
            "bin_start": 24.2,
            "bin_end": 27.4,
            "count": 1
           },
           {
            "bin_start": 27.4,
            "bin_end": 30.6,
            "count": 0
           },
           {
            "bin_start": 30.6,
            "bin_end": 33.8,
            "count": 2
           },
           {
            "bin_start": 33.8,
            "bin_end": 37,
            "count": 1
           },
           {
            "bin_start": 37,
            "bin_end": 40.2,
            "count": 0
           },
           {
            "bin_start": 40.2,
            "bin_end": 43.400000000000006,
            "count": 2
           },
           {
            "bin_start": 43.400000000000006,
            "bin_end": 46.6,
            "count": 0
           },
           {
            "bin_start": 46.6,
            "bin_end": 49.8,
            "count": 0
           },
           {
            "bin_start": 49.8,
            "bin_end": 53,
            "count": 2
           }
          ]
         }
        },
        {
         "name": "LongPassing",
         "dtype": "float64",
         "stats": {
          "unique_count": 8,
          "nan_count": 0,
          "min": "29.0",
          "max": "71.0",
          "histogram": [
           {
            "bin_start": 29,
            "bin_end": 33.2,
            "count": 1
           },
           {
            "bin_start": 33.2,
            "bin_end": 37.4,
            "count": 0
           },
           {
            "bin_start": 37.4,
            "bin_end": 41.6,
            "count": 0
           },
           {
            "bin_start": 41.6,
            "bin_end": 45.8,
            "count": 2
           },
           {
            "bin_start": 45.8,
            "bin_end": 50,
            "count": 2
           },
           {
            "bin_start": 50,
            "bin_end": 54.2,
            "count": 0
           },
           {
            "bin_start": 54.2,
            "bin_end": 58.400000000000006,
            "count": 0
           },
           {
            "bin_start": 58.400000000000006,
            "bin_end": 62.6,
            "count": 2
           },
           {
            "bin_start": 62.6,
            "bin_end": 66.80000000000001,
            "count": 2
           },
           {
            "bin_start": 66.80000000000001,
            "bin_end": 71,
            "count": 1
           }
          ]
         }
        },
        {
         "name": "BallControl",
         "dtype": "float64",
         "stats": {
          "unique_count": 9,
          "nan_count": 0,
          "min": "50.0",
          "max": "74.0",
          "histogram": [
           {
            "bin_start": 50,
            "bin_end": 52.4,
            "count": 2
           },
           {
            "bin_start": 52.4,
            "bin_end": 54.8,
            "count": 0
           },
           {
            "bin_start": 54.8,
            "bin_end": 57.2,
            "count": 3
           },
           {
            "bin_start": 57.2,
            "bin_end": 59.6,
            "count": 0
           },
           {
            "bin_start": 59.6,
            "bin_end": 62,
            "count": 0
           },
           {
            "bin_start": 62,
            "bin_end": 64.4,
            "count": 2
           },
           {
            "bin_start": 64.4,
            "bin_end": 66.8,
            "count": 0
           },
           {
            "bin_start": 66.8,
            "bin_end": 69.2,
            "count": 1
           },
           {
            "bin_start": 69.2,
            "bin_end": 71.6,
            "count": 0
           },
           {
            "bin_start": 71.6,
            "bin_end": 74,
            "count": 2
           }
          ]
         }
        },
        {
         "name": "Reactions",
         "dtype": "float64",
         "stats": {
          "unique_count": 7,
          "nan_count": 0,
          "min": "41.0",
          "max": "68.0",
          "histogram": [
           {
            "bin_start": 41,
            "bin_end": 43.7,
            "count": 1
           },
           {
            "bin_start": 43.7,
            "bin_end": 46.4,
            "count": 0
           },
           {
            "bin_start": 46.4,
            "bin_end": 49.1,
            "count": 1
           },
           {
            "bin_start": 49.1,
            "bin_end": 51.8,
            "count": 0
           },
           {
            "bin_start": 51.8,
            "bin_end": 54.5,
            "count": 0
           },
           {
            "bin_start": 54.5,
            "bin_end": 57.2,
            "count": 1
           },
           {
            "bin_start": 57.2,
            "bin_end": 59.900000000000006,
            "count": 0
           },
           {
            "bin_start": 59.900000000000006,
            "bin_end": 62.6,
            "count": 2
           },
           {
            "bin_start": 62.6,
            "bin_end": 65.3,
            "count": 2
           },
           {
            "bin_start": 65.3,
            "bin_end": 68,
            "count": 3
           }
          ]
         }
        },
        {
         "name": "ShotPower",
         "dtype": "float64",
         "stats": {
          "unique_count": 10,
          "nan_count": 0,
          "min": "29.0",
          "max": "77.0",
          "histogram": [
           {
            "bin_start": 29,
            "bin_end": 33.8,
            "count": 1
           },
           {
            "bin_start": 33.8,
            "bin_end": 38.6,
            "count": 1
           },
           {
            "bin_start": 38.6,
            "bin_end": 43.4,
            "count": 0
           },
           {
            "bin_start": 43.4,
            "bin_end": 48.2,
            "count": 1
           },
           {
            "bin_start": 48.2,
            "bin_end": 53,
            "count": 1
           },
           {
            "bin_start": 53,
            "bin_end": 57.8,
            "count": 3
           },
           {
            "bin_start": 57.8,
            "bin_end": 62.6,
            "count": 1
           },
           {
            "bin_start": 62.6,
            "bin_end": 67.4,
            "count": 1
           },
           {
            "bin_start": 67.4,
            "bin_end": 72.19999999999999,
            "count": 0
           },
           {
            "bin_start": 72.19999999999999,
            "bin_end": 77,
            "count": 1
           }
          ]
         }
        },
        {
         "name": "Stamina",
         "dtype": "float64",
         "stats": {
          "unique_count": 9,
          "nan_count": 0,
          "min": "50.0",
          "max": "78.0",
          "histogram": [
           {
            "bin_start": 50,
            "bin_end": 52.8,
            "count": 1
           },
           {
            "bin_start": 52.8,
            "bin_end": 55.6,
            "count": 0
           },
           {
            "bin_start": 55.6,
            "bin_end": 58.4,
            "count": 0
           },
           {
            "bin_start": 58.4,
            "bin_end": 61.2,
            "count": 1
           },
           {
            "bin_start": 61.2,
            "bin_end": 64,
            "count": 1
           },
           {
            "bin_start": 64,
            "bin_end": 66.8,
            "count": 3
           },
           {
            "bin_start": 66.8,
            "bin_end": 69.6,
            "count": 1
           },
           {
            "bin_start": 69.6,
            "bin_end": 72.4,
            "count": 0
           },
           {
            "bin_start": 72.4,
            "bin_end": 75.2,
            "count": 2
           },
           {
            "bin_start": 75.2,
            "bin_end": 78,
            "count": 1
           }
          ]
         }
        },
        {
         "name": "LongShots",
         "dtype": "float64",
         "stats": {
          "unique_count": 7,
          "nan_count": 0,
          "min": "18.0",
          "max": "69.0",
          "histogram": [
           {
            "bin_start": 18,
            "bin_end": 23.1,
            "count": 1
           },
           {
            "bin_start": 23.1,
            "bin_end": 28.2,
            "count": 0
           },
           {
            "bin_start": 28.2,
            "bin_end": 33.3,
            "count": 2
           },
           {
            "bin_start": 33.3,
            "bin_end": 38.4,
            "count": 0
           },
           {
            "bin_start": 38.4,
            "bin_end": 43.5,
            "count": 0
           },
           {
            "bin_start": 43.5,
            "bin_end": 48.599999999999994,
            "count": 4
           },
           {
            "bin_start": 48.599999999999994,
            "bin_end": 53.699999999999996,
            "count": 0
           },
           {
            "bin_start": 53.699999999999996,
            "bin_end": 58.8,
            "count": 2
           },
           {
            "bin_start": 58.8,
            "bin_end": 63.9,
            "count": 0
           },
           {
            "bin_start": 63.9,
            "bin_end": 69,
            "count": 1
           }
          ]
         }
        },
        {
         "name": "Aggression",
         "dtype": "float64",
         "stats": {
          "unique_count": 10,
          "nan_count": 0,
          "min": "28.0",
          "max": "82.0",
          "histogram": [
           {
            "bin_start": 28,
            "bin_end": 33.4,
            "count": 1
           },
           {
            "bin_start": 33.4,
            "bin_end": 38.8,
            "count": 1
           },
           {
            "bin_start": 38.8,
            "bin_end": 44.2,
            "count": 1
           },
           {
            "bin_start": 44.2,
            "bin_end": 49.6,
            "count": 2
           },
           {
            "bin_start": 49.6,
            "bin_end": 55,
            "count": 1
           },
           {
            "bin_start": 55,
            "bin_end": 60.400000000000006,
            "count": 1
           },
           {
            "bin_start": 60.400000000000006,
            "bin_end": 65.80000000000001,
            "count": 1
           },
           {
            "bin_start": 65.80000000000001,
            "bin_end": 71.2,
            "count": 1
           },
           {
            "bin_start": 71.2,
            "bin_end": 76.6,
            "count": 0
           },
           {
            "bin_start": 76.6,
            "bin_end": 82,
            "count": 1
           }
          ]
         }
        },
        {
         "name": "Positioning",
         "dtype": "float64",
         "stats": {
          "unique_count": 9,
          "nan_count": 0,
          "min": "25.0",
          "max": "69.0",
          "histogram": [
           {
            "bin_start": 25,
            "bin_end": 29.4,
            "count": 1
           },
           {
            "bin_start": 29.4,
            "bin_end": 33.8,
            "count": 1
           },
           {
            "bin_start": 33.8,
            "bin_end": 38.2,
            "count": 0
           },
           {
            "bin_start": 38.2,
            "bin_end": 42.6,
            "count": 0
           },
           {
            "bin_start": 42.6,
            "bin_end": 47,
            "count": 1
           },
           {
            "bin_start": 47,
            "bin_end": 51.400000000000006,
            "count": 1
           },
           {
            "bin_start": 51.400000000000006,
            "bin_end": 55.800000000000004,
            "count": 1
           },
           {
            "bin_start": 55.800000000000004,
            "bin_end": 60.2,
            "count": 3
           },
           {
            "bin_start": 60.2,
            "bin_end": 64.6,
            "count": 1
           },
           {
            "bin_start": 64.6,
            "bin_end": 69,
            "count": 1
           }
          ]
         }
        },
        {
         "name": "Vision",
         "dtype": "float64",
         "stats": {
          "unique_count": 10,
          "nan_count": 0,
          "min": "27.0",
          "max": "76.0",
          "histogram": [
           {
            "bin_start": 27,
            "bin_end": 31.9,
            "count": 2
           },
           {
            "bin_start": 31.9,
            "bin_end": 36.8,
            "count": 0
           },
           {
            "bin_start": 36.8,
            "bin_end": 41.7,
            "count": 1
           },
           {
            "bin_start": 41.7,
            "bin_end": 46.6,
            "count": 1
           },
           {
            "bin_start": 46.6,
            "bin_end": 51.5,
            "count": 2
           },
           {
            "bin_start": 51.5,
            "bin_end": 56.400000000000006,
            "count": 1
           },
           {
            "bin_start": 56.400000000000006,
            "bin_end": 61.300000000000004,
            "count": 1
           },
           {
            "bin_start": 61.300000000000004,
            "bin_end": 66.2,
            "count": 0
           },
           {
            "bin_start": 66.2,
            "bin_end": 71.1,
            "count": 1
           },
           {
            "bin_start": 71.1,
            "bin_end": 76,
            "count": 1
           }
          ]
         }
        },
        {
         "name": "Composure",
         "dtype": "float64",
         "stats": {
          "unique_count": 9,
          "nan_count": 0,
          "min": "46.0",
          "max": "71.0",
          "histogram": [
           {
            "bin_start": 46,
            "bin_end": 48.5,
            "count": 2
           },
           {
            "bin_start": 48.5,
            "bin_end": 51,
            "count": 0
           },
           {
            "bin_start": 51,
            "bin_end": 53.5,
            "count": 1
           },
           {
            "bin_start": 53.5,
            "bin_end": 56,
            "count": 0
           },
           {
            "bin_start": 56,
            "bin_end": 58.5,
            "count": 3
           },
           {
            "bin_start": 58.5,
            "bin_end": 61,
            "count": 0
           },
           {
            "bin_start": 61,
            "bin_end": 63.5,
            "count": 2
           },
           {
            "bin_start": 63.5,
            "bin_end": 66,
            "count": 1
           },
           {
            "bin_start": 66,
            "bin_end": 68.5,
            "count": 0
           },
           {
            "bin_start": 68.5,
            "bin_end": 71,
            "count": 1
           }
          ]
         }
        },
        {
         "name": "_deepnote_index_column",
         "dtype": "int64"
        }
       ],
       "rows_top": [
        {
         "Quality": 2,
         "Crossing": 30,
         "HeadingAccuracy": 74,
         "ShortPassing": 56,
         "Volleys": 22,
         "Dribbling": 49,
         "Curve": 30,
         "FKAccuracy": 27,
         "LongPassing": 49,
         "BallControl": 55,
         "Reactions": 67,
         "ShotPower": 37,
         "Stamina": 67,
         "LongShots": 18,
         "Aggression": 82,
         "Positioning": 30,
         "Vision": 31,
         "Composure": 61,
         "_deepnote_index_column": 0
        },
        {
         "Quality": 0,
         "Crossing": 28,
         "HeadingAccuracy": 60,
         "ShortPassing": 44,
         "Volleys": 43,
         "Dribbling": 54,
         "Curve": 31,
         "FKAccuracy": 21,
         "LongPassing": 42,
         "BallControl": 52,
         "Reactions": 49,
         "ShotPower": 49,
         "Stamina": 63,
         "LongShots": 46,
         "Aggression": 45,
         "Positioning": 53,
         "Vision": 49,
         "Composure": 48,
         "_deepnote_index_column": 1
        },
        {
         "Quality": 0,
         "Crossing": 62,
         "HeadingAccuracy": 59,
         "ShortPassing": 64,
         "Volleys": 43,
         "Dribbling": 67,
         "Curve": 52,
         "FKAccuracy": 33,
         "LongPassing": 61,
         "BallControl": 63,
         "Reactions": 55,
         "ShotPower": 63,
         "Stamina": 75,
         "LongShots": 47,
         "Aggression": 50,
         "Positioning": 58,
         "Vision": 50,
         "Composure": 56,
         "_deepnote_index_column": 2
        },
        {
         "Quality": 2,
         "Crossing": 36,
         "HeadingAccuracy": 62,
         "ShortPassing": 69,
         "Volleys": 26,
         "Dribbling": 58,
         "Curve": 28,
         "FKAccuracy": 22,
         "LongPassing": 63,
         "BallControl": 50,
         "Reactions": 67,
         "ShotPower": 44,
         "Stamina": 66,
         "LongShots": 29,
         "Aggression": 71,
         "Positioning": 25,
         "Vision": 27,
         "Composure": 57,
         "_deepnote_index_column": 3
        },
        {
         "Quality": 2,
         "Crossing": 55,
         "HeadingAccuracy": 42,
         "ShortPassing": 65,
         "Volleys": 45,
         "Dribbling": 76,
         "Curve": 48,
         "FKAccuracy": 42,
         "LongPassing": 60,
         "BallControl": 69,
         "Reactions": 61,
         "ShotPower": 55,
         "Stamina": 65,
         "LongShots": 58,
         "Aggression": 40,
         "Positioning": 62,
         "Vision": 58,
         "Composure": 63,
         "_deepnote_index_column": 4
        },
        {
         "Quality": 2,
         "Crossing": 65,
         "HeadingAccuracy": 42,
         "ShortPassing": 73,
         "Volleys": 40,
         "Dribbling": 76,
         "Curve": 67,
         "FKAccuracy": 53,
         "LongPassing": 71,
         "BallControl": 74,
         "Reactions": 68,
         "ShotPower": 58,
         "Stamina": 50,
         "LongShots": 46,
         "Aggression": 47,
         "Positioning": 58,
         "Vision": 76,
         "Composure": 71,
         "_deepnote_index_column": 5
        },
        {
         "Quality": 0,
         "Crossing": 39,
         "HeadingAccuracy": 52,
         "ShortPassing": 54,
         "Volleys": 39,
         "Dribbling": 49,
         "Curve": 43,
         "FKAccuracy": 36,
         "LongPassing": 43,
         "BallControl": 57,
         "Reactions": 61,
         "ShotPower": 56,
         "Stamina": 65,
         "LongShots": 57,
         "Aggression": 28,
         "Positioning": 57,
         "Vision": 55,
         "Composure": 57,
         "_deepnote_index_column": 6
        },
        {
         "Quality": 3,
         "Crossing": 64,
         "HeadingAccuracy": 55,
         "ShortPassing": 68,
         "Volleys": 68,
         "Dribbling": 80,
         "Curve": 70,
         "FKAccuracy": 52,
         "LongPassing": 63,
         "BallControl": 74,
         "Reactions": 63,
         "ShotPower": 77,
         "Stamina": 73,
         "LongShots": 69,
         "Aggression": 62,
         "Positioning": 69,
         "Vision": 67,
         "Composure": 64,
         "_deepnote_index_column": 7
        },
        {
         "Quality": 1,
         "Crossing": 57,
         "HeadingAccuracy": 58,
         "ShortPassing": 55,
         "Volleys": 27,
         "Dribbling": 45,
         "Curve": 26,
         "FKAccuracy": 32,
         "LongPassing": 29,
         "BallControl": 62,
         "Reactions": 63,
         "ShotPower": 29,
         "Stamina": 78,
         "LongShots": 29,
         "Aggression": 56,
         "Positioning": 44,
         "Vision": 38,
         "Composure": 52,
         "_deepnote_index_column": 8
        },
        {
         "Quality": 0,
         "Crossing": 58,
         "HeadingAccuracy": 39,
         "ShortPassing": 57,
         "Volleys": 39,
         "Dribbling": 62,
         "Curve": 53,
         "FKAccuracy": 42,
         "LongPassing": 49,
         "BallControl": 56,
         "Reactions": 41,
         "ShotPower": 57,
         "Stamina": 59,
         "LongShots": 47,
         "Aggression": 36,
         "Positioning": 51,
         "Vision": 46,
         "Composure": 46,
         "_deepnote_index_column": 9
        }
       ],
       "rows_bottom": null
      },
      "text/plain": "   Quality  Crossing  HeadingAccuracy  ShortPassing  Volleys  Dribbling  \\\n0        2      30.0             74.0          56.0     22.0       49.0   \n1        0      28.0             60.0          44.0     43.0       54.0   \n2        0      62.0             59.0          64.0     43.0       67.0   \n3        2      36.0             62.0          69.0     26.0       58.0   \n4        2      55.0             42.0          65.0     45.0       76.0   \n5        2      65.0             42.0          73.0     40.0       76.0   \n6        0      39.0             52.0          54.0     39.0       49.0   \n7        3      64.0             55.0          68.0     68.0       80.0   \n8        1      57.0             58.0          55.0     27.0       45.0   \n9        0      58.0             39.0          57.0     39.0       62.0   \n\n   Curve  FKAccuracy  LongPassing  BallControl  Reactions  ShotPower  Stamina  \\\n0   30.0        27.0         49.0         55.0       67.0       37.0     67.0   \n1   31.0        21.0         42.0         52.0       49.0       49.0     63.0   \n2   52.0        33.0         61.0         63.0       55.0       63.0     75.0   \n3   28.0        22.0         63.0         50.0       67.0       44.0     66.0   \n4   48.0        42.0         60.0         69.0       61.0       55.0     65.0   \n5   67.0        53.0         71.0         74.0       68.0       58.0     50.0   \n6   43.0        36.0         43.0         57.0       61.0       56.0     65.0   \n7   70.0        52.0         63.0         74.0       63.0       77.0     73.0   \n8   26.0        32.0         29.0         62.0       63.0       29.0     78.0   \n9   53.0        42.0         49.0         56.0       41.0       57.0     59.0   \n\n   LongShots  Aggression  Positioning  Vision  Composure  \n0       18.0        82.0         30.0    31.0       61.0  \n1       46.0        45.0         53.0    49.0       48.0  \n2       47.0        50.0         58.0    50.0       56.0  \n3       29.0        71.0         25.0    27.0       57.0  \n4       58.0        40.0         62.0    58.0       63.0  \n5       46.0        47.0         58.0    76.0       71.0  \n6       57.0        28.0         57.0    55.0       57.0  \n7       69.0        62.0         69.0    67.0       64.0  \n8       29.0        56.0         44.0    38.0       52.0  \n9       47.0        36.0         51.0    46.0       46.0  ",
      "text/html": "<div>\n<style scoped>\n    .dataframe tbody tr th:only-of-type {\n        vertical-align: middle;\n    }\n\n    .dataframe tbody tr th {\n        vertical-align: top;\n    }\n\n    .dataframe thead th {\n        text-align: right;\n    }\n</style>\n<table border=\"1\" class=\"dataframe\">\n  <thead>\n    <tr style=\"text-align: right;\">\n      <th></th>\n      <th>Quality</th>\n      <th>Crossing</th>\n      <th>HeadingAccuracy</th>\n      <th>ShortPassing</th>\n      <th>Volleys</th>\n      <th>Dribbling</th>\n      <th>Curve</th>\n      <th>FKAccuracy</th>\n      <th>LongPassing</th>\n      <th>BallControl</th>\n      <th>Reactions</th>\n      <th>ShotPower</th>\n      <th>Stamina</th>\n      <th>LongShots</th>\n      <th>Aggression</th>\n      <th>Positioning</th>\n      <th>Vision</th>\n      <th>Composure</th>\n    </tr>\n  </thead>\n  <tbody>\n    <tr>\n      <th>0</th>\n      <td>2</td>\n      <td>30.0</td>\n      <td>74.0</td>\n      <td>56.0</td>\n      <td>22.0</td>\n      <td>49.0</td>\n      <td>30.0</td>\n      <td>27.0</td>\n      <td>49.0</td>\n      <td>55.0</td>\n      <td>67.0</td>\n      <td>37.0</td>\n      <td>67.0</td>\n      <td>18.0</td>\n      <td>82.0</td>\n      <td>30.0</td>\n      <td>31.0</td>\n      <td>61.0</td>\n    </tr>\n    <tr>\n      <th>1</th>\n      <td>0</td>\n      <td>28.0</td>\n      <td>60.0</td>\n      <td>44.0</td>\n      <td>43.0</td>\n      <td>54.0</td>\n      <td>31.0</td>\n      <td>21.0</td>\n      <td>42.0</td>\n      <td>52.0</td>\n      <td>49.0</td>\n      <td>49.0</td>\n      <td>63.0</td>\n      <td>46.0</td>\n      <td>45.0</td>\n      <td>53.0</td>\n      <td>49.0</td>\n      <td>48.0</td>\n    </tr>\n    <tr>\n      <th>2</th>\n      <td>0</td>\n      <td>62.0</td>\n      <td>59.0</td>\n      <td>64.0</td>\n      <td>43.0</td>\n      <td>67.0</td>\n      <td>52.0</td>\n      <td>33.0</td>\n      <td>61.0</td>\n      <td>63.0</td>\n      <td>55.0</td>\n      <td>63.0</td>\n      <td>75.0</td>\n      <td>47.0</td>\n      <td>50.0</td>\n      <td>58.0</td>\n      <td>50.0</td>\n      <td>56.0</td>\n    </tr>\n    <tr>\n      <th>3</th>\n      <td>2</td>\n      <td>36.0</td>\n      <td>62.0</td>\n      <td>69.0</td>\n      <td>26.0</td>\n      <td>58.0</td>\n      <td>28.0</td>\n      <td>22.0</td>\n      <td>63.0</td>\n      <td>50.0</td>\n      <td>67.0</td>\n      <td>44.0</td>\n      <td>66.0</td>\n      <td>29.0</td>\n      <td>71.0</td>\n      <td>25.0</td>\n      <td>27.0</td>\n      <td>57.0</td>\n    </tr>\n    <tr>\n      <th>4</th>\n      <td>2</td>\n      <td>55.0</td>\n      <td>42.0</td>\n      <td>65.0</td>\n      <td>45.0</td>\n      <td>76.0</td>\n      <td>48.0</td>\n      <td>42.0</td>\n      <td>60.0</td>\n      <td>69.0</td>\n      <td>61.0</td>\n      <td>55.0</td>\n      <td>65.0</td>\n      <td>58.0</td>\n      <td>40.0</td>\n      <td>62.0</td>\n      <td>58.0</td>\n      <td>63.0</td>\n    </tr>\n    <tr>\n      <th>5</th>\n      <td>2</td>\n      <td>65.0</td>\n      <td>42.0</td>\n      <td>73.0</td>\n      <td>40.0</td>\n      <td>76.0</td>\n      <td>67.0</td>\n      <td>53.0</td>\n      <td>71.0</td>\n      <td>74.0</td>\n      <td>68.0</td>\n      <td>58.0</td>\n      <td>50.0</td>\n      <td>46.0</td>\n      <td>47.0</td>\n      <td>58.0</td>\n      <td>76.0</td>\n      <td>71.0</td>\n    </tr>\n    <tr>\n      <th>6</th>\n      <td>0</td>\n      <td>39.0</td>\n      <td>52.0</td>\n      <td>54.0</td>\n      <td>39.0</td>\n      <td>49.0</td>\n      <td>43.0</td>\n      <td>36.0</td>\n      <td>43.0</td>\n      <td>57.0</td>\n      <td>61.0</td>\n      <td>56.0</td>\n      <td>65.0</td>\n      <td>57.0</td>\n      <td>28.0</td>\n      <td>57.0</td>\n      <td>55.0</td>\n      <td>57.0</td>\n    </tr>\n    <tr>\n      <th>7</th>\n      <td>3</td>\n      <td>64.0</td>\n      <td>55.0</td>\n      <td>68.0</td>\n      <td>68.0</td>\n      <td>80.0</td>\n      <td>70.0</td>\n      <td>52.0</td>\n      <td>63.0</td>\n      <td>74.0</td>\n      <td>63.0</td>\n      <td>77.0</td>\n      <td>73.0</td>\n      <td>69.0</td>\n      <td>62.0</td>\n      <td>69.0</td>\n      <td>67.0</td>\n      <td>64.0</td>\n    </tr>\n    <tr>\n      <th>8</th>\n      <td>1</td>\n      <td>57.0</td>\n      <td>58.0</td>\n      <td>55.0</td>\n      <td>27.0</td>\n      <td>45.0</td>\n      <td>26.0</td>\n      <td>32.0</td>\n      <td>29.0</td>\n      <td>62.0</td>\n      <td>63.0</td>\n      <td>29.0</td>\n      <td>78.0</td>\n      <td>29.0</td>\n      <td>56.0</td>\n      <td>44.0</td>\n      <td>38.0</td>\n      <td>52.0</td>\n    </tr>\n    <tr>\n      <th>9</th>\n      <td>0</td>\n      <td>58.0</td>\n      <td>39.0</td>\n      <td>57.0</td>\n      <td>39.0</td>\n      <td>62.0</td>\n      <td>53.0</td>\n      <td>42.0</td>\n      <td>49.0</td>\n      <td>56.0</td>\n      <td>41.0</td>\n      <td>57.0</td>\n      <td>59.0</td>\n      <td>47.0</td>\n      <td>36.0</td>\n      <td>51.0</td>\n      <td>46.0</td>\n      <td>46.0</td>\n    </tr>\n  </tbody>\n</table>\n</div>"
     },
     "metadata": {}
    }
   ],
   "execution_count": null
  },
  {
   "cell_type": "markdown",
   "source": "**Fifth Step:** split the dataset vertically into attributes $x$ and label $t$ for supervised learning.",
   "metadata": {
    "id": "swXbMJEOnlYL",
    "cell_id": "00034-39f2a784-94d5-43a6-8e74-2673fa0f99e2",
    "deepnote_cell_type": "markdown"
   }
  },
  {
   "cell_type": "code",
   "metadata": {
    "id": "W8iCf68gnnbu",
    "colab": {
     "base_uri": "https://localhost:8080/",
     "height": 386
    },
    "executionInfo": {
     "status": "ok",
     "timestamp": 1632395387728,
     "user_tz": -120,
     "elapsed": 44,
     "user": {
      "displayName": "Daniel Manrique",
      "photoUrl": "https://lh3.googleusercontent.com/a-/AOh14GitdHbMelm6f6tHV3gogFTulR815SvuoEcosIv2kg=s64",
      "userId": "14181066300969909559"
     }
    },
    "outputId": "acc2347d-0d85-4671-f25b-cc09880f5bb8",
    "cell_id": "00035-926bda6f-d756-4002-875b-476973685cb7",
    "deepnote_to_be_reexecuted": false,
    "source_hash": "b910fa2b",
    "execution_start": 1636883576799,
    "execution_millis": 5,
    "deepnote_cell_type": "code"
   },
   "source": "discretized_t = pd.DataFrame(data=dataset[\"Quality\"].values,columns=[\"Quality\"])\ndiscretized_t[:10]",
   "outputs": [
    {
     "output_type": "execute_result",
     "execution_count": 23,
     "data": {
      "application/vnd.deepnote.dataframe.v2+json": {
       "row_count": 10,
       "column_count": 1,
       "columns": [
        {
         "name": "Quality",
         "dtype": "int64",
         "stats": {
          "unique_count": 4,
          "nan_count": 0,
          "min": "0",
          "max": "3",
          "histogram": [
           {
            "bin_start": 0,
            "bin_end": 0.3,
            "count": 4
           },
           {
            "bin_start": 0.3,
            "bin_end": 0.6,
            "count": 0
           },
           {
            "bin_start": 0.6,
            "bin_end": 0.8999999999999999,
            "count": 0
           },
           {
            "bin_start": 0.8999999999999999,
            "bin_end": 1.2,
            "count": 1
           },
           {
            "bin_start": 1.2,
            "bin_end": 1.5,
            "count": 0
           },
           {
            "bin_start": 1.5,
            "bin_end": 1.7999999999999998,
            "count": 0
           },
           {
            "bin_start": 1.7999999999999998,
            "bin_end": 2.1,
            "count": 4
           },
           {
            "bin_start": 2.1,
            "bin_end": 2.4,
            "count": 0
           },
           {
            "bin_start": 2.4,
            "bin_end": 2.6999999999999997,
            "count": 0
           },
           {
            "bin_start": 2.6999999999999997,
            "bin_end": 3,
            "count": 1
           }
          ]
         }
        },
        {
         "name": "_deepnote_index_column",
         "dtype": "int64"
        }
       ],
       "rows_top": [
        {
         "Quality": 2,
         "_deepnote_index_column": 0
        },
        {
         "Quality": 0,
         "_deepnote_index_column": 1
        },
        {
         "Quality": 0,
         "_deepnote_index_column": 2
        },
        {
         "Quality": 2,
         "_deepnote_index_column": 3
        },
        {
         "Quality": 2,
         "_deepnote_index_column": 4
        },
        {
         "Quality": 2,
         "_deepnote_index_column": 5
        },
        {
         "Quality": 0,
         "_deepnote_index_column": 6
        },
        {
         "Quality": 3,
         "_deepnote_index_column": 7
        },
        {
         "Quality": 1,
         "_deepnote_index_column": 8
        },
        {
         "Quality": 0,
         "_deepnote_index_column": 9
        }
       ],
       "rows_bottom": null
      },
      "text/plain": "   Quality\n0        2\n1        0\n2        0\n3        2\n4        2\n5        2\n6        0\n7        3\n8        1\n9        0",
      "text/html": "<div>\n<style scoped>\n    .dataframe tbody tr th:only-of-type {\n        vertical-align: middle;\n    }\n\n    .dataframe tbody tr th {\n        vertical-align: top;\n    }\n\n    .dataframe thead th {\n        text-align: right;\n    }\n</style>\n<table border=\"1\" class=\"dataframe\">\n  <thead>\n    <tr style=\"text-align: right;\">\n      <th></th>\n      <th>Quality</th>\n    </tr>\n  </thead>\n  <tbody>\n    <tr>\n      <th>0</th>\n      <td>2</td>\n    </tr>\n    <tr>\n      <th>1</th>\n      <td>0</td>\n    </tr>\n    <tr>\n      <th>2</th>\n      <td>0</td>\n    </tr>\n    <tr>\n      <th>3</th>\n      <td>2</td>\n    </tr>\n    <tr>\n      <th>4</th>\n      <td>2</td>\n    </tr>\n    <tr>\n      <th>5</th>\n      <td>2</td>\n    </tr>\n    <tr>\n      <th>6</th>\n      <td>0</td>\n    </tr>\n    <tr>\n      <th>7</th>\n      <td>3</td>\n    </tr>\n    <tr>\n      <th>8</th>\n      <td>1</td>\n    </tr>\n    <tr>\n      <th>9</th>\n      <td>0</td>\n    </tr>\n  </tbody>\n</table>\n</div>"
     },
     "metadata": {}
    }
   ],
   "execution_count": null
  },
  {
   "cell_type": "code",
   "metadata": {
    "id": "OWDtMJifoD3s",
    "colab": {
     "base_uri": "https://localhost:8080/",
     "height": 228
    },
    "executionInfo": {
     "status": "ok",
     "timestamp": 1632395387728,
     "user_tz": -120,
     "elapsed": 43,
     "user": {
      "displayName": "Daniel Manrique",
      "photoUrl": "https://lh3.googleusercontent.com/a-/AOh14GitdHbMelm6f6tHV3gogFTulR815SvuoEcosIv2kg=s64",
      "userId": "14181066300969909559"
     }
    },
    "outputId": "d2f1f164-e628-4d7e-b699-7405e2885135",
    "cell_id": "00036-da1cd65c-3871-4a7b-b635-97ab84feb7a7",
    "deepnote_to_be_reexecuted": false,
    "source_hash": "4d5d99b5",
    "execution_start": 1636883606791,
    "execution_millis": 74,
    "deepnote_cell_type": "code"
   },
   "source": "x = dataset.drop(columns=\"Quality\")\nx.head()",
   "outputs": [
    {
     "output_type": "execute_result",
     "execution_count": 25,
     "data": {
      "application/vnd.deepnote.dataframe.v2+json": {
       "row_count": 5,
       "column_count": 17,
       "columns": [
        {
         "name": "Crossing",
         "dtype": "float64",
         "stats": {
          "unique_count": 5,
          "nan_count": 0,
          "min": "28.0",
          "max": "62.0",
          "histogram": [
           {
            "bin_start": 28,
            "bin_end": 31.4,
            "count": 2
           },
           {
            "bin_start": 31.4,
            "bin_end": 34.8,
            "count": 0
           },
           {
            "bin_start": 34.8,
            "bin_end": 38.2,
            "count": 1
           },
           {
            "bin_start": 38.2,
            "bin_end": 41.6,
            "count": 0
           },
           {
            "bin_start": 41.6,
            "bin_end": 45,
            "count": 0
           },
           {
            "bin_start": 45,
            "bin_end": 48.4,
            "count": 0
           },
           {
            "bin_start": 48.4,
            "bin_end": 51.8,
            "count": 0
           },
           {
            "bin_start": 51.8,
            "bin_end": 55.2,
            "count": 1
           },
           {
            "bin_start": 55.2,
            "bin_end": 58.599999999999994,
            "count": 0
           },
           {
            "bin_start": 58.599999999999994,
            "bin_end": 62,
            "count": 1
           }
          ]
         }
        },
        {
         "name": "HeadingAccuracy",
         "dtype": "float64",
         "stats": {
          "unique_count": 5,
          "nan_count": 0,
          "min": "42.0",
          "max": "74.0",
          "histogram": [
           {
            "bin_start": 42,
            "bin_end": 45.2,
            "count": 1
           },
           {
            "bin_start": 45.2,
            "bin_end": 48.4,
            "count": 0
           },
           {
            "bin_start": 48.4,
            "bin_end": 51.6,
            "count": 0
           },
           {
            "bin_start": 51.6,
            "bin_end": 54.8,
            "count": 0
           },
           {
            "bin_start": 54.8,
            "bin_end": 58,
            "count": 0
           },
           {
            "bin_start": 58,
            "bin_end": 61.2,
            "count": 2
           },
           {
            "bin_start": 61.2,
            "bin_end": 64.4,
            "count": 1
           },
           {
            "bin_start": 64.4,
            "bin_end": 67.6,
            "count": 0
           },
           {
            "bin_start": 67.6,
            "bin_end": 70.8,
            "count": 0
           },
           {
            "bin_start": 70.8,
            "bin_end": 74,
            "count": 1
           }
          ]
         }
        },
        {
         "name": "ShortPassing",
         "dtype": "float64",
         "stats": {
          "unique_count": 5,
          "nan_count": 0,
          "min": "44.0",
          "max": "69.0",
          "histogram": [
           {
            "bin_start": 44,
            "bin_end": 46.5,
            "count": 1
           },
           {
            "bin_start": 46.5,
            "bin_end": 49,
            "count": 0
           },
           {
            "bin_start": 49,
            "bin_end": 51.5,
            "count": 0
           },
           {
            "bin_start": 51.5,
            "bin_end": 54,
            "count": 0
           },
           {
            "bin_start": 54,
            "bin_end": 56.5,
            "count": 1
           },
           {
            "bin_start": 56.5,
            "bin_end": 59,
            "count": 0
           },
           {
            "bin_start": 59,
            "bin_end": 61.5,
            "count": 0
           },
           {
            "bin_start": 61.5,
            "bin_end": 64,
            "count": 0
           },
           {
            "bin_start": 64,
            "bin_end": 66.5,
            "count": 2
           },
           {
            "bin_start": 66.5,
            "bin_end": 69,
            "count": 1
           }
          ]
         }
        },
        {
         "name": "Volleys",
         "dtype": "float64",
         "stats": {
          "unique_count": 4,
          "nan_count": 0,
          "min": "22.0",
          "max": "45.0",
          "histogram": [
           {
            "bin_start": 22,
            "bin_end": 24.3,
            "count": 1
           },
           {
            "bin_start": 24.3,
            "bin_end": 26.6,
            "count": 1
           },
           {
            "bin_start": 26.6,
            "bin_end": 28.9,
            "count": 0
           },
           {
            "bin_start": 28.9,
            "bin_end": 31.2,
            "count": 0
           },
           {
            "bin_start": 31.2,
            "bin_end": 33.5,
            "count": 0
           },
           {
            "bin_start": 33.5,
            "bin_end": 35.8,
            "count": 0
           },
           {
            "bin_start": 35.8,
            "bin_end": 38.099999999999994,
            "count": 0
           },
           {
            "bin_start": 38.099999999999994,
            "bin_end": 40.4,
            "count": 0
           },
           {
            "bin_start": 40.4,
            "bin_end": 42.7,
            "count": 0
           },
           {
            "bin_start": 42.7,
            "bin_end": 45,
            "count": 3
           }
          ]
         }
        },
        {
         "name": "Dribbling",
         "dtype": "float64",
         "stats": {
          "unique_count": 5,
          "nan_count": 0,
          "min": "49.0",
          "max": "76.0",
          "histogram": [
           {
            "bin_start": 49,
            "bin_end": 51.7,
            "count": 1
           },
           {
            "bin_start": 51.7,
            "bin_end": 54.4,
            "count": 1
           },
           {
            "bin_start": 54.4,
            "bin_end": 57.1,
            "count": 0
           },
           {
            "bin_start": 57.1,
            "bin_end": 59.8,
            "count": 1
           },
           {
            "bin_start": 59.8,
            "bin_end": 62.5,
            "count": 0
           },
           {
            "bin_start": 62.5,
            "bin_end": 65.2,
            "count": 0
           },
           {
            "bin_start": 65.2,
            "bin_end": 67.9,
            "count": 1
           },
           {
            "bin_start": 67.9,
            "bin_end": 70.6,
            "count": 0
           },
           {
            "bin_start": 70.6,
            "bin_end": 73.3,
            "count": 0
           },
           {
            "bin_start": 73.3,
            "bin_end": 76,
            "count": 1
           }
          ]
         }
        },
        {
         "name": "Curve",
         "dtype": "float64",
         "stats": {
          "unique_count": 5,
          "nan_count": 0,
          "min": "28.0",
          "max": "52.0",
          "histogram": [
           {
            "bin_start": 28,
            "bin_end": 30.4,
            "count": 2
           },
           {
            "bin_start": 30.4,
            "bin_end": 32.8,
            "count": 1
           },
           {
            "bin_start": 32.8,
            "bin_end": 35.2,
            "count": 0
           },
           {
            "bin_start": 35.2,
            "bin_end": 37.6,
            "count": 0
           },
           {
            "bin_start": 37.6,
            "bin_end": 40,
            "count": 0
           },
           {
            "bin_start": 40,
            "bin_end": 42.4,
            "count": 0
           },
           {
            "bin_start": 42.4,
            "bin_end": 44.8,
            "count": 0
           },
           {
            "bin_start": 44.8,
            "bin_end": 47.2,
            "count": 0
           },
           {
            "bin_start": 47.2,
            "bin_end": 49.599999999999994,
            "count": 1
           },
           {
            "bin_start": 49.599999999999994,
            "bin_end": 52,
            "count": 1
           }
          ]
         }
        },
        {
         "name": "FKAccuracy",
         "dtype": "float64",
         "stats": {
          "unique_count": 5,
          "nan_count": 0,
          "min": "21.0",
          "max": "42.0",
          "histogram": [
           {
            "bin_start": 21,
            "bin_end": 23.1,
            "count": 2
           },
           {
            "bin_start": 23.1,
            "bin_end": 25.2,
            "count": 0
           },
           {
            "bin_start": 25.2,
            "bin_end": 27.3,
            "count": 1
           },
           {
            "bin_start": 27.3,
            "bin_end": 29.4,
            "count": 0
           },
           {
            "bin_start": 29.4,
            "bin_end": 31.5,
            "count": 0
           },
           {
            "bin_start": 31.5,
            "bin_end": 33.6,
            "count": 1
           },
           {
            "bin_start": 33.6,
            "bin_end": 35.7,
            "count": 0
           },
           {
            "bin_start": 35.7,
            "bin_end": 37.8,
            "count": 0
           },
           {
            "bin_start": 37.8,
            "bin_end": 39.900000000000006,
            "count": 0
           },
           {
            "bin_start": 39.900000000000006,
            "bin_end": 42,
            "count": 1
           }
          ]
         }
        },
        {
         "name": "LongPassing",
         "dtype": "float64",
         "stats": {
          "unique_count": 5,
          "nan_count": 0,
          "min": "42.0",
          "max": "63.0",
          "histogram": [
           {
            "bin_start": 42,
            "bin_end": 44.1,
            "count": 1
           },
           {
            "bin_start": 44.1,
            "bin_end": 46.2,
            "count": 0
           },
           {
            "bin_start": 46.2,
            "bin_end": 48.3,
            "count": 0
           },
           {
            "bin_start": 48.3,
            "bin_end": 50.4,
            "count": 1
           },
           {
            "bin_start": 50.4,
            "bin_end": 52.5,
            "count": 0
           },
           {
            "bin_start": 52.5,
            "bin_end": 54.6,
            "count": 0
           },
           {
            "bin_start": 54.6,
            "bin_end": 56.7,
            "count": 0
           },
           {
            "bin_start": 56.7,
            "bin_end": 58.8,
            "count": 0
           },
           {
            "bin_start": 58.8,
            "bin_end": 60.900000000000006,
            "count": 1
           },
           {
            "bin_start": 60.900000000000006,
            "bin_end": 63,
            "count": 2
           }
          ]
         }
        },
        {
         "name": "BallControl",
         "dtype": "float64",
         "stats": {
          "unique_count": 5,
          "nan_count": 0,
          "min": "50.0",
          "max": "69.0",
          "histogram": [
           {
            "bin_start": 50,
            "bin_end": 51.9,
            "count": 1
           },
           {
            "bin_start": 51.9,
            "bin_end": 53.8,
            "count": 1
           },
           {
            "bin_start": 53.8,
            "bin_end": 55.7,
            "count": 1
           },
           {
            "bin_start": 55.7,
            "bin_end": 57.6,
            "count": 0
           },
           {
            "bin_start": 57.6,
            "bin_end": 59.5,
            "count": 0
           },
           {
            "bin_start": 59.5,
            "bin_end": 61.4,
            "count": 0
           },
           {
            "bin_start": 61.4,
            "bin_end": 63.3,
            "count": 1
           },
           {
            "bin_start": 63.3,
            "bin_end": 65.2,
            "count": 0
           },
           {
            "bin_start": 65.2,
            "bin_end": 67.1,
            "count": 0
           },
           {
            "bin_start": 67.1,
            "bin_end": 69,
            "count": 1
           }
          ]
         }
        },
        {
         "name": "Reactions",
         "dtype": "float64",
         "stats": {
          "unique_count": 4,
          "nan_count": 0,
          "min": "49.0",
          "max": "67.0",
          "histogram": [
           {
            "bin_start": 49,
            "bin_end": 50.8,
            "count": 1
           },
           {
            "bin_start": 50.8,
            "bin_end": 52.6,
            "count": 0
           },
           {
            "bin_start": 52.6,
            "bin_end": 54.4,
            "count": 0
           },
           {
            "bin_start": 54.4,
            "bin_end": 56.2,
            "count": 1
           },
           {
            "bin_start": 56.2,
            "bin_end": 58,
            "count": 0
           },
           {
            "bin_start": 58,
            "bin_end": 59.8,
            "count": 0
           },
           {
            "bin_start": 59.8,
            "bin_end": 61.6,
            "count": 1
           },
           {
            "bin_start": 61.6,
            "bin_end": 63.4,
            "count": 0
           },
           {
            "bin_start": 63.4,
            "bin_end": 65.2,
            "count": 0
           },
           {
            "bin_start": 65.2,
            "bin_end": 67,
            "count": 2
           }
          ]
         }
        },
        {
         "name": "ShotPower",
         "dtype": "float64",
         "stats": {
          "unique_count": 5,
          "nan_count": 0,
          "min": "37.0",
          "max": "63.0",
          "histogram": [
           {
            "bin_start": 37,
            "bin_end": 39.6,
            "count": 1
           },
           {
            "bin_start": 39.6,
            "bin_end": 42.2,
            "count": 0
           },
           {
            "bin_start": 42.2,
            "bin_end": 44.8,
            "count": 1
           },
           {
            "bin_start": 44.8,
            "bin_end": 47.4,
            "count": 0
           },
           {
            "bin_start": 47.4,
            "bin_end": 50,
            "count": 1
           },
           {
            "bin_start": 50,
            "bin_end": 52.6,
            "count": 0
           },
           {
            "bin_start": 52.6,
            "bin_end": 55.2,
            "count": 1
           },
           {
            "bin_start": 55.2,
            "bin_end": 57.8,
            "count": 0
           },
           {
            "bin_start": 57.8,
            "bin_end": 60.400000000000006,
            "count": 0
           },
           {
            "bin_start": 60.400000000000006,
            "bin_end": 63,
            "count": 1
           }
          ]
         }
        },
        {
         "name": "Stamina",
         "dtype": "float64",
         "stats": {
          "unique_count": 5,
          "nan_count": 0,
          "min": "63.0",
          "max": "75.0",
          "histogram": [
           {
            "bin_start": 63,
            "bin_end": 64.2,
            "count": 1
           },
           {
            "bin_start": 64.2,
            "bin_end": 65.4,
            "count": 1
           },
           {
            "bin_start": 65.4,
            "bin_end": 66.6,
            "count": 1
           },
           {
            "bin_start": 66.6,
            "bin_end": 67.8,
            "count": 1
           },
           {
            "bin_start": 67.8,
            "bin_end": 69,
            "count": 0
           },
           {
            "bin_start": 69,
            "bin_end": 70.2,
            "count": 0
           },
           {
            "bin_start": 70.2,
            "bin_end": 71.4,
            "count": 0
           },
           {
            "bin_start": 71.4,
            "bin_end": 72.6,
            "count": 0
           },
           {
            "bin_start": 72.6,
            "bin_end": 73.8,
            "count": 0
           },
           {
            "bin_start": 73.8,
            "bin_end": 75,
            "count": 1
           }
          ]
         }
        },
        {
         "name": "LongShots",
         "dtype": "float64",
         "stats": {
          "unique_count": 5,
          "nan_count": 0,
          "min": "18.0",
          "max": "58.0",
          "histogram": [
           {
            "bin_start": 18,
            "bin_end": 22,
            "count": 1
           },
           {
            "bin_start": 22,
            "bin_end": 26,
            "count": 0
           },
           {
            "bin_start": 26,
            "bin_end": 30,
            "count": 1
           },
           {
            "bin_start": 30,
            "bin_end": 34,
            "count": 0
           },
           {
            "bin_start": 34,
            "bin_end": 38,
            "count": 0
           },
           {
            "bin_start": 38,
            "bin_end": 42,
            "count": 0
           },
           {
            "bin_start": 42,
            "bin_end": 46,
            "count": 0
           },
           {
            "bin_start": 46,
            "bin_end": 50,
            "count": 2
           },
           {
            "bin_start": 50,
            "bin_end": 54,
            "count": 0
           },
           {
            "bin_start": 54,
            "bin_end": 58,
            "count": 1
           }
          ]
         }
        },
        {
         "name": "Aggression",
         "dtype": "float64",
         "stats": {
          "unique_count": 5,
          "nan_count": 0,
          "min": "40.0",
          "max": "82.0",
          "histogram": [
           {
            "bin_start": 40,
            "bin_end": 44.2,
            "count": 1
           },
           {
            "bin_start": 44.2,
            "bin_end": 48.4,
            "count": 1
           },
           {
            "bin_start": 48.4,
            "bin_end": 52.6,
            "count": 1
           },
           {
            "bin_start": 52.6,
            "bin_end": 56.8,
            "count": 0
           },
           {
            "bin_start": 56.8,
            "bin_end": 61,
            "count": 0
           },
           {
            "bin_start": 61,
            "bin_end": 65.2,
            "count": 0
           },
           {
            "bin_start": 65.2,
            "bin_end": 69.4,
            "count": 0
           },
           {
            "bin_start": 69.4,
            "bin_end": 73.6,
            "count": 1
           },
           {
            "bin_start": 73.6,
            "bin_end": 77.80000000000001,
            "count": 0
           },
           {
            "bin_start": 77.80000000000001,
            "bin_end": 82,
            "count": 1
           }
          ]
         }
        },
        {
         "name": "Positioning",
         "dtype": "float64",
         "stats": {
          "unique_count": 5,
          "nan_count": 0,
          "min": "25.0",
          "max": "62.0",
          "histogram": [
           {
            "bin_start": 25,
            "bin_end": 28.7,
            "count": 1
           },
           {
            "bin_start": 28.7,
            "bin_end": 32.4,
            "count": 1
           },
           {
            "bin_start": 32.4,
            "bin_end": 36.1,
            "count": 0
           },
           {
            "bin_start": 36.1,
            "bin_end": 39.8,
            "count": 0
           },
           {
            "bin_start": 39.8,
            "bin_end": 43.5,
            "count": 0
           },
           {
            "bin_start": 43.5,
            "bin_end": 47.2,
            "count": 0
           },
           {
            "bin_start": 47.2,
            "bin_end": 50.900000000000006,
            "count": 0
           },
           {
            "bin_start": 50.900000000000006,
            "bin_end": 54.6,
            "count": 1
           },
           {
            "bin_start": 54.6,
            "bin_end": 58.300000000000004,
            "count": 1
           },
           {
            "bin_start": 58.300000000000004,
            "bin_end": 62,
            "count": 1
           }
          ]
         }
        },
        {
         "name": "Vision",
         "dtype": "float64",
         "stats": {
          "unique_count": 5,
          "nan_count": 0,
          "min": "27.0",
          "max": "58.0",
          "histogram": [
           {
            "bin_start": 27,
            "bin_end": 30.1,
            "count": 1
           },
           {
            "bin_start": 30.1,
            "bin_end": 33.2,
            "count": 1
           },
           {
            "bin_start": 33.2,
            "bin_end": 36.3,
            "count": 0
           },
           {
            "bin_start": 36.3,
            "bin_end": 39.4,
            "count": 0
           },
           {
            "bin_start": 39.4,
            "bin_end": 42.5,
            "count": 0
           },
           {
            "bin_start": 42.5,
            "bin_end": 45.6,
            "count": 0
           },
           {
            "bin_start": 45.6,
            "bin_end": 48.7,
            "count": 0
           },
           {
            "bin_start": 48.7,
            "bin_end": 51.8,
            "count": 2
           },
           {
            "bin_start": 51.8,
            "bin_end": 54.900000000000006,
            "count": 0
           },
           {
            "bin_start": 54.900000000000006,
            "bin_end": 58,
            "count": 1
           }
          ]
         }
        },
        {
         "name": "Composure",
         "dtype": "float64",
         "stats": {
          "unique_count": 5,
          "nan_count": 0,
          "min": "48.0",
          "max": "63.0",
          "histogram": [
           {
            "bin_start": 48,
            "bin_end": 49.5,
            "count": 1
           },
           {
            "bin_start": 49.5,
            "bin_end": 51,
            "count": 0
           },
           {
            "bin_start": 51,
            "bin_end": 52.5,
            "count": 0
           },
           {
            "bin_start": 52.5,
            "bin_end": 54,
            "count": 0
           },
           {
            "bin_start": 54,
            "bin_end": 55.5,
            "count": 0
           },
           {
            "bin_start": 55.5,
            "bin_end": 57,
            "count": 1
           },
           {
            "bin_start": 57,
            "bin_end": 58.5,
            "count": 1
           },
           {
            "bin_start": 58.5,
            "bin_end": 60,
            "count": 0
           },
           {
            "bin_start": 60,
            "bin_end": 61.5,
            "count": 1
           },
           {
            "bin_start": 61.5,
            "bin_end": 63,
            "count": 1
           }
          ]
         }
        },
        {
         "name": "_deepnote_index_column",
         "dtype": "int64"
        }
       ],
       "rows_top": [
        {
         "Crossing": 30,
         "HeadingAccuracy": 74,
         "ShortPassing": 56,
         "Volleys": 22,
         "Dribbling": 49,
         "Curve": 30,
         "FKAccuracy": 27,
         "LongPassing": 49,
         "BallControl": 55,
         "Reactions": 67,
         "ShotPower": 37,
         "Stamina": 67,
         "LongShots": 18,
         "Aggression": 82,
         "Positioning": 30,
         "Vision": 31,
         "Composure": 61,
         "_deepnote_index_column": 0
        },
        {
         "Crossing": 28,
         "HeadingAccuracy": 60,
         "ShortPassing": 44,
         "Volleys": 43,
         "Dribbling": 54,
         "Curve": 31,
         "FKAccuracy": 21,
         "LongPassing": 42,
         "BallControl": 52,
         "Reactions": 49,
         "ShotPower": 49,
         "Stamina": 63,
         "LongShots": 46,
         "Aggression": 45,
         "Positioning": 53,
         "Vision": 49,
         "Composure": 48,
         "_deepnote_index_column": 1
        },
        {
         "Crossing": 62,
         "HeadingAccuracy": 59,
         "ShortPassing": 64,
         "Volleys": 43,
         "Dribbling": 67,
         "Curve": 52,
         "FKAccuracy": 33,
         "LongPassing": 61,
         "BallControl": 63,
         "Reactions": 55,
         "ShotPower": 63,
         "Stamina": 75,
         "LongShots": 47,
         "Aggression": 50,
         "Positioning": 58,
         "Vision": 50,
         "Composure": 56,
         "_deepnote_index_column": 2
        },
        {
         "Crossing": 36,
         "HeadingAccuracy": 62,
         "ShortPassing": 69,
         "Volleys": 26,
         "Dribbling": 58,
         "Curve": 28,
         "FKAccuracy": 22,
         "LongPassing": 63,
         "BallControl": 50,
         "Reactions": 67,
         "ShotPower": 44,
         "Stamina": 66,
         "LongShots": 29,
         "Aggression": 71,
         "Positioning": 25,
         "Vision": 27,
         "Composure": 57,
         "_deepnote_index_column": 3
        },
        {
         "Crossing": 55,
         "HeadingAccuracy": 42,
         "ShortPassing": 65,
         "Volleys": 45,
         "Dribbling": 76,
         "Curve": 48,
         "FKAccuracy": 42,
         "LongPassing": 60,
         "BallControl": 69,
         "Reactions": 61,
         "ShotPower": 55,
         "Stamina": 65,
         "LongShots": 58,
         "Aggression": 40,
         "Positioning": 62,
         "Vision": 58,
         "Composure": 63,
         "_deepnote_index_column": 4
        }
       ],
       "rows_bottom": null
      },
      "text/plain": "   Crossing  HeadingAccuracy  ShortPassing  Volleys  Dribbling  Curve  \\\n0      30.0             74.0          56.0     22.0       49.0   30.0   \n1      28.0             60.0          44.0     43.0       54.0   31.0   \n2      62.0             59.0          64.0     43.0       67.0   52.0   \n3      36.0             62.0          69.0     26.0       58.0   28.0   \n4      55.0             42.0          65.0     45.0       76.0   48.0   \n\n   FKAccuracy  LongPassing  BallControl  Reactions  ShotPower  Stamina  \\\n0        27.0         49.0         55.0       67.0       37.0     67.0   \n1        21.0         42.0         52.0       49.0       49.0     63.0   \n2        33.0         61.0         63.0       55.0       63.0     75.0   \n3        22.0         63.0         50.0       67.0       44.0     66.0   \n4        42.0         60.0         69.0       61.0       55.0     65.0   \n\n   LongShots  Aggression  Positioning  Vision  Composure  \n0       18.0        82.0         30.0    31.0       61.0  \n1       46.0        45.0         53.0    49.0       48.0  \n2       47.0        50.0         58.0    50.0       56.0  \n3       29.0        71.0         25.0    27.0       57.0  \n4       58.0        40.0         62.0    58.0       63.0  ",
      "text/html": "<div>\n<style scoped>\n    .dataframe tbody tr th:only-of-type {\n        vertical-align: middle;\n    }\n\n    .dataframe tbody tr th {\n        vertical-align: top;\n    }\n\n    .dataframe thead th {\n        text-align: right;\n    }\n</style>\n<table border=\"1\" class=\"dataframe\">\n  <thead>\n    <tr style=\"text-align: right;\">\n      <th></th>\n      <th>Crossing</th>\n      <th>HeadingAccuracy</th>\n      <th>ShortPassing</th>\n      <th>Volleys</th>\n      <th>Dribbling</th>\n      <th>Curve</th>\n      <th>FKAccuracy</th>\n      <th>LongPassing</th>\n      <th>BallControl</th>\n      <th>Reactions</th>\n      <th>ShotPower</th>\n      <th>Stamina</th>\n      <th>LongShots</th>\n      <th>Aggression</th>\n      <th>Positioning</th>\n      <th>Vision</th>\n      <th>Composure</th>\n    </tr>\n  </thead>\n  <tbody>\n    <tr>\n      <th>0</th>\n      <td>30.0</td>\n      <td>74.0</td>\n      <td>56.0</td>\n      <td>22.0</td>\n      <td>49.0</td>\n      <td>30.0</td>\n      <td>27.0</td>\n      <td>49.0</td>\n      <td>55.0</td>\n      <td>67.0</td>\n      <td>37.0</td>\n      <td>67.0</td>\n      <td>18.0</td>\n      <td>82.0</td>\n      <td>30.0</td>\n      <td>31.0</td>\n      <td>61.0</td>\n    </tr>\n    <tr>\n      <th>1</th>\n      <td>28.0</td>\n      <td>60.0</td>\n      <td>44.0</td>\n      <td>43.0</td>\n      <td>54.0</td>\n      <td>31.0</td>\n      <td>21.0</td>\n      <td>42.0</td>\n      <td>52.0</td>\n      <td>49.0</td>\n      <td>49.0</td>\n      <td>63.0</td>\n      <td>46.0</td>\n      <td>45.0</td>\n      <td>53.0</td>\n      <td>49.0</td>\n      <td>48.0</td>\n    </tr>\n    <tr>\n      <th>2</th>\n      <td>62.0</td>\n      <td>59.0</td>\n      <td>64.0</td>\n      <td>43.0</td>\n      <td>67.0</td>\n      <td>52.0</td>\n      <td>33.0</td>\n      <td>61.0</td>\n      <td>63.0</td>\n      <td>55.0</td>\n      <td>63.0</td>\n      <td>75.0</td>\n      <td>47.0</td>\n      <td>50.0</td>\n      <td>58.0</td>\n      <td>50.0</td>\n      <td>56.0</td>\n    </tr>\n    <tr>\n      <th>3</th>\n      <td>36.0</td>\n      <td>62.0</td>\n      <td>69.0</td>\n      <td>26.0</td>\n      <td>58.0</td>\n      <td>28.0</td>\n      <td>22.0</td>\n      <td>63.0</td>\n      <td>50.0</td>\n      <td>67.0</td>\n      <td>44.0</td>\n      <td>66.0</td>\n      <td>29.0</td>\n      <td>71.0</td>\n      <td>25.0</td>\n      <td>27.0</td>\n      <td>57.0</td>\n    </tr>\n    <tr>\n      <th>4</th>\n      <td>55.0</td>\n      <td>42.0</td>\n      <td>65.0</td>\n      <td>45.0</td>\n      <td>76.0</td>\n      <td>48.0</td>\n      <td>42.0</td>\n      <td>60.0</td>\n      <td>69.0</td>\n      <td>61.0</td>\n      <td>55.0</td>\n      <td>65.0</td>\n      <td>58.0</td>\n      <td>40.0</td>\n      <td>62.0</td>\n      <td>58.0</td>\n      <td>63.0</td>\n    </tr>\n  </tbody>\n</table>\n</div>"
     },
     "metadata": {}
    }
   ],
   "execution_count": null
  },
  {
   "cell_type": "markdown",
   "source": "**Sixth Step:** one-hot encoding of labels (target values).",
   "metadata": {
    "id": "n7Qd8q8CoPx5",
    "cell_id": "00037-f2c70c58-203a-4f13-b2d6-80db5aa860fd",
    "deepnote_cell_type": "markdown"
   }
  },
  {
   "cell_type": "code",
   "metadata": {
    "id": "JX84hy3RoZ3j",
    "colab": {
     "base_uri": "https://localhost:8080/"
    },
    "executionInfo": {
     "status": "ok",
     "timestamp": 1632395387728,
     "user_tz": -120,
     "elapsed": 41,
     "user": {
      "displayName": "Daniel Manrique",
      "photoUrl": "https://lh3.googleusercontent.com/a-/AOh14GitdHbMelm6f6tHV3gogFTulR815SvuoEcosIv2kg=s64",
      "userId": "14181066300969909559"
     }
    },
    "outputId": "d0cfb93f-947c-4a64-f613-1409461c7107",
    "cell_id": "00038-58532c28-c232-494d-b469-afc48a55adea",
    "deepnote_to_be_reexecuted": false,
    "source_hash": "b0afc3a",
    "execution_start": 1636883609965,
    "execution_millis": 22,
    "deepnote_cell_type": "code"
   },
   "source": "encoder = OneHotEncoder(categories=\"auto\") # Function that one-hot encoders integers\none_hot_t = encoder.fit_transform(discretized_t.values.reshape(-1,1)).toarray()\none_hot_t[:10]",
   "outputs": [
    {
     "output_type": "execute_result",
     "execution_count": 26,
     "data": {
      "text/plain": "array([[0., 0., 1., 0.],\n       [1., 0., 0., 0.],\n       [1., 0., 0., 0.],\n       [0., 0., 1., 0.],\n       [0., 0., 1., 0.],\n       [0., 0., 1., 0.],\n       [1., 0., 0., 0.],\n       [0., 0., 0., 1.],\n       [0., 1., 0., 0.],\n       [1., 0., 0., 0.]])"
     },
     "metadata": {}
    }
   ],
   "execution_count": null
  },
  {
   "cell_type": "code",
   "metadata": {
    "id": "jLtanuprolko",
    "colab": {
     "base_uri": "https://localhost:8080/",
     "height": 386
    },
    "executionInfo": {
     "status": "ok",
     "timestamp": 1632395387729,
     "user_tz": -120,
     "elapsed": 28,
     "user": {
      "displayName": "Daniel Manrique",
      "photoUrl": "https://lh3.googleusercontent.com/a-/AOh14GitdHbMelm6f6tHV3gogFTulR815SvuoEcosIv2kg=s64",
      "userId": "14181066300969909559"
     }
    },
    "outputId": "8f1acd44-a777-4791-bfaa-551be5780db9",
    "cell_id": "00039-c941785f-b2c7-42f6-8727-f60adbf98d2f",
    "deepnote_to_be_reexecuted": false,
    "source_hash": "4c28e490",
    "execution_start": 1636883614984,
    "execution_millis": 7,
    "deepnote_cell_type": "code"
   },
   "source": "one_hot_t = pd.DataFrame(data=one_hot_t,columns=interval_names)\none_hot_t[:10]",
   "outputs": [
    {
     "output_type": "execute_result",
     "execution_count": 27,
     "data": {
      "application/vnd.deepnote.dataframe.v2+json": {
       "row_count": 10,
       "column_count": 4,
       "columns": [
        {
         "name": "Poor:[46.0, 62.0]",
         "dtype": "float64",
         "stats": {
          "unique_count": 2,
          "nan_count": 0,
          "min": "0.0",
          "max": "1.0",
          "histogram": [
           {
            "bin_start": 0,
            "bin_end": 0.1,
            "count": 6
           },
           {
            "bin_start": 0.1,
            "bin_end": 0.2,
            "count": 0
           },
           {
            "bin_start": 0.2,
            "bin_end": 0.30000000000000004,
            "count": 0
           },
           {
            "bin_start": 0.30000000000000004,
            "bin_end": 0.4,
            "count": 0
           },
           {
            "bin_start": 0.4,
            "bin_end": 0.5,
            "count": 0
           },
           {
            "bin_start": 0.5,
            "bin_end": 0.6000000000000001,
            "count": 0
           },
           {
            "bin_start": 0.6000000000000001,
            "bin_end": 0.7000000000000001,
            "count": 0
           },
           {
            "bin_start": 0.7000000000000001,
            "bin_end": 0.8,
            "count": 0
           },
           {
            "bin_start": 0.8,
            "bin_end": 0.9,
            "count": 0
           },
           {
            "bin_start": 0.9,
            "bin_end": 1,
            "count": 4
           }
          ]
         }
        },
        {
         "name": "Interm:[63.0, 66.0]",
         "dtype": "float64",
         "stats": {
          "unique_count": 2,
          "nan_count": 0,
          "min": "0.0",
          "max": "1.0",
          "histogram": [
           {
            "bin_start": 0,
            "bin_end": 0.1,
            "count": 9
           },
           {
            "bin_start": 0.1,
            "bin_end": 0.2,
            "count": 0
           },
           {
            "bin_start": 0.2,
            "bin_end": 0.30000000000000004,
            "count": 0
           },
           {
            "bin_start": 0.30000000000000004,
            "bin_end": 0.4,
            "count": 0
           },
           {
            "bin_start": 0.4,
            "bin_end": 0.5,
            "count": 0
           },
           {
            "bin_start": 0.5,
            "bin_end": 0.6000000000000001,
            "count": 0
           },
           {
            "bin_start": 0.6000000000000001,
            "bin_end": 0.7000000000000001,
            "count": 0
           },
           {
            "bin_start": 0.7000000000000001,
            "bin_end": 0.8,
            "count": 0
           },
           {
            "bin_start": 0.8,
            "bin_end": 0.9,
            "count": 0
           },
           {
            "bin_start": 0.9,
            "bin_end": 1,
            "count": 1
           }
          ]
         }
        },
        {
         "name": "Good:[67.0, 71.0]",
         "dtype": "float64",
         "stats": {
          "unique_count": 2,
          "nan_count": 0,
          "min": "0.0",
          "max": "1.0",
          "histogram": [
           {
            "bin_start": 0,
            "bin_end": 0.1,
            "count": 6
           },
           {
            "bin_start": 0.1,
            "bin_end": 0.2,
            "count": 0
           },
           {
            "bin_start": 0.2,
            "bin_end": 0.30000000000000004,
            "count": 0
           },
           {
            "bin_start": 0.30000000000000004,
            "bin_end": 0.4,
            "count": 0
           },
           {
            "bin_start": 0.4,
            "bin_end": 0.5,
            "count": 0
           },
           {
            "bin_start": 0.5,
            "bin_end": 0.6000000000000001,
            "count": 0
           },
           {
            "bin_start": 0.6000000000000001,
            "bin_end": 0.7000000000000001,
            "count": 0
           },
           {
            "bin_start": 0.7000000000000001,
            "bin_end": 0.8,
            "count": 0
           },
           {
            "bin_start": 0.8,
            "bin_end": 0.9,
            "count": 0
           },
           {
            "bin_start": 0.9,
            "bin_end": 1,
            "count": 4
           }
          ]
         }
        },
        {
         "name": "Excel:[72.0, 94.0]",
         "dtype": "float64",
         "stats": {
          "unique_count": 2,
          "nan_count": 0,
          "min": "0.0",
          "max": "1.0",
          "histogram": [
           {
            "bin_start": 0,
            "bin_end": 0.1,
            "count": 9
           },
           {
            "bin_start": 0.1,
            "bin_end": 0.2,
            "count": 0
           },
           {
            "bin_start": 0.2,
            "bin_end": 0.30000000000000004,
            "count": 0
           },
           {
            "bin_start": 0.30000000000000004,
            "bin_end": 0.4,
            "count": 0
           },
           {
            "bin_start": 0.4,
            "bin_end": 0.5,
            "count": 0
           },
           {
            "bin_start": 0.5,
            "bin_end": 0.6000000000000001,
            "count": 0
           },
           {
            "bin_start": 0.6000000000000001,
            "bin_end": 0.7000000000000001,
            "count": 0
           },
           {
            "bin_start": 0.7000000000000001,
            "bin_end": 0.8,
            "count": 0
           },
           {
            "bin_start": 0.8,
            "bin_end": 0.9,
            "count": 0
           },
           {
            "bin_start": 0.9,
            "bin_end": 1,
            "count": 1
           }
          ]
         }
        },
        {
         "name": "_deepnote_index_column",
         "dtype": "int64"
        }
       ],
       "rows_top": [
        {
         "Poor:[46.0, 62.0]": 0,
         "Interm:[63.0, 66.0]": 0,
         "Good:[67.0, 71.0]": 1,
         "Excel:[72.0, 94.0]": 0,
         "_deepnote_index_column": 0
        },
        {
         "Poor:[46.0, 62.0]": 1,
         "Interm:[63.0, 66.0]": 0,
         "Good:[67.0, 71.0]": 0,
         "Excel:[72.0, 94.0]": 0,
         "_deepnote_index_column": 1
        },
        {
         "Poor:[46.0, 62.0]": 1,
         "Interm:[63.0, 66.0]": 0,
         "Good:[67.0, 71.0]": 0,
         "Excel:[72.0, 94.0]": 0,
         "_deepnote_index_column": 2
        },
        {
         "Poor:[46.0, 62.0]": 0,
         "Interm:[63.0, 66.0]": 0,
         "Good:[67.0, 71.0]": 1,
         "Excel:[72.0, 94.0]": 0,
         "_deepnote_index_column": 3
        },
        {
         "Poor:[46.0, 62.0]": 0,
         "Interm:[63.0, 66.0]": 0,
         "Good:[67.0, 71.0]": 1,
         "Excel:[72.0, 94.0]": 0,
         "_deepnote_index_column": 4
        },
        {
         "Poor:[46.0, 62.0]": 0,
         "Interm:[63.0, 66.0]": 0,
         "Good:[67.0, 71.0]": 1,
         "Excel:[72.0, 94.0]": 0,
         "_deepnote_index_column": 5
        },
        {
         "Poor:[46.0, 62.0]": 1,
         "Interm:[63.0, 66.0]": 0,
         "Good:[67.0, 71.0]": 0,
         "Excel:[72.0, 94.0]": 0,
         "_deepnote_index_column": 6
        },
        {
         "Poor:[46.0, 62.0]": 0,
         "Interm:[63.0, 66.0]": 0,
         "Good:[67.0, 71.0]": 0,
         "Excel:[72.0, 94.0]": 1,
         "_deepnote_index_column": 7
        },
        {
         "Poor:[46.0, 62.0]": 0,
         "Interm:[63.0, 66.0]": 1,
         "Good:[67.0, 71.0]": 0,
         "Excel:[72.0, 94.0]": 0,
         "_deepnote_index_column": 8
        },
        {
         "Poor:[46.0, 62.0]": 1,
         "Interm:[63.0, 66.0]": 0,
         "Good:[67.0, 71.0]": 0,
         "Excel:[72.0, 94.0]": 0,
         "_deepnote_index_column": 9
        }
       ],
       "rows_bottom": null
      },
      "text/plain": "   Poor:[46.0, 62.0]  Interm:[63.0, 66.0]  Good:[67.0, 71.0]  \\\n0                0.0                  0.0                1.0   \n1                1.0                  0.0                0.0   \n2                1.0                  0.0                0.0   \n3                0.0                  0.0                1.0   \n4                0.0                  0.0                1.0   \n5                0.0                  0.0                1.0   \n6                1.0                  0.0                0.0   \n7                0.0                  0.0                0.0   \n8                0.0                  1.0                0.0   \n9                1.0                  0.0                0.0   \n\n   Excel:[72.0, 94.0]  \n0                 0.0  \n1                 0.0  \n2                 0.0  \n3                 0.0  \n4                 0.0  \n5                 0.0  \n6                 0.0  \n7                 1.0  \n8                 0.0  \n9                 0.0  ",
      "text/html": "<div>\n<style scoped>\n    .dataframe tbody tr th:only-of-type {\n        vertical-align: middle;\n    }\n\n    .dataframe tbody tr th {\n        vertical-align: top;\n    }\n\n    .dataframe thead th {\n        text-align: right;\n    }\n</style>\n<table border=\"1\" class=\"dataframe\">\n  <thead>\n    <tr style=\"text-align: right;\">\n      <th></th>\n      <th>Poor:[46.0, 62.0]</th>\n      <th>Interm:[63.0, 66.0]</th>\n      <th>Good:[67.0, 71.0]</th>\n      <th>Excel:[72.0, 94.0]</th>\n    </tr>\n  </thead>\n  <tbody>\n    <tr>\n      <th>0</th>\n      <td>0.0</td>\n      <td>0.0</td>\n      <td>1.0</td>\n      <td>0.0</td>\n    </tr>\n    <tr>\n      <th>1</th>\n      <td>1.0</td>\n      <td>0.0</td>\n      <td>0.0</td>\n      <td>0.0</td>\n    </tr>\n    <tr>\n      <th>2</th>\n      <td>1.0</td>\n      <td>0.0</td>\n      <td>0.0</td>\n      <td>0.0</td>\n    </tr>\n    <tr>\n      <th>3</th>\n      <td>0.0</td>\n      <td>0.0</td>\n      <td>1.0</td>\n      <td>0.0</td>\n    </tr>\n    <tr>\n      <th>4</th>\n      <td>0.0</td>\n      <td>0.0</td>\n      <td>1.0</td>\n      <td>0.0</td>\n    </tr>\n    <tr>\n      <th>5</th>\n      <td>0.0</td>\n      <td>0.0</td>\n      <td>1.0</td>\n      <td>0.0</td>\n    </tr>\n    <tr>\n      <th>6</th>\n      <td>1.0</td>\n      <td>0.0</td>\n      <td>0.0</td>\n      <td>0.0</td>\n    </tr>\n    <tr>\n      <th>7</th>\n      <td>0.0</td>\n      <td>0.0</td>\n      <td>0.0</td>\n      <td>1.0</td>\n    </tr>\n    <tr>\n      <th>8</th>\n      <td>0.0</td>\n      <td>1.0</td>\n      <td>0.0</td>\n      <td>0.0</td>\n    </tr>\n    <tr>\n      <th>9</th>\n      <td>1.0</td>\n      <td>0.0</td>\n      <td>0.0</td>\n      <td>0.0</td>\n    </tr>\n  </tbody>\n</table>\n</div>"
     },
     "metadata": {}
    }
   ],
   "execution_count": null
  },
  {
   "cell_type": "markdown",
   "source": "**Seventh Step:** Standardization or Normalization of the input dataset. *Standardization* is much less affected by outliers, but it does not bound values to a specific range, which may be a problem for neural networks. The center is the mean, and the data is scaled to unit variance. On the other hand, *max-min scaling* ranges the data within max and min values, usually -1, and 1 or \\[0,1\\].  ",
   "metadata": {
    "id": "R8WXa0wspF-q",
    "cell_id": "00040-595a0523-d515-4fb8-b728-20569df9e6e6",
    "deepnote_cell_type": "markdown"
   }
  },
  {
   "cell_type": "code",
   "metadata": {
    "id": "MDSHS9yksxv3",
    "colab": {
     "base_uri": "https://localhost:8080/",
     "height": 386
    },
    "executionInfo": {
     "status": "ok",
     "timestamp": 1632395387729,
     "user_tz": -120,
     "elapsed": 26,
     "user": {
      "displayName": "Daniel Manrique",
      "photoUrl": "https://lh3.googleusercontent.com/a-/AOh14GitdHbMelm6f6tHV3gogFTulR815SvuoEcosIv2kg=s64",
      "userId": "14181066300969909559"
     }
    },
    "outputId": "5c6674f8-d5fc-4fbe-e933-acfd2de42d90",
    "cell_id": "00041-dd22afbf-2449-438e-a9d5-48f5bc7d06d3",
    "deepnote_to_be_reexecuted": false,
    "source_hash": "b44b5a93",
    "execution_start": 1636883638182,
    "execution_millis": 89,
    "deepnote_cell_type": "code"
   },
   "source": "x = pd.DataFrame (minmax_scale (x, feature_range=(-1,1)),columns=x.columns)\n#x = pd.DataFrame (scale (x),columns=x.columns)\nx[:10]",
   "outputs": [
    {
     "output_type": "execute_result",
     "execution_count": 28,
     "data": {
      "application/vnd.deepnote.dataframe.v2+json": {
       "row_count": 10,
       "column_count": 17,
       "columns": [
        {
         "name": "Crossing",
         "dtype": "float64",
         "stats": {
          "unique_count": 10,
          "nan_count": 0,
          "min": "-0.5853658536585366",
          "max": "0.3170731707317074",
          "histogram": [
           {
            "bin_start": -0.5853658536585366,
            "bin_end": -0.4951219512195122,
            "count": 2
           },
           {
            "bin_start": -0.4951219512195122,
            "bin_end": -0.4048780487804878,
            "count": 0
           },
           {
            "bin_start": -0.4048780487804878,
            "bin_end": -0.31463414634146336,
            "count": 2
           },
           {
            "bin_start": -0.31463414634146336,
            "bin_end": -0.224390243902439,
            "count": 0
           },
           {
            "bin_start": -0.224390243902439,
            "bin_end": -0.13414634146341464,
            "count": 0
           },
           {
            "bin_start": -0.13414634146341464,
            "bin_end": -0.04390243902439017,
            "count": 0
           },
           {
            "bin_start": -0.04390243902439017,
            "bin_end": 0.04634146341463419,
            "count": 0
           },
           {
            "bin_start": 0.04634146341463419,
            "bin_end": 0.13658536585365855,
            "count": 2
           },
           {
            "bin_start": 0.13658536585365855,
            "bin_end": 0.2268292682926829,
            "count": 1
           },
           {
            "bin_start": 0.2268292682926829,
            "bin_end": 0.3170731707317074,
            "count": 3
           }
          ]
         }
        },
        {
         "name": "HeadingAccuracy",
         "dtype": "float64",
         "stats": {
          "unique_count": 9,
          "nan_count": 0,
          "min": "-0.39240506329113933",
          "max": "0.49367088607594933",
          "histogram": [
           {
            "bin_start": -0.39240506329113933,
            "bin_end": -0.30379746835443044,
            "count": 3
           },
           {
            "bin_start": -0.30379746835443044,
            "bin_end": -0.2151898734177216,
            "count": 0
           },
           {
            "bin_start": -0.2151898734177216,
            "bin_end": -0.12658227848101278,
            "count": 0
           },
           {
            "bin_start": -0.12658227848101278,
            "bin_end": -0.03797468354430389,
            "count": 1
           },
           {
            "bin_start": -0.03797468354430389,
            "bin_end": 0.050632911392405,
            "count": 1
           },
           {
            "bin_start": 0.050632911392405,
            "bin_end": 0.13924050632911378,
            "count": 2
           },
           {
            "bin_start": 0.13924050632911378,
            "bin_end": 0.22784810126582267,
            "count": 2
           },
           {
            "bin_start": 0.22784810126582267,
            "bin_end": 0.31645569620253156,
            "count": 0
           },
           {
            "bin_start": 0.31645569620253156,
            "bin_end": 0.40506329113924044,
            "count": 0
           },
           {
            "bin_start": 0.40506329113924044,
            "bin_end": 0.49367088607594933,
            "count": 1
           }
          ]
         }
        },
        {
         "name": "ShortPassing",
         "dtype": "float64",
         "stats": {
          "unique_count": 10,
          "nan_count": 0,
          "min": "-0.34246575342465757",
          "max": "0.452054794520548",
          "histogram": [
           {
            "bin_start": -0.34246575342465757,
            "bin_end": -0.263013698630137,
            "count": 1
           },
           {
            "bin_start": -0.263013698630137,
            "bin_end": -0.18356164383561646,
            "count": 0
           },
           {
            "bin_start": -0.18356164383561646,
            "bin_end": -0.1041095890410959,
            "count": 0
           },
           {
            "bin_start": -0.1041095890410959,
            "bin_end": -0.024657534246575352,
            "count": 2
           },
           {
            "bin_start": -0.024657534246575352,
            "bin_end": 0.0547945205479452,
            "count": 2
           },
           {
            "bin_start": 0.0547945205479452,
            "bin_end": 0.13424657534246576,
            "count": 0
           },
           {
            "bin_start": 0.13424657534246576,
            "bin_end": 0.2136986301369863,
            "count": 1
           },
           {
            "bin_start": 0.2136986301369863,
            "bin_end": 0.29315068493150687,
            "count": 1
           },
           {
            "bin_start": 0.29315068493150687,
            "bin_end": 0.3726027397260274,
            "count": 2
           },
           {
            "bin_start": 0.3726027397260274,
            "bin_end": 0.452054794520548,
            "count": 1
           }
          ]
         }
        },
        {
         "name": "Volleys",
         "dtype": "float64",
         "stats": {
          "unique_count": 8,
          "nan_count": 0,
          "min": "-0.7",
          "max": "0.4500000000000002",
          "histogram": [
           {
            "bin_start": -0.7,
            "bin_end": -0.585,
            "count": 2
           },
           {
            "bin_start": -0.585,
            "bin_end": -0.4699999999999999,
            "count": 1
           },
           {
            "bin_start": -0.4699999999999999,
            "bin_end": -0.35499999999999987,
            "count": 0
           },
           {
            "bin_start": -0.35499999999999987,
            "bin_end": -0.23999999999999988,
            "count": 3
           },
           {
            "bin_start": -0.23999999999999988,
            "bin_end": -0.12499999999999989,
            "count": 3
           },
           {
            "bin_start": -0.12499999999999989,
            "bin_end": -0.009999999999999787,
            "count": 0
           },
           {
            "bin_start": -0.009999999999999787,
            "bin_end": 0.1050000000000002,
            "count": 0
           },
           {
            "bin_start": 0.1050000000000002,
            "bin_end": 0.2200000000000002,
            "count": 0
           },
           {
            "bin_start": 0.2200000000000002,
            "bin_end": 0.3350000000000002,
            "count": 0
           },
           {
            "bin_start": 0.3350000000000002,
            "bin_end": 0.4500000000000002,
            "count": 1
           }
          ]
         }
        },
        {
         "name": "Dribbling",
         "dtype": "float64",
         "stats": {
          "unique_count": 8,
          "nan_count": 0,
          "min": "-0.2530120481927709",
          "max": "0.5903614457831325",
          "histogram": [
           {
            "bin_start": -0.2530120481927709,
            "bin_end": -0.16867469879518054,
            "count": 1
           },
           {
            "bin_start": -0.16867469879518054,
            "bin_end": -0.08433734939759022,
            "count": 2
           },
           {
            "bin_start": -0.08433734939759022,
            "bin_end": 1.1102230246251565e-16,
            "count": 1
           },
           {
            "bin_start": 1.1102230246251565e-16,
            "bin_end": 0.08433734939759047,
            "count": 1
           },
           {
            "bin_start": 0.08433734939759047,
            "bin_end": 0.16867469879518082,
            "count": 1
           },
           {
            "bin_start": 0.16867469879518082,
            "bin_end": 0.2530120481927711,
            "count": 0
           },
           {
            "bin_start": 0.2530120481927711,
            "bin_end": 0.33734939759036153,
            "count": 1
           },
           {
            "bin_start": 0.33734939759036153,
            "bin_end": 0.42168674698795183,
            "count": 0
           },
           {
            "bin_start": 0.42168674698795183,
            "bin_end": 0.5060240963855421,
            "count": 2
           },
           {
            "bin_start": 0.5060240963855421,
            "bin_end": 0.5903614457831325,
            "count": 1
           }
          ]
         }
        },
        {
         "name": "Curve",
         "dtype": "float64",
         "stats": {
          "unique_count": 10,
          "nan_count": 0,
          "min": "-0.6385542168674698",
          "max": "0.42168674698795194",
          "histogram": [
           {
            "bin_start": -0.6385542168674698,
            "bin_end": -0.5325301204819276,
            "count": 3
           },
           {
            "bin_start": -0.5325301204819276,
            "bin_end": -0.4265060240963855,
            "count": 1
           },
           {
            "bin_start": -0.4265060240963855,
            "bin_end": -0.3204819277108433,
            "count": 0
           },
           {
            "bin_start": -0.3204819277108433,
            "bin_end": -0.2144578313253011,
            "count": 1
           },
           {
            "bin_start": -0.2144578313253011,
            "bin_end": -0.10843373493975894,
            "count": 0
           },
           {
            "bin_start": -0.10843373493975894,
            "bin_end": -0.00240963855421672,
            "count": 2
           },
           {
            "bin_start": -0.00240963855421672,
            "bin_end": 0.10361445783132539,
            "count": 1
           },
           {
            "bin_start": 0.10361445783132539,
            "bin_end": 0.2096385542168676,
            "count": 0
           },
           {
            "bin_start": 0.2096385542168676,
            "bin_end": 0.31566265060240983,
            "count": 0
           },
           {
            "bin_start": 0.31566265060240983,
            "bin_end": 0.42168674698795194,
            "count": 2
           }
          ]
         }
        },
        {
         "name": "FKAccuracy",
         "dtype": "float64",
         "stats": {
          "unique_count": 9,
          "nan_count": 0,
          "min": "-0.7380952380952381",
          "max": "0.023809523809523725",
          "histogram": [
           {
            "bin_start": -0.7380952380952381,
            "bin_end": -0.661904761904762,
            "count": 2
           },
           {
            "bin_start": -0.661904761904762,
            "bin_end": -0.5857142857142857,
            "count": 1
           },
           {
            "bin_start": -0.5857142857142857,
            "bin_end": -0.5095238095238096,
            "count": 0
           },
           {
            "bin_start": -0.5095238095238096,
            "bin_end": -0.4333333333333334,
            "count": 2
           },
           {
            "bin_start": -0.4333333333333334,
            "bin_end": -0.3571428571428572,
            "count": 1
           },
           {
            "bin_start": -0.3571428571428572,
            "bin_end": -0.28095238095238106,
            "count": 0
           },
           {
            "bin_start": -0.28095238095238106,
            "bin_end": -0.2047619047619048,
            "count": 2
           },
           {
            "bin_start": -0.2047619047619048,
            "bin_end": -0.12857142857142867,
            "count": 0
           },
           {
            "bin_start": -0.12857142857142867,
            "bin_end": -0.05238095238095253,
            "count": 0
           },
           {
            "bin_start": -0.05238095238095253,
            "bin_end": 0.023809523809523725,
            "count": 2
           }
          ]
         }
        },
        {
         "name": "LongPassing",
         "dtype": "float64",
         "stats": {
          "unique_count": 8,
          "nan_count": 0,
          "min": "-0.7297297297297298",
          "max": "0.4054054054054055",
          "histogram": [
           {
            "bin_start": -0.7297297297297298,
            "bin_end": -0.6162162162162163,
            "count": 1
           },
           {
            "bin_start": -0.6162162162162163,
            "bin_end": -0.5027027027027028,
            "count": 0
           },
           {
            "bin_start": -0.5027027027027028,
            "bin_end": -0.3891891891891892,
            "count": 0
           },
           {
            "bin_start": -0.3891891891891892,
            "bin_end": -0.2756756756756757,
            "count": 2
           },
           {
            "bin_start": -0.2756756756756757,
            "bin_end": -0.16216216216216217,
            "count": 2
           },
           {
            "bin_start": -0.16216216216216217,
            "bin_end": -0.048648648648648596,
            "count": 0
           },
           {
            "bin_start": -0.048648648648648596,
            "bin_end": 0.06486486486486487,
            "count": 0
           },
           {
            "bin_start": 0.06486486486486487,
            "bin_end": 0.17837837837837844,
            "count": 2
           },
           {
            "bin_start": 0.17837837837837844,
            "bin_end": 0.291891891891892,
            "count": 2
           },
           {
            "bin_start": 0.291891891891892,
            "bin_end": 0.4054054054054055,
            "count": 1
           }
          ]
         }
        },
        {
         "name": "BallControl",
         "dtype": "float64",
         "stats": {
          "unique_count": 9,
          "nan_count": 0,
          "min": "-0.29577464788732377",
          "max": "0.380281690140845",
          "histogram": [
           {
            "bin_start": -0.29577464788732377,
            "bin_end": -0.2281690140845069,
            "count": 2
           },
           {
            "bin_start": -0.2281690140845069,
            "bin_end": -0.16056338028169,
            "count": 0
           },
           {
            "bin_start": -0.16056338028169,
            "bin_end": -0.09295774647887312,
            "count": 3
           },
           {
            "bin_start": -0.09295774647887312,
            "bin_end": -0.02535211267605625,
            "count": 0
           },
           {
            "bin_start": -0.02535211267605625,
            "bin_end": 0.04225352112676062,
            "count": 0
           },
           {
            "bin_start": 0.04225352112676062,
            "bin_end": 0.10985915492957754,
            "count": 2
           },
           {
            "bin_start": 0.10985915492957754,
            "bin_end": 0.1774647887323944,
            "count": 0
           },
           {
            "bin_start": 0.1774647887323944,
            "bin_end": 0.24507042253521127,
            "count": 1
           },
           {
            "bin_start": 0.24507042253521127,
            "bin_end": 0.3126760563380282,
            "count": 0
           },
           {
            "bin_start": 0.3126760563380282,
            "bin_end": 0.380281690140845,
            "count": 2
           }
          ]
         }
        },
        {
         "name": "Reactions",
         "dtype": "float64",
         "stats": {
          "unique_count": 7,
          "nan_count": 0,
          "min": "-0.46666666666666656",
          "max": "0.2533333333333334",
          "histogram": [
           {
            "bin_start": -0.46666666666666656,
            "bin_end": -0.39466666666666655,
            "count": 1
           },
           {
            "bin_start": -0.39466666666666655,
            "bin_end": -0.32266666666666655,
            "count": 0
           },
           {
            "bin_start": -0.32266666666666655,
            "bin_end": -0.2506666666666666,
            "count": 1
           },
           {
            "bin_start": -0.2506666666666666,
            "bin_end": -0.17866666666666658,
            "count": 0
           },
           {
            "bin_start": -0.17866666666666658,
            "bin_end": -0.10666666666666658,
            "count": 0
           },
           {
            "bin_start": -0.10666666666666658,
            "bin_end": -0.03466666666666662,
            "count": 1
           },
           {
            "bin_start": -0.03466666666666662,
            "bin_end": 0.03733333333333344,
            "count": 0
           },
           {
            "bin_start": 0.03733333333333344,
            "bin_end": 0.1093333333333334,
            "count": 2
           },
           {
            "bin_start": 0.1093333333333334,
            "bin_end": 0.18133333333333335,
            "count": 2
           },
           {
            "bin_start": 0.18133333333333335,
            "bin_end": 0.2533333333333334,
            "count": 3
           }
          ]
         }
        },
        {
         "name": "ShotPower",
         "dtype": "float64",
         "stats": {
          "unique_count": 10,
          "nan_count": 0,
          "min": "-0.6296296296296297",
          "max": "0.5555555555555556",
          "histogram": [
           {
            "bin_start": -0.6296296296296297,
            "bin_end": -0.5111111111111112,
            "count": 1
           },
           {
            "bin_start": -0.5111111111111112,
            "bin_end": -0.3925925925925926,
            "count": 1
           },
           {
            "bin_start": -0.3925925925925926,
            "bin_end": -0.27407407407407414,
            "count": 0
           },
           {
            "bin_start": -0.27407407407407414,
            "bin_end": -0.1555555555555556,
            "count": 1
           },
           {
            "bin_start": -0.1555555555555556,
            "bin_end": -0.03703703703703709,
            "count": 1
           },
           {
            "bin_start": -0.03703703703703709,
            "bin_end": 0.08148148148148138,
            "count": 3
           },
           {
            "bin_start": 0.08148148148148138,
            "bin_end": 0.19999999999999996,
            "count": 1
           },
           {
            "bin_start": 0.19999999999999996,
            "bin_end": 0.3185185185185184,
            "count": 1
           },
           {
            "bin_start": 0.3185185185185184,
            "bin_end": 0.437037037037037,
            "count": 0
           },
           {
            "bin_start": 0.437037037037037,
            "bin_end": 0.5555555555555556,
            "count": 1
           }
          ]
         }
        },
        {
         "name": "Stamina",
         "dtype": "float64",
         "stats": {
          "unique_count": 9,
          "nan_count": 0,
          "min": "-0.33333333333333326",
          "max": "0.4782608695652173",
          "histogram": [
           {
            "bin_start": -0.33333333333333326,
            "bin_end": -0.2521739130434782,
            "count": 1
           },
           {
            "bin_start": -0.2521739130434782,
            "bin_end": -0.17101449275362315,
            "count": 0
           },
           {
            "bin_start": -0.17101449275362315,
            "bin_end": -0.08985507246376812,
            "count": 0
           },
           {
            "bin_start": -0.08985507246376812,
            "bin_end": -0.008695652173913049,
            "count": 1
           },
           {
            "bin_start": -0.008695652173913049,
            "bin_end": 0.07246376811594202,
            "count": 1
           },
           {
            "bin_start": 0.07246376811594202,
            "bin_end": 0.15362318840579703,
            "count": 3
           },
           {
            "bin_start": 0.15362318840579703,
            "bin_end": 0.23478260869565215,
            "count": 1
           },
           {
            "bin_start": 0.23478260869565215,
            "bin_end": 0.31594202898550716,
            "count": 0
           },
           {
            "bin_start": 0.31594202898550716,
            "bin_end": 0.3971014492753622,
            "count": 2
           },
           {
            "bin_start": 0.3971014492753622,
            "bin_end": 0.4782608695652173,
            "count": 1
           }
          ]
         }
        },
        {
         "name": "LongShots",
         "dtype": "float64",
         "stats": {
          "unique_count": 7,
          "nan_count": 0,
          "min": "-0.8313253012048192",
          "max": "0.3975903614457832",
          "histogram": [
           {
            "bin_start": -0.8313253012048192,
            "bin_end": -0.7084337349397589,
            "count": 1
           },
           {
            "bin_start": -0.7084337349397589,
            "bin_end": -0.5855421686746987,
            "count": 0
           },
           {
            "bin_start": -0.5855421686746987,
            "bin_end": -0.4626506024096385,
            "count": 2
           },
           {
            "bin_start": -0.4626506024096385,
            "bin_end": -0.33975903614457825,
            "count": 0
           },
           {
            "bin_start": -0.33975903614457825,
            "bin_end": -0.216867469879518,
            "count": 0
           },
           {
            "bin_start": -0.216867469879518,
            "bin_end": -0.09397590361445785,
            "count": 4
           },
           {
            "bin_start": -0.09397590361445785,
            "bin_end": 0.028915662650602414,
            "count": 0
           },
           {
            "bin_start": 0.028915662650602414,
            "bin_end": 0.15180722891566267,
            "count": 2
           },
           {
            "bin_start": 0.15180722891566267,
            "bin_end": 0.27469879518072293,
            "count": 0
           },
           {
            "bin_start": 0.27469879518072293,
            "bin_end": 0.3975903614457832,
            "count": 1
           }
          ]
         }
        },
        {
         "name": "Aggression",
         "dtype": "float64",
         "stats": {
          "unique_count": 10,
          "nan_count": 0,
          "min": "-0.6341463414634146",
          "max": "0.6829268292682926",
          "histogram": [
           {
            "bin_start": -0.6341463414634146,
            "bin_end": -0.5024390243902439,
            "count": 1
           },
           {
            "bin_start": -0.5024390243902439,
            "bin_end": -0.3707317073170732,
            "count": 1
           },
           {
            "bin_start": -0.3707317073170732,
            "bin_end": -0.23902439024390254,
            "count": 1
           },
           {
            "bin_start": -0.23902439024390254,
            "bin_end": -0.1073170731707318,
            "count": 2
           },
           {
            "bin_start": -0.1073170731707318,
            "bin_end": 0.024390243902438935,
            "count": 1
           },
           {
            "bin_start": 0.024390243902438935,
            "bin_end": 0.15609756097560956,
            "count": 1
           },
           {
            "bin_start": 0.15609756097560956,
            "bin_end": 0.2878048780487803,
            "count": 1
           },
           {
            "bin_start": 0.2878048780487803,
            "bin_end": 0.41951219512195104,
            "count": 1
           },
           {
            "bin_start": 0.41951219512195104,
            "bin_end": 0.5512195121951217,
            "count": 0
           },
           {
            "bin_start": 0.5512195121951217,
            "bin_end": 0.6829268292682926,
            "count": 1
           }
          ]
         }
        },
        {
         "name": "Positioning",
         "dtype": "float64",
         "stats": {
          "unique_count": 9,
          "nan_count": 0,
          "min": "-0.6666666666666666",
          "max": "0.38095238095238093",
          "histogram": [
           {
            "bin_start": -0.6666666666666666,
            "bin_end": -0.5619047619047619,
            "count": 1
           },
           {
            "bin_start": -0.5619047619047619,
            "bin_end": -0.45714285714285713,
            "count": 1
           },
           {
            "bin_start": -0.45714285714285713,
            "bin_end": -0.35238095238095235,
            "count": 0
           },
           {
            "bin_start": -0.35238095238095235,
            "bin_end": -0.24761904761904763,
            "count": 0
           },
           {
            "bin_start": -0.24761904761904763,
            "bin_end": -0.1428571428571429,
            "count": 1
           },
           {
            "bin_start": -0.1428571428571429,
            "bin_end": -0.03809523809523807,
            "count": 1
           },
           {
            "bin_start": -0.03809523809523807,
            "bin_end": 0.06666666666666665,
            "count": 1
           },
           {
            "bin_start": 0.06666666666666665,
            "bin_end": 0.17142857142857137,
            "count": 3
           },
           {
            "bin_start": 0.17142857142857137,
            "bin_end": 0.2761904761904761,
            "count": 1
           },
           {
            "bin_start": 0.2761904761904761,
            "bin_end": 0.38095238095238093,
            "count": 1
           }
          ]
         }
        },
        {
         "name": "Vision",
         "dtype": "float64",
         "stats": {
          "unique_count": 10,
          "nan_count": 0,
          "min": "-0.6341463414634146",
          "max": "0.5609756097560976",
          "histogram": [
           {
            "bin_start": -0.6341463414634146,
            "bin_end": -0.5146341463414634,
            "count": 2
           },
           {
            "bin_start": -0.5146341463414634,
            "bin_end": -0.39512195121951216,
            "count": 0
           },
           {
            "bin_start": -0.39512195121951216,
            "bin_end": -0.2756097560975609,
            "count": 1
           },
           {
            "bin_start": -0.2756097560975609,
            "bin_end": -0.15609756097560967,
            "count": 1
           },
           {
            "bin_start": -0.15609756097560967,
            "bin_end": -0.03658536585365846,
            "count": 2
           },
           {
            "bin_start": -0.03658536585365846,
            "bin_end": 0.08292682926829287,
            "count": 1
           },
           {
            "bin_start": 0.08292682926829287,
            "bin_end": 0.20243902439024408,
            "count": 1
           },
           {
            "bin_start": 0.20243902439024408,
            "bin_end": 0.3219512195121953,
            "count": 0
           },
           {
            "bin_start": 0.3219512195121953,
            "bin_end": 0.4414634146341466,
            "count": 1
           },
           {
            "bin_start": 0.4414634146341466,
            "bin_end": 0.5609756097560976,
            "count": 1
           }
          ]
         }
        },
        {
         "name": "Composure",
         "dtype": "float64",
         "stats": {
          "unique_count": 9,
          "nan_count": 0,
          "min": "-0.3513513513513513",
          "max": "0.32432432432432434",
          "histogram": [
           {
            "bin_start": -0.3513513513513513,
            "bin_end": -0.28378378378378377,
            "count": 2
           },
           {
            "bin_start": -0.28378378378378377,
            "bin_end": -0.21621621621621617,
            "count": 0
           },
           {
            "bin_start": -0.21621621621621617,
            "bin_end": -0.1486486486486486,
            "count": 1
           },
           {
            "bin_start": -0.1486486486486486,
            "bin_end": -0.08108108108108103,
            "count": 1
           },
           {
            "bin_start": -0.08108108108108103,
            "bin_end": -0.013513513513513487,
            "count": 2
           },
           {
            "bin_start": -0.013513513513513487,
            "bin_end": 0.05405405405405411,
            "count": 1
           },
           {
            "bin_start": 0.05405405405405411,
            "bin_end": 0.12162162162162171,
            "count": 1
           },
           {
            "bin_start": 0.12162162162162171,
            "bin_end": 0.18918918918918926,
            "count": 1
           },
           {
            "bin_start": 0.18918918918918926,
            "bin_end": 0.2567567567567568,
            "count": 0
           },
           {
            "bin_start": 0.2567567567567568,
            "bin_end": 0.32432432432432434,
            "count": 1
           }
          ]
         }
        },
        {
         "name": "_deepnote_index_column",
         "dtype": "int64"
        }
       ],
       "rows_top": [
        {
         "Crossing": -0.5365853658536586,
         "HeadingAccuracy": 0.49367088607594933,
         "ShortPassing": -0.013698630136986356,
         "Volleys": -0.7,
         "Dribbling": -0.15662650602409633,
         "Curve": -0.5421686746987951,
         "FKAccuracy": -0.5952380952380953,
         "LongPassing": -0.18918918918918926,
         "BallControl": -0.15492957746478875,
         "Reactions": 0.2266666666666668,
         "ShotPower": -0.4320987654320988,
         "Stamina": 0.1594202898550725,
         "LongShots": -0.8313253012048192,
         "Aggression": 0.6829268292682926,
         "Positioning": -0.5476190476190477,
         "Vision": -0.5365853658536586,
         "Composure": 0.054054054054053946,
         "_deepnote_index_column": 0
        },
        {
         "Crossing": -0.5853658536585366,
         "HeadingAccuracy": 0.13924050632911378,
         "ShortPassing": -0.34246575342465757,
         "Volleys": -0.17500000000000004,
         "Dribbling": -0.03614457831325302,
         "Curve": -0.5180722891566264,
         "FKAccuracy": -0.7380952380952381,
         "LongPassing": -0.3783783783783785,
         "BallControl": -0.23943661971830976,
         "Reactions": -0.2533333333333334,
         "ShotPower": -0.1358024691358024,
         "Stamina": 0.04347826086956541,
         "LongShots": -0.15662650602409633,
         "Aggression": -0.2195121951219512,
         "Positioning": 0,
         "Vision": -0.09756097560975618,
         "Composure": -0.29729729729729737,
         "_deepnote_index_column": 1
        },
        {
         "Crossing": 0.24390243902439024,
         "HeadingAccuracy": 0.11392405063291133,
         "ShortPassing": 0.20547945205479445,
         "Volleys": -0.17500000000000004,
         "Dribbling": 0.2771084337349399,
         "Curve": -0.012048192771084265,
         "FKAccuracy": -0.45238095238095244,
         "LongPassing": 0.1351351351351351,
         "BallControl": 0.07042253521126773,
         "Reactions": -0.09333333333333327,
         "ShotPower": 0.20987654320987637,
         "Stamina": 0.3913043478260869,
         "LongShots": -0.13253012048192758,
         "Aggression": -0.09756097560975618,
         "Positioning": 0.11904761904761907,
         "Vision": -0.07317073170731714,
         "Composure": -0.08108108108108114,
         "_deepnote_index_column": 2
        },
        {
         "Crossing": -0.3902439024390244,
         "HeadingAccuracy": 0.1898734177215189,
         "ShortPassing": 0.34246575342465757,
         "Volleys": -0.6,
         "Dribbling": 0.06024096385542177,
         "Curve": -0.5903614457831324,
         "FKAccuracy": -0.7142857142857144,
         "LongPassing": 0.18918918918918926,
         "BallControl": -0.29577464788732377,
         "Reactions": 0.2266666666666668,
         "ShotPower": -0.2592592592592593,
         "Stamina": 0.1304347826086958,
         "LongShots": -0.5662650602409638,
         "Aggression": 0.41463414634146334,
         "Positioning": -0.6666666666666666,
         "Vision": -0.6341463414634146,
         "Composure": -0.05405405405405417,
         "_deepnote_index_column": 3
        },
        {
         "Crossing": 0.07317073170731714,
         "HeadingAccuracy": -0.3164556962025318,
         "ShortPassing": 0.23287671232876717,
         "Volleys": -0.125,
         "Dribbling": 0.493975903614458,
         "Curve": -0.10843373493975883,
         "FKAccuracy": -0.23809523809523814,
         "LongPassing": 0.10810810810810811,
         "BallControl": 0.23943661971830998,
         "Reactions": 0.06666666666666665,
         "ShotPower": 0.012345679012345512,
         "Stamina": 0.10144927536231885,
         "LongShots": 0.1325301204819278,
         "Aggression": -0.3414634146341464,
         "Positioning": 0.2142857142857142,
         "Vision": 0.12195121951219523,
         "Composure": 0.10810810810810811,
         "_deepnote_index_column": 4
        },
        {
         "Crossing": 0.3170731707317074,
         "HeadingAccuracy": -0.3164556962025318,
         "ShortPassing": 0.452054794520548,
         "Volleys": -0.25,
         "Dribbling": 0.493975903614458,
         "Curve": 0.3493975903614459,
         "FKAccuracy": 0.023809523809523725,
         "LongPassing": 0.4054054054054055,
         "BallControl": 0.380281690140845,
         "Reactions": 0.2533333333333334,
         "ShotPower": 0.08641975308641969,
         "Stamina": -0.33333333333333326,
         "LongShots": -0.15662650602409633,
         "Aggression": -0.1707317073170731,
         "Positioning": 0.11904761904761907,
         "Vision": 0.5609756097560976,
         "Composure": 0.32432432432432434,
         "_deepnote_index_column": 5
        },
        {
         "Crossing": -0.31707317073170727,
         "HeadingAccuracy": -0.06329113924050644,
         "ShortPassing": -0.06849315068493156,
         "Volleys": -0.2749999999999999,
         "Dribbling": -0.15662650602409633,
         "Curve": -0.22891566265060237,
         "FKAccuracy": -0.38095238095238104,
         "LongPassing": -0.3513513513513513,
         "BallControl": -0.09859154929577452,
         "Reactions": 0.06666666666666665,
         "ShotPower": 0.03703703703703698,
         "Stamina": 0.10144927536231885,
         "LongShots": 0.10843373493975905,
         "Aggression": -0.6341463414634146,
         "Positioning": 0.09523809523809512,
         "Vision": 0.04878048780487809,
         "Composure": -0.05405405405405417,
         "_deepnote_index_column": 6
        },
        {
         "Crossing": 0.29268292682926833,
         "HeadingAccuracy": 0.012658227848101111,
         "ShortPassing": 0.31506849315068486,
         "Volleys": 0.4500000000000002,
         "Dribbling": 0.5903614457831325,
         "Curve": 0.42168674698795194,
         "FKAccuracy": 0,
         "LongPassing": 0.18918918918918926,
         "BallControl": 0.380281690140845,
         "Reactions": 0.1200000000000001,
         "ShotPower": 0.5555555555555556,
         "Stamina": 0.3333333333333335,
         "LongShots": 0.3975903614457832,
         "Aggression": 0.19512195121951215,
         "Positioning": 0.38095238095238093,
         "Vision": 0.3414634146341464,
         "Composure": 0.1351351351351351,
         "_deepnote_index_column": 7
        },
        {
         "Crossing": 0.12195121951219523,
         "HeadingAccuracy": 0.08860759493670889,
         "ShortPassing": -0.04109589041095907,
         "Volleys": -0.575,
         "Dribbling": -0.2530120481927709,
         "Curve": -0.6385542168674698,
         "FKAccuracy": -0.4761904761904763,
         "LongPassing": -0.7297297297297298,
         "BallControl": 0.04225352112676073,
         "Reactions": 0.1200000000000001,
         "ShotPower": -0.6296296296296297,
         "Stamina": 0.4782608695652173,
         "LongShots": -0.5662650602409638,
         "Aggression": 0.04878048780487809,
         "Positioning": -0.2142857142857144,
         "Vision": -0.36585365853658536,
         "Composure": -0.18918918918918926,
         "_deepnote_index_column": 8
        },
        {
         "Crossing": 0.14634146341463428,
         "HeadingAccuracy": -0.39240506329113933,
         "ShortPassing": 0.013698630136986356,
         "Volleys": -0.2749999999999999,
         "Dribbling": 0.15662650602409656,
         "Curve": 0.012048192771084487,
         "FKAccuracy": -0.23809523809523814,
         "LongPassing": -0.18918918918918926,
         "BallControl": -0.12676056338028152,
         "Reactions": -0.46666666666666656,
         "ShotPower": 0.06172839506172845,
         "Stamina": -0.0724637681159419,
         "LongShots": -0.13253012048192758,
         "Aggression": -0.4390243902439025,
         "Positioning": -0.04761904761904767,
         "Vision": -0.1707317073170731,
         "Composure": -0.3513513513513513,
         "_deepnote_index_column": 9
        }
       ],
       "rows_bottom": null
      },
      "text/plain": "   Crossing  HeadingAccuracy  ShortPassing  Volleys  Dribbling     Curve  \\\n0 -0.536585         0.493671     -0.013699   -0.700  -0.156627 -0.542169   \n1 -0.585366         0.139241     -0.342466   -0.175  -0.036145 -0.518072   \n2  0.243902         0.113924      0.205479   -0.175   0.277108 -0.012048   \n3 -0.390244         0.189873      0.342466   -0.600   0.060241 -0.590361   \n4  0.073171        -0.316456      0.232877   -0.125   0.493976 -0.108434   \n5  0.317073        -0.316456      0.452055   -0.250   0.493976  0.349398   \n6 -0.317073        -0.063291     -0.068493   -0.275  -0.156627 -0.228916   \n7  0.292683         0.012658      0.315068    0.450   0.590361  0.421687   \n8  0.121951         0.088608     -0.041096   -0.575  -0.253012 -0.638554   \n9  0.146341        -0.392405      0.013699   -0.275   0.156627  0.012048   \n\n   FKAccuracy  LongPassing  BallControl  Reactions  ShotPower   Stamina  \\\n0   -0.595238    -0.189189    -0.154930   0.226667  -0.432099  0.159420   \n1   -0.738095    -0.378378    -0.239437  -0.253333  -0.135802  0.043478   \n2   -0.452381     0.135135     0.070423  -0.093333   0.209877  0.391304   \n3   -0.714286     0.189189    -0.295775   0.226667  -0.259259  0.130435   \n4   -0.238095     0.108108     0.239437   0.066667   0.012346  0.101449   \n5    0.023810     0.405405     0.380282   0.253333   0.086420 -0.333333   \n6   -0.380952    -0.351351    -0.098592   0.066667   0.037037  0.101449   \n7    0.000000     0.189189     0.380282   0.120000   0.555556  0.333333   \n8   -0.476190    -0.729730     0.042254   0.120000  -0.629630  0.478261   \n9   -0.238095    -0.189189    -0.126761  -0.466667   0.061728 -0.072464   \n\n   LongShots  Aggression  Positioning    Vision  Composure  \n0  -0.831325    0.682927    -0.547619 -0.536585   0.054054  \n1  -0.156627   -0.219512     0.000000 -0.097561  -0.297297  \n2  -0.132530   -0.097561     0.119048 -0.073171  -0.081081  \n3  -0.566265    0.414634    -0.666667 -0.634146  -0.054054  \n4   0.132530   -0.341463     0.214286  0.121951   0.108108  \n5  -0.156627   -0.170732     0.119048  0.560976   0.324324  \n6   0.108434   -0.634146     0.095238  0.048780  -0.054054  \n7   0.397590    0.195122     0.380952  0.341463   0.135135  \n8  -0.566265    0.048780    -0.214286 -0.365854  -0.189189  \n9  -0.132530   -0.439024    -0.047619 -0.170732  -0.351351  ",
      "text/html": "<div>\n<style scoped>\n    .dataframe tbody tr th:only-of-type {\n        vertical-align: middle;\n    }\n\n    .dataframe tbody tr th {\n        vertical-align: top;\n    }\n\n    .dataframe thead th {\n        text-align: right;\n    }\n</style>\n<table border=\"1\" class=\"dataframe\">\n  <thead>\n    <tr style=\"text-align: right;\">\n      <th></th>\n      <th>Crossing</th>\n      <th>HeadingAccuracy</th>\n      <th>ShortPassing</th>\n      <th>Volleys</th>\n      <th>Dribbling</th>\n      <th>Curve</th>\n      <th>FKAccuracy</th>\n      <th>LongPassing</th>\n      <th>BallControl</th>\n      <th>Reactions</th>\n      <th>ShotPower</th>\n      <th>Stamina</th>\n      <th>LongShots</th>\n      <th>Aggression</th>\n      <th>Positioning</th>\n      <th>Vision</th>\n      <th>Composure</th>\n    </tr>\n  </thead>\n  <tbody>\n    <tr>\n      <th>0</th>\n      <td>-0.536585</td>\n      <td>0.493671</td>\n      <td>-0.013699</td>\n      <td>-0.700</td>\n      <td>-0.156627</td>\n      <td>-0.542169</td>\n      <td>-0.595238</td>\n      <td>-0.189189</td>\n      <td>-0.154930</td>\n      <td>0.226667</td>\n      <td>-0.432099</td>\n      <td>0.159420</td>\n      <td>-0.831325</td>\n      <td>0.682927</td>\n      <td>-0.547619</td>\n      <td>-0.536585</td>\n      <td>0.054054</td>\n    </tr>\n    <tr>\n      <th>1</th>\n      <td>-0.585366</td>\n      <td>0.139241</td>\n      <td>-0.342466</td>\n      <td>-0.175</td>\n      <td>-0.036145</td>\n      <td>-0.518072</td>\n      <td>-0.738095</td>\n      <td>-0.378378</td>\n      <td>-0.239437</td>\n      <td>-0.253333</td>\n      <td>-0.135802</td>\n      <td>0.043478</td>\n      <td>-0.156627</td>\n      <td>-0.219512</td>\n      <td>0.000000</td>\n      <td>-0.097561</td>\n      <td>-0.297297</td>\n    </tr>\n    <tr>\n      <th>2</th>\n      <td>0.243902</td>\n      <td>0.113924</td>\n      <td>0.205479</td>\n      <td>-0.175</td>\n      <td>0.277108</td>\n      <td>-0.012048</td>\n      <td>-0.452381</td>\n      <td>0.135135</td>\n      <td>0.070423</td>\n      <td>-0.093333</td>\n      <td>0.209877</td>\n      <td>0.391304</td>\n      <td>-0.132530</td>\n      <td>-0.097561</td>\n      <td>0.119048</td>\n      <td>-0.073171</td>\n      <td>-0.081081</td>\n    </tr>\n    <tr>\n      <th>3</th>\n      <td>-0.390244</td>\n      <td>0.189873</td>\n      <td>0.342466</td>\n      <td>-0.600</td>\n      <td>0.060241</td>\n      <td>-0.590361</td>\n      <td>-0.714286</td>\n      <td>0.189189</td>\n      <td>-0.295775</td>\n      <td>0.226667</td>\n      <td>-0.259259</td>\n      <td>0.130435</td>\n      <td>-0.566265</td>\n      <td>0.414634</td>\n      <td>-0.666667</td>\n      <td>-0.634146</td>\n      <td>-0.054054</td>\n    </tr>\n    <tr>\n      <th>4</th>\n      <td>0.073171</td>\n      <td>-0.316456</td>\n      <td>0.232877</td>\n      <td>-0.125</td>\n      <td>0.493976</td>\n      <td>-0.108434</td>\n      <td>-0.238095</td>\n      <td>0.108108</td>\n      <td>0.239437</td>\n      <td>0.066667</td>\n      <td>0.012346</td>\n      <td>0.101449</td>\n      <td>0.132530</td>\n      <td>-0.341463</td>\n      <td>0.214286</td>\n      <td>0.121951</td>\n      <td>0.108108</td>\n    </tr>\n    <tr>\n      <th>5</th>\n      <td>0.317073</td>\n      <td>-0.316456</td>\n      <td>0.452055</td>\n      <td>-0.250</td>\n      <td>0.493976</td>\n      <td>0.349398</td>\n      <td>0.023810</td>\n      <td>0.405405</td>\n      <td>0.380282</td>\n      <td>0.253333</td>\n      <td>0.086420</td>\n      <td>-0.333333</td>\n      <td>-0.156627</td>\n      <td>-0.170732</td>\n      <td>0.119048</td>\n      <td>0.560976</td>\n      <td>0.324324</td>\n    </tr>\n    <tr>\n      <th>6</th>\n      <td>-0.317073</td>\n      <td>-0.063291</td>\n      <td>-0.068493</td>\n      <td>-0.275</td>\n      <td>-0.156627</td>\n      <td>-0.228916</td>\n      <td>-0.380952</td>\n      <td>-0.351351</td>\n      <td>-0.098592</td>\n      <td>0.066667</td>\n      <td>0.037037</td>\n      <td>0.101449</td>\n      <td>0.108434</td>\n      <td>-0.634146</td>\n      <td>0.095238</td>\n      <td>0.048780</td>\n      <td>-0.054054</td>\n    </tr>\n    <tr>\n      <th>7</th>\n      <td>0.292683</td>\n      <td>0.012658</td>\n      <td>0.315068</td>\n      <td>0.450</td>\n      <td>0.590361</td>\n      <td>0.421687</td>\n      <td>0.000000</td>\n      <td>0.189189</td>\n      <td>0.380282</td>\n      <td>0.120000</td>\n      <td>0.555556</td>\n      <td>0.333333</td>\n      <td>0.397590</td>\n      <td>0.195122</td>\n      <td>0.380952</td>\n      <td>0.341463</td>\n      <td>0.135135</td>\n    </tr>\n    <tr>\n      <th>8</th>\n      <td>0.121951</td>\n      <td>0.088608</td>\n      <td>-0.041096</td>\n      <td>-0.575</td>\n      <td>-0.253012</td>\n      <td>-0.638554</td>\n      <td>-0.476190</td>\n      <td>-0.729730</td>\n      <td>0.042254</td>\n      <td>0.120000</td>\n      <td>-0.629630</td>\n      <td>0.478261</td>\n      <td>-0.566265</td>\n      <td>0.048780</td>\n      <td>-0.214286</td>\n      <td>-0.365854</td>\n      <td>-0.189189</td>\n    </tr>\n    <tr>\n      <th>9</th>\n      <td>0.146341</td>\n      <td>-0.392405</td>\n      <td>0.013699</td>\n      <td>-0.275</td>\n      <td>0.156627</td>\n      <td>0.012048</td>\n      <td>-0.238095</td>\n      <td>-0.189189</td>\n      <td>-0.126761</td>\n      <td>-0.466667</td>\n      <td>0.061728</td>\n      <td>-0.072464</td>\n      <td>-0.132530</td>\n      <td>-0.439024</td>\n      <td>-0.047619</td>\n      <td>-0.170732</td>\n      <td>-0.351351</td>\n    </tr>\n  </tbody>\n</table>\n</div>"
     },
     "metadata": {}
    }
   ],
   "execution_count": null
  },
  {
   "cell_type": "code",
   "metadata": {
    "id": "ZXKpQaTiqY1M",
    "colab": {
     "base_uri": "https://localhost:8080/",
     "height": 341
    },
    "executionInfo": {
     "status": "ok",
     "timestamp": 1632395388050,
     "user_tz": -120,
     "elapsed": 345,
     "user": {
      "displayName": "Daniel Manrique",
      "photoUrl": "https://lh3.googleusercontent.com/a-/AOh14GitdHbMelm6f6tHV3gogFTulR815SvuoEcosIv2kg=s64",
      "userId": "14181066300969909559"
     }
    },
    "outputId": "174ab796-2d8a-409d-9d55-f1f019820095",
    "cell_id": "00042-73b37260-e6a0-4ec6-9f17-908d6187591a",
    "deepnote_to_be_reexecuted": false,
    "source_hash": "17eea259",
    "execution_start": 1636883652070,
    "execution_millis": 1191,
    "deepnote_cell_type": "code"
   },
   "source": "x.boxplot(figsize=(20,7))",
   "outputs": [
    {
     "output_type": "execute_result",
     "execution_count": 29,
     "data": {
      "text/plain": "<AxesSubplot:>"
     },
     "metadata": {}
    },
    {
     "data": {
      "text/plain": "<Figure size 1440x504 with 1 Axes>",
      "image/png": "[encoded data removed]"
     },
     "metadata": {
      "needs_background": "light",
      "image/png": {
       "width": 1168,
       "height": 411
      }
     },
     "output_type": "display_data"
    }
   ],
   "execution_count": null
  },
  {
   "cell_type": "markdown",
   "source": "An example of representing just one attribute",
   "metadata": {
    "id": "3zoQUDNWqmrD",
    "cell_id": "00043-d0c52842-dd18-4555-9f0c-8e582c6ca38e",
    "deepnote_cell_type": "markdown"
   }
  },
  {
   "cell_type": "code",
   "metadata": {
    "id": "6mts8xf8p2TQ",
    "colab": {
     "base_uri": "https://localhost:8080/",
     "height": 407
    },
    "executionInfo": {
     "status": "ok",
     "timestamp": 1632395389191,
     "user_tz": -120,
     "elapsed": 1143,
     "user": {
      "displayName": "Daniel Manrique",
      "photoUrl": "https://lh3.googleusercontent.com/a-/AOh14GitdHbMelm6f6tHV3gogFTulR815SvuoEcosIv2kg=s64",
      "userId": "14181066300969909559"
     }
    },
    "outputId": "7be982e6-049e-4088-ecff-f90630b2da9a",
    "cell_id": "00044-c499a905-36ff-4848-9b3c-446ba83e387c",
    "deepnote_to_be_reexecuted": false,
    "source_hash": "63b387e0",
    "execution_start": 1636884127372,
    "execution_millis": 1356,
    "deepnote_cell_type": "code"
   },
   "source": "sns.displot(x[\"Dribbling\"],kde=False,rug=True)\nsns.displot(x[\"Dribbling\"], kind=\"kde\")",
   "outputs": [
    {
     "output_type": "execute_result",
     "execution_count": 40,
     "data": {
      "text/plain": "<seaborn.axisgrid.FacetGrid at 0x7f06fa103b50>"
     },
     "metadata": {}
    },
    {
     "data": {
      "text/plain": "<Figure size 360x360 with 1 Axes>",
      "image/png": "[encoded data removed]"
     },
     "metadata": {
      "needs_background": "light",
      "image/png": {
       "width": 352,
       "height": 352
      }
     },
     "output_type": "display_data"
    },
    {
     "data": {
      "text/plain": "<Figure size 360x360 with 1 Axes>",
      "image/png": "[encoded data removed]"
     },
     "metadata": {
      "needs_background": "light",
      "image/png": {
       "width": 352,
       "height": 352
      }
     },
     "output_type": "display_data"
    }
   ],
   "execution_count": null
  },
  {
   "cell_type": "code",
   "metadata": {
    "id": "H7jU8bfQg_2p",
    "colab": {
     "base_uri": "https://localhost:8080/",
     "height": 303
    },
    "executionInfo": {
     "status": "ok",
     "timestamp": 1632395389192,
     "user_tz": -120,
     "elapsed": 25,
     "user": {
      "displayName": "Daniel Manrique",
      "photoUrl": "https://lh3.googleusercontent.com/a-/AOh14GitdHbMelm6f6tHV3gogFTulR815SvuoEcosIv2kg=s64",
      "userId": "14181066300969909559"
     }
    },
    "outputId": "dba887f3-3be1-4954-a8ba-72812ae12e85",
    "cell_id": "00045-47ba023e-73ed-44de-b8cc-361282e06b7b",
    "deepnote_to_be_reexecuted": false,
    "source_hash": "6ddf2e64",
    "execution_start": 1636883672294,
    "execution_millis": 250,
    "deepnote_cell_type": "code"
   },
   "source": "x.boxplot(column=[\"Crossing\"])",
   "outputs": [
    {
     "output_type": "execute_result",
     "execution_count": 31,
     "data": {
      "text/plain": "<AxesSubplot:>"
     },
     "metadata": {}
    },
    {
     "data": {
      "text/plain": "<Figure size 432x288 with 1 Axes>",
      "image/png": "[encoded data removed]"
     },
     "metadata": {
      "needs_background": "light",
      "image/png": {
       "width": 386,
       "height": 248
      }
     },
     "output_type": "display_data"
    }
   ],
   "execution_count": null
  },
  {
   "cell_type": "code",
   "metadata": {
    "id": "QGgJEqr7qoSw",
    "colab": {
     "base_uri": "https://localhost:8080/",
     "height": 323
    },
    "executionInfo": {
     "status": "ok",
     "timestamp": 1632395389193,
     "user_tz": -120,
     "elapsed": 9,
     "user": {
      "displayName": "Daniel Manrique",
      "photoUrl": "https://lh3.googleusercontent.com/a-/AOh14GitdHbMelm6f6tHV3gogFTulR815SvuoEcosIv2kg=s64",
      "userId": "14181066300969909559"
     }
    },
    "outputId": "d9a4f3cc-6c30-4121-aa96-ac6c98838fdd",
    "cell_id": "00046-2b708b38-e011-4b2c-ac06-c3eece5c8f98",
    "deepnote_to_be_reexecuted": false,
    "source_hash": "79838585",
    "execution_start": 1636883676216,
    "execution_millis": 142,
    "deepnote_cell_type": "code"
   },
   "source": "x.describe()",
   "outputs": [
    {
     "output_type": "execute_result",
     "execution_count": 32,
     "data": {
      "application/vnd.deepnote.dataframe.v2+json": {
       "row_count": 8,
       "column_count": 17,
       "columns": [
        {
         "name": "Crossing",
         "dtype": "float64",
         "stats": {
          "unique_count": 8,
          "nan_count": 0,
          "min": "-1.0",
          "max": "16122.0",
          "histogram": [
           {
            "bin_start": -1,
            "bin_end": 1611.3,
            "count": 7
           },
           {
            "bin_start": 1611.3,
            "bin_end": 3223.6,
            "count": 0
           },
           {
            "bin_start": 3223.6,
            "bin_end": 4835.9,
            "count": 0
           },
           {
            "bin_start": 4835.9,
            "bin_end": 6448.2,
            "count": 0
           },
           {
            "bin_start": 6448.2,
            "bin_end": 8060.5,
            "count": 0
           },
           {
            "bin_start": 8060.5,
            "bin_end": 9672.8,
            "count": 0
           },
           {
            "bin_start": 9672.8,
            "bin_end": 11285.1,
            "count": 0
           },
           {
            "bin_start": 11285.1,
            "bin_end": 12897.4,
            "count": 0
           },
           {
            "bin_start": 12897.4,
            "bin_end": 14509.699999999999,
            "count": 0
           },
           {
            "bin_start": 14509.699999999999,
            "bin_end": 16122,
            "count": 1
           }
          ]
         }
        },
        {
         "name": "HeadingAccuracy",
         "dtype": "float64",
         "stats": {
          "unique_count": 8,
          "nan_count": 0,
          "min": "-1.0",
          "max": "16122.0",
          "histogram": [
           {
            "bin_start": -1,
            "bin_end": 1611.3,
            "count": 7
           },
           {
            "bin_start": 1611.3,
            "bin_end": 3223.6,
            "count": 0
           },
           {
            "bin_start": 3223.6,
            "bin_end": 4835.9,
            "count": 0
           },
           {
            "bin_start": 4835.9,
            "bin_end": 6448.2,
            "count": 0
           },
           {
            "bin_start": 6448.2,
            "bin_end": 8060.5,
            "count": 0
           },
           {
            "bin_start": 8060.5,
            "bin_end": 9672.8,
            "count": 0
           },
           {
            "bin_start": 9672.8,
            "bin_end": 11285.1,
            "count": 0
           },
           {
            "bin_start": 11285.1,
            "bin_end": 12897.4,
            "count": 0
           },
           {
            "bin_start": 12897.4,
            "bin_end": 14509.699999999999,
            "count": 0
           },
           {
            "bin_start": 14509.699999999999,
            "bin_end": 16122,
            "count": 1
           }
          ]
         }
        },
        {
         "name": "ShortPassing",
         "dtype": "float64",
         "stats": {
          "unique_count": 8,
          "nan_count": 0,
          "min": "-1.0",
          "max": "16122.0",
          "histogram": [
           {
            "bin_start": -1,
            "bin_end": 1611.3,
            "count": 7
           },
           {
            "bin_start": 1611.3,
            "bin_end": 3223.6,
            "count": 0
           },
           {
            "bin_start": 3223.6,
            "bin_end": 4835.9,
            "count": 0
           },
           {
            "bin_start": 4835.9,
            "bin_end": 6448.2,
            "count": 0
           },
           {
            "bin_start": 6448.2,
            "bin_end": 8060.5,
            "count": 0
           },
           {
            "bin_start": 8060.5,
            "bin_end": 9672.8,
            "count": 0
           },
           {
            "bin_start": 9672.8,
            "bin_end": 11285.1,
            "count": 0
           },
           {
            "bin_start": 11285.1,
            "bin_end": 12897.4,
            "count": 0
           },
           {
            "bin_start": 12897.4,
            "bin_end": 14509.699999999999,
            "count": 0
           },
           {
            "bin_start": 14509.699999999999,
            "bin_end": 16122,
            "count": 1
           }
          ]
         }
        },
        {
         "name": "Volleys",
         "dtype": "float64",
         "stats": {
          "unique_count": 8,
          "nan_count": 0,
          "min": "-1.0",
          "max": "16122.0",
          "histogram": [
           {
            "bin_start": -1,
            "bin_end": 1611.3,
            "count": 7
           },
           {
            "bin_start": 1611.3,
            "bin_end": 3223.6,
            "count": 0
           },
           {
            "bin_start": 3223.6,
            "bin_end": 4835.9,
            "count": 0
           },
           {
            "bin_start": 4835.9,
            "bin_end": 6448.2,
            "count": 0
           },
           {
            "bin_start": 6448.2,
            "bin_end": 8060.5,
            "count": 0
           },
           {
            "bin_start": 8060.5,
            "bin_end": 9672.8,
            "count": 0
           },
           {
            "bin_start": 9672.8,
            "bin_end": 11285.1,
            "count": 0
           },
           {
            "bin_start": 11285.1,
            "bin_end": 12897.4,
            "count": 0
           },
           {
            "bin_start": 12897.4,
            "bin_end": 14509.699999999999,
            "count": 0
           },
           {
            "bin_start": 14509.699999999999,
            "bin_end": 16122,
            "count": 1
           }
          ]
         }
        },
        {
         "name": "Dribbling",
         "dtype": "float64",
         "stats": {
          "unique_count": 8,
          "nan_count": 0,
          "min": "-1.0",
          "max": "16122.0",
          "histogram": [
           {
            "bin_start": -1,
            "bin_end": 1611.3,
            "count": 7
           },
           {
            "bin_start": 1611.3,
            "bin_end": 3223.6,
            "count": 0
           },
           {
            "bin_start": 3223.6,
            "bin_end": 4835.9,
            "count": 0
           },
           {
            "bin_start": 4835.9,
            "bin_end": 6448.2,
            "count": 0
           },
           {
            "bin_start": 6448.2,
            "bin_end": 8060.5,
            "count": 0
           },
           {
            "bin_start": 8060.5,
            "bin_end": 9672.8,
            "count": 0
           },
           {
            "bin_start": 9672.8,
            "bin_end": 11285.1,
            "count": 0
           },
           {
            "bin_start": 11285.1,
            "bin_end": 12897.4,
            "count": 0
           },
           {
            "bin_start": 12897.4,
            "bin_end": 14509.699999999999,
            "count": 0
           },
           {
            "bin_start": 14509.699999999999,
            "bin_end": 16122,
            "count": 1
           }
          ]
         }
        },
        {
         "name": "Curve",
         "dtype": "float64",
         "stats": {
          "unique_count": 8,
          "nan_count": 0,
          "min": "-1.0",
          "max": "16122.0",
          "histogram": [
           {
            "bin_start": -1,
            "bin_end": 1611.3,
            "count": 7
           },
           {
            "bin_start": 1611.3,
            "bin_end": 3223.6,
            "count": 0
           },
           {
            "bin_start": 3223.6,
            "bin_end": 4835.9,
            "count": 0
           },
           {
            "bin_start": 4835.9,
            "bin_end": 6448.2,
            "count": 0
           },
           {
            "bin_start": 6448.2,
            "bin_end": 8060.5,
            "count": 0
           },
           {
            "bin_start": 8060.5,
            "bin_end": 9672.8,
            "count": 0
           },
           {
            "bin_start": 9672.8,
            "bin_end": 11285.1,
            "count": 0
           },
           {
            "bin_start": 11285.1,
            "bin_end": 12897.4,
            "count": 0
           },
           {
            "bin_start": 12897.4,
            "bin_end": 14509.699999999999,
            "count": 0
           },
           {
            "bin_start": 14509.699999999999,
            "bin_end": 16122,
            "count": 1
           }
          ]
         }
        },
        {
         "name": "FKAccuracy",
         "dtype": "float64",
         "stats": {
          "unique_count": 8,
          "nan_count": 0,
          "min": "-1.0",
          "max": "16122.0",
          "histogram": [
           {
            "bin_start": -1,
            "bin_end": 1611.3,
            "count": 7
           },
           {
            "bin_start": 1611.3,
            "bin_end": 3223.6,
            "count": 0
           },
           {
            "bin_start": 3223.6,
            "bin_end": 4835.9,
            "count": 0
           },
           {
            "bin_start": 4835.9,
            "bin_end": 6448.2,
            "count": 0
           },
           {
            "bin_start": 6448.2,
            "bin_end": 8060.5,
            "count": 0
           },
           {
            "bin_start": 8060.5,
            "bin_end": 9672.8,
            "count": 0
           },
           {
            "bin_start": 9672.8,
            "bin_end": 11285.1,
            "count": 0
           },
           {
            "bin_start": 11285.1,
            "bin_end": 12897.4,
            "count": 0
           },
           {
            "bin_start": 12897.4,
            "bin_end": 14509.699999999999,
            "count": 0
           },
           {
            "bin_start": 14509.699999999999,
            "bin_end": 16122,
            "count": 1
           }
          ]
         }
        },
        {
         "name": "LongPassing",
         "dtype": "float64",
         "stats": {
          "unique_count": 8,
          "nan_count": 0,
          "min": "-1.0",
          "max": "16122.0",
          "histogram": [
           {
            "bin_start": -1,
            "bin_end": 1611.3,
            "count": 7
           },
           {
            "bin_start": 1611.3,
            "bin_end": 3223.6,
            "count": 0
           },
           {
            "bin_start": 3223.6,
            "bin_end": 4835.9,
            "count": 0
           },
           {
            "bin_start": 4835.9,
            "bin_end": 6448.2,
            "count": 0
           },
           {
            "bin_start": 6448.2,
            "bin_end": 8060.5,
            "count": 0
           },
           {
            "bin_start": 8060.5,
            "bin_end": 9672.8,
            "count": 0
           },
           {
            "bin_start": 9672.8,
            "bin_end": 11285.1,
            "count": 0
           },
           {
            "bin_start": 11285.1,
            "bin_end": 12897.4,
            "count": 0
           },
           {
            "bin_start": 12897.4,
            "bin_end": 14509.699999999999,
            "count": 0
           },
           {
            "bin_start": 14509.699999999999,
            "bin_end": 16122,
            "count": 1
           }
          ]
         }
        },
        {
         "name": "BallControl",
         "dtype": "float64",
         "stats": {
          "unique_count": 8,
          "nan_count": 0,
          "min": "-0.9999999999999999",
          "max": "16122.0",
          "histogram": [
           {
            "bin_start": -0.9999999999999999,
            "bin_end": 1611.3,
            "count": 7
           },
           {
            "bin_start": 1611.3,
            "bin_end": 3223.6,
            "count": 0
           },
           {
            "bin_start": 3223.6,
            "bin_end": 4835.9,
            "count": 0
           },
           {
            "bin_start": 4835.9,
            "bin_end": 6448.2,
            "count": 0
           },
           {
            "bin_start": 6448.2,
            "bin_end": 8060.5,
            "count": 0
           },
           {
            "bin_start": 8060.5,
            "bin_end": 9672.8,
            "count": 0
           },
           {
            "bin_start": 9672.8,
            "bin_end": 11285.1,
            "count": 0
           },
           {
            "bin_start": 11285.1,
            "bin_end": 12897.4,
            "count": 0
           },
           {
            "bin_start": 12897.4,
            "bin_end": 14509.699999999999,
            "count": 0
           },
           {
            "bin_start": 14509.699999999999,
            "bin_end": 16122,
            "count": 1
           }
          ]
         }
        },
        {
         "name": "Reactions",
         "dtype": "float64",
         "stats": {
          "unique_count": 8,
          "nan_count": 0,
          "min": "-1.0",
          "max": "16122.0",
          "histogram": [
           {
            "bin_start": -1,
            "bin_end": 1611.3,
            "count": 7
           },
           {
            "bin_start": 1611.3,
            "bin_end": 3223.6,
            "count": 0
           },
           {
            "bin_start": 3223.6,
            "bin_end": 4835.9,
            "count": 0
           },
           {
            "bin_start": 4835.9,
            "bin_end": 6448.2,
            "count": 0
           },
           {
            "bin_start": 6448.2,
            "bin_end": 8060.5,
            "count": 0
           },
           {
            "bin_start": 8060.5,
            "bin_end": 9672.8,
            "count": 0
           },
           {
            "bin_start": 9672.8,
            "bin_end": 11285.1,
            "count": 0
           },
           {
            "bin_start": 11285.1,
            "bin_end": 12897.4,
            "count": 0
           },
           {
            "bin_start": 12897.4,
            "bin_end": 14509.699999999999,
            "count": 0
           },
           {
            "bin_start": 14509.699999999999,
            "bin_end": 16122,
            "count": 1
           }
          ]
         }
        },
        {
         "name": "ShotPower",
         "dtype": "float64",
         "stats": {
          "unique_count": 8,
          "nan_count": 0,
          "min": "-1.0",
          "max": "16122.0",
          "histogram": [
           {
            "bin_start": -1,
            "bin_end": 1611.3,
            "count": 7
           },
           {
            "bin_start": 1611.3,
            "bin_end": 3223.6,
            "count": 0
           },
           {
            "bin_start": 3223.6,
            "bin_end": 4835.9,
            "count": 0
           },
           {
            "bin_start": 4835.9,
            "bin_end": 6448.2,
            "count": 0
           },
           {
            "bin_start": 6448.2,
            "bin_end": 8060.5,
            "count": 0
           },
           {
            "bin_start": 8060.5,
            "bin_end": 9672.8,
            "count": 0
           },
           {
            "bin_start": 9672.8,
            "bin_end": 11285.1,
            "count": 0
           },
           {
            "bin_start": 11285.1,
            "bin_end": 12897.4,
            "count": 0
           },
           {
            "bin_start": 12897.4,
            "bin_end": 14509.699999999999,
            "count": 0
           },
           {
            "bin_start": 14509.699999999999,
            "bin_end": 16122,
            "count": 1
           }
          ]
         }
        },
        {
         "name": "Stamina",
         "dtype": "float64",
         "stats": {
          "unique_count": 8,
          "nan_count": 0,
          "min": "-0.9999999999999999",
          "max": "16122.0",
          "histogram": [
           {
            "bin_start": -0.9999999999999999,
            "bin_end": 1611.3,
            "count": 7
           },
           {
            "bin_start": 1611.3,
            "bin_end": 3223.6,
            "count": 0
           },
           {
            "bin_start": 3223.6,
            "bin_end": 4835.9,
            "count": 0
           },
           {
            "bin_start": 4835.9,
            "bin_end": 6448.2,
            "count": 0
           },
           {
            "bin_start": 6448.2,
            "bin_end": 8060.5,
            "count": 0
           },
           {
            "bin_start": 8060.5,
            "bin_end": 9672.8,
            "count": 0
           },
           {
            "bin_start": 9672.8,
            "bin_end": 11285.1,
            "count": 0
           },
           {
            "bin_start": 11285.1,
            "bin_end": 12897.4,
            "count": 0
           },
           {
            "bin_start": 12897.4,
            "bin_end": 14509.699999999999,
            "count": 0
           },
           {
            "bin_start": 14509.699999999999,
            "bin_end": 16122,
            "count": 1
           }
          ]
         }
        },
        {
         "name": "LongShots",
         "dtype": "float64",
         "stats": {
          "unique_count": 8,
          "nan_count": 0,
          "min": "-1.0",
          "max": "16122.0",
          "histogram": [
           {
            "bin_start": -1,
            "bin_end": 1611.3,
            "count": 7
           },
           {
            "bin_start": 1611.3,
            "bin_end": 3223.6,
            "count": 0
           },
           {
            "bin_start": 3223.6,
            "bin_end": 4835.9,
            "count": 0
           },
           {
            "bin_start": 4835.9,
            "bin_end": 6448.2,
            "count": 0
           },
           {
            "bin_start": 6448.2,
            "bin_end": 8060.5,
            "count": 0
           },
           {
            "bin_start": 8060.5,
            "bin_end": 9672.8,
            "count": 0
           },
           {
            "bin_start": 9672.8,
            "bin_end": 11285.1,
            "count": 0
           },
           {
            "bin_start": 11285.1,
            "bin_end": 12897.4,
            "count": 0
           },
           {
            "bin_start": 12897.4,
            "bin_end": 14509.699999999999,
            "count": 0
           },
           {
            "bin_start": 14509.699999999999,
            "bin_end": 16122,
            "count": 1
           }
          ]
         }
        },
        {
         "name": "Aggression",
         "dtype": "float64",
         "stats": {
          "unique_count": 8,
          "nan_count": 0,
          "min": "-1.0",
          "max": "16122.0",
          "histogram": [
           {
            "bin_start": -1,
            "bin_end": 1611.3,
            "count": 7
           },
           {
            "bin_start": 1611.3,
            "bin_end": 3223.6,
            "count": 0
           },
           {
            "bin_start": 3223.6,
            "bin_end": 4835.9,
            "count": 0
           },
           {
            "bin_start": 4835.9,
            "bin_end": 6448.2,
            "count": 0
           },
           {
            "bin_start": 6448.2,
            "bin_end": 8060.5,
            "count": 0
           },
           {
            "bin_start": 8060.5,
            "bin_end": 9672.8,
            "count": 0
           },
           {
            "bin_start": 9672.8,
            "bin_end": 11285.1,
            "count": 0
           },
           {
            "bin_start": 11285.1,
            "bin_end": 12897.4,
            "count": 0
           },
           {
            "bin_start": 12897.4,
            "bin_end": 14509.699999999999,
            "count": 0
           },
           {
            "bin_start": 14509.699999999999,
            "bin_end": 16122,
            "count": 1
           }
          ]
         }
        },
        {
         "name": "Positioning",
         "dtype": "float64",
         "stats": {
          "unique_count": 8,
          "nan_count": 0,
          "min": "-1.0",
          "max": "16122.0",
          "histogram": [
           {
            "bin_start": -1,
            "bin_end": 1611.3,
            "count": 7
           },
           {
            "bin_start": 1611.3,
            "bin_end": 3223.6,
            "count": 0
           },
           {
            "bin_start": 3223.6,
            "bin_end": 4835.9,
            "count": 0
           },
           {
            "bin_start": 4835.9,
            "bin_end": 6448.2,
            "count": 0
           },
           {
            "bin_start": 6448.2,
            "bin_end": 8060.5,
            "count": 0
           },
           {
            "bin_start": 8060.5,
            "bin_end": 9672.8,
            "count": 0
           },
           {
            "bin_start": 9672.8,
            "bin_end": 11285.1,
            "count": 0
           },
           {
            "bin_start": 11285.1,
            "bin_end": 12897.4,
            "count": 0
           },
           {
            "bin_start": 12897.4,
            "bin_end": 14509.699999999999,
            "count": 0
           },
           {
            "bin_start": 14509.699999999999,
            "bin_end": 16122,
            "count": 1
           }
          ]
         }
        },
        {
         "name": "Vision",
         "dtype": "float64",
         "stats": {
          "unique_count": 8,
          "nan_count": 0,
          "min": "-1.0",
          "max": "16122.0",
          "histogram": [
           {
            "bin_start": -1,
            "bin_end": 1611.3,
            "count": 7
           },
           {
            "bin_start": 1611.3,
            "bin_end": 3223.6,
            "count": 0
           },
           {
            "bin_start": 3223.6,
            "bin_end": 4835.9,
            "count": 0
           },
           {
            "bin_start": 4835.9,
            "bin_end": 6448.2,
            "count": 0
           },
           {
            "bin_start": 6448.2,
            "bin_end": 8060.5,
            "count": 0
           },
           {
            "bin_start": 8060.5,
            "bin_end": 9672.8,
            "count": 0
           },
           {
            "bin_start": 9672.8,
            "bin_end": 11285.1,
            "count": 0
           },
           {
            "bin_start": 11285.1,
            "bin_end": 12897.4,
            "count": 0
           },
           {
            "bin_start": 12897.4,
            "bin_end": 14509.699999999999,
            "count": 0
           },
           {
            "bin_start": 14509.699999999999,
            "bin_end": 16122,
            "count": 1
           }
          ]
         }
        },
        {
         "name": "Composure",
         "dtype": "float64",
         "stats": {
          "unique_count": 8,
          "nan_count": 0,
          "min": "-1.0",
          "max": "16122.0",
          "histogram": [
           {
            "bin_start": -1,
            "bin_end": 1611.3,
            "count": 7
           },
           {
            "bin_start": 1611.3,
            "bin_end": 3223.6,
            "count": 0
           },
           {
            "bin_start": 3223.6,
            "bin_end": 4835.9,
            "count": 0
           },
           {
            "bin_start": 4835.9,
            "bin_end": 6448.2,
            "count": 0
           },
           {
            "bin_start": 6448.2,
            "bin_end": 8060.5,
            "count": 0
           },
           {
            "bin_start": 8060.5,
            "bin_end": 9672.8,
            "count": 0
           },
           {
            "bin_start": 9672.8,
            "bin_end": 11285.1,
            "count": 0
           },
           {
            "bin_start": 11285.1,
            "bin_end": 12897.4,
            "count": 0
           },
           {
            "bin_start": 12897.4,
            "bin_end": 14509.699999999999,
            "count": 0
           },
           {
            "bin_start": 14509.699999999999,
            "bin_end": 16122,
            "count": 1
           }
          ]
         }
        },
        {
         "name": "_deepnote_index_column",
         "dtype": "object"
        }
       ],
       "rows_top": [
        {
         "Crossing": 16122,
         "HeadingAccuracy": 16122,
         "ShortPassing": 16122,
         "Volleys": 16122,
         "Dribbling": 16122,
         "Curve": 16122,
         "FKAccuracy": 16122,
         "LongPassing": 16122,
         "BallControl": 16122,
         "Reactions": 16122,
         "ShotPower": 16122,
         "Stamina": 16122,
         "LongShots": 16122,
         "Aggression": 16122,
         "Positioning": 16122,
         "Vision": 16122,
         "Composure": 16122,
         "_deepnote_index_column": "count"
        },
        {
         "Crossing": 0.05353690306534628,
         "HeadingAccuracy": 0.06494152969682118,
         "ShortPassing": 0.16829381445926855,
         "Volleys": -0.08137327874953472,
         "Dribbling": 0.12265362155731234,
         "Curve": -0.030012121429521484,
         "FKAccuracy": -0.1325370242378059,
         "LongPassing": 0.002750983212464421,
         "BallControl": 0.07609058394530446,
         "Reactions": 0.09879998345945504,
         "ShotPower": 0.1259654394501187,
         "Stamina": 0.16917022198490145,
         "LongShots": -0.02550581933240955,
         "Aggression": 0.13614482255726912,
         "Positioning": 0.04341745381938904,
         "Vision": 0.06021918239279156,
         "Composure": 0.03649704784799681,
         "_deepnote_index_column": "mean"
        },
        {
         "Crossing": 0.34460587746445237,
         "HeadingAccuracy": 0.29382049139336364,
         "ShortPassing": 0.268084553697693,
         "Volleys": 0.3695489739085962,
         "Dribbling": 0.30149222436417056,
         "Curve": 0.36494373169111477,
         "FKAccuracy": 0.3588255468523647,
         "LongPassing": 0.3348215220593735,
         "BallControl": 0.282065505809625,
         "Reactions": 0.23380560541170048,
         "ShotPower": 0.32663799503131247,
         "Stamina": 0.32409691755360276,
         "LongShots": 0.3790265262502744,
         "Aggression": 0.352347039654746,
         "Positioning": 0.3494094377623632,
         "Vision": 0.31493901512407396,
         "Composure": 0.2742914462325625,
         "_deepnote_index_column": "std"
        },
        {
         "Crossing": -1,
         "HeadingAccuracy": -1,
         "ShortPassing": -1,
         "Volleys": -1,
         "Dribbling": -1,
         "Curve": -1,
         "FKAccuracy": -1,
         "LongPassing": -1,
         "BallControl": -0.9999999999999999,
         "Reactions": -1,
         "ShotPower": -1,
         "Stamina": -0.9999999999999999,
         "LongShots": -1,
         "Aggression": -1,
         "Positioning": -1,
         "Vision": -1,
         "Composure": -1,
         "_deepnote_index_column": "min"
        },
        {
         "Crossing": -0.19512195121951215,
         "HeadingAccuracy": -0.139240506329114,
         "ShortPassing": 0.013698630136986356,
         "Volleys": -0.375,
         "Dribbling": -0.012048192771084265,
         "Curve": -0.32530120481927705,
         "FKAccuracy": -0.4285714285714286,
         "LongPassing": -0.18918918918918926,
         "BallControl": -0.07042253521126751,
         "Reactions": -0.06666666666666665,
         "ShotPower": -0.08641975308641991,
         "Stamina": -0.014492753623188248,
         "LongShots": -0.3012048192771084,
         "Aggression": -0.09756097560975618,
         "Positioning": -0.16666666666666674,
         "Vision": -0.14634146341463405,
         "Composure": -0.16216216216216228,
         "_deepnote_index_column": "25%"
        },
        {
         "Crossing": 0.09756097560975618,
         "HeadingAccuracy": 0.08860759493670889,
         "ShortPassing": 0.20547945205479445,
         "Volleys": -0.07499999999999996,
         "Dribbling": 0.1807228915662651,
         "Curve": -0.012048192771084265,
         "FKAccuracy": -0.1904761904761907,
         "LongPassing": 0.054054054054053946,
         "BallControl": 0.09859154929577474,
         "Reactions": 0.09333333333333349,
         "ShotPower": 0.16049382716049387,
         "Stamina": 0.18840579710144945,
         "LongShots": 0.03614457831325302,
         "Aggression": 0.1707317073170731,
         "Positioning": 0.09523809523809512,
         "Vision": 0.09756097560975618,
         "Composure": 0.054054054054053946,
         "_deepnote_index_column": "50%"
        },
        {
         "Crossing": 0.3170731707317074,
         "HeadingAccuracy": 0.26582278481012644,
         "ShortPassing": 0.34246575342465757,
         "Volleys": 0.20000000000000018,
         "Dribbling": 0.32530120481927716,
         "Curve": 0.2530120481927711,
         "FKAccuracy": 0.1428571428571428,
         "LongPassing": 0.2432432432432432,
         "BallControl": 0.267605633802817,
         "Reactions": 0.2533333333333334,
         "ShotPower": 0.3580246913580247,
         "Stamina": 0.3913043478260869,
         "LongShots": 0.2771084337349399,
         "Aggression": 0.3902439024390243,
         "Positioning": 0.2857142857142856,
         "Vision": 0.29268292682926833,
         "Composure": 0.2432432432432432,
         "_deepnote_index_column": "75%"
        },
        {
         "Crossing": 1.0000000000000002,
         "HeadingAccuracy": 0.9999999999999998,
         "ShortPassing": 1,
         "Volleys": 1,
         "Dribbling": 1.0000000000000002,
         "Curve": 1.0000000000000002,
         "FKAccuracy": 1,
         "LongPassing": 1,
         "BallControl": 1,
         "Reactions": 1,
         "ShotPower": 0.9999999999999998,
         "Stamina": 1,
         "LongShots": 1.0000000000000002,
         "Aggression": 1.0000000000000002,
         "Positioning": 1,
         "Vision": 1.0000000000000002,
         "Composure": 1,
         "_deepnote_index_column": "max"
        }
       ],
       "rows_bottom": null
      },
      "text/plain": "           Crossing  HeadingAccuracy  ShortPassing       Volleys  \\\ncount  16122.000000     16122.000000  16122.000000  16122.000000   \nmean       0.053537         0.064942      0.168294     -0.081373   \nstd        0.344606         0.293820      0.268085      0.369549   \nmin       -1.000000        -1.000000     -1.000000     -1.000000   \n25%       -0.195122        -0.139241      0.013699     -0.375000   \n50%        0.097561         0.088608      0.205479     -0.075000   \n75%        0.317073         0.265823      0.342466      0.200000   \nmax        1.000000         1.000000      1.000000      1.000000   \n\n          Dribbling         Curve    FKAccuracy   LongPassing   BallControl  \\\ncount  16122.000000  16122.000000  16122.000000  16122.000000  16122.000000   \nmean       0.122654     -0.030012     -0.132537      0.002751      0.076091   \nstd        0.301492      0.364944      0.358826      0.334822      0.282066   \nmin       -1.000000     -1.000000     -1.000000     -1.000000     -1.000000   \n25%       -0.012048     -0.325301     -0.428571     -0.189189     -0.070423   \n50%        0.180723     -0.012048     -0.190476      0.054054      0.098592   \n75%        0.325301      0.253012      0.142857      0.243243      0.267606   \nmax        1.000000      1.000000      1.000000      1.000000      1.000000   \n\n          Reactions     ShotPower       Stamina     LongShots    Aggression  \\\ncount  16122.000000  16122.000000  16122.000000  16122.000000  16122.000000   \nmean       0.098800      0.125965      0.169170     -0.025506      0.136145   \nstd        0.233806      0.326638      0.324097      0.379027      0.352347   \nmin       -1.000000     -1.000000     -1.000000     -1.000000     -1.000000   \n25%       -0.066667     -0.086420     -0.014493     -0.301205     -0.097561   \n50%        0.093333      0.160494      0.188406      0.036145      0.170732   \n75%        0.253333      0.358025      0.391304      0.277108      0.390244   \nmax        1.000000      1.000000      1.000000      1.000000      1.000000   \n\n        Positioning        Vision     Composure  \ncount  16122.000000  16122.000000  16122.000000  \nmean       0.043417      0.060219      0.036497  \nstd        0.349409      0.314939      0.274291  \nmin       -1.000000     -1.000000     -1.000000  \n25%       -0.166667     -0.146341     -0.162162  \n50%        0.095238      0.097561      0.054054  \n75%        0.285714      0.292683      0.243243  \nmax        1.000000      1.000000      1.000000  ",
      "text/html": "<div>\n<style scoped>\n    .dataframe tbody tr th:only-of-type {\n        vertical-align: middle;\n    }\n\n    .dataframe tbody tr th {\n        vertical-align: top;\n    }\n\n    .dataframe thead th {\n        text-align: right;\n    }\n</style>\n<table border=\"1\" class=\"dataframe\">\n  <thead>\n    <tr style=\"text-align: right;\">\n      <th></th>\n      <th>Crossing</th>\n      <th>HeadingAccuracy</th>\n      <th>ShortPassing</th>\n      <th>Volleys</th>\n      <th>Dribbling</th>\n      <th>Curve</th>\n      <th>FKAccuracy</th>\n      <th>LongPassing</th>\n      <th>BallControl</th>\n      <th>Reactions</th>\n      <th>ShotPower</th>\n      <th>Stamina</th>\n      <th>LongShots</th>\n      <th>Aggression</th>\n      <th>Positioning</th>\n      <th>Vision</th>\n      <th>Composure</th>\n    </tr>\n  </thead>\n  <tbody>\n    <tr>\n      <th>count</th>\n      <td>16122.000000</td>\n      <td>16122.000000</td>\n      <td>16122.000000</td>\n      <td>16122.000000</td>\n      <td>16122.000000</td>\n      <td>16122.000000</td>\n      <td>16122.000000</td>\n      <td>16122.000000</td>\n      <td>16122.000000</td>\n      <td>16122.000000</td>\n      <td>16122.000000</td>\n      <td>16122.000000</td>\n      <td>16122.000000</td>\n      <td>16122.000000</td>\n      <td>16122.000000</td>\n      <td>16122.000000</td>\n      <td>16122.000000</td>\n    </tr>\n    <tr>\n      <th>mean</th>\n      <td>0.053537</td>\n      <td>0.064942</td>\n      <td>0.168294</td>\n      <td>-0.081373</td>\n      <td>0.122654</td>\n      <td>-0.030012</td>\n      <td>-0.132537</td>\n      <td>0.002751</td>\n      <td>0.076091</td>\n      <td>0.098800</td>\n      <td>0.125965</td>\n      <td>0.169170</td>\n      <td>-0.025506</td>\n      <td>0.136145</td>\n      <td>0.043417</td>\n      <td>0.060219</td>\n      <td>0.036497</td>\n    </tr>\n    <tr>\n      <th>std</th>\n      <td>0.344606</td>\n      <td>0.293820</td>\n      <td>0.268085</td>\n      <td>0.369549</td>\n      <td>0.301492</td>\n      <td>0.364944</td>\n      <td>0.358826</td>\n      <td>0.334822</td>\n      <td>0.282066</td>\n      <td>0.233806</td>\n      <td>0.326638</td>\n      <td>0.324097</td>\n      <td>0.379027</td>\n      <td>0.352347</td>\n      <td>0.349409</td>\n      <td>0.314939</td>\n      <td>0.274291</td>\n    </tr>\n    <tr>\n      <th>min</th>\n      <td>-1.000000</td>\n      <td>-1.000000</td>\n      <td>-1.000000</td>\n      <td>-1.000000</td>\n      <td>-1.000000</td>\n      <td>-1.000000</td>\n      <td>-1.000000</td>\n      <td>-1.000000</td>\n      <td>-1.000000</td>\n      <td>-1.000000</td>\n      <td>-1.000000</td>\n      <td>-1.000000</td>\n      <td>-1.000000</td>\n      <td>-1.000000</td>\n      <td>-1.000000</td>\n      <td>-1.000000</td>\n      <td>-1.000000</td>\n    </tr>\n    <tr>\n      <th>25%</th>\n      <td>-0.195122</td>\n      <td>-0.139241</td>\n      <td>0.013699</td>\n      <td>-0.375000</td>\n      <td>-0.012048</td>\n      <td>-0.325301</td>\n      <td>-0.428571</td>\n      <td>-0.189189</td>\n      <td>-0.070423</td>\n      <td>-0.066667</td>\n      <td>-0.086420</td>\n      <td>-0.014493</td>\n      <td>-0.301205</td>\n      <td>-0.097561</td>\n      <td>-0.166667</td>\n      <td>-0.146341</td>\n      <td>-0.162162</td>\n    </tr>\n    <tr>\n      <th>50%</th>\n      <td>0.097561</td>\n      <td>0.088608</td>\n      <td>0.205479</td>\n      <td>-0.075000</td>\n      <td>0.180723</td>\n      <td>-0.012048</td>\n      <td>-0.190476</td>\n      <td>0.054054</td>\n      <td>0.098592</td>\n      <td>0.093333</td>\n      <td>0.160494</td>\n      <td>0.188406</td>\n      <td>0.036145</td>\n      <td>0.170732</td>\n      <td>0.095238</td>\n      <td>0.097561</td>\n      <td>0.054054</td>\n    </tr>\n    <tr>\n      <th>75%</th>\n      <td>0.317073</td>\n      <td>0.265823</td>\n      <td>0.342466</td>\n      <td>0.200000</td>\n      <td>0.325301</td>\n      <td>0.253012</td>\n      <td>0.142857</td>\n      <td>0.243243</td>\n      <td>0.267606</td>\n      <td>0.253333</td>\n      <td>0.358025</td>\n      <td>0.391304</td>\n      <td>0.277108</td>\n      <td>0.390244</td>\n      <td>0.285714</td>\n      <td>0.292683</td>\n      <td>0.243243</td>\n    </tr>\n    <tr>\n      <th>max</th>\n      <td>1.000000</td>\n      <td>1.000000</td>\n      <td>1.000000</td>\n      <td>1.000000</td>\n      <td>1.000000</td>\n      <td>1.000000</td>\n      <td>1.000000</td>\n      <td>1.000000</td>\n      <td>1.000000</td>\n      <td>1.000000</td>\n      <td>1.000000</td>\n      <td>1.000000</td>\n      <td>1.000000</td>\n      <td>1.000000</td>\n      <td>1.000000</td>\n      <td>1.000000</td>\n      <td>1.000000</td>\n    </tr>\n  </tbody>\n</table>\n</div>"
     },
     "metadata": {}
    }
   ],
   "execution_count": null
  },
  {
   "cell_type": "markdown",
   "source": "**Saving** attributes matrix *x* and target labels *t*  to csv files.",
   "metadata": {
    "id": "mEhRITOmrbtZ",
    "cell_id": "00047-bfda6bb4-3bdd-4a7c-b26e-ee52cfd95011",
    "deepnote_cell_type": "markdown"
   }
  },
  {
   "cell_type": "code",
   "metadata": {
    "id": "bulobVi7rQ40",
    "executionInfo": {
     "status": "ok",
     "timestamp": 1632395389932,
     "user_tz": -120,
     "elapsed": 746,
     "user": {
      "displayName": "Daniel Manrique",
      "photoUrl": "https://lh3.googleusercontent.com/a-/AOh14GitdHbMelm6f6tHV3gogFTulR815SvuoEcosIv2kg=s64",
      "userId": "14181066300969909559"
     }
    },
    "cell_id": "00048-b44eae17-f927-4d54-b5fc-beff29740355",
    "deepnote_to_be_reexecuted": false,
    "source_hash": "534e0be3",
    "execution_start": 1636883688325,
    "execution_millis": 726,
    "deepnote_cell_type": "code"
   },
   "source": "x.to_csv (ATT_FILE_NAME, index=False)\none_hot_t.to_csv(ONE_HOT_ENCODED_CLASSES_FILE_NAME, index=False)",
   "outputs": [],
   "execution_count": null
  },
  {
   "cell_type": "code",
   "source": "",
   "metadata": {
    "tags": [],
    "cell_id": "00049-e76ebb87-0075-4b03-a8ec-ae302891a29b",
    "deepnote_cell_type": "code"
   },
   "outputs": [],
   "execution_count": null
  },
  {
   "cell_type": "markdown",
   "source": "<a style='text-decoration:none;line-height:16px;display:flex;color:#5B5B62;padding:10px;justify-content:end;' href='https://deepnote.com?utm_source=created-in-deepnote-cell&projectId=3461dfc1-1017-4bae-8186-20746f5c9fc2' target=\"_blank\">\n<img alt='Created in deepnote.com' style='display:inline;max-height:16px;margin:0px;margin-right:7.5px;' src='data:image/svg+xml;base64,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' > </img>\nCreated in <span style='font-weight:600;margin-left:4px;'>Deepnote</span></a>",
   "metadata": {
    "tags": [],
    "created_in_deepnote_cell": true,
    "deepnote_cell_type": "markdown"
   }
  }
 ],
 "nbformat": 4,
 "nbformat_minor": 0,
 "metadata": {
  "colab": {
   "name": "PreparingFootballPlayerDatasetParaPractica21-22.ipynb",
   "provenance": [],
   "collapsed_sections": []
  },
  "language_info": {
   "codemirror_mode": {
    "name": "ipython",
    "version": 3
   },
   "file_extension": ".py",
   "mimetype": "text/x-python",
   "name": "python",
   "nbconvert_exporter": "python",
   "pygments_lexer": "ipython3",
   "version": "3.6.7"
  },
  "kernelspec": {
   "name": "python3",
   "display_name": "Python 3"
  },
  "deepnote_notebook_id": "a729ad96-447e-461f-b375-736c8f41a01b",
  "deepnote": {},
  "deepnote_execution_queue": []
 }
}